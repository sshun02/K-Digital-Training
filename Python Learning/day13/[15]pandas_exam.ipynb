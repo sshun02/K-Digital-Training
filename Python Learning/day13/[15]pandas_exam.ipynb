{
 "cells": [
  {
   "cell_type": "code",
   "execution_count": 2,
   "id": "8e190ae3",
   "metadata": {},
   "outputs": [],
   "source": [
    "import pandas as pd\n",
    "import numpy as np"
   ]
  },
  {
   "cell_type": "code",
   "execution_count": 5,
   "id": "96c6aa7f",
   "metadata": {},
   "outputs": [
    {
     "data": {
      "text/html": [
       "<div>\n",
       "<style scoped>\n",
       "    .dataframe tbody tr th:only-of-type {\n",
       "        vertical-align: middle;\n",
       "    }\n",
       "\n",
       "    .dataframe tbody tr th {\n",
       "        vertical-align: top;\n",
       "    }\n",
       "\n",
       "    .dataframe thead th {\n",
       "        text-align: right;\n",
       "    }\n",
       "</style>\n",
       "<table border=\"1\" class=\"dataframe\">\n",
       "  <thead>\n",
       "    <tr style=\"text-align: right;\">\n",
       "      <th></th>\n",
       "      <th>empno</th>\n",
       "      <th>ename</th>\n",
       "      <th>job</th>\n",
       "      <th>mgr</th>\n",
       "      <th>hiredate</th>\n",
       "      <th>sal</th>\n",
       "      <th>comm</th>\n",
       "      <th>deptno</th>\n",
       "    </tr>\n",
       "  </thead>\n",
       "  <tbody>\n",
       "    <tr>\n",
       "      <th>0</th>\n",
       "      <td>7369</td>\n",
       "      <td>SMITH</td>\n",
       "      <td>CLERK</td>\n",
       "      <td>7902.0</td>\n",
       "      <td>1980-12-17</td>\n",
       "      <td>800.0</td>\n",
       "      <td>NaN</td>\n",
       "      <td>20</td>\n",
       "    </tr>\n",
       "    <tr>\n",
       "      <th>1</th>\n",
       "      <td>7499</td>\n",
       "      <td>ALLEN</td>\n",
       "      <td>SALESMAN</td>\n",
       "      <td>7698.0</td>\n",
       "      <td>1981-02-20</td>\n",
       "      <td>1600.0</td>\n",
       "      <td>300.0</td>\n",
       "      <td>30</td>\n",
       "    </tr>\n",
       "    <tr>\n",
       "      <th>2</th>\n",
       "      <td>7521</td>\n",
       "      <td>WARD</td>\n",
       "      <td>SALESMAN</td>\n",
       "      <td>7698.0</td>\n",
       "      <td>1981-02-22</td>\n",
       "      <td>1250.0</td>\n",
       "      <td>500.0</td>\n",
       "      <td>30</td>\n",
       "    </tr>\n",
       "    <tr>\n",
       "      <th>3</th>\n",
       "      <td>7566</td>\n",
       "      <td>JONES</td>\n",
       "      <td>MANAGER</td>\n",
       "      <td>7839.0</td>\n",
       "      <td>1981-04-02</td>\n",
       "      <td>2975.0</td>\n",
       "      <td>NaN</td>\n",
       "      <td>20</td>\n",
       "    </tr>\n",
       "    <tr>\n",
       "      <th>4</th>\n",
       "      <td>7654</td>\n",
       "      <td>MARTIN</td>\n",
       "      <td>SALESMAN</td>\n",
       "      <td>7698.0</td>\n",
       "      <td>1981-09-28</td>\n",
       "      <td>1250.0</td>\n",
       "      <td>1400.0</td>\n",
       "      <td>30</td>\n",
       "    </tr>\n",
       "    <tr>\n",
       "      <th>5</th>\n",
       "      <td>7698</td>\n",
       "      <td>BLAKE</td>\n",
       "      <td>MANAGER</td>\n",
       "      <td>7839.0</td>\n",
       "      <td>1981-05-01</td>\n",
       "      <td>2850.0</td>\n",
       "      <td>NaN</td>\n",
       "      <td>30</td>\n",
       "    </tr>\n",
       "    <tr>\n",
       "      <th>6</th>\n",
       "      <td>7782</td>\n",
       "      <td>CLARK</td>\n",
       "      <td>MANAGER</td>\n",
       "      <td>7839.0</td>\n",
       "      <td>1981-06-09</td>\n",
       "      <td>2450.0</td>\n",
       "      <td>NaN</td>\n",
       "      <td>10</td>\n",
       "    </tr>\n",
       "    <tr>\n",
       "      <th>7</th>\n",
       "      <td>7788</td>\n",
       "      <td>SCOTT</td>\n",
       "      <td>ANALYST</td>\n",
       "      <td>7566.0</td>\n",
       "      <td>1987-04-19</td>\n",
       "      <td>3000.0</td>\n",
       "      <td>NaN</td>\n",
       "      <td>20</td>\n",
       "    </tr>\n",
       "    <tr>\n",
       "      <th>8</th>\n",
       "      <td>7839</td>\n",
       "      <td>KING</td>\n",
       "      <td>PRESIDENT</td>\n",
       "      <td>NaN</td>\n",
       "      <td>1981-11-17</td>\n",
       "      <td>5000.0</td>\n",
       "      <td>NaN</td>\n",
       "      <td>10</td>\n",
       "    </tr>\n",
       "    <tr>\n",
       "      <th>9</th>\n",
       "      <td>7844</td>\n",
       "      <td>TURNER</td>\n",
       "      <td>SALESMAN</td>\n",
       "      <td>7698.0</td>\n",
       "      <td>1981-09-08</td>\n",
       "      <td>1500.0</td>\n",
       "      <td>0.0</td>\n",
       "      <td>30</td>\n",
       "    </tr>\n",
       "    <tr>\n",
       "      <th>10</th>\n",
       "      <td>7876</td>\n",
       "      <td>ADAMS</td>\n",
       "      <td>CLERK</td>\n",
       "      <td>7788.0</td>\n",
       "      <td>1987-05-23</td>\n",
       "      <td>1100.0</td>\n",
       "      <td>NaN</td>\n",
       "      <td>20</td>\n",
       "    </tr>\n",
       "    <tr>\n",
       "      <th>11</th>\n",
       "      <td>7900</td>\n",
       "      <td>JAMES</td>\n",
       "      <td>CLERK</td>\n",
       "      <td>7698.0</td>\n",
       "      <td>1981-12-03</td>\n",
       "      <td>950.0</td>\n",
       "      <td>NaN</td>\n",
       "      <td>30</td>\n",
       "    </tr>\n",
       "    <tr>\n",
       "      <th>12</th>\n",
       "      <td>7902</td>\n",
       "      <td>FORD</td>\n",
       "      <td>ANALYST</td>\n",
       "      <td>7566.0</td>\n",
       "      <td>1981-12-03</td>\n",
       "      <td>3000.0</td>\n",
       "      <td>NaN</td>\n",
       "      <td>20</td>\n",
       "    </tr>\n",
       "    <tr>\n",
       "      <th>13</th>\n",
       "      <td>7934</td>\n",
       "      <td>MILLER</td>\n",
       "      <td>CLERK</td>\n",
       "      <td>7782.0</td>\n",
       "      <td>1982-01-23</td>\n",
       "      <td>1300.0</td>\n",
       "      <td>NaN</td>\n",
       "      <td>10</td>\n",
       "    </tr>\n",
       "  </tbody>\n",
       "</table>\n",
       "</div>"
      ],
      "text/plain": [
       "    empno   ename        job     mgr    hiredate     sal    comm  deptno\n",
       "0    7369   SMITH      CLERK  7902.0  1980-12-17   800.0     NaN      20\n",
       "1    7499   ALLEN   SALESMAN  7698.0  1981-02-20  1600.0   300.0      30\n",
       "2    7521    WARD   SALESMAN  7698.0  1981-02-22  1250.0   500.0      30\n",
       "3    7566   JONES    MANAGER  7839.0  1981-04-02  2975.0     NaN      20\n",
       "4    7654  MARTIN   SALESMAN  7698.0  1981-09-28  1250.0  1400.0      30\n",
       "5    7698   BLAKE    MANAGER  7839.0  1981-05-01  2850.0     NaN      30\n",
       "6    7782   CLARK    MANAGER  7839.0  1981-06-09  2450.0     NaN      10\n",
       "7    7788   SCOTT    ANALYST  7566.0  1987-04-19  3000.0     NaN      20\n",
       "8    7839    KING  PRESIDENT     NaN  1981-11-17  5000.0     NaN      10\n",
       "9    7844  TURNER   SALESMAN  7698.0  1981-09-08  1500.0     0.0      30\n",
       "10   7876   ADAMS      CLERK  7788.0  1987-05-23  1100.0     NaN      20\n",
       "11   7900   JAMES      CLERK  7698.0  1981-12-03   950.0     NaN      30\n",
       "12   7902    FORD    ANALYST  7566.0  1981-12-03  3000.0     NaN      20\n",
       "13   7934  MILLER      CLERK  7782.0  1982-01-23  1300.0     NaN      10"
      ]
     },
     "execution_count": 5,
     "metadata": {},
     "output_type": "execute_result"
    }
   ],
   "source": [
    "emp= pd.read_csv ('../../DB_work/csv/emp.csv')\n",
    "emp"
   ]
  },
  {
   "cell_type": "code",
   "execution_count": 17,
   "id": "72bee037",
   "metadata": {},
   "outputs": [
    {
     "name": "stdout",
     "output_type": "stream",
     "text": [
      "     ename  empno\n",
      "0    SMITH   7369\n",
      "1    ALLEN   7499\n",
      "2     WARD   7521\n",
      "3    JONES   7566\n",
      "4   MARTIN   7654\n",
      "5    BLAKE   7698\n",
      "6    CLARK   7782\n",
      "7    SCOTT   7788\n",
      "8     KING   7839\n",
      "9   TURNER   7844\n",
      "10   ADAMS   7876\n",
      "11   JAMES   7900\n",
      "12    FORD   7902\n",
      "13  MILLER   7934\n"
     ]
    }
   ],
   "source": [
    "#1 select ename, empno from emp\n",
    "print(emp[['ename', 'empno']])"
   ]
  },
  {
   "cell_type": "code",
   "execution_count": null,
   "id": "b81e289b",
   "metadata": {},
   "outputs": [],
   "source": []
  },
  {
   "cell_type": "code",
   "execution_count": 18,
   "id": "05c76bb5",
   "metadata": {},
   "outputs": [
    {
     "name": "stdout",
     "output_type": "stream",
     "text": [
      "     ename    hiredate     mgr  deptno\n",
      "0    SMITH  1980-12-17  7902.0      20\n",
      "1    ALLEN  1981-02-20  7698.0      30\n",
      "2     WARD  1981-02-22  7698.0      30\n",
      "3    JONES  1981-04-02  7839.0      20\n",
      "4   MARTIN  1981-09-28  7698.0      30\n",
      "5    BLAKE  1981-05-01  7839.0      30\n",
      "6    CLARK  1981-06-09  7839.0      10\n",
      "7    SCOTT  1987-04-19  7566.0      20\n",
      "8     KING  1981-11-17     NaN      10\n",
      "9   TURNER  1981-09-08  7698.0      30\n",
      "10   ADAMS  1987-05-23  7788.0      20\n",
      "11   JAMES  1981-12-03  7698.0      30\n",
      "12    FORD  1981-12-03  7566.0      20\n",
      "13  MILLER  1982-01-23  7782.0      10\n"
     ]
    }
   ],
   "source": [
    "#2 select ename, hiredate, mgr, deptno from emp\n",
    "print(emp[['ename', 'hiredate', 'mgr', 'deptno']])"
   ]
  },
  {
   "cell_type": "code",
   "execution_count": 8,
   "id": "d5fd6517",
   "metadata": {},
   "outputs": [
    {
     "name": "stdout",
     "output_type": "stream",
     "text": [
      "    ename       job     sal\n",
      "1   ALLEN  SALESMAN  1600.0\n",
      "2    WARD  SALESMAN  1250.0\n",
      "4  MARTIN  SALESMAN  1250.0\n",
      "9  TURNER  SALESMAN  1500.0\n"
     ]
    }
   ],
   "source": [
    "#3 직업이 SALESMAN인 사원의 이름과 직업 봉급을 출력해보자.\n",
    "# select ename,job,sal from emp where job = 'SALESMAN';\n",
    "print(emp[['ename','job','sal']][emp['job']=='SALESMAN']) ## 조건은 뒤에 넣는다."
   ]
  },
  {
   "cell_type": "code",
   "execution_count": 13,
   "id": "3fc55ac5",
   "metadata": {},
   "outputs": [
    {
     "data": {
      "text/html": [
       "<div>\n",
       "<style scoped>\n",
       "    .dataframe tbody tr th:only-of-type {\n",
       "        vertical-align: middle;\n",
       "    }\n",
       "\n",
       "    .dataframe tbody tr th {\n",
       "        vertical-align: top;\n",
       "    }\n",
       "\n",
       "    .dataframe thead th {\n",
       "        text-align: right;\n",
       "    }\n",
       "</style>\n",
       "<table border=\"1\" class=\"dataframe\">\n",
       "  <thead>\n",
       "    <tr style=\"text-align: right;\">\n",
       "      <th></th>\n",
       "      <th>ename</th>\n",
       "      <th>sal</th>\n",
       "    </tr>\n",
       "  </thead>\n",
       "  <tbody>\n",
       "    <tr>\n",
       "      <th>7</th>\n",
       "      <td>SCOTT</td>\n",
       "      <td>3000.0</td>\n",
       "    </tr>\n",
       "    <tr>\n",
       "      <th>8</th>\n",
       "      <td>KING</td>\n",
       "      <td>5000.0</td>\n",
       "    </tr>\n",
       "    <tr>\n",
       "      <th>12</th>\n",
       "      <td>FORD</td>\n",
       "      <td>3000.0</td>\n",
       "    </tr>\n",
       "  </tbody>\n",
       "</table>\n",
       "</div>"
      ],
      "text/plain": [
       "    ename     sal\n",
       "7   SCOTT  3000.0\n",
       "8    KING  5000.0\n",
       "12   FORD  3000.0"
      ]
     },
     "execution_count": 13,
     "metadata": {},
     "output_type": "execute_result"
    }
   ],
   "source": [
    "#4 월급이 3000 이상인 사원의 이름과 봉급을 출력하라.\n",
    "# select ename, sal from emp where sal >= 3000;\n",
    "emp[['ename','sal']][emp['sal'] >= 3000]"
   ]
  },
  {
   "cell_type": "code",
   "execution_count": 14,
   "id": "de3f1735",
   "metadata": {
    "scrolled": true
   },
   "outputs": [
    {
     "data": {
      "text/html": [
       "<div>\n",
       "<style scoped>\n",
       "    .dataframe tbody tr th:only-of-type {\n",
       "        vertical-align: middle;\n",
       "    }\n",
       "\n",
       "    .dataframe tbody tr th {\n",
       "        vertical-align: top;\n",
       "    }\n",
       "\n",
       "    .dataframe thead th {\n",
       "        text-align: right;\n",
       "    }\n",
       "</style>\n",
       "<table border=\"1\" class=\"dataframe\">\n",
       "  <thead>\n",
       "    <tr style=\"text-align: right;\">\n",
       "      <th></th>\n",
       "      <th>ename</th>\n",
       "      <th>sal</th>\n",
       "    </tr>\n",
       "  </thead>\n",
       "  <tbody>\n",
       "    <tr>\n",
       "      <th>1</th>\n",
       "      <td>ALLEN</td>\n",
       "      <td>1600.0</td>\n",
       "    </tr>\n",
       "    <tr>\n",
       "      <th>2</th>\n",
       "      <td>WARD</td>\n",
       "      <td>1250.0</td>\n",
       "    </tr>\n",
       "    <tr>\n",
       "      <th>3</th>\n",
       "      <td>JONES</td>\n",
       "      <td>2975.0</td>\n",
       "    </tr>\n",
       "    <tr>\n",
       "      <th>4</th>\n",
       "      <td>MARTIN</td>\n",
       "      <td>1250.0</td>\n",
       "    </tr>\n",
       "    <tr>\n",
       "      <th>5</th>\n",
       "      <td>BLAKE</td>\n",
       "      <td>2850.0</td>\n",
       "    </tr>\n",
       "    <tr>\n",
       "      <th>6</th>\n",
       "      <td>CLARK</td>\n",
       "      <td>2450.0</td>\n",
       "    </tr>\n",
       "    <tr>\n",
       "      <th>7</th>\n",
       "      <td>SCOTT</td>\n",
       "      <td>3000.0</td>\n",
       "    </tr>\n",
       "    <tr>\n",
       "      <th>9</th>\n",
       "      <td>TURNER</td>\n",
       "      <td>1500.0</td>\n",
       "    </tr>\n",
       "    <tr>\n",
       "      <th>10</th>\n",
       "      <td>ADAMS</td>\n",
       "      <td>1100.0</td>\n",
       "    </tr>\n",
       "    <tr>\n",
       "      <th>12</th>\n",
       "      <td>FORD</td>\n",
       "      <td>3000.0</td>\n",
       "    </tr>\n",
       "    <tr>\n",
       "      <th>13</th>\n",
       "      <td>MILLER</td>\n",
       "      <td>1300.0</td>\n",
       "    </tr>\n",
       "  </tbody>\n",
       "</table>\n",
       "</div>"
      ],
      "text/plain": [
       "     ename     sal\n",
       "1    ALLEN  1600.0\n",
       "2     WARD  1250.0\n",
       "3    JONES  2975.0\n",
       "4   MARTIN  1250.0\n",
       "5    BLAKE  2850.0\n",
       "6    CLARK  2450.0\n",
       "7    SCOTT  3000.0\n",
       "9   TURNER  1500.0\n",
       "10   ADAMS  1100.0\n",
       "12    FORD  3000.0\n",
       "13  MILLER  1300.0"
      ]
     },
     "execution_count": 14,
     "metadata": {},
     "output_type": "execute_result"
    }
   ],
   "source": [
    "#5 사원의 이름과 월급을 출력하되 1000에서 3000까지 받는 사원을 출력하라.\n",
    "# select ename, sal from emp where sal >=1000 and sal <=3000;\n",
    "# select ename, sal from emp where sal between 1000 and 3000;\n",
    "emp[['ename','sal']][emp['sal'].between(1000,3000)]"
   ]
  },
  {
   "cell_type": "code",
   "execution_count": 15,
   "id": "d914e377",
   "metadata": {
    "scrolled": true
   },
   "outputs": [
    {
     "data": {
      "text/html": [
       "<div>\n",
       "<style scoped>\n",
       "    .dataframe tbody tr th:only-of-type {\n",
       "        vertical-align: middle;\n",
       "    }\n",
       "\n",
       "    .dataframe tbody tr th {\n",
       "        vertical-align: top;\n",
       "    }\n",
       "\n",
       "    .dataframe thead th {\n",
       "        text-align: right;\n",
       "    }\n",
       "</style>\n",
       "<table border=\"1\" class=\"dataframe\">\n",
       "  <thead>\n",
       "    <tr style=\"text-align: right;\">\n",
       "      <th></th>\n",
       "      <th>ename</th>\n",
       "      <th>sal</th>\n",
       "    </tr>\n",
       "  </thead>\n",
       "  <tbody>\n",
       "    <tr>\n",
       "      <th>0</th>\n",
       "      <td>SMITH</td>\n",
       "      <td>800.0</td>\n",
       "    </tr>\n",
       "    <tr>\n",
       "      <th>8</th>\n",
       "      <td>KING</td>\n",
       "      <td>5000.0</td>\n",
       "    </tr>\n",
       "    <tr>\n",
       "      <th>11</th>\n",
       "      <td>JAMES</td>\n",
       "      <td>950.0</td>\n",
       "    </tr>\n",
       "  </tbody>\n",
       "</table>\n",
       "</div>"
      ],
      "text/plain": [
       "    ename     sal\n",
       "0   SMITH   800.0\n",
       "8    KING  5000.0\n",
       "11  JAMES   950.0"
      ]
     },
     "execution_count": 15,
     "metadata": {},
     "output_type": "execute_result"
    }
   ],
   "source": [
    "#6 사원의 이름과 월급을 출력하되 1000에서 3000이 *아닌 사원을 출력하라.\n",
    "# select ename, sal from emp where sal<1000 and sal>3000;\n",
    "# select ename, sal from emp where sal not between 1000 and 3000;\n",
    "emp[['ename','sal']][~ emp['sal'].between(1000,3000)]"
   ]
  },
  {
   "cell_type": "raw",
   "id": "d7356af5",
   "metadata": {},
   "source": [
    "#7 직업이 ANALYST, SALESMAN 인 사원의 이름과 직업을 출력하라.\n",
    "#select ename, job from emp where job in('ANALYST', 'SALESMAN')\n",
    "\n",
    "    데이터베이스   vs    pandas\n",
    "1.  between ... and   시리즈.between()\n",
    "2.  in                isin()\n",
    "3.  is null           isnull()\n",
    "4.  like              apply()"
   ]
  },
  {
   "cell_type": "code",
   "execution_count": 19,
   "id": "1da6e367",
   "metadata": {},
   "outputs": [
    {
     "data": {
      "text/html": [
       "<div>\n",
       "<style scoped>\n",
       "    .dataframe tbody tr th:only-of-type {\n",
       "        vertical-align: middle;\n",
       "    }\n",
       "\n",
       "    .dataframe tbody tr th {\n",
       "        vertical-align: top;\n",
       "    }\n",
       "\n",
       "    .dataframe thead th {\n",
       "        text-align: right;\n",
       "    }\n",
       "</style>\n",
       "<table border=\"1\" class=\"dataframe\">\n",
       "  <thead>\n",
       "    <tr style=\"text-align: right;\">\n",
       "      <th></th>\n",
       "      <th>ename</th>\n",
       "      <th>job</th>\n",
       "    </tr>\n",
       "  </thead>\n",
       "  <tbody>\n",
       "    <tr>\n",
       "      <th>1</th>\n",
       "      <td>ALLEN</td>\n",
       "      <td>SALESMAN</td>\n",
       "    </tr>\n",
       "    <tr>\n",
       "      <th>2</th>\n",
       "      <td>WARD</td>\n",
       "      <td>SALESMAN</td>\n",
       "    </tr>\n",
       "    <tr>\n",
       "      <th>4</th>\n",
       "      <td>MARTIN</td>\n",
       "      <td>SALESMAN</td>\n",
       "    </tr>\n",
       "    <tr>\n",
       "      <th>7</th>\n",
       "      <td>SCOTT</td>\n",
       "      <td>ANALYST</td>\n",
       "    </tr>\n",
       "    <tr>\n",
       "      <th>9</th>\n",
       "      <td>TURNER</td>\n",
       "      <td>SALESMAN</td>\n",
       "    </tr>\n",
       "    <tr>\n",
       "      <th>12</th>\n",
       "      <td>FORD</td>\n",
       "      <td>ANALYST</td>\n",
       "    </tr>\n",
       "  </tbody>\n",
       "</table>\n",
       "</div>"
      ],
      "text/plain": [
       "     ename       job\n",
       "1    ALLEN  SALESMAN\n",
       "2     WARD  SALESMAN\n",
       "4   MARTIN  SALESMAN\n",
       "7    SCOTT   ANALYST\n",
       "9   TURNER  SALESMAN\n",
       "12    FORD   ANALYST"
      ]
     },
     "execution_count": 19,
     "metadata": {},
     "output_type": "execute_result"
    }
   ],
   "source": [
    "emp[['ename','job']][ emp['job'].isin(['ANALYST', 'SALESMAN'])]"
   ]
  },
  {
   "cell_type": "code",
   "execution_count": 21,
   "id": "b2d7554a",
   "metadata": {},
   "outputs": [
    {
     "data": {
      "text/html": [
       "<div>\n",
       "<style scoped>\n",
       "    .dataframe tbody tr th:only-of-type {\n",
       "        vertical-align: middle;\n",
       "    }\n",
       "\n",
       "    .dataframe tbody tr th {\n",
       "        vertical-align: top;\n",
       "    }\n",
       "\n",
       "    .dataframe thead th {\n",
       "        text-align: right;\n",
       "    }\n",
       "</style>\n",
       "<table border=\"1\" class=\"dataframe\">\n",
       "  <thead>\n",
       "    <tr style=\"text-align: right;\">\n",
       "      <th></th>\n",
       "      <th>ename</th>\n",
       "      <th>sal</th>\n",
       "      <th>comm</th>\n",
       "    </tr>\n",
       "  </thead>\n",
       "  <tbody>\n",
       "    <tr>\n",
       "      <th>0</th>\n",
       "      <td>SMITH</td>\n",
       "      <td>800.0</td>\n",
       "      <td>NaN</td>\n",
       "    </tr>\n",
       "    <tr>\n",
       "      <th>3</th>\n",
       "      <td>JONES</td>\n",
       "      <td>2975.0</td>\n",
       "      <td>NaN</td>\n",
       "    </tr>\n",
       "    <tr>\n",
       "      <th>5</th>\n",
       "      <td>BLAKE</td>\n",
       "      <td>2850.0</td>\n",
       "      <td>NaN</td>\n",
       "    </tr>\n",
       "    <tr>\n",
       "      <th>6</th>\n",
       "      <td>CLARK</td>\n",
       "      <td>2450.0</td>\n",
       "      <td>NaN</td>\n",
       "    </tr>\n",
       "    <tr>\n",
       "      <th>7</th>\n",
       "      <td>SCOTT</td>\n",
       "      <td>3000.0</td>\n",
       "      <td>NaN</td>\n",
       "    </tr>\n",
       "    <tr>\n",
       "      <th>8</th>\n",
       "      <td>KING</td>\n",
       "      <td>5000.0</td>\n",
       "      <td>NaN</td>\n",
       "    </tr>\n",
       "    <tr>\n",
       "      <th>10</th>\n",
       "      <td>ADAMS</td>\n",
       "      <td>1100.0</td>\n",
       "      <td>NaN</td>\n",
       "    </tr>\n",
       "    <tr>\n",
       "      <th>11</th>\n",
       "      <td>JAMES</td>\n",
       "      <td>950.0</td>\n",
       "      <td>NaN</td>\n",
       "    </tr>\n",
       "    <tr>\n",
       "      <th>12</th>\n",
       "      <td>FORD</td>\n",
       "      <td>3000.0</td>\n",
       "      <td>NaN</td>\n",
       "    </tr>\n",
       "    <tr>\n",
       "      <th>13</th>\n",
       "      <td>MILLER</td>\n",
       "      <td>1300.0</td>\n",
       "      <td>NaN</td>\n",
       "    </tr>\n",
       "  </tbody>\n",
       "</table>\n",
       "</div>"
      ],
      "text/plain": [
       "     ename     sal  comm\n",
       "0    SMITH   800.0   NaN\n",
       "3    JONES  2975.0   NaN\n",
       "5    BLAKE  2850.0   NaN\n",
       "6    CLARK  2450.0   NaN\n",
       "7    SCOTT  3000.0   NaN\n",
       "8     KING  5000.0   NaN\n",
       "10   ADAMS  1100.0   NaN\n",
       "11   JAMES   950.0   NaN\n",
       "12    FORD  3000.0   NaN\n",
       "13  MILLER  1300.0   NaN"
      ]
     },
     "execution_count": 21,
     "metadata": {},
     "output_type": "execute_result"
    }
   ],
   "source": [
    "#8 커미션이 책정되지 않은 사원의 이름과 봉급, 커미션을 출력하자.\n",
    "# select ename, sal, comm\n",
    "#from emp\n",
    "#where comm is NULL\n",
    "\n",
    "emp[['ename','sal','comm']][ emp['comm'].isnull()]"
   ]
  },
  {
   "cell_type": "code",
   "execution_count": 22,
   "id": "b2799558",
   "metadata": {},
   "outputs": [
    {
     "data": {
      "text/html": [
       "<div>\n",
       "<style scoped>\n",
       "    .dataframe tbody tr th:only-of-type {\n",
       "        vertical-align: middle;\n",
       "    }\n",
       "\n",
       "    .dataframe tbody tr th {\n",
       "        vertical-align: top;\n",
       "    }\n",
       "\n",
       "    .dataframe thead th {\n",
       "        text-align: right;\n",
       "    }\n",
       "</style>\n",
       "<table border=\"1\" class=\"dataframe\">\n",
       "  <thead>\n",
       "    <tr style=\"text-align: right;\">\n",
       "      <th></th>\n",
       "      <th>ename</th>\n",
       "      <th>sal</th>\n",
       "    </tr>\n",
       "  </thead>\n",
       "  <tbody>\n",
       "    <tr>\n",
       "      <th>7</th>\n",
       "      <td>SCOTT</td>\n",
       "      <td>3000.0</td>\n",
       "    </tr>\n",
       "  </tbody>\n",
       "</table>\n",
       "</div>"
      ],
      "text/plain": [
       "   ename     sal\n",
       "7  SCOTT  3000.0"
      ]
     },
     "execution_count": 22,
     "metadata": {},
     "output_type": "execute_result"
    }
   ],
   "source": [
    "#9 사원의 이름이 'SCOTT' 인 사원의 이름과 봉급을 출력하자.\n",
    "\n",
    "emp[['ename', 'sal']][emp ['ename'] == 'SCOTT']"
   ]
  },
  {
   "cell_type": "code",
   "execution_count": 30,
   "id": "50964afa",
   "metadata": {},
   "outputs": [
    {
     "name": "stdout",
     "output_type": "stream",
     "text": [
      "SMITH S H\n",
      "ALLEN A N\n",
      "WARD W D\n",
      "JONES J S\n",
      "MARTIN M N\n",
      "BLAKE B E\n",
      "CLARK C K\n",
      "SCOTT S T\n",
      "KING K G\n",
      "TURNER T R\n",
      "ADAMS A S\n",
      "JAMES J S\n",
      "FORD F D\n",
      "MILLER M R\n"
     ]
    }
   ],
   "source": [
    "#10 이름만 추출해서 첫글자, 마지막글자만 출력 해보자.\n",
    "for i in emp['ename']:\n",
    "    print(i, i[0], i[-1])"
   ]
  },
  {
   "cell_type": "code",
   "execution_count": 31,
   "id": "f159c2c8",
   "metadata": {},
   "outputs": [
    {
     "name": "stdout",
     "output_type": "stream",
     "text": [
      "SCOTT\n"
     ]
    }
   ],
   "source": [
    "#11 마지막 글자가 T로 끝나는 이름을 출력하자.\n",
    "for i in emp['ename']:\n",
    "    if i[-1] == 'T':\n",
    "        print(i)"
   ]
  },
  {
   "cell_type": "code",
   "execution_count": 34,
   "id": "9ad6e9be",
   "metadata": {},
   "outputs": [
    {
     "name": "stdout",
     "output_type": "stream",
     "text": [
      "SMITH + 800.0\n",
      "ALLEN + 1600.0\n",
      "WARD + 1250.0\n",
      "JONES + 2975.0\n",
      "MARTIN + 1250.0\n",
      "BLAKE + 2850.0\n",
      "CLARK + 2450.0\n",
      "SCOTT + 3000.0\n",
      "KING + 5000.0\n",
      "TURNER + 1500.0\n",
      "ADAMS + 1100.0\n",
      "JAMES + 950.0\n",
      "FORD + 3000.0\n",
      "MILLER + 1300.0\n"
     ]
    }
   ],
   "source": [
    "#12 str + str (O)  /  str + int (X) => 원래 그냥 더하는건 syntax error\n",
    "#but str+int 결합을 python 코드로 한다면?\n",
    "\n",
    "for i, j in zip(emp['ename'], emp['sal']):\n",
    "    print(i + ' + ' + str(j))"
   ]
  },
  {
   "cell_type": "code",
   "execution_count": 22,
   "id": "e1d4066a",
   "metadata": {},
   "outputs": [
    {
     "name": "stdout",
     "output_type": "stream",
     "text": [
      "         job          sal\n",
      "0    ANALYST  3000.000000\n",
      "1      CLERK  1037.500000\n",
      "2    MANAGER  2758.333333\n",
      "3  PRESIDENT  5000.000000\n",
      "4   SALESMAN  1400.000000\n"
     ]
    }
   ],
   "source": [
    "result = emp.groupby('job')['sal'].mean().reset_index()\n",
    "print(result);"
   ]
  },
  {
   "cell_type": "code",
   "execution_count": 32,
   "id": "b55f4277",
   "metadata": {},
   "outputs": [
    {
     "ename": "SyntaxError",
     "evalue": "closing parenthesis ')' does not match opening parenthesis '[' (2916221381.py, line 2)",
     "output_type": "error",
     "traceback": [
      "\u001b[0;36m  Cell \u001b[0;32mIn[32], line 2\u001b[0;36m\u001b[0m\n\u001b[0;31m    print (result[['detno','sal'][result['deptno'!= 20 ]])\u001b[0m\n\u001b[0m                                                         ^\u001b[0m\n\u001b[0;31mSyntaxError\u001b[0m\u001b[0;31m:\u001b[0m closing parenthesis ')' does not match opening parenthesis '['\n"
     ]
    }
   ],
   "source": [
    "result = emp.groupby('deptno')['sal'].max().reset_index(),index\n",
    "print (result[['detno','sal'][result['deptno'!= 20 ]])"
   ]
  },
  {
   "cell_type": "raw",
   "id": "d9883508",
   "metadata": {},
   "source": [
    "Q4) 위에서 평균월급을 출력할 때 사용되는 정수 부분만 출력해보자."
   ]
  },
  {
   "cell_type": "code",
   "execution_count": 41,
   "id": "2c88e5da",
   "metadata": {},
   "outputs": [
    {
     "name": "stdout",
     "output_type": "stream",
     "text": [
      "   deptno   sal\n",
      "0      10  2916\n",
      "1      20  2175\n",
      "2      30  1566\n"
     ]
    }
   ],
   "source": [
    "result =emp.groupby('deptno')['sal'].mean().reset_index().astype(int)\n",
    "print(result)"
   ]
  },
  {
   "cell_type": "raw",
   "id": "8713d564",
   "metadata": {},
   "source": [
    "Q5) 부서위치, 부서별 월급식의 합을 구해보자.\n",
    "select loc, sum(e.sal)\n",
    "from emp e, dept d\n",
    "where e.deptno = deptno\n",
    "group by d.loc;"
   ]
  },
  {
   "cell_type": "code",
   "execution_count": 10,
   "id": "a7a2b193",
   "metadata": {},
   "outputs": [
    {
     "name": "stdout",
     "output_type": "stream",
     "text": [
      "        loc      sal\n",
      "0   CHICAGO   9400.0\n",
      "1    DALLAS  10875.0\n",
      "2  NEW YORK   8750.0\n"
     ]
    }
   ],
   "source": [
    "emp = pd.read_csv ('../DB_work/csv/emp.csv')\n",
    "dept = pd.read_csv ('../DB_work/csv/dept.csv')\n",
    "\n",
    "result = pd.merge(emp, dept, on = 'deptno')\n",
    "#groupby loc, selest loc, sum = (sal)\n",
    "result02 = result.groupby('loc')['sal'].sum().reset_index()\n",
    "print(result02)"
   ]
  },
  {
   "cell_type": "raw",
   "id": "c5396a54",
   "metadata": {},
   "source": [
    "select d.loc, e.sal\n",
    "\n",
    "from emp join dept nusion(deptno) -> from emp join on(emp.deptno = dept.d)"
   ]
  },
  {
   "cell_type": "raw",
   "id": "46c44f82",
   "metadata": {},
   "source": [
    "pandas.merge( emp_left, dept_right, how='inner', on='deptno')\n",
    "\n",
    "how ='inner' : emp 와 dept 데이터 프레임에 공통적으로 존재하는 교집합일 경우에만 추출하겠다.\n",
    "        \n",
    "how ='outer' : 열의 데이터가 양쪽 데이터 프레임에 공통적으로 존재하는 교집합이 아니어도 추출하겠다.\n",
    "                           \n",
    "how ='left'  : 왼쪽 데이터 프레임의 키열에 속하는 데이터값을\n",
    "                           기준으로 병합하겠다.\n",
    "        \n",
    "how = 'right' :  오른쪽 데이터 프레임의 키열에 속하는 데이터 값을\n",
    "                           기준으로 병합하겠다."
   ]
  },
  {
   "cell_type": "raw",
   "id": "cb402e5f",
   "metadata": {},
   "source": [
    "Q6) select loc, sum(sal)\n",
    "    from emp outer right join dept using(deptno)\n",
    "    groupby loc;"
   ]
  },
  {
   "cell_type": "code",
   "execution_count": 12,
   "id": "31abbb39",
   "metadata": {},
   "outputs": [
    {
     "name": "stdout",
     "output_type": "stream",
     "text": [
      "        loc      sal\n",
      "0    BOSTON      0.0\n",
      "1   CHICAGO   9400.0\n",
      "2    DALLAS  10875.0\n",
      "3  NEW YORK   8750.0\n"
     ]
    }
   ],
   "source": [
    "result = pd.merge(emp, dept, how = 'right', on='deptno')\n",
    "result02 = result.groupby('loc')['sal'].sum().reset_index()\n",
    "print(result02)"
   ]
  },
  {
   "cell_type": "code",
   "execution_count": null,
   "id": "fc130c3a",
   "metadata": {},
   "outputs": [],
   "source": [
    "Q7) csv모듈을 이용해서 emp.csv를 읽어오자."
   ]
  },
  {
   "cell_type": "code",
   "execution_count": 13,
   "id": "56b854b1",
   "metadata": {},
   "outputs": [],
   "source": [
    "import csv"
   ]
  },
  {
   "cell_type": "code",
   "execution_count": 14,
   "id": "d4da416f",
   "metadata": {
    "scrolled": true
   },
   "outputs": [
    {
     "name": "stdout",
     "output_type": "stream",
     "text": [
      "['Dialect', 'DictReader', 'DictWriter', 'Error', 'QUOTE_ALL', 'QUOTE_MINIMAL', 'QUOTE_NONE', 'QUOTE_NONNUMERIC', 'Sniffer', 'StringIO', '_Dialect', '__all__', '__builtins__', '__cached__', '__doc__', '__file__', '__loader__', '__name__', '__package__', '__spec__', '__version__', 'excel', 'excel_tab', 'field_size_limit', 'get_dialect', 'list_dialects', 're', 'reader', 'register_dialect', 'unix_dialect', 'unregister_dialect', 'writer']\n"
     ]
    }
   ],
   "source": [
    "print(dir(csv))"
   ]
  },
  {
   "cell_type": "code",
   "execution_count": 28,
   "id": "45aaf72d",
   "metadata": {},
   "outputs": [
    {
     "name": "stdout",
     "output_type": "stream",
     "text": [
      "['7369', 'SMITH', 'CLERK', '7902', '1980-12-17', '800.00', 'NULL', '20']\n",
      "['7499', 'ALLEN', 'SALESMAN', '7698', '1981-02-20', '1600.00', '300.00', '30']\n",
      "['7521', 'WARD', 'SALESMAN', '7698', '1981-02-22', '1250.00', '500.00', '30']\n",
      "['7566', 'JONES', 'MANAGER', '7839', '1981-04-02', '2975.00', 'NULL', '20']\n",
      "['7654', 'MARTIN', 'SALESMAN', '7698', '1981-09-28', '1250.00', '1400.00', '30']\n",
      "['7698', 'BLAKE', 'MANAGER', '7839', '1981-05-01', '2850.00', 'NULL', '30']\n",
      "['7782', 'CLARK', 'MANAGER', '7839', '1981-06-09', '2450.00', 'NULL', '10']\n",
      "['7788', 'SCOTT', 'ANALYST', '7566', '1987-04-19', '3000.00', 'NULL', '20']\n",
      "['7839', 'KING', 'PRESIDENT', 'NULL', '1981-11-17', '5000.00', 'NULL', '10']\n",
      "['7844', 'TURNER', 'SALESMAN', '7698', '1981-09-08', '1500.00', '0.00', '30']\n",
      "['7876', 'ADAMS', 'CLERK', '7788', '1987-05-23', '1100.00', 'NULL', '20']\n",
      "['7900', 'JAMES', 'CLERK', '7698', '1981-12-03', '950.00', 'NULL', '30']\n",
      "['7902', 'FORD', 'ANALYST', '7566', '1981-12-03', '3000.00', 'NULL', '20']\n",
      "['7934', 'MILLER', 'CLERK', '7782', '1982-01-23', '1300.00', 'NULL', '10']\n"
     ]
    }
   ],
   "source": [
    "file = open('../DB_work/csv/emp02.csv')\n",
    "emp_res = csv.reader(file)\n",
    "\n",
    "#print(type(emp_res))\n",
    "#print(dir(emp_res))\n",
    "for m_list in emp_res:\n",
    "    print(m_list)"
   ]
  },
  {
   "cell_type": "code",
   "execution_count": 23,
   "id": "20ba267f",
   "metadata": {},
   "outputs": [],
   "source": [
    "Q8) emp_res 객체를 통해서 이름과 봉급을 구하자. 단 봉급은 월급의 11*11.2로 구해자."
   ]
  },
  {
   "cell_type": "code",
   "execution_count": 66,
   "id": "a15edb10",
   "metadata": {},
   "outputs": [
    {
     "ename": "TypeError",
     "evalue": "unsupported operand type(s) for *: 'types.GenericAlias' and 'float'",
     "output_type": "error",
     "traceback": [
      "\u001b[0;31m---------------------------------------------------------------------------\u001b[0m",
      "\u001b[0;31mTypeError\u001b[0m                                 Traceback (most recent call last)",
      "Cell \u001b[0;32mIn[66], line 4\u001b[0m\n\u001b[1;32m      2\u001b[0m emp_res \u001b[38;5;241m=\u001b[39m csv\u001b[38;5;241m.\u001b[39mreader(file)\n\u001b[1;32m      3\u001b[0m \u001b[38;5;28;01mfor\u001b[39;00m m_list \u001b[38;5;129;01min\u001b[39;00m emp_res:\n\u001b[0;32m----> 4\u001b[0m     r \u001b[38;5;241m=\u001b[39m \u001b[38;5;28;43mlist\u001b[39;49m\u001b[43m[\u001b[49m\u001b[38;5;241;43m5\u001b[39;49m\u001b[43m]\u001b[49m\u001b[38;5;241;43m*\u001b[39;49m\u001b[38;5;241;43m11.2\u001b[39;49m\n\u001b[1;32m      5\u001b[0m \u001b[38;5;28mprint\u001b[39m(m_list, rounds)\n",
      "\u001b[0;31mTypeError\u001b[0m: unsupported operand type(s) for *: 'types.GenericAlias' and 'float'"
     ]
    }
   ],
   "source": [
    "file = open('../DB_work/csv/emp02.csv')\n",
    "emp_res = csv.reader(file)\n",
    "for m_list in emp_res:\n",
    "    r = float(list[5])*11.2\n",
    "print(m_list, rounds)"
   ]
  },
  {
   "cell_type": "raw",
   "id": "6287a3a6",
   "metadata": {},
   "source": [
    "Q8) emp_res 에서 직업이 'SALESNAME' 인 사원의 이름과 직업을 출력 바람.\n"
   ]
  },
  {
   "cell_type": "code",
   "execution_count": 45,
   "id": "260202d3",
   "metadata": {},
   "outputs": [
    {
     "name": "stdout",
     "output_type": "stream",
     "text": [
      "ALLEN SALESMAN\n",
      "WARD SALESMAN\n",
      "MARTIN SALESMAN\n",
      "TURNER SALESMAN\n"
     ]
    }
   ],
   "source": [
    "file = open('../DB_work/csv/emp02.csv')\n",
    "emp_res = csv.reader(file)\n",
    "for m_list in emp_res:\n",
    "    if m_list[2] == 'SALESMAN':\n",
    "        print(m_list[1], m_list[2])"
   ]
  },
  {
   "cell_type": "raw",
   "id": "4a450157",
   "metadata": {},
   "source": [
    "Q9) emp.csv 를 결측치 확인 하자.\n",
    "결측치 NaN = Not a Number"
   ]
  },
  {
   "cell_type": "code",
   "execution_count": 57,
   "id": "2e9207cc",
   "metadata": {},
   "outputs": [],
   "source": [
    "emp = pd.read_csv('../DB_work/csv/emp.csv')"
   ]
  },
  {
   "cell_type": "raw",
   "id": "0cfff620",
   "metadata": {},
   "source": [
    "#emp.csv의 결측치 개수를 확인해보자.\n",
    "print(emp[['ename','comm']][emp['comm'].isnull()])\n",
    "#print(emp.isnull()) "
   ]
  },
  {
   "cell_type": "code",
   "execution_count": 62,
   "id": "bb26d478",
   "metadata": {},
   "outputs": [
    {
     "name": "stdout",
     "output_type": "stream",
     "text": [
      "empno        0\n",
      "ename        0\n",
      "job          0\n",
      "mgr          1\n",
      "hiredate     0\n",
      "sal          0\n",
      "comm        10\n",
      "deptno       0\n",
      "dtype: int64\n"
     ]
    }
   ],
   "source": [
    "#emp.csv의 결측치 개수를 확인해보자.\n",
    "print(emp.isnull().sum()) "
   ]
  },
  {
   "cell_type": "code",
   "execution_count": null,
   "id": "f63311be",
   "metadata": {},
   "outputs": [],
   "source": [
    " Q10) 파생 데이터 생성 = 파생변수 = 기존의 데이터를 가지고 가공해서 만든 새로운 데이터의 컬럼"
   ]
  },
  {
   "cell_type": "code",
   "execution_count": 67,
   "id": "86399430",
   "metadata": {},
   "outputs": [
    {
     "ename": "ValueError",
     "evalue": "Length of values (1) does not match length of index (14)",
     "output_type": "error",
     "traceback": [
      "\u001b[0;31m---------------------------------------------------------------------------\u001b[0m",
      "\u001b[0;31mValueError\u001b[0m                                Traceback (most recent call last)",
      "Cell \u001b[0;32mIn[67], line 3\u001b[0m\n\u001b[1;32m      1\u001b[0m \u001b[38;5;66;03m#emp 에 있는 sal을 sal02라는 컬럼을 생성해서 추가하자\u001b[39;00m\n\u001b[1;32m      2\u001b[0m emp \u001b[38;5;241m=\u001b[39m pd\u001b[38;5;241m.\u001b[39mread_csv(\u001b[38;5;124m'\u001b[39m\u001b[38;5;124m../DB_work/csv/emp.csv\u001b[39m\u001b[38;5;124m'\u001b[39m)\n\u001b[0;32m----> 3\u001b[0m \u001b[43memp\u001b[49m\u001b[43m[\u001b[49m\u001b[38;5;124;43m'\u001b[39;49m\u001b[38;5;124;43msal02\u001b[39;49m\u001b[38;5;124;43m'\u001b[39;49m\u001b[43m]\u001b[49m \u001b[38;5;241m=\u001b[39m [\u001b[38;5;124m'\u001b[39m\u001b[38;5;124msal\u001b[39m\u001b[38;5;124m'\u001b[39m]\n",
      "File \u001b[0;32m/Library/Frameworks/Python.framework/Versions/3.9/lib/python3.9/site-packages/pandas/core/frame.py:3978\u001b[0m, in \u001b[0;36mDataFrame.__setitem__\u001b[0;34m(self, key, value)\u001b[0m\n\u001b[1;32m   3975\u001b[0m     \u001b[38;5;28mself\u001b[39m\u001b[38;5;241m.\u001b[39m_setitem_array([key], value)\n\u001b[1;32m   3976\u001b[0m \u001b[38;5;28;01melse\u001b[39;00m:\n\u001b[1;32m   3977\u001b[0m     \u001b[38;5;66;03m# set column\u001b[39;00m\n\u001b[0;32m-> 3978\u001b[0m     \u001b[38;5;28;43mself\u001b[39;49m\u001b[38;5;241;43m.\u001b[39;49m\u001b[43m_set_item\u001b[49m\u001b[43m(\u001b[49m\u001b[43mkey\u001b[49m\u001b[43m,\u001b[49m\u001b[43m \u001b[49m\u001b[43mvalue\u001b[49m\u001b[43m)\u001b[49m\n",
      "File \u001b[0;32m/Library/Frameworks/Python.framework/Versions/3.9/lib/python3.9/site-packages/pandas/core/frame.py:4172\u001b[0m, in \u001b[0;36mDataFrame._set_item\u001b[0;34m(self, key, value)\u001b[0m\n\u001b[1;32m   4162\u001b[0m \u001b[38;5;28;01mdef\u001b[39;00m \u001b[38;5;21m_set_item\u001b[39m(\u001b[38;5;28mself\u001b[39m, key, value) \u001b[38;5;241m-\u001b[39m\u001b[38;5;241m>\u001b[39m \u001b[38;5;28;01mNone\u001b[39;00m:\n\u001b[1;32m   4163\u001b[0m     \u001b[38;5;124;03m\"\"\"\u001b[39;00m\n\u001b[1;32m   4164\u001b[0m \u001b[38;5;124;03m    Add series to DataFrame in specified column.\u001b[39;00m\n\u001b[1;32m   4165\u001b[0m \n\u001b[0;32m   (...)\u001b[0m\n\u001b[1;32m   4170\u001b[0m \u001b[38;5;124;03m    ensure homogeneity.\u001b[39;00m\n\u001b[1;32m   4171\u001b[0m \u001b[38;5;124;03m    \"\"\"\u001b[39;00m\n\u001b[0;32m-> 4172\u001b[0m     value \u001b[38;5;241m=\u001b[39m \u001b[38;5;28;43mself\u001b[39;49m\u001b[38;5;241;43m.\u001b[39;49m\u001b[43m_sanitize_column\u001b[49m\u001b[43m(\u001b[49m\u001b[43mvalue\u001b[49m\u001b[43m)\u001b[49m\n\u001b[1;32m   4174\u001b[0m     \u001b[38;5;28;01mif\u001b[39;00m (\n\u001b[1;32m   4175\u001b[0m         key \u001b[38;5;129;01min\u001b[39;00m \u001b[38;5;28mself\u001b[39m\u001b[38;5;241m.\u001b[39mcolumns\n\u001b[1;32m   4176\u001b[0m         \u001b[38;5;129;01mand\u001b[39;00m value\u001b[38;5;241m.\u001b[39mndim \u001b[38;5;241m==\u001b[39m \u001b[38;5;241m1\u001b[39m\n\u001b[1;32m   4177\u001b[0m         \u001b[38;5;129;01mand\u001b[39;00m \u001b[38;5;129;01mnot\u001b[39;00m is_extension_array_dtype(value)\n\u001b[1;32m   4178\u001b[0m     ):\n\u001b[1;32m   4179\u001b[0m         \u001b[38;5;66;03m# broadcast across multiple columns if necessary\u001b[39;00m\n\u001b[1;32m   4180\u001b[0m         \u001b[38;5;28;01mif\u001b[39;00m \u001b[38;5;129;01mnot\u001b[39;00m \u001b[38;5;28mself\u001b[39m\u001b[38;5;241m.\u001b[39mcolumns\u001b[38;5;241m.\u001b[39mis_unique \u001b[38;5;129;01mor\u001b[39;00m \u001b[38;5;28misinstance\u001b[39m(\u001b[38;5;28mself\u001b[39m\u001b[38;5;241m.\u001b[39mcolumns, MultiIndex):\n",
      "File \u001b[0;32m/Library/Frameworks/Python.framework/Versions/3.9/lib/python3.9/site-packages/pandas/core/frame.py:4912\u001b[0m, in \u001b[0;36mDataFrame._sanitize_column\u001b[0;34m(self, value)\u001b[0m\n\u001b[1;32m   4909\u001b[0m     \u001b[38;5;28;01mreturn\u001b[39;00m _reindex_for_setitem(Series(value), \u001b[38;5;28mself\u001b[39m\u001b[38;5;241m.\u001b[39mindex)\n\u001b[1;32m   4911\u001b[0m \u001b[38;5;28;01mif\u001b[39;00m is_list_like(value):\n\u001b[0;32m-> 4912\u001b[0m     \u001b[43mcom\u001b[49m\u001b[38;5;241;43m.\u001b[39;49m\u001b[43mrequire_length_match\u001b[49m\u001b[43m(\u001b[49m\u001b[43mvalue\u001b[49m\u001b[43m,\u001b[49m\u001b[43m \u001b[49m\u001b[38;5;28;43mself\u001b[39;49m\u001b[38;5;241;43m.\u001b[39;49m\u001b[43mindex\u001b[49m\u001b[43m)\u001b[49m\n\u001b[1;32m   4913\u001b[0m \u001b[38;5;28;01mreturn\u001b[39;00m sanitize_array(value, \u001b[38;5;28mself\u001b[39m\u001b[38;5;241m.\u001b[39mindex, copy\u001b[38;5;241m=\u001b[39m\u001b[38;5;28;01mTrue\u001b[39;00m, allow_2d\u001b[38;5;241m=\u001b[39m\u001b[38;5;28;01mTrue\u001b[39;00m)\n",
      "File \u001b[0;32m/Library/Frameworks/Python.framework/Versions/3.9/lib/python3.9/site-packages/pandas/core/common.py:561\u001b[0m, in \u001b[0;36mrequire_length_match\u001b[0;34m(data, index)\u001b[0m\n\u001b[1;32m    557\u001b[0m \u001b[38;5;124;03m\"\"\"\u001b[39;00m\n\u001b[1;32m    558\u001b[0m \u001b[38;5;124;03mCheck the length of data matches the length of the index.\u001b[39;00m\n\u001b[1;32m    559\u001b[0m \u001b[38;5;124;03m\"\"\"\u001b[39;00m\n\u001b[1;32m    560\u001b[0m \u001b[38;5;28;01mif\u001b[39;00m \u001b[38;5;28mlen\u001b[39m(data) \u001b[38;5;241m!=\u001b[39m \u001b[38;5;28mlen\u001b[39m(index):\n\u001b[0;32m--> 561\u001b[0m     \u001b[38;5;28;01mraise\u001b[39;00m \u001b[38;5;167;01mValueError\u001b[39;00m(\n\u001b[1;32m    562\u001b[0m         \u001b[38;5;124m\"\u001b[39m\u001b[38;5;124mLength of values \u001b[39m\u001b[38;5;124m\"\u001b[39m\n\u001b[1;32m    563\u001b[0m         \u001b[38;5;124mf\u001b[39m\u001b[38;5;124m\"\u001b[39m\u001b[38;5;124m(\u001b[39m\u001b[38;5;132;01m{\u001b[39;00m\u001b[38;5;28mlen\u001b[39m(data)\u001b[38;5;132;01m}\u001b[39;00m\u001b[38;5;124m) \u001b[39m\u001b[38;5;124m\"\u001b[39m\n\u001b[1;32m    564\u001b[0m         \u001b[38;5;124m\"\u001b[39m\u001b[38;5;124mdoes not match length of index \u001b[39m\u001b[38;5;124m\"\u001b[39m\n\u001b[1;32m    565\u001b[0m         \u001b[38;5;124mf\u001b[39m\u001b[38;5;124m\"\u001b[39m\u001b[38;5;124m(\u001b[39m\u001b[38;5;132;01m{\u001b[39;00m\u001b[38;5;28mlen\u001b[39m(index)\u001b[38;5;132;01m}\u001b[39;00m\u001b[38;5;124m)\u001b[39m\u001b[38;5;124m\"\u001b[39m\n\u001b[1;32m    566\u001b[0m     )\n",
      "\u001b[0;31mValueError\u001b[0m: Length of values (1) does not match length of index (14)"
     ]
    }
   ],
   "source": [
    "#emp 에 있는 sal을 sal02라는 컬럼을 생성해서 추가하자\n",
    "emp = pd.read_csv('../DB_work/csv/emp.csv')\n",
    "emp['sal02'] = ['sal']\n",
    "    \n"
   ]
  },
  {
   "cell_type": "code",
   "execution_count": 71,
   "id": "5c13199a",
   "metadata": {},
   "outputs": [
    {
     "name": "stdout",
     "output_type": "stream",
     "text": [
      "     ename       loc\n",
      "0    SMITH    DALLAS\n",
      "1    JONES    DALLAS\n",
      "2    SCOTT    DALLAS\n",
      "3    ADAMS    DALLAS\n",
      "4     FORD    DALLAS\n",
      "5    ALLEN   CHICAGO\n",
      "6     WARD   CHICAGO\n",
      "7   MARTIN   CHICAGO\n",
      "8    BLAKE   CHICAGO\n",
      "9   TURNER   CHICAGO\n",
      "10   JAMES   CHICAGO\n",
      "11   CLARK  NEW YORK\n",
      "12    KING  NEW YORK\n",
      "13  MILLER  NEW YORK\n"
     ]
    }
   ],
   "source": [
    "#Q11) 이름과 부서 위치를 출력 해보자.\n",
    "emp = pd.read_csv('../DB_work/csv/emp.csv')\n",
    "dept = pd.read_csv('../DB_work/csv/dept.csv')\n",
    "\n",
    "result = pd.merge(emp, dept, how='inner', on='deptno')\n",
    "print(result[['ename','loc']])"
   ]
  },
  {
   "cell_type": "code",
   "execution_count": null,
   "id": "5c8d3ce5",
   "metadata": {},
   "outputs": [],
   "source": []
  },
  {
   "cell_type": "code",
   "execution_count": null,
   "id": "525bfecf",
   "metadata": {},
   "outputs": [],
   "source": []
  },
  {
   "cell_type": "code",
   "execution_count": null,
   "id": "cfe58dce",
   "metadata": {},
   "outputs": [],
   "source": []
  },
  {
   "cell_type": "code",
   "execution_count": null,
   "id": "b20c6749",
   "metadata": {},
   "outputs": [],
   "source": []
  },
  {
   "cell_type": "code",
   "execution_count": null,
   "id": "f90f153d",
   "metadata": {},
   "outputs": [],
   "source": []
  },
  {
   "cell_type": "code",
   "execution_count": null,
   "id": "bd299aab",
   "metadata": {},
   "outputs": [],
   "source": []
  }
 ],
 "metadata": {
  "kernelspec": {
   "display_name": "Python 3 (ipykernel)",
   "language": "python",
   "name": "python3"
  },
  "language_info": {
   "codemirror_mode": {
    "name": "ipython",
    "version": 3
   },
   "file_extension": ".py",
   "mimetype": "text/x-python",
   "name": "python",
   "nbconvert_exporter": "python",
   "pygments_lexer": "ipython3",
   "version": "3.9.2"
  }
 },
 "nbformat": 4,
 "nbformat_minor": 5
}
