{
 "cells": [
  {
   "cell_type": "markdown",
   "id": "7cdb5740",
   "metadata": {},
   "source": [
    "### 파이썬 리스트\n",
    ": 가변형, 시퀸스 (str, list, tuple) = [+, *, 중첩, 슬라이싱, 인덱싱], []\n",
    "\n",
    "### numpy = 수식 라이브러리, 수치연산, 배열객체\n",
    "-- 동작 속도가 빠르다. / 연속적인 메모리 / 한가지 타입만 처리가능.\n"
   ]
  },
  {
   "cell_type": "code",
   "execution_count": null,
   "id": "28c24658",
   "metadata": {},
   "outputs": [],
   "source": [
    "np.array 로 객체생성\n",
    "np.arange로 객체생성"
   ]
  },
  {
   "cell_type": "code",
   "execution_count": 3,
   "id": "3c2e5996",
   "metadata": {},
   "outputs": [],
   "source": [
    "# ndarray(shape[, dtype, buffer, offset, ...])\n",
    "import numpy as np"
   ]
  },
  {
   "cell_type": "code",
   "execution_count": 121,
   "id": "7d753752",
   "metadata": {},
   "outputs": [],
   "source": [
    "a = np.array([0,1,2.0,3.0,4.0,5]) # => ndarray"
   ]
  },
  {
   "cell_type": "code",
   "execution_count": 122,
   "id": "83dd2741",
   "metadata": {},
   "outputs": [
    {
     "name": "stdout",
     "output_type": "stream",
     "text": [
      "[0. 1. 2. 3. 4. 5.]\n",
      "<class 'numpy.ndarray'>\n",
      "float64\n"
     ]
    }
   ],
   "source": [
    "print(a)\n",
    "print(type(a))\n",
    "print(a.dtype)"
   ]
  },
  {
   "cell_type": "code",
   "execution_count": 12,
   "id": "033eb361",
   "metadata": {},
   "outputs": [
    {
     "name": "stdout",
     "output_type": "stream",
     "text": [
      "[0. 1. 3. 4. 5.]\n",
      "<class 'numpy.ndarray'>\n",
      "float64\n"
     ]
    }
   ],
   "source": [
    "a = np.array([0.0,1.0,3,4,5])\n",
    "print(a)\n",
    "print(type(a))\n",
    "print(a.dtype) # a 객체가 가진 데이터 타입.  0,1 = bit *8 = 1byte = 주소가 생성\n",
    "\n",
    "# 주소 생성 -> 메모리 할당, 값 대입\n",
    "수형 short(2) ->int32(4) -> int64(8) -> long(8~16)dule\n",
    "# 실수형 =floot(4) -> 'floot32', 'f4' -> fooly(8)  double(8)\n",
    "# 문자와 문자열 -> str\n",
    "\n",
    "#EX) int32 = 정수형 32=bit, 'i4' = 정수형 4byte\n",
    "#    flooat64 = f8 = 실수형 64bit = 실수형 8byte\n"
   ]
  },
  {
   "cell_type": "code",
   "execution_count": 123,
   "id": "20b04f83",
   "metadata": {},
   "outputs": [
    {
     "name": "stdout",
     "output_type": "stream",
     "text": [
      "[0 1 2 3 4 5 6 7 8 9]\n",
      "<class 'numpy.ndarray'>\n"
     ]
    }
   ],
   "source": [
    "a = np.arange(10)\n",
    "print(a)                #구분하기가 쉽지 않는다.        \n",
    "print(type(a))"
   ]
  },
  {
   "cell_type": "code",
   "execution_count": null,
   "id": "0f005fb6",
   "metadata": {},
   "outputs": [],
   "source": [
    "####3) naaaray(shape[ , dtype, buffer, offset, ...]) / shape\n",
    "3-1 : 차원 (Rank, Dimension)을 []로 갯수를 늘린다. [[[a]]] = 3차원, [[b]] = 2차원\n",
    "    아벨 4차원이상 -> 컴\n",
    "    \n",
    "    대상 -> 특징추출(x_독립변수, y_종속변수) -> 도메인 -> 설명(통계_R) -> 예측(ML) \n",
    "    -> ML + AI = DL (CNN, 이미지 영상)\n",
    "    \n",
    "3-2 : 차원의 종류 \n",
    "    1차원 : shape(x,)\n",
    "    2차원 : shape(x,y), 행열(matrmix)\n",
    "    3차원 : (x,y,z), (행,열,면) --> (면,행,열)\n",
    "    n차원 : (x,y,z,,,,,,,)"
   ]
  },
  {
   "cell_type": "code",
   "execution_count": 22,
   "id": "3214f99a",
   "metadata": {},
   "outputs": [
    {
     "name": "stdout",
     "output_type": "stream",
     "text": [
      "[ 0  1  2  3  4  5  6  7  8  9 10 11]\n",
      "(12,)\n",
      "<class 'tuple'>\n",
      "12\n"
     ]
    }
   ],
   "source": [
    "#1차원 shape(x,)\n",
    "a = np.arange(12)\n",
    "print(a)\n",
    "print(a.shape) # (12,) -> 1차원\n",
    "t = a.shape\n",
    "print(type(t))\n",
    "print((a.shape)[0])"
   ]
  },
  {
   "cell_type": "code",
   "execution_count": 24,
   "id": "2120c703",
   "metadata": {},
   "outputs": [
    {
     "name": "stdout",
     "output_type": "stream",
     "text": [
      "[[0 1 2]\n",
      " [0 1 2]]\n",
      "(2, 3)\n",
      "2 3\n"
     ]
    }
   ],
   "source": [
    "# 2차원 배열의 Shape : 행(row, 수직(이미지연산),axis = 0)과 열(colimn, 수평(이미지연산), axis = 1)\n",
    "m = np.array([[0,1,2],\n",
    "              [0,1,2]])\n",
    "\n",
    "print(m)\n",
    "print(m.shape) #(2,3) --> 2차원, 행렬(matrix)\n",
    "print(m.shape[0], m.shape[1])"
   ]
  },
  {
   "cell_type": "code",
   "execution_count": null,
   "id": "311920a5",
   "metadata": {},
   "outputs": [],
   "source": []
  },
  {
   "cell_type": "markdown",
   "id": "393bde27",
   "metadata": {},
   "source": [
    "4) 배열과 슬라이싱 _reshape()"
   ]
  },
  {
   "cell_type": "code",
   "execution_count": 144,
   "id": "6f471451",
   "metadata": {},
   "outputs": [
    {
     "name": "stdout",
     "output_type": "stream",
     "text": [
      "[[ 0  1  2  3]\n",
      " [ 4  5  6  7]\n",
      " [ 8  9 10 11]]\n",
      "(3, 4)\n"
     ]
    }
   ],
   "source": [
    "# 2차원 배열 인덱싱 슬라이싱\n",
    "a = np.arange(12).reshape(3,4)\n",
    "print(a)\n",
    "print(a.shape)"
   ]
  },
  {
   "cell_type": "code",
   "execution_count": 30,
   "id": "69abf053",
   "metadata": {},
   "outputs": [
    {
     "name": "stdout",
     "output_type": "stream",
     "text": [
      "0\n",
      "0\n",
      "9\n",
      "11\n"
     ]
    }
   ],
   "source": [
    "# a 가진 값 0, 0, 9,를 리턴해보자 = 인덱싱\n",
    "print(a[0][0])\n",
    "print(a[0,0])\n",
    "print(a[2][1])\n",
    "print(a[2,3])"
   ]
  },
  {
   "cell_type": "code",
   "execution_count": 138,
   "id": "c6af3dcc",
   "metadata": {},
   "outputs": [
    {
     "name": "stdout",
     "output_type": "stream",
     "text": [
      "[[ 0  1  2  3]\n",
      " [ 4  5  6  7]\n",
      " [ 8  9 10 11]]\n",
      "------------------\n",
      "[0 1 2 3]\n",
      "[0 1 2 3]\n",
      "------------------\n",
      "[[ 0  1  2]\n",
      " [ 4  5  6]\n",
      " [ 8  9 10]]\n",
      "[[ 1  2  3]\n",
      " [ 5  6  7]\n",
      " [ 9 10 11]]\n",
      "------------------\n",
      "슬라이싱으로 전체 출력 형식을 만들자\n",
      "[[ 0  1  2]\n",
      " [ 4  5  6]\n",
      " [ 8  9 10]]\n",
      "[[0 1 2 3]]\n"
     ]
    }
   ],
   "source": [
    "# a 가진 슬라이싱\n",
    "print(a)\n",
    "print(\"------------------\")\n",
    "print(a[0])\n",
    "print(a[0, :]) #[행, 열]\n",
    "print(\"------------------\")\n",
    "print(a[:,:-1]) # 마지막 열 제외\n",
    "print(a[:,1:]) # 첫번째 열을 제외\n",
    "print(\"------------------\")\n",
    "print('슬라이싱으로 전체 출력 형식을 만들자')\n"
   ]
  },
  {
   "cell_type": "code",
   "execution_count": 34,
   "id": "94540bf2",
   "metadata": {},
   "outputs": [],
   "source": [
    "# Q) 행의 모든 데이터를 20으로 변경 후 전체 출력 해보자."
   ]
  },
  {
   "cell_type": "code",
   "execution_count": 36,
   "id": "f1d32f90",
   "metadata": {},
   "outputs": [
    {
     "name": "stdout",
     "output_type": "stream",
     "text": [
      "[[20 20 20 20]\n",
      " [ 4  5  6  7]\n",
      " [ 8  9 10 11]]\n",
      "[[20 20]\n",
      " [ 8 10]]\n"
     ]
    }
   ],
   "source": [
    "a[0] = 20\n",
    "print(a[:,:])\n",
    "print(a[::2,::2]) #** p[start : end-1 : step]"
   ]
  },
  {
   "cell_type": "code",
   "execution_count": 146,
   "id": "28729857",
   "metadata": {},
   "outputs": [
    {
     "name": "stdout",
     "output_type": "stream",
     "text": [
      "[[ 0  1  2  0]\n",
      " [ 4  5  6  7]\n",
      " [ 0  9 10  0]]\n",
      "-------------\n",
      "[[0 0]\n",
      " [0 0]]\n",
      "-------------\n",
      "[[ 0  1  2  0]\n",
      " [ 4  5  6  7]\n",
      " [ 0  9 10  0]]\n",
      "-------------\n",
      "[[-1 -1 -1 -1]\n",
      " [-1 -1 -1 -1]\n",
      " [-1 -1 -1 -1]]\n"
     ]
    }
   ],
   "source": [
    "# 슬라이싱 요소 전체의 값을 변경해보자.\n",
    "print(a[:,:])\n",
    "print(\"-------------\")\n",
    "print(a[::2,::3])\n",
    "print(\"-------------\")\n",
    "a[::2,::3] = 0\n",
    "print(a[:,:])\n",
    "print(\"-------------\")\n",
    "a[:,:] = -1\n",
    "print(a[:,:])"
   ]
  },
  {
   "cell_type": "code",
   "execution_count": 147,
   "id": "6201f1ca",
   "metadata": {},
   "outputs": [
    {
     "name": "stdout",
     "output_type": "stream",
     "text": [
      "[[[ 0  1  2]\n",
      "  [ 3  4  5]]\n",
      "\n",
      " [[ 6  7  8]\n",
      "  [ 9 10 11]]] (2, 2, 3)\n"
     ]
    }
   ],
   "source": [
    "# 3차원 배열 인덱싱 슬라이싱\n",
    "a = np.arange(12).reshape(2,2,3)\n",
    "print(a,a.shape)"
   ]
  },
  {
   "cell_type": "code",
   "execution_count": 51,
   "id": "178c2cec",
   "metadata": {},
   "outputs": [
    {
     "name": "stdout",
     "output_type": "stream",
     "text": [
      "0\n",
      "0\n",
      "5\n"
     ]
    }
   ],
   "source": [
    "# 인덱싱\n",
    "print(a[0][0][0])\n",
    "print(a[0,0,0])\n",
    "print(a[0,1,2]) # 5"
   ]
  },
  {
   "cell_type": "code",
   "execution_count": 156,
   "id": "0f273c40",
   "metadata": {},
   "outputs": [
    {
     "name": "stdout",
     "output_type": "stream",
     "text": [
      "[[[ 0  1  2]\n",
      "  [ 3  4  5]]\n",
      "\n",
      " [[ 6  7  8]\n",
      "  [ 9 10 11]]]\n",
      "-------------\n",
      "[[[ 4  5]]\n",
      "\n",
      " [[10 11]]]\n"
     ]
    }
   ],
   "source": [
    "# 슬라이싱\n",
    "print(a[:,:,:]) # 전체출력\n",
    "print(\"-------------\")\n",
    "print(a[:,1:,1:])"
   ]
  },
  {
   "cell_type": "code",
   "execution_count": 159,
   "id": "425c164b",
   "metadata": {},
   "outputs": [
    {
     "name": "stdout",
     "output_type": "stream",
     "text": [
      "[[[6 7]]]\n",
      "[[[4 5]]]\n",
      "-------------\n",
      "[6 7]\n",
      "[4 5]\n"
     ]
    }
   ],
   "source": [
    "#[6,7]\n",
    "#[4,5] 출력\n",
    "\n",
    "#case 1 : 3차원\n",
    "print(a[1:,:1,:2])\n",
    "print(a[:-1,1:,1:])\n",
    "print(\"-------------\")\n",
    "\n",
    "#case 2 : 1차원\n",
    "print(a[1,0,:2])\n",
    "print(a[0,1,1:])"
   ]
  },
  {
   "cell_type": "markdown",
   "id": "4a96cdf3",
   "metadata": {},
   "source": [
    "5) 블린인덱싱 : 조건식을 이용한 인덱싱, 조건 검색 필터를 사용한 추출값 (중요!!)"
   ]
  },
  {
   "cell_type": "code",
   "execution_count": 107,
   "id": "ea8fe62c",
   "metadata": {},
   "outputs": [
    {
     "name": "stdout",
     "output_type": "stream",
     "text": [
      "[1 2 3 4 5 6]\n"
     ]
    }
   ],
   "source": [
    "a = np.array([1,2,3,4,5,6])\n",
    "print(a)"
   ]
  },
  {
   "cell_type": "code",
   "execution_count": 87,
   "id": "cdfd0882",
   "metadata": {},
   "outputs": [
    {
     "name": "stdout",
     "output_type": "stream",
     "text": [
      "[False False  True  True  True  True]\n",
      "[3 4 5 6]\n"
     ]
    }
   ],
   "source": [
    "print(a>2)\n",
    "# 배열의 객체 a에서 2보다 큰 값을 배열로 리턴\n",
    "print(a[a>2]) # -> 이미지 -> 빨간사과 -> 이상값(노이즈) 추출 해서 변경하고 싶다."
   ]
  },
  {
   "cell_type": "code",
   "execution_count": 108,
   "id": "0e7c16d4",
   "metadata": {},
   "outputs": [
    {
     "name": "stdout",
     "output_type": "stream",
     "text": [
      "[3 4 5 6]\n"
     ]
    }
   ],
   "source": [
    "bool_index = np.array([False, False, True, True, True, True])\n",
    "print(a[bool_index])"
   ]
  },
  {
   "cell_type": "code",
   "execution_count": 100,
   "id": "3b0414c9",
   "metadata": {},
   "outputs": [
    {
     "name": "stdout",
     "output_type": "stream",
     "text": [
      "[1 2 4 5 6]\n",
      "[3 4 5]\n",
      "[2 4 6]\n",
      "[1 2 3] 3.5\n"
     ]
    }
   ],
   "source": [
    "#배열 a에서 3이 아닌 요소를 추출\n",
    "#2보다 크고 6보다 작은 요소를 추출\n",
    "#짝수만 추출\n",
    "#평균보다 작은 값을 추출해보자.\n",
    "a = np.array([1,2,3,4,5,6])\n",
    "print(a[a!=3])\n",
    "print(a[(a>2) & (a<6)])\n",
    "print(a[a%2 == 0])\n",
    "print(a[a< a.mean()], a.mean())"
   ]
  },
  {
   "cell_type": "code",
   "execution_count": null,
   "id": "109ed7d9",
   "metadata": {},
   "outputs": [],
   "source": [
    "# 6) 배열의 형상 다루기 : reshape(), flatten()(편평화),transpose()(전치) "
   ]
  },
  {
   "cell_type": "code",
   "execution_count": 2,
   "id": "20e0f595",
   "metadata": {},
   "outputs": [
    {
     "ename": "NameError",
     "evalue": "name 'np' is not defined",
     "output_type": "error",
     "traceback": [
      "\u001b[0;31m---------------------------------------------------------------------------\u001b[0m",
      "\u001b[0;31mNameError\u001b[0m                                 Traceback (most recent call last)",
      "Cell \u001b[0;32mIn[2], line 2\u001b[0m\n\u001b[1;32m      1\u001b[0m \u001b[38;5;66;03m# flatten() : 다차원 배열을 1차원 배열로 만든다.\u001b[39;00m\n\u001b[0;32m----> 2\u001b[0m a \u001b[38;5;241m=\u001b[39m \u001b[43mnp\u001b[49m\u001b[38;5;241m.\u001b[39marange(\u001b[38;5;241m12\u001b[39m)\u001b[38;5;241m.\u001b[39mreshape(\u001b[38;5;241m3\u001b[39m,\u001b[38;5;241m4\u001b[39m)\n\u001b[1;32m      3\u001b[0m \u001b[38;5;28mprint\u001b[39m(a,a\u001b[38;5;241m.\u001b[39mshape)\n\u001b[1;32m      5\u001b[0m f \u001b[38;5;241m=\u001b[39m a\u001b[38;5;241m.\u001b[39mflatten()          \u001b[38;5;66;03m# (3,4) ------> (12,)\u001b[39;00m\n",
      "\u001b[0;31mNameError\u001b[0m: name 'np' is not defined"
     ]
    }
   ],
   "source": [
    "# flatten() : 다차원 배열을 1차원 배열로 만든다.\n",
    "a = np.arange(12).reshape(3,4)\n",
    "print(a,a.shape)\n",
    "\n",
    "f = a.flatten()          # (3,4) ------> (12,)\n",
    "print(f,f.shape)"
   ]
  },
  {
   "cell_type": "code",
   "execution_count": 118,
   "id": "a279fc5b",
   "metadata": {},
   "outputs": [
    {
     "name": "stdout",
     "output_type": "stream",
     "text": [
      "[[ 8  9 10 11]\n",
      " [ 4  5  6  7]\n",
      " [ 0  1  2  3]]\n",
      "[[ 3  2  1  0]\n",
      " [ 7  6  5  4]\n",
      " [11 10  9  8]]\n",
      "[[11 10  9  8]\n",
      " [ 7  6  5  4]\n",
      " [ 3  2  1  0]]\n",
      "--------------------\n"
     ]
    }
   ],
   "source": [
    "# 데이터 순서를 거꾸로 변경\n",
    "print(a[::-1])\n",
    "print(a[:,::-1])\n",
    "print(a[::-1,::-1])\n",
    "print('-'*20)"
   ]
  },
  {
   "cell_type": "code",
   "execution_count": 162,
   "id": "7056682e",
   "metadata": {},
   "outputs": [
    {
     "name": "stdout",
     "output_type": "stream",
     "text": [
      "[[ 0  4  8]\n",
      " [ 1  5  9]\n",
      " [ 2  6 10]\n",
      " [ 3  7 11]] (4, 3)\n",
      "[[ 0  4  8]\n",
      " [ 1  5  9]\n",
      " [ 2  6 10]\n",
      " [ 3  7 11]]\n"
     ]
    }
   ],
   "source": [
    "# transpose() : 전치행렬, 행과 열을 서로 맞바꾸는 함수\n",
    "t = a.transpose()\n",
    "print(t,t.shape)      #(3,4) ----> (4,3)\n",
    "print(a.T)            # transpose()함수와 동일한 결과"
   ]
  },
  {
   "cell_type": "code",
   "execution_count": 113,
   "id": "50ca4403",
   "metadata": {},
   "outputs": [
    {
     "name": "stdout",
     "output_type": "stream",
     "text": [
      "[[255 255 255 255]\n",
      " [255 255 255 255]\n",
      " [255 255 255 255]]\n"
     ]
    }
   ],
   "source": [
    "#### print(dir(a.T))\n",
    "a.flat = 255\n",
    "print(a)"
   ]
  },
  {
   "cell_type": "raw",
   "id": "261feb86",
   "metadata": {},
   "source": [
    "6) numpy 의 속성(Attribute) : 멤버변수, 메서드\n",
    "    dtype, shape, ndim, flat, T, size, nbytes"
   ]
  },
  {
   "cell_type": "code",
   "execution_count": 4,
   "id": "ea524ce5",
   "metadata": {},
   "outputs": [
    {
     "name": "stdout",
     "output_type": "stream",
     "text": [
      "[[ 0  1  2  3]\n",
      " [ 4  5  6  7]\n",
      " [ 8  9 10 11]] (3, 4)\n",
      "int64\n",
      "2\n",
      "[[ 0  4  8]\n",
      " [ 1  5  9]\n",
      " [ 2  6 10]\n",
      " [ 3  7 11]]\n",
      "12\n",
      "96\n",
      "[[1 1 1 1]\n",
      " [1 1 1 1]\n",
      " [1 1 1 1]]\n"
     ]
    }
   ],
   "source": [
    "d = np.arange(12).reshape(3,4)\n",
    "print(d,d.shape)\n",
    "print(d.dtype)  # int32 or int64\n",
    "print(d.ndim)   # 2차원  ==> print(len(d.shape)) 와 동일\n",
    "print(d.T)      # transpose()함수와 동일한 결과, 전치행렬\n",
    "print(d.size)   # 12개 , 요소의 갯수\n",
    "print(d.nbytes) # 48 bytes : 32bit(4 byte) * 12 \n",
    "d.flat = 1\n",
    "print(d)"
   ]
  },
  {
   "cell_type": "code",
   "execution_count": 10,
   "id": "29f6b725",
   "metadata": {},
   "outputs": [
    {
     "name": "stdout",
     "output_type": "stream",
     "text": [
      "[[ 0  1  2  3]\n",
      " [ 4  5  6  7]\n",
      " [ 8  9 10 11]] (3, 4)\n",
      "11 11\n",
      "0 0\n",
      "66\n",
      "5.5\n",
      "3.452052529534663\n",
      "11.916666666666666\n",
      "5.5\n",
      "25% 2.75\n",
      "50% 5.5\n",
      "75% 8.25\n"
     ]
    }
   ],
   "source": [
    "#numpy 통계 함수들\n",
    "a = np.arange(12).reshape(3,4)\n",
    "print(a,a.shape)\n",
    "\n",
    "print(a.max(),np.max(a))  #최대값\n",
    "print(a.min(),np.min(a))  #최소값\n",
    "\n",
    "print(a.sum())  # 합\n",
    "print(a.mean())   # 평균\n",
    "\n",
    "print(a.std())  #표준편차\n",
    "print(a.var())  #분산\n",
    "print(np.median(a))  #중위수\n",
    "\n",
    "#사분위수\n",
    "print('25%',np.percentile(a,25)) # 1사분위수(Q1)\n",
    "print('50%',np.percentile(a,50)) # 2사분위수(Q2) median(a) 와 같은 값\n",
    "print('75%',np.percentile(a,75)) # 3사분위수(Q3)"
   ]
  },
  {
   "cell_type": "code",
   "execution_count": null,
   "id": "853dd312",
   "metadata": {},
   "outputs": [],
   "source": []
  }
 ],
 "metadata": {
  "kernelspec": {
   "display_name": "Python 3 (ipykernel)",
   "language": "python",
   "name": "python3"
  },
  "language_info": {
   "codemirror_mode": {
    "name": "ipython",
    "version": 3
   },
   "file_extension": ".py",
   "mimetype": "text/x-python",
   "name": "python",
   "nbconvert_exporter": "python",
   "pygments_lexer": "ipython3",
   "version": "3.9.2"
  }
 },
 "nbformat": 4,
 "nbformat_minor": 5
}
