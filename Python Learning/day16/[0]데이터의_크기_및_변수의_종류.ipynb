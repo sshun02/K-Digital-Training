{
 "cells": [
  {
   "cell_type": "markdown",
   "metadata": {
    "id": "Q0Q9rRl2wKx9"
   },
   "source": [
    "### 데이터\n",
    "\n",
    "\n",
    "#### 정의\n",
    "    - 가치판단의 근거가 될 수 있는 것\n",
    "    - 현실 세계로부터의 단순한 관찰이나 측정을 통해 수집된 사실이나 값\n",
    "    - 대상물 또는 상황\n",
    "    - 원자료(raw data) : 가공되지 않은 상태\n",
    "    - 분석의 원자재\n"
   ]
  },
  {
   "cell_type": "markdown",
   "metadata": {
    "id": "8nK2i5OQwKx_"
   },
   "source": [
    "# 데이터 분석"
   ]
  },
  {
   "cell_type": "markdown",
   "metadata": {
    "id": "mm2M0jciwKyA"
   },
   "source": [
    "### 데이터 분석의 목적\n",
    "- 변수속에서 관측치 간의 차이를 확인\n",
    "- 변수간의 관계를 확인 < 독립변수(X), 종속변수(Y) >\n",
    "- 차이와 관계를 확인하고 설명 < 상관관계, 상관계수 >"
   ]
  },
  {
   "cell_type": "markdown",
   "metadata": {},
   "source": [
    "<< 통계 관점에서의 분석 >>\n",
    "\n",
    "M1 = 통계관점으로 분석 -> 설명 + 예측"
   ]
  },
  {
   "cell_type": "markdown",
   "metadata": {
    "id": "VwiEBPEOwKyA"
   },
   "source": [
    "### 관측치 간의 차이 확인\n",
    "- 숫자와 그래프로 차이를 확인\n",
    "- 모형으로 차이를 설명"
   ]
  },
  {
   "cell_type": "markdown",
   "metadata": {
    "id": "IHi_Cqb9wKyA"
   },
   "source": []
  },
  {
   "cell_type": "markdown",
   "metadata": {
    "id": "nKOz8ssGwKyA"
   },
   "source": [
    "### 빈도표\n",
    "- 빈도표\n",
    "    - 범주형 변수의 수준별 관측치 수를 정리한 표\n",
    "    - 수준간 절대적인 차이를 확인\n",
    "- 상대빈도\n",
    "    - 빈도표에서 각 수준의 비율을 계산\n",
    "    - 수준간 상대적인 차이를 확인\n",
    "    \n",
    " "
   ]
  },
  {
   "cell_type": "code",
   "execution_count": 1,
   "metadata": {
    "id": "Sjg_msBuwKyB"
   },
   "outputs": [],
   "source": [
    "import pandas as pd\n",
    "import numpy as np\n",
    "import matplotlib.pyplot as plt\n",
    "\n",
    "%precision 3\n",
    "%matplotlib inline"
   ]
  },
  {
   "cell_type": "code",
   "execution_count": 8,
   "metadata": {},
   "outputs": [],
   "source": [
    "plt.rc('font', family='Apple SD Gothic Neo')"
   ]
  },
  {
   "cell_type": "code",
   "execution_count": 2,
   "metadata": {
    "id": "r3vjky_DwKyB"
   },
   "outputs": [],
   "source": [
    "import warnings\n",
    "warnings.filterwarnings(action='ignore')"
   ]
  },
  {
   "cell_type": "code",
   "execution_count": 3,
   "metadata": {
    "id": "ImGGVc5SwKyB"
   },
   "outputs": [],
   "source": [
    "from IPython.core.interactiveshell import InteractiveShell\n",
    "InteractiveShell.ast_node_interactivity=\"all\""
   ]
  },
  {
   "cell_type": "code",
   "execution_count": 4,
   "metadata": {
    "id": "xSnelyBrwKyB",
    "outputId": "e9e9aa49-b855-48a3-e6a5-92a1529ce6d4"
   },
   "outputs": [
    {
     "data": {
      "text/html": [
       "<div>\n",
       "<style scoped>\n",
       "    .dataframe tbody tr th:only-of-type {\n",
       "        vertical-align: middle;\n",
       "    }\n",
       "\n",
       "    .dataframe tbody tr th {\n",
       "        vertical-align: top;\n",
       "    }\n",
       "\n",
       "    .dataframe thead th {\n",
       "        text-align: right;\n",
       "    }\n",
       "</style>\n",
       "<table border=\"1\" class=\"dataframe\">\n",
       "  <thead>\n",
       "    <tr style=\"text-align: right;\">\n",
       "      <th></th>\n",
       "      <th>고객번호</th>\n",
       "      <th>성별</th>\n",
       "    </tr>\n",
       "  </thead>\n",
       "  <tbody>\n",
       "    <tr>\n",
       "      <th>0</th>\n",
       "      <td>1</td>\n",
       "      <td>남</td>\n",
       "    </tr>\n",
       "    <tr>\n",
       "      <th>1</th>\n",
       "      <td>2</td>\n",
       "      <td>여</td>\n",
       "    </tr>\n",
       "    <tr>\n",
       "      <th>2</th>\n",
       "      <td>3</td>\n",
       "      <td>여</td>\n",
       "    </tr>\n",
       "    <tr>\n",
       "      <th>3</th>\n",
       "      <td>4</td>\n",
       "      <td>여</td>\n",
       "    </tr>\n",
       "    <tr>\n",
       "      <th>4</th>\n",
       "      <td>5</td>\n",
       "      <td>남</td>\n",
       "    </tr>\n",
       "    <tr>\n",
       "      <th>5</th>\n",
       "      <td>6</td>\n",
       "      <td>남</td>\n",
       "    </tr>\n",
       "    <tr>\n",
       "      <th>6</th>\n",
       "      <td>7</td>\n",
       "      <td>여</td>\n",
       "    </tr>\n",
       "    <tr>\n",
       "      <th>7</th>\n",
       "      <td>8</td>\n",
       "      <td>여</td>\n",
       "    </tr>\n",
       "    <tr>\n",
       "      <th>8</th>\n",
       "      <td>9</td>\n",
       "      <td>남</td>\n",
       "    </tr>\n",
       "    <tr>\n",
       "      <th>9</th>\n",
       "      <td>10</td>\n",
       "      <td>여</td>\n",
       "    </tr>\n",
       "  </tbody>\n",
       "</table>\n",
       "</div>"
      ],
      "text/plain": [
       "   고객번호 성별\n",
       "0     1  남\n",
       "1     2  여\n",
       "2     3  여\n",
       "3     4  여\n",
       "4     5  남\n",
       "5     6  남\n",
       "6     7  여\n",
       "7     8  여\n",
       "8     9  남\n",
       "9    10  여"
      ]
     },
     "execution_count": 4,
     "metadata": {},
     "output_type": "execute_result"
    }
   ],
   "source": [
    "# 빈도표 생성\n",
    "gender = pd.DataFrame({'고객번호': [1,2,3,4,5,6,7,8,9,10],\n",
    "                       '성별' : ['남','여','여','여','남','남','여','여','남','여']},\n",
    "                     columns=['고객번호','성별'])\n",
    "gender"
   ]
  },
  {
   "cell_type": "code",
   "execution_count": 5,
   "metadata": {
    "id": "Qb25TsGFwKyC"
   },
   "outputs": [],
   "source": [
    "# 범주형 변수 성별에 대한 빈도표\n",
    "gender_t = gender.groupby('성별')[['성별']].count()"
   ]
  },
  {
   "cell_type": "code",
   "execution_count": 6,
   "metadata": {
    "id": "cPo4fLL6wKyC",
    "outputId": "7a6e2763-db7a-4344-8204-e988ca59a659"
   },
   "outputs": [
    {
     "data": {
      "text/html": [
       "<div>\n",
       "<style scoped>\n",
       "    .dataframe tbody tr th:only-of-type {\n",
       "        vertical-align: middle;\n",
       "    }\n",
       "\n",
       "    .dataframe tbody tr th {\n",
       "        vertical-align: top;\n",
       "    }\n",
       "\n",
       "    .dataframe thead th {\n",
       "        text-align: right;\n",
       "    }\n",
       "</style>\n",
       "<table border=\"1\" class=\"dataframe\">\n",
       "  <thead>\n",
       "    <tr style=\"text-align: right;\">\n",
       "      <th></th>\n",
       "      <th>성별</th>\n",
       "    </tr>\n",
       "    <tr>\n",
       "      <th>성별</th>\n",
       "      <th></th>\n",
       "    </tr>\n",
       "  </thead>\n",
       "  <tbody>\n",
       "    <tr>\n",
       "      <th>남</th>\n",
       "      <td>4</td>\n",
       "    </tr>\n",
       "    <tr>\n",
       "      <th>여</th>\n",
       "      <td>6</td>\n",
       "    </tr>\n",
       "  </tbody>\n",
       "</table>\n",
       "</div>"
      ],
      "text/plain": [
       "    성별\n",
       "성별    \n",
       "남    4\n",
       "여    6"
      ]
     },
     "execution_count": 6,
     "metadata": {},
     "output_type": "execute_result"
    },
    {
     "data": {
      "text/plain": [
       "고객번호  성별\n",
       "1     남     1\n",
       "2     여     1\n",
       "3     여     1\n",
       "4     여     1\n",
       "5     남     1\n",
       "6     남     1\n",
       "7     여     1\n",
       "8     여     1\n",
       "9     남     1\n",
       "10    여     1\n",
       "dtype: int64"
      ]
     },
     "execution_count": 6,
     "metadata": {},
     "output_type": "execute_result"
    }
   ],
   "source": [
    "# 빈도표\n",
    "gender_t\n",
    "gender.value_counts()"
   ]
  },
  {
   "cell_type": "markdown",
   "metadata": {
    "id": "0HAZkryiwKyC"
   },
   "source": [
    "**범주형 변수의 차이 확인(시각화)**\n",
    "- 막대그래프\n",
    "    - 빈도표를 활용하여 각 수준을 높이로 표현\n",
    "    - 절대적인 차이를 확인한다\n",
    "\n",
    "- 원 그래프\n",
    "    - 계산된 상대빈도를 활용하여 원을 분할\n",
    "    - 상대적인 차이를 확인"
   ]
  },
  {
   "cell_type": "code",
   "execution_count": 9,
   "metadata": {
    "id": "1q2TcBCSwKyC",
    "outputId": "71016628-130d-46d6-e632-f4f3eae4918d"
   },
   "outputs": [
    {
     "data": {
      "text/plain": [
       "<AxesSubplot: xlabel='성별'>"
      ]
     },
     "execution_count": 9,
     "metadata": {},
     "output_type": "execute_result"
    },
    {
     "data": {
      "image/png": "[encoded data removed]",
      "text/plain": [
       "<Figure size 640x480 with 1 Axes>"
      ]
     },
     "metadata": {},
     "output_type": "display_data"
    }
   ],
   "source": [
    "gender_t.plot(kind='bar')"
   ]
  },
  {
   "cell_type": "code",
   "execution_count": 10,
   "metadata": {
    "id": "_06VAV_IwKyC",
    "outputId": "3ddb29fd-f69b-4f61-da14-1586653b4d5e"
   },
   "outputs": [
    {
     "data": {
      "text/plain": [
       "([<matplotlib.patches.Wedge at 0x7f7d500828b0>,\n",
       "  <matplotlib.patches.Wedge at 0x7f7d380368b0>],\n",
       " [Text(0.33991867422268784, 1.0461621742897658, '남'),\n",
       "  Text(-0.33991857627391525, -1.046162206115244, '여')])"
      ]
     },
     "execution_count": 10,
     "metadata": {},
     "output_type": "execute_result"
    },
    {
     "data": {
      "image/png": "[encoded data removed]",
      "text/plain": [
       "<Figure size 640x480 with 1 Axes>"
      ]
     },
     "metadata": {},
     "output_type": "display_data"
    }
   ],
   "source": [
    "plt.pie(gender_t['성별'], labels=gender_t.index)"
   ]
  },
  {
   "cell_type": "markdown",
   "metadata": {
    "id": "a_fenNGAwKyD"
   },
   "source": [
    "### 수치형 변수의 차이 확인하기\n",
    "\n",
    "- 수치형 변수\n",
    "    - 관측치들이 다양한 숫자값을 가질 수 있음\n",
    "- 수치형 변수의 요약\n",
    "    - 정렬등을 활용한 수치형 변수의 요약\n",
    "        - 최솟값, 최댓값, 중앙값 등 관측치들의 전반적인 위치를 확인\n",
    "    - 합계를 활용한 수치형 변수의 요약\n",
    "        - 펑균, 분산 등 관측치들의 전반적인 특성을 확인\n",
    "- 기술 통계량 활용"
   ]
  },
  {
   "cell_type": "markdown",
   "metadata": {
    "id": "6zmUMh3OwKyD"
   },
   "source": [
    "## 기술통계량\n",
    "- 통계량(statistic)\n",
    "    - 데이터로부터 계산된 모든 숫자\n",
    "- 기술 통계량(descriptive statistic)\n",
    "    - 변수나 변수의 관계 등 데이터의 특성을 설명하는 통계량"
   ]
  },
  {
   "cell_type": "markdown",
   "metadata": {
    "id": "L4haeQoVwKyD"
   },
   "source": [
    "**수치형 변수의 요약**"
   ]
  },
  {
   "cell_type": "code",
   "execution_count": 12,
   "metadata": {
    "id": "pYPIoAfUwKyD",
    "outputId": "ef0b89b0-c1de-4572-f1ba-8aa0fa5a7bb9"
   },
   "outputs": [
    {
     "data": {
      "text/html": [
       "<div>\n",
       "<style scoped>\n",
       "    .dataframe tbody tr th:only-of-type {\n",
       "        vertical-align: middle;\n",
       "    }\n",
       "\n",
       "    .dataframe tbody tr th {\n",
       "        vertical-align: top;\n",
       "    }\n",
       "\n",
       "    .dataframe thead th {\n",
       "        text-align: right;\n",
       "    }\n",
       "</style>\n",
       "<table border=\"1\" class=\"dataframe\">\n",
       "  <thead>\n",
       "    <tr style=\"text-align: right;\">\n",
       "      <th></th>\n",
       "      <th>score</th>\n",
       "    </tr>\n",
       "  </thead>\n",
       "  <tbody>\n",
       "    <tr>\n",
       "      <th>0</th>\n",
       "      <td>60</td>\n",
       "    </tr>\n",
       "    <tr>\n",
       "      <th>1</th>\n",
       "      <td>78</td>\n",
       "    </tr>\n",
       "    <tr>\n",
       "      <th>2</th>\n",
       "      <td>83</td>\n",
       "    </tr>\n",
       "    <tr>\n",
       "      <th>3</th>\n",
       "      <td>74</td>\n",
       "    </tr>\n",
       "    <tr>\n",
       "      <th>4</th>\n",
       "      <td>100</td>\n",
       "    </tr>\n",
       "    <tr>\n",
       "      <th>5</th>\n",
       "      <td>80</td>\n",
       "    </tr>\n",
       "    <tr>\n",
       "      <th>6</th>\n",
       "      <td>90</td>\n",
       "    </tr>\n",
       "    <tr>\n",
       "      <th>7</th>\n",
       "      <td>90</td>\n",
       "    </tr>\n",
       "    <tr>\n",
       "      <th>8</th>\n",
       "      <td>85</td>\n",
       "    </tr>\n",
       "    <tr>\n",
       "      <th>9</th>\n",
       "      <td>70</td>\n",
       "    </tr>\n",
       "  </tbody>\n",
       "</table>\n",
       "</div>"
      ],
      "text/plain": [
       "   score\n",
       "0     60\n",
       "1     78\n",
       "2     83\n",
       "3     74\n",
       "4    100\n",
       "5     80\n",
       "6     90\n",
       "7     90\n",
       "8     85\n",
       "9     70"
      ]
     },
     "execution_count": 12,
     "metadata": {},
     "output_type": "execute_result"
    }
   ],
   "source": [
    "score = [60,78,83,74,100,80,90,90,85,70]\n",
    "\n",
    "score_df = pd.DataFrame({'score':score})\n",
    "\n",
    "score_df"
   ]
  },
  {
   "cell_type": "code",
   "execution_count": 13,
   "metadata": {
    "id": "MeAauwZ-wKyD",
    "outputId": "1229d23d-43f7-4acc-c82b-5b13450a0770"
   },
   "outputs": [
    {
     "data": {
      "text/html": [
       "<div>\n",
       "<style scoped>\n",
       "    .dataframe tbody tr th:only-of-type {\n",
       "        vertical-align: middle;\n",
       "    }\n",
       "\n",
       "    .dataframe tbody tr th {\n",
       "        vertical-align: top;\n",
       "    }\n",
       "\n",
       "    .dataframe thead th {\n",
       "        text-align: right;\n",
       "    }\n",
       "</style>\n",
       "<table border=\"1\" class=\"dataframe\">\n",
       "  <thead>\n",
       "    <tr style=\"text-align: right;\">\n",
       "      <th></th>\n",
       "      <th>score</th>\n",
       "    </tr>\n",
       "  </thead>\n",
       "  <tbody>\n",
       "    <tr>\n",
       "      <th>0</th>\n",
       "      <td>60</td>\n",
       "    </tr>\n",
       "    <tr>\n",
       "      <th>9</th>\n",
       "      <td>70</td>\n",
       "    </tr>\n",
       "    <tr>\n",
       "      <th>3</th>\n",
       "      <td>74</td>\n",
       "    </tr>\n",
       "    <tr>\n",
       "      <th>1</th>\n",
       "      <td>78</td>\n",
       "    </tr>\n",
       "    <tr>\n",
       "      <th>5</th>\n",
       "      <td>80</td>\n",
       "    </tr>\n",
       "    <tr>\n",
       "      <th>2</th>\n",
       "      <td>83</td>\n",
       "    </tr>\n",
       "    <tr>\n",
       "      <th>8</th>\n",
       "      <td>85</td>\n",
       "    </tr>\n",
       "    <tr>\n",
       "      <th>6</th>\n",
       "      <td>90</td>\n",
       "    </tr>\n",
       "    <tr>\n",
       "      <th>7</th>\n",
       "      <td>90</td>\n",
       "    </tr>\n",
       "    <tr>\n",
       "      <th>4</th>\n",
       "      <td>100</td>\n",
       "    </tr>\n",
       "  </tbody>\n",
       "</table>\n",
       "</div>"
      ],
      "text/plain": [
       "   score\n",
       "0     60\n",
       "9     70\n",
       "3     74\n",
       "1     78\n",
       "5     80\n",
       "2     83\n",
       "8     85\n",
       "6     90\n",
       "7     90\n",
       "4    100"
      ]
     },
     "execution_count": 13,
     "metadata": {},
     "output_type": "execute_result"
    }
   ],
   "source": [
    "# 관측지 정렬\n",
    "score_df.sort_values(by='score')"
   ]
  },
  {
   "cell_type": "code",
   "execution_count": 14,
   "metadata": {
    "id": "eHfyeqdQwKyD",
    "outputId": "474d5631-fd27-4a83-e254-7226bb039457"
   },
   "outputs": [
    {
     "data": {
      "text/plain": [
       "score    100\n",
       "dtype: int64"
      ]
     },
     "execution_count": 14,
     "metadata": {},
     "output_type": "execute_result"
    },
    {
     "data": {
      "text/plain": [
       "score    60\n",
       "dtype: int64"
      ]
     },
     "execution_count": 14,
     "metadata": {},
     "output_type": "execute_result"
    },
    {
     "data": {
      "text/plain": [
       "score    81.5\n",
       "dtype: float64"
      ]
     },
     "execution_count": 14,
     "metadata": {},
     "output_type": "execute_result"
    },
    {
     "data": {
      "text/html": [
       "<div>\n",
       "<style scoped>\n",
       "    .dataframe tbody tr th:only-of-type {\n",
       "        vertical-align: middle;\n",
       "    }\n",
       "\n",
       "    .dataframe tbody tr th {\n",
       "        vertical-align: top;\n",
       "    }\n",
       "\n",
       "    .dataframe thead th {\n",
       "        text-align: right;\n",
       "    }\n",
       "</style>\n",
       "<table border=\"1\" class=\"dataframe\">\n",
       "  <thead>\n",
       "    <tr style=\"text-align: right;\">\n",
       "      <th></th>\n",
       "      <th>score</th>\n",
       "    </tr>\n",
       "  </thead>\n",
       "  <tbody>\n",
       "    <tr>\n",
       "      <th>0</th>\n",
       "      <td>90</td>\n",
       "    </tr>\n",
       "  </tbody>\n",
       "</table>\n",
       "</div>"
      ],
      "text/plain": [
       "   score\n",
       "0     90"
      ]
     },
     "execution_count": 14,
     "metadata": {},
     "output_type": "execute_result"
    }
   ],
   "source": [
    "# 위치적인 특성\n",
    "score_df.max() # 최대값\n",
    "score_df.min() # 최소값\n",
    "score_df.median() # 중앙값\n",
    "score_df.mode() # 최빈값"
   ]
  },
  {
   "cell_type": "code",
   "execution_count": 16,
   "metadata": {
    "id": "P9euv7_owKyE",
    "outputId": "7728a219-7189-4113-97f2-bf7094b25051"
   },
   "outputs": [
    {
     "data": {
      "text/plain": [
       "score    81.0\n",
       "dtype: float64"
      ]
     },
     "execution_count": 16,
     "metadata": {},
     "output_type": "execute_result"
    },
    {
     "data": {
      "text/plain": [
       "score    129.333333\n",
       "dtype: float64"
      ]
     },
     "execution_count": 16,
     "metadata": {},
     "output_type": "execute_result"
    }
   ],
   "source": [
    "score_df.mean()  # 평균\n",
    "score_df.var()  # 분산"
   ]
  }
 ],
 "metadata": {
  "colab": {
   "provenance": []
  },
  "kernelspec": {
   "display_name": "Python 3 (ipykernel)",
   "language": "python",
   "name": "python3"
  },
  "language_info": {
   "codemirror_mode": {
    "name": "ipython",
    "version": 3
   },
   "file_extension": ".py",
   "mimetype": "text/x-python",
   "name": "python",
   "nbconvert_exporter": "python",
   "pygments_lexer": "ipython3",
   "version": "3.9.2"
  }
 },
 "nbformat": 4,
 "nbformat_minor": 1
}
