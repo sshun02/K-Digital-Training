{
 "cells": [
  {
   "cell_type": "markdown",
   "id": "d155c00e",
   "metadata": {},
   "source": [
    "### 1. re 모듈"
   ]
  },
  {
   "cell_type": "markdown",
   "id": "21b67bcf",
   "metadata": {},
   "source": [
    "Q1) 문자열의 단어수를 리턴받아 보자. str.split() / 정규 표현식\n",
    "\n",
    "str.spilt() : 문자열의 공백으로 구분하고 결과를 목록으로 리턴"
   ]
  },
  {
   "cell_type": "code",
   "execution_count": 13,
   "id": "770ed6d8",
   "metadata": {},
   "outputs": [
    {
     "name": "stdout",
     "output_type": "stream",
     "text": [
      "['format_spec', 'defaults', 'to', 'the', 'empty', 'string.']\n",
      "6\n"
     ]
    }
   ],
   "source": [
    "str = 'format_spec defaults to the empty string.'\n",
    "\n",
    "res = str.split()\n",
    "word_count = len(res)\n",
    "print(res)\n",
    "print(word_count)"
   ]
  },
  {
   "cell_type": "markdown",
   "id": "4a9a1748",
   "metadata": {},
   "source": [
    "Q2) 문자열의 단어수를 리턴받아 보자. 정규표현식\n",
    "import re -> 정규식 패턴을 컴파일 할 수 있는 모듈\n",
    "findall', 'finditer', 'fullmatch', 'functools', 'match', 'search', 'split'"
   ]
  },
  {
   "cell_type": "code",
   "execution_count": 14,
   "id": "eb7d5c3f",
   "metadata": {},
   "outputs": [
    {
     "name": "stdout",
     "output_type": "stream",
     "text": [
      "['format_spec', 'defaults', 'to', 'the', 'empty', 'string']\n",
      "6\n"
     ]
    }
   ],
   "source": [
    "import re\n",
    "#print(help(re.findall))   #findall(pattern, string, flags=0)\n",
    "#regexr.com or https://regex010.com/ ?, ^, +, *\n",
    "# \\w -> 알파벳, 숫자, _ 중 하나를 의미한다.\n",
    "# \\w+ -> 알파벳, 숫자, _ 중 하나 이상 반복되는 것을 의미한다.\n",
    "\n",
    "str = 'format_spec defaults to the empty string.'\n",
    "res = re.findall(r'\\w+'    ,str)\n",
    "word_count = len(res)\n",
    "print(res)\n",
    "print(word_count)\n",
    "\n"
   ]
  },
  {
   "cell_type": "code",
   "execution_count": 11,
   "id": "94e9111a",
   "metadata": {},
   "outputs": [
    {
     "name": "stdout",
     "output_type": "stream",
     "text": [
      "[' ', ' ', ' ', ' ', ' ']\n",
      "5\n"
     ]
    }
   ],
   "source": [
    "import re\n",
    "#print(help(re.findall))   #findall(pattern, string, flags=0)\n",
    "#regexr.com or https://regex010.com/ ?, ^, +, *\n",
    "# \\w -> 알파벳, 숫자, _ 중 하나를 의미한다.\n",
    "# \\w+ -> 알파벳, 숫자, _ 중 하나 이상 반복되는 것을 의미한다.\n",
    "# \\s+ -> 공백이 하나 이상 반복되는 것을 의미한다.\n",
    "\n",
    "str = 'format_spec defaults to the empty string.'\n",
    "res = re.findall(r'\\s+'    ,str)\n",
    "word_count = len(res)\n",
    "print(res)\n",
    "print(word_count)"
   ]
  },
  {
   "cell_type": "markdown",
   "id": "855cc1fc",
   "metadata": {},
   "source": [
    "Q4) 리스트 객체에서 슬라이싱을 이용해서 삭제 해보자."
   ]
  },
  {
   "cell_type": "code",
   "execution_count": 20,
   "id": "a1aaf02c",
   "metadata": {},
   "outputs": [
    {
     "name": "stdout",
     "output_type": "stream",
     "text": [
      "['kim', 'kim', 'seung', 'hyun', 'kim', 'seung', 'hyun']\n"
     ]
    }
   ],
   "source": [
    "m = ['kim', 'seung', 'hyun']*3\n",
    "del m[1:3] # m[1], m[2] 삭제\n",
    "print(m)"
   ]
  },
  {
   "cell_type": "markdown",
   "id": "10b3a916",
   "metadata": {},
   "source": [
    "### 2. Pathlib 모듈\n",
    "1) 실행중인 Python 파일 경로 확인\n",
    "2) 작업 디렉토리 경로 확인\n",
    "3) 작업 디렉토리 변경\n",
    "-----------------------------\n",
    "#### 파일을 만드는 방법\n",
    "1) pathlib.Path.touch"
   ]
  },
  {
   "cell_type": "code",
   "execution_count": 21,
   "id": "ea83dafd",
   "metadata": {},
   "outputs": [
    {
     "data": {
      "text/plain": [
       "PosixPath('.')"
      ]
     },
     "execution_count": 21,
     "metadata": {},
     "output_type": "execute_result"
    }
   ],
   "source": [
    "from pathlib import Path # pathlibdptj Path만 참조하겠다.\n",
    "path = Path()\n",
    "path"
   ]
  },
  {
   "cell_type": "code",
   "execution_count": 25,
   "id": "ab59fafd",
   "metadata": {},
   "outputs": [
    {
     "data": {
      "text/plain": [
       "0"
      ]
     },
     "execution_count": 25,
     "metadata": {},
     "output_type": "execute_result"
    }
   ],
   "source": [
    "#1) 파일을 만들자\n",
    "from pathlib import Path\n",
    "import os\n",
    "Path('a.txt').touch()\n",
    "\n",
    "with open('b.txt', 'w'):\n",
    "    pass\n",
    "\n",
    "os.system('touch c.txt')"
   ]
  },
  {
   "cell_type": "markdown",
   "id": "6b295085",
   "metadata": {},
   "source": [
    "### 3. OS모듈\n",
    "- 시스템 환경에 관한 함수\n",
    "- 디렉토리, 파일 os.walk() os.system() os.listdir() os"
   ]
  },
  {
   "cell_type": "code",
   "execution_count": null,
   "id": "275be65c",
   "metadata": {},
   "outputs": [],
   "source": [
    "import os\n",
    "if os.name == 'nt':\n",
    "    print('on Windows')\n",
    "elif os.name == 'posix':\n",
    "    print('on Mac or Linux')\n",
    "print(os.name)"
   ]
  },
  {
   "cell_type": "code",
   "execution_count": 2,
   "id": "95cbdb0e",
   "metadata": {},
   "outputs": [
    {
     "name": "stdout",
     "output_type": "stream",
     "text": [
      "on Mac\n"
     ]
    },
    {
     "data": {
      "text/plain": [
       "'Darwin'"
      ]
     },
     "execution_count": 2,
     "metadata": {},
     "output_type": "execute_result"
    }
   ],
   "source": [
    "import platform\n",
    "pf = platform.system()\n",
    "if pf == 'Windows':\n",
    "    print('on Windows')\n",
    "elif pf == 'Darwin':\n",
    "    print('on Mac')\n",
    "elif pt == 'Linux':\n",
    "    print('on Linux')\n",
    "platform.system()"
   ]
  },
  {
   "cell_type": "markdown",
   "id": "33d1d706",
   "metadata": {},
   "source": [
    "Q1) 'makrdirs', 'mkdir'를 이용해서 디렉토리를 생성해보자"
   ]
  },
  {
   "cell_type": "code",
   "execution_count": 11,
   "id": "5fc417d3",
   "metadata": {},
   "outputs": [
    {
     "ename": "FileExistsError",
     "evalue": "[Errno 17] File exists: './dir/sub'",
     "output_type": "error",
     "traceback": [
      "\u001b[0;31m---------------------------------------------------------------------------\u001b[0m",
      "\u001b[0;31mFileExistsError\u001b[0m                           Traceback (most recent call last)",
      "Cell \u001b[0;32mIn[11], line 3\u001b[0m\n\u001b[1;32m      1\u001b[0m \u001b[38;5;28;01mimport\u001b[39;00m \u001b[38;5;21;01mos\u001b[39;00m\n\u001b[1;32m      2\u001b[0m path \u001b[38;5;241m=\u001b[39m \u001b[38;5;124m\"\u001b[39m\u001b[38;5;124m./dir/sub\u001b[39m\u001b[38;5;124m\"\u001b[39m\n\u001b[0;32m----> 3\u001b[0m \u001b[43mos\u001b[49m\u001b[38;5;241;43m.\u001b[39;49m\u001b[43mmkdir\u001b[49m\u001b[43m(\u001b[49m\u001b[43mpath\u001b[49m\u001b[43m)\u001b[49m\n",
      "\u001b[0;31mFileExistsError\u001b[0m: [Errno 17] File exists: './dir/sub'"
     ]
    }
   ],
   "source": [
    "import os\n",
    "path = \"./dir/sub\"\n",
    "os.mkdir(path)"
   ]
  },
  {
   "cell_type": "code",
   "execution_count": 43,
   "id": "3c242323",
   "metadata": {},
   "outputs": [
    {
     "ename": "FileNotFoundError",
     "evalue": "[Errno 2] No such file or directory: './dir/sub1'",
     "output_type": "error",
     "traceback": [
      "\u001b[0;31m---------------------------------------------------------------------------\u001b[0m",
      "\u001b[0;31mFileNotFoundError\u001b[0m                         Traceback (most recent call last)",
      "Cell \u001b[0;32mIn[43], line 3\u001b[0m\n\u001b[1;32m      1\u001b[0m path_list \u001b[38;5;241m=\u001b[39m [\u001b[38;5;124m\"\u001b[39m\u001b[38;5;124m./dir/sub1\u001b[39m\u001b[38;5;124m\"\u001b[39m,\u001b[38;5;124m\"\u001b[39m\u001b[38;5;124m./dir/sub2\u001b[39m\u001b[38;5;124m\"\u001b[39m,\u001b[38;5;124m\"\u001b[39m\u001b[38;5;124m./dir/sub3\u001b[39m\u001b[38;5;124m\"\u001b[39m]\n\u001b[1;32m      2\u001b[0m \u001b[38;5;28;01mfor\u001b[39;00m path \u001b[38;5;129;01min\u001b[39;00m path_list:\n\u001b[0;32m----> 3\u001b[0m     \u001b[43mos\u001b[49m\u001b[38;5;241;43m.\u001b[39;49m\u001b[43mmkdir\u001b[49m\u001b[43m(\u001b[49m\u001b[43mpath\u001b[49m\u001b[43m)\u001b[49m\n",
      "\u001b[0;31mFileNotFoundError\u001b[0m: [Errno 2] No such file or directory: './dir/sub1'"
     ]
    }
   ],
   "source": [
    "path_list = [\"./dir/sub1\",\"./dir/sub2\",\"./dir/sub3\"]\n",
    "for path in path_list:\n",
    "    os.mkdir(path)"
   ]
  },
  {
   "cell_type": "code",
   "execution_count": 15,
   "id": "6c147fa0",
   "metadata": {
    "scrolled": true
   },
   "outputs": [
    {
     "ename": "SyntaxError",
     "evalue": "invalid syntax (1425979572.py, line 1)",
     "output_type": "error",
     "traceback": [
      "\u001b[0;36m  Cell \u001b[0;32mIn[15], line 1\u001b[0;36m\u001b[0m\n\u001b[0;31m    print(dir(os.))\u001b[0m\n\u001b[0m                 ^\u001b[0m\n\u001b[0;31mSyntaxError\u001b[0m\u001b[0;31m:\u001b[0m invalid syntax\n"
     ]
    }
   ],
   "source": [
    "for curdir, dirs, files"
   ]
  },
  {
   "cell_type": "code",
   "execution_count": 42,
   "id": "2744dcbd",
   "metadata": {},
   "outputs": [],
   "source": [
    "#print(help(os))"
   ]
  },
  {
   "cell_type": "code",
   "execution_count": 18,
   "id": "77f32aa4",
   "metadata": {},
   "outputs": [
    {
     "data": {
      "text/plain": [
       "['.DS_Store',\n",
       " 'Untitled.ipynb',\n",
       " 'c.txt',\n",
       " 'b.txt',\n",
       " 'a.txt',\n",
       " '[9]내장함수.ipynb',\n",
       " 'dir',\n",
       " '.ipynb_checkpoints']"
      ]
     },
     "execution_count": 18,
     "metadata": {},
     "output_type": "execute_result"
    }
   ],
   "source": [
    "path_list = [\"./dir/sub1\",\"./dir/sub2\",\"./dir/sub3\"]\n",
    "for path in path_list:\n",
    "    os.mkdir(path)"
   ]
  },
  {
   "cell_type": "code",
   "execution_count": 20,
   "id": "95ef8e11",
   "metadata": {},
   "outputs": [
    {
     "data": {
      "text/plain": [
       "['.DS_Store',\n",
       " 'Untitled.ipynb',\n",
       " 'c.txt',\n",
       " 'b.txt',\n",
       " 'a.txt',\n",
       " '[9]내장함수.ipynb',\n",
       " 'dir',\n",
       " '.ipynb_checkpoints']"
      ]
     },
     "execution_count": 20,
     "metadata": {},
     "output_type": "execute_result"
    }
   ],
   "source": [
    "os.listdir('.')"
   ]
  },
  {
   "cell_type": "code",
   "execution_count": 41,
   "id": "ffde9ee0",
   "metadata": {},
   "outputs": [
    {
     "name": "stdout",
     "output_type": "stream",
     "text": [
      "./test/c.txt\n",
      "./test/b.txt\n",
      "./test/a.txt\n",
      "dir\n",
      "sub1\n",
      "sub\n",
      "sub2\n",
      "sub3\n"
     ]
    }
   ],
   "source": [
    "for root, dirs, files in os.walk('./test'):\n",
    "    for f in files:\n",
    "        print(os.path.join(root,f))\n",
    "    for d in dirs:\n",
    "        print(d)"
   ]
  },
  {
   "cell_type": "code",
   "execution_count": 47,
   "id": "750ac794",
   "metadata": {},
   "outputs": [],
   "source": [
    "for root, dirs, files in os.walk('.'):\n",
    "    for f in files:\n",
    "        if 'abc.txt' in f:\n",
    "            print(os.path.join(root,f))"
   ]
  },
  {
   "cell_type": "code",
   "execution_count": 48,
   "id": "a9582e47",
   "metadata": {},
   "outputs": [
    {
     "name": "stdout",
     "output_type": "stream",
     "text": [
      "['__all__', '__builtins__', '__cached__', '__doc__', '__file__', '__loader__', '__name__', '__package__', '__spec__', '_get_sep', '_joinrealpath', '_varprog', '_varprogb', 'abspath', 'altsep', 'basename', 'commonpath', 'commonprefix', 'curdir', 'defpath', 'devnull', 'dirname', 'exists', 'expanduser', 'expandvars', 'extsep', 'genericpath', 'getatime', 'getctime', 'getmtime', 'getsize', 'isabs', 'isdir', 'isfile', 'islink', 'ismount', 'join', 'lexists', 'normcase', 'normpath', 'os', 'pardir', 'pathsep', 'realpath', 'relpath', 'samefile', 'sameopenfile', 'samestat', 'sep', 'split', 'splitdrive', 'splitext', 'stat', 'supports_unicode_filenames', 'sys']\n"
     ]
    }
   ],
   "source": [
    "print(dir(os.path))"
   ]
  },
  {
   "cell_type": "code",
   "execution_count": null,
   "id": "f8bb081e",
   "metadata": {},
   "outputs": [],
   "source": []
  },
  {
   "cell_type": "code",
   "execution_count": null,
   "id": "ebb88bad",
   "metadata": {},
   "outputs": [],
   "source": []
  },
  {
   "cell_type": "code",
   "execution_count": null,
   "id": "4bbb7deb",
   "metadata": {},
   "outputs": [],
   "source": []
  }
 ],
 "metadata": {
  "kernelspec": {
   "display_name": "Python 3 (ipykernel)",
   "language": "python",
   "name": "python3"
  },
  "language_info": {
   "codemirror_mode": {
    "name": "ipython",
    "version": 3
   },
   "file_extension": ".py",
   "mimetype": "text/x-python",
   "name": "python",
   "nbconvert_exporter": "python",
   "pygments_lexer": "ipython3",
   "version": "3.9.2"
  }
 },
 "nbformat": 4,
 "nbformat_minor": 5
}
