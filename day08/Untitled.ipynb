{
 "cells": [
  {
   "cell_type": "markdown",
   "id": "d155c00e",
   "metadata": {},
   "source": [
    "### 1. re 모듈"
   ]
  },
  {
   "cell_type": "markdown",
   "id": "21b67bcf",
   "metadata": {},
   "source": [
    "Q1) 문자열의 단어수를 리턴받아 보자. str.split() / 정규 표현식\n",
    "\n",
    "str.spilt() : 문자열의 공백으로 구분하고 결과를 목록으로 리턴"
   ]
  },
  {
   "cell_type": "code",
   "execution_count": 13,
   "id": "770ed6d8",
   "metadata": {},
   "outputs": [
    {
     "name": "stdout",
     "output_type": "stream",
     "text": [
      "['format_spec', 'defaults', 'to', 'the', 'empty', 'string.']\n",
      "6\n"
     ]
    }
   ],
   "source": [
    "str = 'format_spec defaults to the empty string.'\n",
    "\n",
    "res = str.split()\n",
    "word_count = len(res)\n",
    "print(res)\n",
    "print(word_count)"
   ]
  },
  {
   "cell_type": "markdown",
   "id": "4a9a1748",
   "metadata": {},
   "source": [
    "Q2) 문자열의 단어수를 리턴받아 보자. 정규표현식\n",
    "import re -> 정규식 패턴을 컴파일 할 수 있는 모듈\n",
    "findall', 'finditer', 'fullmatch', 'functools', 'match', 'search', 'split'"
   ]
  },
  {
   "cell_type": "code",
   "execution_count": 14,
   "id": "eb7d5c3f",
   "metadata": {},
   "outputs": [
    {
     "name": "stdout",
     "output_type": "stream",
     "text": [
      "['format_spec', 'defaults', 'to', 'the', 'empty', 'string']\n",
      "6\n"
     ]
    }
   ],
   "source": [
    "import re\n",
    "#print(help(re.findall))   #findall(pattern, string, flags=0)\n",
    "#regexr.com or https://regex010.com/ ?, ^, +, *\n",
    "# \\w -> 알파벳, 숫자, _ 중 하나를 의미한다.\n",
    "# \\w+ -> 알파벳, 숫자, _ 중 하나 이상 반복되는 것을 의미한다.\n",
    "\n",
    "str = 'format_spec defaults to the empty string.'\n",
    "res = re.findall(r'\\w+'    ,str)\n",
    "word_count = len(res)\n",
    "print(res)\n",
    "print(word_count)\n",
    "\n"
   ]
  },
  {
   "cell_type": "code",
   "execution_count": 11,
   "id": "94e9111a",
   "metadata": {},
   "outputs": [
    {
     "name": "stdout",
     "output_type": "stream",
     "text": [
      "[' ', ' ', ' ', ' ', ' ']\n",
      "5\n"
     ]
    }
   ],
   "source": [
    "import re\n",
    "#print(help(re.findall))   #findall(pattern, string, flags=0)\n",
    "#regexr.com or https://regex010.com/ ?, ^, +, *\n",
    "# \\w -> 알파벳, 숫자, _ 중 하나를 의미한다.\n",
    "# \\w+ -> 알파벳, 숫자, _ 중 하나 이상 반복되는 것을 의미한다.\n",
    "# \\s+ -> 공백이 하나 이상 반복되는 것을 의미한다.\n",
    "\n",
    "str = 'format_spec defaults to the empty string.'\n",
    "res = re.findall(r'\\s+'    ,str)\n",
    "word_count = len(res)\n",
    "print(res)\n",
    "print(word_count)"
   ]
  },
  {
   "cell_type": "markdown",
   "id": "855cc1fc",
   "metadata": {},
   "source": [
    "Q4) 리스트 객체에서 슬라이싱을 이용해서 삭제 해보자."
   ]
  },
  {
   "cell_type": "code",
   "execution_count": 20,
   "id": "a1aaf02c",
   "metadata": {},
   "outputs": [
    {
     "name": "stdout",
     "output_type": "stream",
     "text": [
      "['kim', 'kim', 'seung', 'hyun', 'kim', 'seung', 'hyun']\n"
     ]
    }
   ],
   "source": [
    "m = ['kim', 'seung', 'hyun']*3\n",
    "del m[1:3] # m[1], m[2] 삭제\n",
    "print(m)"
   ]
  },
  {
   "cell_type": "markdown",
   "id": "10b3a916",
   "metadata": {},
   "source": [
    "### 2. Pathlib 모듈\n",
    "1) 실행중인 Python 파일 경로 확인\n",
    "2) 작업 디렉토리 경로 확인\n",
    "3) 작업 디렉토리 변경\n",
    "-----------------------------\n",
    "#### 파일을 만드는 방법\n",
    "1) pathlib.Path.touch"
   ]
  },
  {
   "cell_type": "code",
   "execution_count": 21,
   "id": "ea83dafd",
   "metadata": {},
   "outputs": [
    {
     "data": {
      "text/plain": [
       "PosixPath('.')"
      ]
     },
     "execution_count": 21,
     "metadata": {},
     "output_type": "execute_result"
    }
   ],
   "source": [
    "from pathlib import Path # pathlibdptj Path만 참조하겠다.\n",
    "path = Path()\n",
    "path"
   ]
  },
  {
   "cell_type": "code",
   "execution_count": 25,
   "id": "ab59fafd",
   "metadata": {},
   "outputs": [
    {
     "data": {
      "text/plain": [
       "0"
      ]
     },
     "execution_count": 25,
     "metadata": {},
     "output_type": "execute_result"
    }
   ],
   "source": [
    "#1) 파일을 만들자\n",
    "from pathlib import Path\n",
    "import os\n",
    "Path('a.txt').touch()\n",
    "\n",
    "with open('b.txt', 'w'):\n",
    "    pass\n",
    "\n",
    "os.system('touch c.txt')"
   ]
  },
  {
   "cell_type": "code",
   "execution_count": null,
   "id": "9a73f7dc",
   "metadata": {},
   "outputs": [],
   "source": []
  },
  {
   "cell_type": "code",
   "execution_count": null,
   "id": "275be65c",
   "metadata": {},
   "outputs": [],
   "source": []
  },
  {
   "cell_type": "code",
   "execution_count": null,
   "id": "95cbdb0e",
   "metadata": {},
   "outputs": [],
   "source": []
  }
 ],
 "metadata": {
  "kernelspec": {
   "display_name": "Python 3 (ipykernel)",
   "language": "python",
   "name": "python3"
  },
  "language_info": {
   "codemirror_mode": {
    "name": "ipython",
    "version": 3
   },
   "file_extension": ".py",
   "mimetype": "text/x-python",
   "name": "python",
   "nbconvert_exporter": "python",
   "pygments_lexer": "ipython3",
   "version": "3.9.2"
  }
 },
 "nbformat": 4,
 "nbformat_minor": 5
}
