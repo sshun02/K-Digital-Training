{
 "cells": [
  {
   "cell_type": "markdown",
   "id": "88bd9f68",
   "metadata": {},
   "source": [
    "Q1) 문자열의 단어수를 리턴받아 보자. str.split() / 정규 표현식"
   ]
  },
  {
   "cell_type": "code",
   "execution_count": 4,
   "id": "88136c24",
   "metadata": {},
   "outputs": [
    {
     "name": "stdout",
     "output_type": "stream",
     "text": [
      "['format_spec', 'defaults', 'to', 'the', 'empty', 'string.']\n",
      "6\n"
     ]
    }
   ],
   "source": [
    "str = 'format_spec defaults to the empty string.'\n",
    "\n",
    "res = str.split()\n",
    "word_count = len(res)\n",
    "print(res)\n",
    "print(word_count)"
   ]
  },
  {
   "cell_type": "markdown",
   "id": "adb9458c",
   "metadata": {},
   "source": [
    "Q2) 문자열의 단어수를 리턴받아 보자. 정규표현식\n",
    "import re -> 정규식 패턴을 컴파일 할 수 있는 모듈\n",
    "findall', 'finditer', 'fullmatch', 'functools', 'match', 'search', 'split'"
   ]
  },
  {
   "cell_type": "code",
   "execution_count": 7,
   "id": "cf27f412",
   "metadata": {},
   "outputs": [
    {
     "name": "stdout",
     "output_type": "stream",
     "text": [
      "['format_spec', 'defaults', 'to', 'the', 'empty', 'string']\n",
      "6\n"
     ]
    }
   ],
   "source": [
    "import re\n",
    "#print(help(re.findall))   #findall(pattern, string, flags=0)\n",
    "#regexr.com or https://regex010.com/ ?, ^, +, *\n",
    "# \\w -> 알파벳, 숫자, _ 중 하나를 의미한다.\n",
    "# \\w+ -> 알파벳, 숫자, _ 중 하나 이상 반복되는 것을 의미한다.\n",
    "\n",
    "str = 'format_spec defaults to the empty string.'\n",
    "res = re.findall(r'\\w+'    ,str)\n",
    "word_count = len(res)\n",
    "print(res)\n",
    "print(word_count)\n",
    "\n"
   ]
  },
  {
   "cell_type": "code",
   "execution_count": 11,
   "id": "7f5ca098",
   "metadata": {},
   "outputs": [
    {
     "name": "stdout",
     "output_type": "stream",
     "text": [
      "[' ', ' ', ' ', ' ', ' ']\n",
      "5\n"
     ]
    }
   ],
   "source": [
    "import re\n",
    "#print(help(re.findall))   #findall(pattern, string, flags=0)\n",
    "#regexr.com or https://regex010.com/ ?, ^, +, *\n",
    "# \\w -> 알파벳, 숫자, _ 중 하나를 의미한다.\n",
    "# \\w+ -> 알파벳, 숫자, _ 중 하나 이상 반복되는 것을 의미한다.\n",
    "# \\s+ -> 공백이 하나 이상 반복되는 것을 의미한다.\n",
    "\n",
    "str = 'format_spec defaults to the empty string.'\n",
    "res = re.findall(r'\\s+'    ,str)\n",
    "word_count = len(res)\n",
    "print(res)\n",
    "print(word_count)"
   ]
  }
 ],
 "metadata": {
  "kernelspec": {
   "display_name": "Python 3 (ipykernel)",
   "language": "python",
   "name": "python3"
  },
  "language_info": {
   "codemirror_mode": {
    "name": "ipython",
    "version": 3
   },
   "file_extension": ".py",
   "mimetype": "text/x-python",
   "name": "python",
   "nbconvert_exporter": "python",
   "pygments_lexer": "ipython3",
   "version": "3.9.2"
  }
 },
 "nbformat": 4,
 "nbformat_minor": 5
}
