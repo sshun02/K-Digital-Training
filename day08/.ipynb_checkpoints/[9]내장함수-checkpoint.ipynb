{
 "cells": [
  {
   "cell_type": "markdown",
   "id": "8d8c210d",
   "metadata": {},
   "source": [
    "import 없이 사용하는 함수 : 내장함수\n",
    "dir() 로 확인이 가능하다."
   ]
  },
  {
   "cell_type": "code",
   "execution_count": 2,
   "id": "35d684a3",
   "metadata": {},
   "outputs": [
    {
     "name": "stdout",
     "output_type": "stream",
     "text": [
      "['In', 'Out', '_', '__', '___', '__builtin__', '__builtins__', '__doc__', '__loader__', '__name__', '__package__', '__spec__', '_dh', '_i', '_i1', '_i2', '_ih', '_ii', '_iii', '_oh', 'exit', 'get_ipython', 'open', 'quit']\n"
     ]
    }
   ],
   "source": [
    "print(dir())"
   ]
  },
  {
   "cell_type": "code",
   "execution_count": 3,
   "id": "dcce580f",
   "metadata": {},
   "outputs": [
    {
     "name": "stdout",
     "output_type": "stream",
     "text": [
      "['ArithmeticError', 'AssertionError', 'AttributeError', 'BaseException', 'BlockingIOError', 'BrokenPipeError', 'BufferError', 'BytesWarning', 'ChildProcessError', 'ConnectionAbortedError', 'ConnectionError', 'ConnectionRefusedError', 'ConnectionResetError', 'DeprecationWarning', 'EOFError', 'Ellipsis', 'EnvironmentError', 'Exception', 'False', 'FileExistsError', 'FileNotFoundError', 'FloatingPointError', 'FutureWarning', 'GeneratorExit', 'IOError', 'ImportError', 'ImportWarning', 'IndentationError', 'IndexError', 'InterruptedError', 'IsADirectoryError', 'KeyError', 'KeyboardInterrupt', 'LookupError', 'MemoryError', 'ModuleNotFoundError', 'NameError', 'None', 'NotADirectoryError', 'NotImplemented', 'NotImplementedError', 'OSError', 'OverflowError', 'PendingDeprecationWarning', 'PermissionError', 'ProcessLookupError', 'RecursionError', 'ReferenceError', 'ResourceWarning', 'RuntimeError', 'RuntimeWarning', 'StopAsyncIteration', 'StopIteration', 'SyntaxError', 'SyntaxWarning', 'SystemError', 'SystemExit', 'TabError', 'TimeoutError', 'True', 'TypeError', 'UnboundLocalError', 'UnicodeDecodeError', 'UnicodeEncodeError', 'UnicodeError', 'UnicodeTranslateError', 'UnicodeWarning', 'UserWarning', 'ValueError', 'Warning', 'ZeroDivisionError', '__IPYTHON__', '__build_class__', '__debug__', '__doc__', '__import__', '__loader__', '__name__', '__package__', '__spec__', 'abs', 'all', 'any', 'ascii', 'bin', 'bool', 'breakpoint', 'bytearray', 'bytes', 'callable', 'chr', 'classmethod', 'compile', 'complex', 'copyright', 'credits', 'delattr', 'dict', 'dir', 'display', 'divmod', 'enumerate', 'eval', 'exec', 'execfile', 'filter', 'float', 'format', 'frozenset', 'get_ipython', 'getattr', 'globals', 'hasattr', 'hash', 'help', 'hex', 'id', 'input', 'int', 'isinstance', 'issubclass', 'iter', 'len', 'license', 'list', 'locals', 'map', 'max', 'memoryview', 'min', 'next', 'object', 'oct', 'open', 'ord', 'pow', 'print', 'property', 'range', 'repr', 'reversed', 'round', 'runfile', 'set', 'setattr', 'slice', 'sorted', 'staticmethod', 'str', 'sum', 'super', 'tuple', 'type', 'vars', 'zip']\n"
     ]
    }
   ],
   "source": [
    "print(dir(__builtin__))"
   ]
  },
  {
   "cell_type": "code",
   "execution_count": 1,
   "id": "813499b8",
   "metadata": {},
   "outputs": [
    {
     "name": "stdout",
     "output_type": "stream",
     "text": [
      "------------- abs() ----------\n",
      "10\n"
     ]
    }
   ],
   "source": [
    "print('------------- abs() ----------')\n",
    "# abx(x) : x의 절대값 반환\n",
    "print(abs(-10))"
   ]
  },
  {
   "cell_type": "code",
   "execution_count": 4,
   "id": "e939d32d",
   "metadata": {},
   "outputs": [
    {
     "name": "stdout",
     "output_type": "stream",
     "text": [
      "Help on built-in function all in module builtins:\n",
      "\n",
      "all(iterable, /)\n",
      "    Return True if bool(x) is True for all values x in the iterable.\n",
      "    \n",
      "    If the iterable is empty, return True.\n",
      "\n",
      "None\n"
     ]
    }
   ],
   "source": [
    "print(help(all)) # 모든 요소가 참이면 True, 아니면 False\n",
    "\n",
    "#iterable   : 반복가능한 자료형1, 각각의 요소를 하나씩 리턴하는 형태\n",
    "# for문을 사용할 수 있는 자료형 -> 리스트, 튜플, 셋, 딕셔너리(사전형)"
   ]
  },
  {
   "cell_type": "code",
   "execution_count": 2,
   "id": "650fcc21",
   "metadata": {},
   "outputs": [
    {
     "name": "stdout",
     "output_type": "stream",
     "text": [
      "True\n",
      "False\n"
     ]
    }
   ],
   "source": [
    "print(all([1,2,3]))# True\n",
    "print(all([0,1,2,3])) # False"
   ]
  },
  {
   "cell_type": "code",
   "execution_count": 6,
   "id": "423c9811",
   "metadata": {},
   "outputs": [
    {
     "name": "stdout",
     "output_type": "stream",
     "text": [
      "Help on built-in function any in module builtins:\n",
      "\n",
      "any(iterable, /)\n",
      "    Return True if bool(x) is True for any x in the iterable.\n",
      "    \n",
      "    If the iterable is empty, return False.\n",
      "\n",
      "None\n"
     ]
    }
   ],
   "source": [
    "print(help(any)) # 하나라도 참이면 True, 모두 거짓이면 False\n",
    "# all, any, in(data or date or ...), not in(data and data...)\n",
    "#모두 세트"
   ]
  },
  {
   "cell_type": "code",
   "execution_count": 5,
   "id": "6d143418",
   "metadata": {},
   "outputs": [
    {
     "name": "stdout",
     "output_type": "stream",
     "text": [
      "False\n",
      "True\n",
      "False\n",
      "False\n",
      "True\n"
     ]
    }
   ],
   "source": [
    "print(any([0,0,0])) # False\n",
    "print(any([0,1,2,3])) # True\n",
    "print(any([0,\"\",[]])) # False, 빈문자열, 빈리스트는  Flase\n",
    "print(any([None,None])) # False\n",
    "print(any([True,True,2,3])) # True"
   ]
  },
  {
   "cell_type": "code",
   "execution_count": 7,
   "id": "c53c7d69",
   "metadata": {},
   "outputs": [
    {
     "name": "stdout",
     "output_type": "stream",
     "text": [
      "a\n",
      "A\n",
      "\r\n"
     ]
    }
   ],
   "source": [
    "# 아스키코드 값에 해당하는 문자를 리턴한다.\n",
    "print(chr(97)) #a\n",
    "print(chr(65)) #A\n",
    "print(chr(13)) #ente"
   ]
  },
  {
   "cell_type": "code",
   "execution_count": 20,
   "id": "8f7bad20",
   "metadata": {},
   "outputs": [
    {
     "name": "stdout",
     "output_type": "stream",
     "text": [
      "97\n",
      "48\n",
      "10\n",
      "32\n",
      "13\n"
     ]
    }
   ],
   "source": [
    "print(ord('a')) #97\n",
    "print(ord('0')) #48\n",
    "print(ord('\\n')) #10(엔터가 아닌 new line)\n",
    "print(ord(' ')) # 32\n",
    "print(ord('\\r')) # 13 : enter"
   ]
  },
  {
   "cell_type": "code",
   "execution_count": 21,
   "id": "95d9e61b",
   "metadata": {},
   "outputs": [
    {
     "name": "stdout",
     "output_type": "stream",
     "text": [
      "(2, 1)\n",
      "1\n"
     ]
    }
   ],
   "source": [
    "#divmod(a,b) : a를 b로 나눈 몫과 나머지를 튜플 형태로 리턴한다.\n",
    "print(divmod(7,3)) #(2, 1)\n",
    "print(7 % 3) # 나머지"
   ]
  },
  {
   "cell_type": "code",
   "execution_count": 23,
   "id": "b12ac8be",
   "metadata": {
    "scrolled": true
   },
   "outputs": [],
   "source": [
    "# print(help(enumerate))  # -> enumerate(iterable, start=0)\n",
    "# 반복의 객체와 인덱스 값을 포함해서 리턴, start로 인덱스 수치 지정"
   ]
  },
  {
   "cell_type": "code",
   "execution_count": 24,
   "id": "263e7aec",
   "metadata": {},
   "outputs": [
    {
     "name": "stdout",
     "output_type": "stream",
     "text": [
      "<enumerate object at 0x7f7f014b1280>\n",
      "(0, 'kim')\n",
      "(1, 'lee')\n",
      "(2, 'park')\n"
     ]
    }
   ],
   "source": [
    "print(enumerate(['kim','lee','park'])) #<enumerate object at 0x0000028FE5DFF380>\n",
    "# 반복 요소로 사용\n",
    "for name in enumerate(['kim','lee','park']) :\n",
    "    print(name)\n",
    "    \n",
    "# 무작위 데이터 -> 데이터 가공(EDA) -> 특징 추출 -> 도메인별 분류\n",
    "#  -> [새로운 사용자 데이터 셋] -> 논문 -> 이상치 제거등등 증명 -> 스토리지(정형, 비정형)\n",
    "# -> DE(MR / ML) -> [영상 프로세싱] -> DL(분류, 특징추출, 세그먼테이션)"
   ]
  },
  {
   "cell_type": "code",
   "execution_count": 26,
   "id": "3c01355f",
   "metadata": {},
   "outputs": [
    {
     "name": "stdout",
     "output_type": "stream",
     "text": [
      "0 kim\n",
      "1 lee\n",
      "2 park\n",
      "1 kim\n",
      "2 lee\n",
      "3 park\n",
      "101 kim\n",
      "102 lee\n",
      "103 park\n"
     ]
    }
   ],
   "source": [
    "for i, name in enumerate(['kim','lee','park']) :\n",
    "    print(i, name)\n",
    "\n",
    "for i, name in enumerate(['kim','lee','park'],start=1) :\n",
    "    print(i, name)\n",
    "    \n",
    "for i, name in enumerate(['kim','lee','park'],start=101) :\n",
    "    print(i, name)"
   ]
  },
  {
   "cell_type": "raw",
   "id": "47196544",
   "metadata": {},
   "source": [
    " # filter(function or None, iterable) -> 반복의 객체를 function 으로 임의로 필터링해서 리턴 _filter object"
   ]
  },
  {
   "cell_type": "code",
   "execution_count": 27,
   "id": "0c626126",
   "metadata": {},
   "outputs": [
    {
     "name": "stdout",
     "output_type": "stream",
     "text": [
      "<filter object at 0x7f7ef0483310>\n",
      "[5, 10]\n"
     ]
    }
   ],
   "source": [
    "def positive(x) :\n",
    "    return x > 0 # True/False로 반환 양수만 반환\n",
    "\n",
    "print(filter(positive,[0,-1,5,-7,10]))\n",
    "print(list(filter(positive,[0,-1,5,-7,10])))"
   ]
  },
  {
   "cell_type": "code",
   "execution_count": 10,
   "id": "fd2caf7d",
   "metadata": {},
   "outputs": [
    {
     "name": "stdout",
     "output_type": "stream",
     "text": [
      "[2, 4, 6, 8]\n"
     ]
    }
   ],
   "source": [
    "def even_n(x) : # 짝수만 반환\n",
    "    if x% 2 == 0 :\n",
    "        return x\n",
    "print(list(filter(even_n,[0,1,2,3,4,5,6,7,8])))"
   ]
  },
  {
   "cell_type": "code",
   "execution_count": 30,
   "id": "92807a26",
   "metadata": {},
   "outputs": [
    {
     "name": "stdout",
     "output_type": "stream",
     "text": [
      "[60, 40, 35, 40, 30]\n"
     ]
    }
   ],
   "source": [
    "# 리스트 임의 데이터를 25보다 큰 데이터만 필터링하자.\n",
    "\n",
    "my_list =[20, 60, 40, 35, 40,10,20,30]\n",
    "res = []\n",
    "\n",
    "for num in my_list:\n",
    "    if num >= 25:\n",
    "        res.append(num)\n",
    "        \n",
    "        \n",
    "print(res)"
   ]
  },
  {
   "cell_type": "code",
   "execution_count": 31,
   "id": "2e66d9ac",
   "metadata": {},
   "outputs": [],
   "source": [
    "#q2) q1의 원형을 filter()로 이용해보자.\n",
    "my_list =[20, 60, 40, 35, 40,10,20,30]\n",
    "\n",
    "def myfun(num):\n",
    "        num >= 25\n",
    "\n",
    "res = list(filter(myfun, my_list))"
   ]
  },
  {
   "cell_type": "code",
   "execution_count": 33,
   "id": "5998e8cf",
   "metadata": {},
   "outputs": [
    {
     "name": "stdout",
     "output_type": "stream",
     "text": [
      "[60, 40, 35, 40, 30]\n"
     ]
    }
   ],
   "source": [
    "#q3) q2를 람다식으로 변환해보자.\n",
    "\n",
    "\n",
    "res = list(filter(lambda num : num >= 25, my_list))\n",
    "print(res)"
   ]
  },
  {
   "cell_type": "code",
   "execution_count": 39,
   "id": "6af0c45f",
   "metadata": {},
   "outputs": [
    {
     "name": "stdout",
     "output_type": "stream",
     "text": [
      "[['apple', 2000], ['blueberry', 7500]]\n"
     ]
    }
   ],
   "source": [
    "#q4) 이중 리스트를 필터링 해보자.  과일이 1500 이상만 추출해보자.\n",
    "# .json (동고db) -> mongofiles.exe -> 파일 작업, 병렬 작업, 분산 시스템(샤딩, 복제)\n",
    "fruits = [['apple', 2000],\n",
    "          ['kiwi', 1100],\n",
    "          ['banana', 1400],\n",
    "          ['blueberry', 7500]]\n",
    "\n",
    "res = list(filter(lambda num : num[1] >= 1500, fruits))\n",
    "print(res)"
   ]
  },
  {
   "cell_type": "code",
   "execution_count": 42,
   "id": "334d23aa",
   "metadata": {},
   "outputs": [
    {
     "name": "stdout",
     "output_type": "stream",
     "text": [
      "[(0, 'c'), (1, 'd'), (2, 'e')]\n",
      "{0: 'c', 1: 'd', 2: 'e'}\n"
     ]
    }
   ],
   "source": [
    "# q5) dict타입을 필터링 해보자.\n",
    "m_dict = {-2:'a', -1:'b', 0:'c', 1:'d', 2:'e'}\n",
    "#m_dict.items()\n",
    "\n",
    "res = list(filter(lambda num : num[0] >= 0 , m_dict.items()))\n",
    "print(res)\n",
    "\n",
    "new_dict = dict(res)\n",
    "print(new_dict)\n"
   ]
  },
  {
   "cell_type": "code",
   "execution_count": 51,
   "id": "70017747",
   "metadata": {},
   "outputs": [
    {
     "name": "stdout",
     "output_type": "stream",
     "text": [
      "[(0, 'c'), (1, 'd'), (2, 'e')]\n"
     ]
    }
   ],
   "source": [
    "# q5) dict타입을 필터링 해보자.\n",
    "m_dict = {-2:'a', -1:'b', 0:'c', 1:'d', 2:'e'}\n",
    "#m_dict.items()\n",
    "\n",
    "res = list(filter(lambda num : num[0] >= 0, m_dict.items()))\n",
    "print(res)"
   ]
  },
  {
   "cell_type": "code",
   "execution_count": 48,
   "id": "33eff882",
   "metadata": {},
   "outputs": [
    {
     "name": "stdout",
     "output_type": "stream",
     "text": [
      "dict_items([(-2, 'a'), (-1, 'b'), (0, 'c'), (1, 'd'), (2, 'e')])\n",
      "[(-2, 'a')]\n",
      "{-2: 'a'}\n"
     ]
    }
   ],
   "source": [
    "# q6) dict타입을 필터링 해보자.\n",
    "m_dict = {-2:'a', -1:'b', 0:'c', 1:'d', 2:'e'}\n",
    "#m_dict.items()\n",
    "\n",
    "print(m_dict.items())\n",
    "res = list(filter(lambda num : num[1] == 'a' , m_dict.items()))\n",
    "print(res)\n",
    "\n",
    "new_dict = dict(res)\n",
    "print(new_dict)\n"
   ]
  },
  {
   "cell_type": "code",
   "execution_count": 49,
   "id": "fe1b2218",
   "metadata": {},
   "outputs": [
    {
     "name": "stdout",
     "output_type": "stream",
     "text": [
      "{0: 'c', 1: 'd', 2: 'e'}\n"
     ]
    }
   ],
   "source": [
    "# q7) dict 타입을 필터링 해보자. 키값이 0 이상만 필터링 해보자. 내포된 for문으로 구현해보자.\n",
    "\n",
    "m_dict = {-2:'a', -1:'b', 0:'c', 1:'d', 2:'e'}\n",
    "\n",
    "res = { k : v for k, v in m_dict.items() if k >= 0}\n",
    "print(res)\n",
    "\n",
    "new_dict = dict(res)\n",
    "print(new_dict)\n",
    "\n"
   ]
  },
  {
   "cell_type": "code",
   "execution_count": 49,
   "id": "5c54388a",
   "metadata": {},
   "outputs": [
    {
     "name": "stdout",
     "output_type": "stream",
     "text": [
      "{0: 'c', 1: 'd', 2: 'e'}\n"
     ]
    }
   ],
   "source": [
    "# q8) dict 타입을 필터링 해보자. 값이 a 필터링 해보자. 내포된 for문으로 구현해보자.\n",
    "\n",
    "m_dict = {-2:'a', -1:'b', 0:'c', 1:'d', 2:'e'}\n",
    "\n",
    "res = { k : v for k, v in m_dict.items() if k == 'a'}\n",
    "print(res)\n",
    "\n",
    "new_dict = dict(res)\n",
    "print(new_dict)"
   ]
  },
  {
   "cell_type": "code",
   "execution_count": 73,
   "id": "84d52d64",
   "metadata": {},
   "outputs": [
    {
     "name": "stdout",
     "output_type": "stream",
     "text": [
      "d\n",
      "dict_items([(-2, 'a'), (-1, 'b'), (4, 'c'), (1, 'd'), (3, 'e')])\n",
      "{4: 'c', 1: 'd', 3: 'e'}\n"
     ]
    }
   ],
   "source": [
    "# q9) for문으로 구현해보자.\n",
    "#for 키, 값 in 딕셔너리.items():\n",
    "#    반복할 코드\n",
    "\n",
    "\n",
    "m_dict = {-2:'a', -1:'b', 4:'c', 1:'d', 3:'e'}\n",
    "res = {}\n",
    "print(m_dict[1])   # 딕셔너리는 리스트와 다르게 [x]가 인덱스가 아니라 키값을 말함\n",
    "print(m_dict.items())\n",
    "for k, v in m_dict.items():\n",
    "    if k >= 0 :\n",
    "        res[k] = v\n",
    "    \n",
    "print(res)\n"
   ]
  },
  {
   "cell_type": "markdown",
   "id": "da2e3b72",
   "metadata": {},
   "source": [
    "파이썬에서 10진수를 16진수 문자열로 변환하는 방법\n",
    "1. hex()\n",
    "2. format()\n",
    "3. f-string : f'{}'"
   ]
  },
  {
   "cell_type": "code",
   "execution_count": 11,
   "id": "1218a9d2",
   "metadata": {},
   "outputs": [
    {
     "name": "stdout",
     "output_type": "stream",
     "text": [
      "\n",
      "------------hex()------------\n",
      "0x7\n",
      "<class 'str'>\n",
      "0xa\n",
      "0x4d2\n"
     ]
    }
   ],
   "source": [
    "print('\\n------------hex()------------')\n",
    "x = 0x569F # 16진수값 저장\n",
    "# 정수를 0x 접두사가 붙는 소문자 16진수 문자열로 변환\n",
    "# hex(7)\n",
    "print(hex(7)) #0x7\n",
    "print(type(hex(7))) #<class 'str'>\n",
    "print(hex(10)) #0xa\n",
    "print(hex(1234)) #0x4d2my_list =[20, 60, 40, 35, 40,10,20,30]\n",
    "res = []"
   ]
  },
  {
   "cell_type": "code",
   "execution_count": 75,
   "id": "90379535",
   "metadata": {},
   "outputs": [
    {
     "name": "stdout",
     "output_type": "stream",
     "text": [
      "\n",
      " 2. ------------------format()----------------\n",
      "0xff\n",
      "0XFF\n",
      "ff\n",
      "FF\n"
     ]
    }
   ],
   "source": [
    "print('\\n 2. ------------------format()----------------')\n",
    "# #x:0xff    #x:0Xff     x: ff    X :0xFF\n",
    "\n",
    "su = 255\n",
    "hex = format(su, '#x')\n",
    "print(hex)\n",
    "\n",
    "hex = format(su, '#X')\n",
    "print(hex)\n",
    "\n",
    "hex = format(su, 'x')\n",
    "print(hex)\n",
    "\n",
    "hex = format(su, 'X')\n",
    "print(hex)\n"
   ]
  },
  {
   "cell_type": "code",
   "execution_count": 77,
   "id": "11f1f1d1",
   "metadata": {},
   "outputs": [
    {
     "name": "stdout",
     "output_type": "stream",
     "text": [
      "\n",
      " 3. ------------------f-string----------------\n",
      " 0xff\n",
      " 0XFF\n",
      " ff\n",
      " FF\n"
     ]
    }
   ],
   "source": [
    "print('\\n 3. ------------------f-string----------------')\n",
    "# #x:0xff    #x:0Xff     x: ff    X: FF\n",
    "\n",
    "su = 255\n",
    "hex = f'{su : #x}'\n",
    "print(hex)\n",
    "\n",
    "hex = f'{su : #X}'\n",
    "print(hex)\n",
    "\n",
    "hex = f'{su : x}'\n",
    "print(hex)\n",
    "\n",
    "hex = f'{su : X}'\n",
    "print(hex)\n"
   ]
  },
  {
   "cell_type": "code",
   "execution_count": null,
   "id": "dab94098",
   "metadata": {},
   "outputs": [],
   "source": []
  },
  {
   "cell_type": "code",
   "execution_count": 12,
   "id": "26a21ba2",
   "metadata": {},
   "outputs": [
    {
     "name": "stdout",
     "output_type": "stream",
     "text": [
      "<map object at 0x000002801D79FD00>\n",
      "[2, 3, 4, 5, 6]\n"
     ]
    }
   ],
   "source": [
    "def increase(x) : # x값을 전달받아 1 증가후 반환 하는 함수\n",
    "    return x + 1\n",
    "\n",
    "print(map(increase,[1,2,3,4,5])) #<map object at 0x000001FB43013DF0>\n",
    "print(list(map(increase,[1,2,3,4,5])))"
   ]
  },
  {
   "cell_type": "code",
   "execution_count": 78,
   "id": "d6dcaab3",
   "metadata": {},
   "outputs": [
    {
     "name": "stdout",
     "output_type": "stream",
     "text": [
      "\n",
      "--- pow() ---\n",
      "1000\n",
      "\n",
      "--- round() ---\n",
      "3.142\n",
      "3.0\n",
      "120.0\n",
      "100.0\n",
      "1000.0\n",
      "\n",
      "---- sum() ----\n",
      "15\n",
      "24\n"
     ]
    }
   ],
   "source": [
    "print(\"\\n--- pow() ---\")\n",
    "# 제곱한 결과값을 반환\n",
    "print(pow(10,3))\n",
    "\n",
    "print(\"\\n--- round() ---\")\n",
    "#  실수를 반올림하여 반환\n",
    "# round(number, ndigits) ndigits:표현할 소수 이하 자리수\n",
    "print(round(3.141592,3))\n",
    "print(round(3.141592,0))\n",
    "print(round(123.141592,-1))\n",
    "print(round(123.141592,-2))\n",
    "print(round(1233.141592,-3))\n",
    "\n",
    "print(\"\\n---- sum() ----\")\n",
    "# sum(iterable)\n",
    "print(sum([1,2,3,4,5]))\n",
    "print(sum((3,5,7,9)))"
   ]
  },
  {
   "cell_type": "code",
   "execution_count": 85,
   "id": "d7ea387f",
   "metadata": {},
   "outputs": [
    {
     "name": "stdout",
     "output_type": "stream",
     "text": [
      "\n",
      "---- zip ----\n",
      "<zip object at 0x7f7f10ba9200>\n",
      "[(1, 4), (2, 5), (3, 6)]\n",
      "(1, 4)\n"
     ]
    }
   ],
   "source": [
    "print(\"\\n---- zip ----\")\n",
    "# zip(*iterable) : 각 iterable에서 동일한 인덱스의 요소를 추출하여 묶어서 튜플형태로 반환\n",
    "# zip 객체로 반환하고 내부에 iterable 자료형으로 구성되어 있으므로 형변환해서 사용\n",
    "a = zip([1,2,3],[4,5,6])\n",
    "print(a)\n",
    "a = list(zip([1,2,3],[4,5,6]))\n",
    "print(a)\n",
    "print(a[0])\n",
    "\n"
   ]
  },
  {
   "cell_type": "code",
   "execution_count": 15,
   "id": "fb359287",
   "metadata": {},
   "outputs": [
    {
     "name": "stdout",
     "output_type": "stream",
     "text": [
      "(('apple', 300), ('pear', 250), ('peach', 400))\n",
      "{'apple': 300, 'pear': 250, 'peach': 400}\n"
     ]
    }
   ],
   "source": [
    "# zip() 함수를 사용해서 튜플로부터 딕셔너리 생성\n",
    "keys = ('apple','pear','peach')\n",
    "vals = (300,250,400)\n",
    "print(tuple(zip(keys,vals)))\n",
    "result = dict(zip(keys,vals))\n",
    "print(result) #{'apple': 300, 'pear': 250, 'peach': 400}"
   ]
  }
 ],
 "metadata": {
  "kernelspec": {
   "display_name": "Python 3 (ipykernel)",
   "language": "python",
   "name": "python3"
  },
  "language_info": {
   "codemirror_mode": {
    "name": "ipython",
    "version": 3
   },
   "file_extension": ".py",
   "mimetype": "text/x-python",
   "name": "python",
   "nbconvert_exporter": "python",
   "pygments_lexer": "ipython3",
   "version": "3.9.2"
  }
 },
 "nbformat": 4,
 "nbformat_minor": 5
}
