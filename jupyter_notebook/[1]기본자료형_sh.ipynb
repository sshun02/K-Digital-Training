{
 "cells": [
  {
   "cell_type": "markdown",
   "id": "02e35342",
   "metadata": {},
   "source": [
    "# 변수명을 식별하는 생성 규칙\n",
    "## 1. 변수명은 다음 문자로 섞어서 사용할 수 있다.\n",
    "\n",
    " - 소문자(a-z)\n",
    " - 대문자(A-Z)\n",
    " - 숫자(0-9)\n",
    " - 언더스코어(_)"
   ]
  },
  {
   "cell_type": "code",
   "execution_count": null,
   "id": "5cdeaa70",
   "metadata": {},
   "outputs": [],
   "source": [
    "100"
   ]
  },
  {
   "cell_type": "markdown",
   "id": "a86da373",
   "metadata": {},
   "source": [
    "# Q2) 리스트 자료형을 확인 해보자."
   ]
  },
  {
   "cell_type": "code",
   "execution_count": 11,
   "id": "19d7dfab",
   "metadata": {},
   "outputs": [
    {
     "data": {
      "text/plain": [
       "0"
      ]
     },
     "execution_count": 11,
     "metadata": {},
     "output_type": "execute_result"
    }
   ],
   "source": [
    "# Q2-1) 파이썬은 나열된 데이터의 색인 즉 인덱스를 0부터 시작한다\n",
    "my_list = [] # 빈 객체\n",
    "type(my_list)\n",
    "#my_list[0] = 100 # 길이가 즉 인덱스 없는 빈 객체이기 때문에 오류 발생\n",
    "len(my_list) # 리스트 객체의 길이를 리턴 -> 결과 : 0"
   ]
  },
  {
   "cell_type": "code",
   "execution_count": 13,
   "id": "53bfbf73",
   "metadata": {},
   "outputs": [
    {
     "name": "stdout",
     "output_type": "stream",
     "text": [
      "[100, 2, 3, 4, 5]\n",
      "[100, 2, 3, 3000, 5]\n"
     ]
    }
   ],
   "source": [
    "# Q2-2) 리스트 안의 값을 바꾸어보자.\n",
    "my_list = [1,2,3,4,5]\n",
    "type(my_list)\n",
    "my_list[0] = 100  # 리스트에 있는 인덱스 0 번째의 값을 100으로 바꾼다.\n",
    "len(my_list)\n",
    "print(my_list)\n",
    "my_list[3] = 3000 # 리스트에 있는 인덱스 3번째의 값을 3000으로 바꾼다.\n",
    "print(my_list)"
   ]
  },
  {
   "cell_type": "code",
   "execution_count": 22,
   "id": "bdd6ad31",
   "metadata": {},
   "outputs": [
    {
     "name": "stdout",
     "output_type": "stream",
     "text": [
      "1\n",
      "2\n",
      "3\n",
      "4\n",
      "[10, 20, 30]\n",
      "5\n",
      "6\n",
      "10\n",
      "20\n",
      "30\n"
     ]
    }
   ],
   "source": [
    "# Q2-3) \n",
    "my_list = [1,2,3,4,[10,20,30],5,6]\n",
    "type(my_list)\n",
    "\n",
    "for i in range(7):\n",
    "    print(my_list[i])\n",
    "\n",
    "for i in range(3):\n",
    "    print(my_list[4][i])\n"
   ]
  },
  {
   "cell_type": "code",
   "execution_count": 29,
   "id": "e6628dff",
   "metadata": {},
   "outputs": [
    {
     "name": "stdout",
     "output_type": "stream",
     "text": [
      "<class 'tuple'>\n",
      "1\n",
      "2\n",
      "3\n",
      "4\n",
      "(10, 20, 30)\n",
      "5\n",
      "6\n",
      "10\n",
      "20\n",
      "30\n"
     ]
    }
   ],
   "source": [
    "# Q3) 튜플 자료형을 확인 해보자. ()안에 임의의 객체를 순서있게 나열하는 자료형\n",
    "# 리스트와는 다르게 값(요소)을 변경할 수 없다.\n",
    "my_list = (1,2,3,4,(10,20,30),5,6)\n",
    "print(type(my_list))\n",
    "\n",
    "\n",
    "for i in range(7):\n",
    "    print(my_list[i])\n",
    "\n",
    "for i in range(3):\n",
    "    print(my_list[4][i])\n"
   ]
  },
  {
   "cell_type": "code",
   "execution_count": 31,
   "id": "6810d9f1",
   "metadata": {},
   "outputs": [
    {
     "name": "stdout",
     "output_type": "stream",
     "text": [
      "<class 'dict'>\n",
      "{'a': 'apple', 'i': '나는', 'am': '입니다.', 'python': '파이썬'}\n"
     ]
    }
   ],
   "source": [
    "# Q4) 사전형 자료형을 살펴 보자 {키:값}으로 선언된 요소로 순서 없는 자료형\n",
    "my_dict = {'a':'apple','i':'나는','am':'입니다.','python':'파이썬'}\n",
    "print(type(my_dict))\n",
    "print(my_dict)\n"
   ]
  },
  {
   "cell_type": "code",
   "execution_count": 33,
   "id": "d2686ea2",
   "metadata": {},
   "outputs": [
    {
     "name": "stdout",
     "output_type": "stream",
     "text": [
      "Help on built-in function values:\n",
      "\n",
      "values(...) method of builtins.dict instance\n",
      "    D.values() -> an object providing a view on D's values\n",
      "\n",
      "values =  dict_values(['apple', '나는', '입니다.', '파이썬'])\n",
      "keys =  dict_keys(['a', 'i', 'am', 'python'])\n"
     ]
    }
   ],
   "source": [
    "help(my_dict.values)\n",
    "print(\"values = \",my_dict.values())\n",
    "print(\"keys = \", my_dict.keys())"
   ]
  },
  {
   "cell_type": "code",
   "execution_count": 8,
   "id": "cb970ef1",
   "metadata": {},
   "outputs": [
    {
     "name": "stdout",
     "output_type": "stream",
     "text": [
      "<class 'builtin_function_or_method'>\n"
     ]
    }
   ],
   "source": [
    "my_a = 100\n",
    "my_b = 200\n",
    "my_c = 300\n",
    "print(type(my_a.to_bytes))"
   ]
  },
  {
   "cell_type": "code",
   "execution_count": 9,
   "id": "a3bdb91f",
   "metadata": {},
   "outputs": [
    {
     "name": "stdout",
     "output_type": "stream",
     "text": [
      "hap =  600\n"
     ]
    }
   ],
   "source": [
    "hap = my_a + my_b + my_c\n",
    "print(\"hap = \",hap)"
   ]
  },
  {
   "cell_type": "code",
   "execution_count": 21,
   "id": "4a78aad4",
   "metadata": {},
   "outputs": [
    {
     "name": "stdout",
     "output_type": "stream",
     "text": [
      "[1, 2, 3, 4, 5]\n"
     ]
    }
   ],
   "source": [
    "my_list = []\n",
    "for i in range(0, 5):\n",
    "    my_list.append(i+1)\n",
    "print(my_list)"
   ]
  },
  {
   "cell_type": "code",
   "execution_count": 27,
   "id": "0f5dce92",
   "metadata": {},
   "outputs": [
    {
     "name": "stdout",
     "output_type": "stream",
     "text": [
      "['__add__', '__class__', '__class_getitem__', '__contains__', '__delattr__', '__delitem__', '__dir__', '__doc__', '__eq__', '__format__', '__ge__', '__getattribute__', '__getitem__', '__gt__', '__hash__', '__iadd__', '__imul__', '__init__', '__init_subclass__', '__iter__', '__le__', '__len__', '__lt__', '__mul__', '__ne__', '__new__', '__reduce__', '__reduce_ex__', '__repr__', '__reversed__', '__rmul__', '__setattr__', '__setitem__', '__sizeof__', '__str__', '__subclasshook__', 'append', 'clear', 'copy', 'count', 'extend', 'index', 'insert', 'pop', 'remove', 'reverse', 'sort']\n"
     ]
    },
    {
     "data": {
      "text/plain": [
       "0"
      ]
     },
     "execution_count": 27,
     "metadata": {},
     "output_type": "execute_result"
    }
   ],
   "source": [
    "print(dir(my_list))\n",
    "my_list.count(6)"
   ]
  }
 ],
 "metadata": {
  "kernelspec": {
   "display_name": "Python 3 (ipykernel)",
   "language": "python",
   "name": "python3"
  },
  "language_info": {
   "codemirror_mode": {
    "name": "ipython",
    "version": 3
   },
   "file_extension": ".py",
   "mimetype": "text/x-python",
   "name": "python",
   "nbconvert_exporter": "python",
   "pygments_lexer": "ipython3",
   "version": "3.9.2"
  }
 },
 "nbformat": 4,
 "nbformat_minor": 5
}
