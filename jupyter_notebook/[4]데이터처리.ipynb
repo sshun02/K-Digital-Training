{
 "cells": [
  {
   "cell_type": "markdown",
   "metadata": {
    "id": "CpUDl8U4dqqf"
   },
   "source": [
    "## 1. 데이터(data)\n",
    "\n",
    "> **개념**\n",
    "* '자료'라는 뜻\n",
    "\n",
    "> **형식**\n",
    "* 데이터 형식은 다양\n",
    "  * 숫자만 해도 분류 방법에 따라 다양하게 부름 \n",
    "    * 진법: 2진수, 8진수, 10진수, 16진수 -> int(값, 진법) -> int(x, base=10)\n",
    "           - int()로 진수를 지정할 수 있고, hex, oct등의 함수로 값을 표현한다.\n",
    "           - dir(__builtins__)\n",
    "* 수체계: 정수, 실수(부동소수점 수)\n",
    "* 데이터 형식(data type)에 대한 호칭\n",
    "  * 자료형\n",
    "  * 데이터 타입\n",
    "  * 자료 유형"
   ]
  },
  {
   "cell_type": "markdown",
   "metadata": {
    "id": "hwFlMnlWfXrz"
   },
   "source": [
    "## 2. 데이터 처리(data processing)\n",
    "> **정의**\n",
    "* 데이터를 한 가지 형식에서 다른 형식으로 바꾸는 일\n",
    "  * 정보를 자료(data)로 \n",
    "  * 자료를 정보로\n",
    "\n",
    "> **주의**\n",
    "* 데이터 처리는 광범위한 개념\n",
    "* 그러므로 데이터 분석은 그 하위 개념\n",
    "\n",
    "> **목적**\n",
    "* 데이터를 정제해 정보 생산\n",
    "* 정보를 정제해 지식 생산\n",
    "* 정보도 지식 생산을 위해 처리되면 데이터로 간주\n",
    "* ex) 데이터 표준화\n",
    "\n",
    "> **의미 변화**\n",
    "* 원래의 데이터 처리라는 말은 정보 처리로 대체됨\n",
    "  * 데이터 처리 시스템 --> 정보 처리 시스템\n",
    "* 여기서 말하는 데이터 처리는 저수준 정보 처리를 의미함\n",
    "\n",
    "> **방법**\n",
    "* 각종 연산자나 함수를 사용해서 처리함\n",
    "* 데이터처리시 연산의 결과로 민감한 것은 데이터 오버플로, 언더플로\n",
    "\n",
    "- 데이터 분석 플로우\n",
    "\n",
    "* 데이터 수집 -> [도메인 -> 이상치제거 -> 커스텀 데이터] -> [분석모형 -> 학습 -> 검증] -> 배포\n",
    "* 데이터 오버플로, 언더플로 -> [모형작업(ML, DL)]시 정확도는 높았으나 실제 서비스 또는 테스트할 데이터에서\n",
    "  결과의 정확도 낮고 오류가 높게 나타날 경우\n",
    "  -> [해결방법] 학습 데이터 증가, 기존 데이터 정확도 낮은 것은 제거."
   ]
  },
  {
   "cell_type": "markdown",
   "metadata": {
    "id": "ro-8Qf8HcrwV"
   },
   "source": [
    "## 3. 변수(variable)\n"
   ]
  },
  {
   "cell_type": "code",
   "execution_count": 1,
   "metadata": {
    "colab": {
     "base_uri": "https://localhost:8080/"
    },
    "executionInfo": {
     "elapsed": 381,
     "status": "ok",
     "timestamp": 1628592563583,
     "user": {
      "displayName": "박진수",
      "photoUrl": "https://lh3.googleusercontent.com/a-/AOh14Givt_n9gun5TCzjvq5ASwWr2b4FAUXE7mJI_JAt1g=s64",
      "userId": "04216559503906939593"
     },
     "user_tz": -540
    },
    "id": "TbVMcQ25ipb1",
    "outputId": "85722d42-0449-432e-9627-b3aadd286580"
   },
   "outputs": [
    {
     "name": "stdout",
     "output_type": "stream",
     "text": [
      "3\n",
      "4\n"
     ]
    }
   ],
   "source": [
    "# var에 1을 대입(집어 넣기)한다.\n",
    "var = 3 # 여기서 var는 변수명, 여기서 1은 값(value)에 해당한다. \n",
    "        # 값이 곧 데이터이다.\n",
    "print(var)     # 변수명을 지정해 값을 나타내게 한다.\n",
    "print(var + 1) # 변수명에 값을 더할 수 있다."
   ]
  },
  {
   "cell_type": "code",
   "execution_count": 2,
   "metadata": {
    "colab": {
     "base_uri": "https://localhost:8080/"
    },
    "executionInfo": {
     "elapsed": 383,
     "status": "ok",
     "timestamp": 1628592568235,
     "user": {
      "displayName": "박진수",
      "photoUrl": "https://lh3.googleusercontent.com/a-/AOh14Givt_n9gun5TCzjvq5ASwWr2b4FAUXE7mJI_JAt1g=s64",
      "userId": "04216559503906939593"
     },
     "user_tz": -540
    },
    "id": "5xdhDvo7IoUv",
    "outputId": "9d64a060-4d11-47ac-9f82-49970d7cbf2c"
   },
   "outputs": [
    {
     "data": {
      "text/plain": [
       "140341277682032"
      ]
     },
     "execution_count": 2,
     "metadata": {},
     "output_type": "execute_result"
    }
   ],
   "source": [
    "# 참고: 변수가 가리키는 실제 메모리 주소를 알아보자.\n",
    "id(var)  # 파이썬 내장 함수인 id를 쓰면 그렇게 할 수 있다.\n",
    "         # 이를 통해 var라는 변수명이 실제로는 9411...로 시작되는 주소값을 담고 있음을 알 수 있다.\n",
    "         # 즉, 변수명은 사실은 주소값이 나타내는 메모리 장소를 가리키는 지시자(포인터)인 것이다."
   ]
  },
  {
   "cell_type": "code",
   "execution_count": 3,
   "metadata": {},
   "outputs": [
    {
     "name": "stdout",
     "output_type": "stream",
     "text": [
      "140341277682032\n",
      "140341277682032 \n",
      " 140341277682032\n"
     ]
    }
   ],
   "source": [
    "# 정수 값을 선언하게 되면 해당 타입의 클래스가 호출되어 값을 메모리에 생성된 영역으로 저장된다.\n",
    "# 3 -> int -> __init__ -> 동적할당된 영역에 메모리 로드 -> 참조형 -> 모든 클래스의 메소드를 호출\n",
    "\n",
    "var = 3  # int -> __init__ -> var 라는 int 클래스의 객체를 생성(__init__ = 생성자)했다.\n",
    "var02 = var \n",
    "var02\n",
    "print(id(3))\n",
    "print(id(var),'\\n',id(var02)) # var이 가진 3의 주소를 대입했다."
   ]
  },
  {
   "cell_type": "markdown",
   "metadata": {},
   "source": [
    "1. DS(data segment) : 자료 관리 영역\n",
    "2. CS(code segment) : 코드 관리 영역\n",
    "3. static : 정적영역 _ static(p), class(p), struct, union, 사용자함수(p) 를 선언하게 되면\n",
    "         주소를 관리하며 메모리를 정적으로 확보하는 공간\n",
    "4. heep : 자유영역공간 _ 프로그램이 실행 시, 메모리를 확보했다가(동적할당) 소거하는 공간\n",
    "5. stack : 고정공간 _ 지역변수 등 고정값들을 가진 공간\n"
   ]
  },
  {
   "cell_type": "code",
   "execution_count": 4,
   "metadata": {
    "colab": {
     "base_uri": "https://localhost:8080/"
    },
    "executionInfo": {
     "elapsed": 502,
     "status": "ok",
     "timestamp": 1628592578759,
     "user": {
      "displayName": "박진수",
      "photoUrl": "https://lh3.googleusercontent.com/a-/AOh14Givt_n9gun5TCzjvq5ASwWr2b4FAUXE7mJI_JAt1g=s64",
      "userId": "04216559503906939593"
     },
     "user_tz": -540
    },
    "id": "Fon7TiZJj7Bg",
    "outputId": "598f13bb-9c19-44b2-fd03-caf78650785b"
   },
   "outputs": [
    {
     "name": "stdout",
     "output_type": "stream",
     "text": [
      "3\n",
      "id 확인 :  140341277682032 140341277682032\n",
      "============================================\n",
      "4\n",
      "id 확인 :  140341277682064 140341277682032\n",
      "============================================\n",
      "3\n",
      "id 확인 :  140341277682032 140341277682032\n"
     ]
    }
   ],
   "source": [
    "# 변수의 값을 변수명으로 지정해도 된다.\n",
    "new_var = var  # var의 값이 new_var로 대입(할당)된다.\n",
    "print(new_var)\n",
    "print(\"id 확인 : \", id(new_var), id(var))\n",
    "print('============================================')\n",
    "\n",
    "\n",
    "new_var += 1\n",
    "print(new_var)\n",
    "print(\"id 확인 : \", id(new_var), id(var))\n",
    "print('============================================')\n",
    "\n",
    "new_var -= 1\n",
    "print(new_var)\n",
    "print(\"id 확인 : \", id(new_var), id(var))\n"
   ]
  },
  {
   "cell_type": "code",
   "execution_count": 5,
   "metadata": {
    "colab": {
     "base_uri": "https://localhost:8080/"
    },
    "executionInfo": {
     "elapsed": 377,
     "status": "ok",
     "timestamp": 1628592625043,
     "user": {
      "displayName": "박진수",
      "photoUrl": "https://lh3.googleusercontent.com/a-/AOh14Givt_n9gun5TCzjvq5ASwWr2b4FAUXE7mJI_JAt1g=s64",
      "userId": "04216559503906939593"
     },
     "user_tz": -540
    },
    "id": "s7yzcYZfkd66",
    "outputId": "0ea55378-f0d9-48c2-dc59-6740194c3efb"
   },
   "outputs": [
    {
     "name": "stdout",
     "output_type": "stream",
     "text": [
      "4\n"
     ]
    }
   ],
   "source": [
    "# 변수에 어떤 값을 추가할 수 있다.\n",
    "new_var = new_var + 1 # new_var은 앞에서 계산된 값을 담고 있습니다. 건드리지 마세요. \n",
    "print(new_var)"
   ]
  },
  {
   "cell_type": "code",
   "execution_count": 6,
   "metadata": {
    "colab": {
     "base_uri": "https://localhost:8080/"
    },
    "executionInfo": {
     "elapsed": 567,
     "status": "ok",
     "timestamp": 1628592626786,
     "user": {
      "displayName": "박진수",
      "photoUrl": "https://lh3.googleusercontent.com/a-/AOh14Givt_n9gun5TCzjvq5ASwWr2b4FAUXE7mJI_JAt1g=s64",
      "userId": "04216559503906939593"
     },
     "user_tz": -540
    },
    "id": "lxcqHnFPk-Bs",
    "outputId": "0d1f9923-2f43-4e50-e8e3-e6642342ad4f"
   },
   "outputs": [
    {
     "name": "stdout",
     "output_type": "stream",
     "text": [
      "7\n",
      "-1\n",
      "12\n",
      "0.75\n",
      "3\n"
     ]
    }
   ],
   "source": [
    "# 변수끼리 연산을 할 수 있다. \n",
    "print(var + new_var)\n",
    "print(var - new_var)\n",
    "print(var * new_var)\n",
    "print(var / new_var)\n",
    "print(var % new_var)"
   ]
  },
  {
   "cell_type": "code",
   "execution_count": 7,
   "metadata": {
    "colab": {
     "base_uri": "https://localhost:8080/"
    },
    "executionInfo": {
     "elapsed": 11,
     "status": "ok",
     "timestamp": 1628592628179,
     "user": {
      "displayName": "박진수",
      "photoUrl": "https://lh3.googleusercontent.com/a-/AOh14Givt_n9gun5TCzjvq5ASwWr2b4FAUXE7mJI_JAt1g=s64",
      "userId": "04216559503906939593"
     },
     "user_tz": -540
    },
    "id": "mZIkm9CblrQU",
    "outputId": "ade55afb-2f31-4dc1-a57e-2f982463f26a"
   },
   "outputs": [
    {
     "name": "stdout",
     "output_type": "stream",
     "text": [
      "7 -1 12 0.75 3\n"
     ]
    }
   ],
   "source": [
    "# 변수끼리 연산한 결과를 다른 변수에 넣을 수 있음 \n",
    "c = var + new_var\n",
    "d = var - new_var\n",
    "e = var * new_var\n",
    "f = var / new_var\n",
    "g = var % new_var\n",
    "print(c, d, e, f, g) # print 문에서 쉼표를 쓰면 여러 값을 한 번에 출력할 수 있다.\n"
   ]
  },
  {
   "cell_type": "markdown",
   "metadata": {
    "id": "dO4lTnmscuWd"
   },
   "source": [
    "## 4. 데이터 형식(data type), 데이터를 표현하는 방식\n",
    "* 자료형(data type), 자료유형, 데이터 타입 등으로 부름\n",
    "* 데이터를 프로그램 내에서 표현하는 방식이자, \n",
    "  * 우리 눈에 보이는 형식\n",
    "* 데이터를 컴퓨터 내에서 저장하는 방식\n",
    "  * 우리 눈에 보이지 않는 형식\n"
   ]
  },
  {
   "cell_type": "markdown",
   "metadata": {
    "id": "hm-GD5gZc66G"
   },
   "source": [
    "### 4.1 숫자"
   ]
  },
  {
   "cell_type": "code",
   "execution_count": 8,
   "metadata": {
    "colab": {
     "base_uri": "https://localhost:8080/"
    },
    "executionInfo": {
     "elapsed": 403,
     "status": "ok",
     "timestamp": 1628593071682,
     "user": {
      "displayName": "박진수",
      "photoUrl": "https://lh3.googleusercontent.com/a-/AOh14Givt_n9gun5TCzjvq5ASwWr2b4FAUXE7mJI_JAt1g=s64",
      "userId": "04216559503906939593"
     },
     "user_tz": -540
    },
    "id": "QVDYrOGrnP0V",
    "outputId": "e8926cfc-3daf-4de3-d3c6-8f62028dbf45"
   },
   "outputs": [
    {
     "name": "stdout",
     "output_type": "stream",
     "text": [
      "1 -1 0\n",
      "0\n"
     ]
    }
   ],
   "source": [
    "# 정수(integer) 형식 표현\n",
    "a = 1  # 양수\n",
    "b = -1 # 음수 \n",
    "c = 0  # 0 \n",
    "print(a, b, c)\n",
    "print(a + b + c)"
   ]
  },
  {
   "cell_type": "code",
   "execution_count": 9,
   "metadata": {
    "colab": {
     "base_uri": "https://localhost:8080/"
    },
    "executionInfo": {
     "elapsed": 393,
     "status": "ok",
     "timestamp": 1628593387021,
     "user": {
      "displayName": "박진수",
      "photoUrl": "https://lh3.googleusercontent.com/a-/AOh14Givt_n9gun5TCzjvq5ASwWr2b4FAUXE7mJI_JAt1g=s64",
      "userId": "04216559503906939593"
     },
     "user_tz": -540
    },
    "id": "jONG8cVGtj30",
    "outputId": "16480752-a8b7-48ed-f299-3f2a3c1f3730"
   },
   "outputs": [
    {
     "name": "stdout",
     "output_type": "stream",
     "text": [
      "0\n"
     ]
    }
   ],
   "source": [
    "d = 1 + (-1) + 1 + (-1)\n",
    "print(d)"
   ]
  },
  {
   "cell_type": "code",
   "execution_count": 10,
   "metadata": {
    "colab": {
     "base_uri": "https://localhost:8080/"
    },
    "executionInfo": {
     "elapsed": 731,
     "status": "ok",
     "timestamp": 1628593675773,
     "user": {
      "displayName": "박진수",
      "photoUrl": "https://lh3.googleusercontent.com/a-/AOh14Givt_n9gun5TCzjvq5ASwWr2b4FAUXE7mJI_JAt1g=s64",
      "userId": "04216559503906939593"
     },
     "user_tz": -540
    },
    "id": "VRMfRHVmnelV",
    "outputId": "7825844a-cbd2-4b41-b2f5-910bd8197cbb"
   },
   "outputs": [
    {
     "name": "stdout",
     "output_type": "stream",
     "text": [
      "1.2 -3.45 0.12345\n",
      "-2.12655\n"
     ]
    }
   ],
   "source": [
    "# 부동 소수점 수(floating point number) 형식 표현\n",
    "a = 1.2\n",
    "b = -3.45\n",
    "c = 0.12345\n",
    "print(a, b, c)\n",
    "print(a + b + c)"
   ]
  },
  {
   "cell_type": "code",
   "execution_count": 11,
   "metadata": {
    "colab": {
     "base_uri": "https://localhost:8080/"
    },
    "executionInfo": {
     "elapsed": 394,
     "status": "ok",
     "timestamp": 1628593718753,
     "user": {
      "displayName": "박진수",
      "photoUrl": "https://lh3.googleusercontent.com/a-/AOh14Givt_n9gun5TCzjvq5ASwWr2b4FAUXE7mJI_JAt1g=s64",
      "userId": "04216559503906939593"
     },
     "user_tz": -540
    },
    "id": "-ydKFwdjv4H3",
    "outputId": "b9d3544a-6654-4f38-e633-b628076f5889"
   },
   "outputs": [
    {
     "name": "stdout",
     "output_type": "stream",
     "text": [
      "4.52655\n"
     ]
    }
   ],
   "source": [
    "print(a - b - c)"
   ]
  },
  {
   "cell_type": "code",
   "execution_count": 12,
   "metadata": {
    "colab": {
     "base_uri": "https://localhost:8080/"
    },
    "executionInfo": {
     "elapsed": 407,
     "status": "ok",
     "timestamp": 1628593753403,
     "user": {
      "displayName": "박진수",
      "photoUrl": "https://lh3.googleusercontent.com/a-/AOh14Givt_n9gun5TCzjvq5ASwWr2b4FAUXE7mJI_JAt1g=s64",
      "userId": "04216559503906939593"
     },
     "user_tz": -540
    },
    "id": "UBEgQ8plwC_K",
    "outputId": "3c632e7d-c210-49e8-f2ec-1b19240ee583"
   },
   "outputs": [
    {
     "name": "stdout",
     "output_type": "stream",
     "text": [
      "3.45\n"
     ]
    }
   ],
   "source": [
    "print(-b)"
   ]
  },
  {
   "cell_type": "code",
   "execution_count": 13,
   "metadata": {
    "colab": {
     "base_uri": "https://localhost:8080/"
    },
    "executionInfo": {
     "elapsed": 456,
     "status": "ok",
     "timestamp": 1628593787475,
     "user": {
      "displayName": "박진수",
      "photoUrl": "https://lh3.googleusercontent.com/a-/AOh14Givt_n9gun5TCzjvq5ASwWr2b4FAUXE7mJI_JAt1g=s64",
      "userId": "04216559503906939593"
     },
     "user_tz": -540
    },
    "id": "6-XKS_H-wOUl",
    "outputId": "ee8d47ac-0294-4bb2-91fe-9efbcf86dd64"
   },
   "outputs": [
    {
     "name": "stdout",
     "output_type": "stream",
     "text": [
      "-0.511083\n"
     ]
    }
   ],
   "source": [
    "print(a * b * c)"
   ]
  },
  {
   "cell_type": "code",
   "execution_count": 14,
   "metadata": {
    "colab": {
     "base_uri": "https://localhost:8080/"
    },
    "executionInfo": {
     "elapsed": 363,
     "status": "ok",
     "timestamp": 1628593830633,
     "user": {
      "displayName": "박진수",
      "photoUrl": "https://lh3.googleusercontent.com/a-/AOh14Givt_n9gun5TCzjvq5ASwWr2b4FAUXE7mJI_JAt1g=s64",
      "userId": "04216559503906939593"
     },
     "user_tz": -540
    },
    "id": "vwX8HpEOn5QX",
    "outputId": "0f866a21-7b1b-4b2d-d8c9-00b43c29510b"
   },
   "outputs": [
    {
     "name": "stdout",
     "output_type": "stream",
     "text": [
      "1 1.1 0.0\n",
      "2.1\n"
     ]
    }
   ],
   "source": [
    "# 정수 표현과 부동 소수점 수(실수) 표현을 섞어 쓰기\n",
    "a = 1\n",
    "b = 1.1\n",
    "c = 0.             # 소수점 아래 숫자가 없다면 생략 가능하다.\n",
    "print(a, b, c)     # 출력할 때는 생략한 숫자 대신 .0이 출력된다.\n",
    "print(a + b + c)   # 정수 형식 데이터와 부동소수점 형식 데이터를 연산할 수 있다."
   ]
  },
  {
   "cell_type": "code",
   "execution_count": 15,
   "metadata": {
    "colab": {
     "base_uri": "https://localhost:8080/"
    },
    "executionInfo": {
     "elapsed": 367,
     "status": "ok",
     "timestamp": 1628593895894,
     "user": {
      "displayName": "박진수",
      "photoUrl": "https://lh3.googleusercontent.com/a-/AOh14Givt_n9gun5TCzjvq5ASwWr2b4FAUXE7mJI_JAt1g=s64",
      "userId": "04216559503906939593"
     },
     "user_tz": -540
    },
    "id": "ToYyhjHFwdUV",
    "outputId": "7186a7da-5f1a-4e9c-d554-0a71398fe6c9"
   },
   "outputs": [
    {
     "name": "stdout",
     "output_type": "stream",
     "text": [
      "14.0\n",
      "33.333333333333336\n",
      "33.333333333333336\n"
     ]
    }
   ],
   "source": [
    "a = 12.00\n",
    "b = 1.00\n",
    "c = 1.00 \n",
    "print(a + b + c)\n",
    "print(100/3)      #파이썬은 정수/정수를 해도 소수점이 출력된다. (실수로 처리)\n",
    "print(100/3.0)"
   ]
  },
  {
   "cell_type": "markdown",
   "metadata": {},
   "source": [
    "## float 시스템 값 확인"
   ]
  },
  {
   "cell_type": "code",
   "execution_count": 16,
   "metadata": {},
   "outputs": [
    {
     "name": "stdout",
     "output_type": "stream",
     "text": [
      "sys.float_info(max=1.7976931348623157e+308, max_exp=1024, max_10_exp=308, min=2.2250738585072014e-308, min_exp=-1021, min_10_exp=-307, dig=15, mant_dig=53, epsilon=2.220446049250313e-16, radix=2, rounds=1)\n",
      "sys.int_info(bits_per_digit=30, sizeof_digit=4)\n"
     ]
    },
    {
     "data": {
      "text/plain": [
       "float"
      ]
     },
     "execution_count": 16,
     "metadata": {},
     "output_type": "execute_result"
    }
   ],
   "source": [
    "import sys # 시스템 정보 모듈\n",
    "import os # 운영체제 정보 모듈\n",
    "\n",
    "\n",
    "print(sys.float_info)\n",
    "print(sys.int_info)\n",
    "\n",
    "var02 = 200000000000000000.\n",
    "type(var02)"
   ]
  },
  {
   "cell_type": "code",
   "execution_count": 134,
   "metadata": {},
   "outputs": [
    {
     "name": "stdout",
     "output_type": "stream",
     "text": [
      "실수의 환경설정 확인 :  Context(prec=4, rounding=ROUND_HALF_EVEN, Emin=-999999, Emax=999999, capitals=1, clamp=0, flags=[Inexact, Rounded], traps=[InvalidOperation, DivisionByZero, Overflow])\n",
      "실수의 환경설정 확인 :  ROUND_HALF_EVEN\n"
     ]
    }
   ],
   "source": [
    "import decimal # 소수자리수 및 표시하는 수치의 환경 정보\n",
    "#메소드의 이름을 선언할 때 setter&gatter\n",
    "#/set 을 시작하는 메소드 : 값 전달 및 변경\n",
    "#get 으로 시작하는 메소드 : 값을 리턴\n",
    "#                                    @int, float, decimal@\n",
    "\n",
    "#print(dir(decimal))\n",
    "print('실수의 환경설정 확인 : ', decimal.getcontext())\n",
    "print('실수의 환경설정 확인 : ', decimal.getcontext().rounding)\n",
    "#help(decimal.setcontext)\n",
    "#help(decimal.Context)"
   ]
  },
  {
   "cell_type": "code",
   "execution_count": 135,
   "metadata": {},
   "outputs": [
    {
     "name": "stdout",
     "output_type": "stream",
     "text": [
      "실수의 환경설정 확인 : Context(prec=4, rounding=ROUND_HALF_EVEN, Emin=-999999, Emax=999999, capitals=1, clamp=0, flags=[], traps=[InvalidOperation, DivisionByZero, Overflow])\n"
     ]
    },
    {
     "data": {
      "text/plain": [
       "Decimal('33.33')"
      ]
     },
     "execution_count": 135,
     "metadata": {},
     "output_type": "execute_result"
    }
   ],
   "source": [
    "c = decimal.Context(prec=4) # -> 환경설정 지정 4비트만 할당\n",
    "decimal.setcontext(c)\n",
    "print(\"실수의 환경설정 확인 :\", decimal.getcontext())\n",
    "decimal.Decimal(100)/decimal.Decimal(3)"
   ]
  },
  {
   "cell_type": "code",
   "execution_count": 143,
   "metadata": {
    "colab": {
     "base_uri": "https://localhost:8080/"
    },
    "executionInfo": {
     "elapsed": 521,
     "status": "ok",
     "timestamp": 1628594251380,
     "user": {
      "displayName": "박진수",
      "photoUrl": "https://lh3.googleusercontent.com/a-/AOh14Givt_n9gun5TCzjvq5ASwWr2b4FAUXE7mJI_JAt1g=s64",
      "userId": "04216559503906939593"
     },
     "user_tz": -540
    },
    "id": "uxowKCrmoei7",
    "outputId": "0c434dbe-c417-4e97-b1de-20660aef8616"
   },
   "outputs": [
    {
     "name": "stdout",
     "output_type": "stream",
     "text": [
      "15\n",
      "161\n",
      "176\n",
      "0xa1\n",
      "0o17\n"
     ]
    }
   ],
   "source": [
    "# 8진수와 16진수 표현.\n",
    "a = 0o17      # 8진수. 0O17처럼 o자를 대문자로 써도 되지만 0과 혼동되므로 소문자 사용이 관례.\n",
    "b = 0xa1      # 16진수. 0XA1처럼 써도 되지만 대문자끼리 구분하기 힘들므로 소문자 사용이 관례.\n",
    "print(a)      # 8진수 0o17은 10진수로는 15.\n",
    "print(b)      # 16진수 0xA1은 10진수로는 161.\n",
    "print(a + b)  # 진법이 달라도 연산을 할 수 있다 \n",
    "\n",
    "print(hex(161))\n",
    "print(oct(15))"
   ]
  },
  {
   "cell_type": "markdown",
   "metadata": {
    "id": "6XTit_txc9G9"
   },
   "source": [
    "### 4.2. 문자열\n",
    "문자열 처리는 자연어 처리 분야에서 필수로 쓰입니다. 그 밖의 인공지능 구현에도 자주 사용됩니다. 꼭 익혀 둡시다."
   ]
  },
  {
   "cell_type": "code",
   "execution_count": 20,
   "metadata": {
    "colab": {
     "base_uri": "https://localhost:8080/"
    },
    "executionInfo": {
     "elapsed": 416,
     "status": "ok",
     "timestamp": 1628595269320,
     "user": {
      "displayName": "박진수",
      "photoUrl": "https://lh3.googleusercontent.com/a-/AOh14Givt_n9gun5TCzjvq5ASwWr2b4FAUXE7mJI_JAt1g=s64",
      "userId": "04216559503906939593"
     },
     "user_tz": -540
    },
    "id": "vVGavyNl1sbO",
    "outputId": "aab8075a-17ff-42d3-860a-fcfe22ef4f24"
   },
   "outputs": [
    {
     "name": "stdout",
     "output_type": "stream",
     "text": [
      "246\n",
      "123123\n"
     ]
    }
   ],
   "source": [
    "print(123 + 123)   # 숫자 지정\n",
    "print(\"123\" + \"123\") # 문자열 지정 "
   ]
  },
  {
   "cell_type": "markdown",
   "metadata": {
    "id": "bZpnm_vlae1L"
   },
   "source": [
    "#### 4.2.1 문자열 사용해 보기"
   ]
  },
  {
   "cell_type": "code",
   "execution_count": 21,
   "metadata": {
    "colab": {
     "base_uri": "https://localhost:8080/"
    },
    "executionInfo": {
     "elapsed": 277,
     "status": "ok",
     "timestamp": 1628675681186,
     "user": {
      "displayName": "박진수",
      "photoUrl": "https://lh3.googleusercontent.com/a-/AOh14Givt_n9gun5TCzjvq5ASwWr2b4FAUXE7mJI_JAt1g=s64",
      "userId": "04216559503906939593"
     },
     "user_tz": -540
    },
    "id": "Pz81AdVXYP0g",
    "outputId": "4da2cfde-2ddd-4aa7-ee28-7a6583235b14"
   },
   "outputs": [
    {
     "name": "stdout",
     "output_type": "stream",
     "text": [
      "안녕하세요?\n",
      "반갑습니다.\n",
      "우리는 'A반'입니다. '맞죠?'\n",
      "우리는 \"A반\"인가요? \"그렇습니다.\"\n",
      "오늘은 8월 10일입니다.\n",
      "  \n",
      "안녕하세요?\n",
      "반갑습니다.\n",
      "우리는 'A반'입니다. '맞죠?'\n",
      "우리는 \"A반\"인가요? \"그렇습니다.\"\n",
      "오늘은 8월 10일입니다.\n"
     ]
    }
   ],
   "source": [
    "# 문자들을 따옴표로 엮은 형태로 표현한 게 문자열이다. \n",
    "\n",
    "print(\"안녕하세요?\")  # 큰 따옴표로 둘러싸도 문자열이 된다.\n",
    "print('반갑습니다.')  # 작은 따옴표로 둘러싸도 문자열이 된다.\n",
    "\n",
    "print(\"우리는 'A반'입니다. '맞죠?'\")  # 큰 따옴표 안에 작은 따옴표를 두면 작은 따옴표는 문자로 간주된다.\n",
    "print('우리는 \"A반\"인가요? \"그렇습니다.\"') # 작은 따옴표 안에 큰 따옴표를 둬도 마찬가지다.\n",
    "\n",
    "print('오늘은 8월 10일입니다.') # 따옴표 안에 있는 숫자는 문자로 간주된다.\n",
    "\n",
    "# 문자열을 여러 줄에 걸쳐 작성할 때는 \n",
    "# 3겹 큰 따옴표(\"\"\" \"\"\")나 3겹 작은 따옴표(''' ''') 사이에 둔다.\n",
    "# 참고로, 한글로도 변수명을 지을 수 있다.\n",
    "내문자열 = \"\"\"  \n",
    "안녕하세요?\n",
    "반갑습니다.\n",
    "우리는 'A반'입니다. '맞죠?'\n",
    "우리는 \"A반\"인가요? \"그렇습니다.\"\n",
    "오늘은 8월 10일입니다.\"\"\"\n",
    "print(내문자열) \n"
   ]
  },
  {
   "cell_type": "markdown",
   "metadata": {
    "id": "ozXrK7UoanEj"
   },
   "source": [
    "#### 4.2.2 문자열 연산\n",
    "문자열끼리 합하고 문자열을 곱할 수 있다.\n"
   ]
  },
  {
   "cell_type": "code",
   "execution_count": 22,
   "metadata": {
    "colab": {
     "base_uri": "https://localhost:8080/"
    },
    "executionInfo": {
     "elapsed": 749,
     "status": "ok",
     "timestamp": 1628675740540,
     "user": {
      "displayName": "박진수",
      "photoUrl": "https://lh3.googleusercontent.com/a-/AOh14Givt_n9gun5TCzjvq5ASwWr2b4FAUXE7mJI_JAt1g=s64",
      "userId": "04216559503906939593"
     },
     "user_tz": -540
    },
    "id": "qynZb9lWo0Gg",
    "outputId": "1f7841ec-258f-4ba9-b5d4-d2d26517f351"
   },
   "outputs": [
    {
     "name": "stdout",
     "output_type": "stream",
     "text": [
      "안녕하세요!\tA반입니다.\n"
     ]
    }
   ],
   "source": [
    "print(\"안녕하세요!\" + \"\\tA반입니다.\")"
   ]
  },
  {
   "cell_type": "code",
   "execution_count": 144,
   "metadata": {
    "colab": {
     "base_uri": "https://localhost:8080/"
    },
    "executionInfo": {
     "elapsed": 397,
     "status": "ok",
     "timestamp": 1628595642462,
     "user": {
      "displayName": "박진수",
      "photoUrl": "https://lh3.googleusercontent.com/a-/AOh14Givt_n9gun5TCzjvq5ASwWr2b4FAUXE7mJI_JAt1g=s64",
      "userId": "04216559503906939593"
     },
     "user_tz": -540
    },
    "id": "ib-h3yMaax9v",
    "outputId": "a86d863b-5e60-42ab-af5d-8cb1f89e450d"
   },
   "outputs": [
    {
     "name": "stdout",
     "output_type": "stream",
     "text": [
      "안녕하세요. 오늘 날씨 좋네요. \n"
     ]
    }
   ],
   "source": [
    "# 문자열끼리 더하면 문자열들이 서로 연결된다.\n",
    "인사말 = \"안녕하세요. \"\n",
    "날씨 = \"오늘 날씨 좋네요. \"\n",
    "print(인사말 + 날씨)"
   ]
  },
  {
   "cell_type": "code",
   "execution_count": 147,
   "metadata": {
    "colab": {
     "base_uri": "https://localhost:8080/"
    },
    "executionInfo": {
     "elapsed": 395,
     "status": "ok",
     "timestamp": 1628595722339,
     "user": {
      "displayName": "박진수",
      "photoUrl": "https://lh3.googleusercontent.com/a-/AOh14Givt_n9gun5TCzjvq5ASwWr2b4FAUXE7mJI_JAt1g=s64",
      "userId": "04216559503906939593"
     },
     "user_tz": -540
    },
    "id": "ueLkG2SqbHrh",
    "outputId": "75970ea2-ffaf-41db-e7fa-8ac109cbb35b"
   },
   "outputs": [
    {
     "name": "stdout",
     "output_type": "stream",
     "text": [
      "================================================================================\n",
      "안녕하세요. 안녕하세요. 안녕하세요. \n",
      ">>> 안녕하니까 그만 인사하세요!\n",
      "--------------------------------------------------------------------------------\n",
      "오늘 날씨 좋네요. 오늘 날씨 좋네요. 오늘 날씨 좋네요. 오늘 날씨 좋네요. 오늘 날씨 좋네요. 오늘 날씨 좋네요. \n",
      ">>> 날씨 좋은 줄 알아요. 인사도 적당히!\n",
      "================================================================================\n"
     ]
    }
   ],
   "source": [
    "# 문자열을 곱하면 곱한 횟수만큼 문자열이 반복된다.\n",
    "print(\"=\" * 80 )  # 주로 줄을 그을 때 문자열을 곱한다.\n",
    "print(인사말 * 3)  # 언제든지 변수를 다시 불러 와 쓸 수 있다.\n",
    "print(\">>> 안녕하니까 그만 인사하세요!\")\n",
    "print(\"-\" * 80 )  \n",
    "print(날씨 * 6)\n",
    "print(\">>> 날씨 좋은 줄 알아요. 인사도 적당히!\")\n",
    "print(\"=\" * 80 )"
   ]
  },
  {
   "cell_type": "code",
   "execution_count": 148,
   "metadata": {
    "colab": {
     "base_uri": "https://localhost:8080/"
    },
    "executionInfo": {
     "elapsed": 412,
     "status": "ok",
     "timestamp": 1628595872240,
     "user": {
      "displayName": "박진수",
      "photoUrl": "https://lh3.googleusercontent.com/a-/AOh14Givt_n9gun5TCzjvq5ASwWr2b4FAUXE7mJI_JAt1g=s64",
      "userId": "04216559503906939593"
     },
     "user_tz": -540
    },
    "id": "TQxxkjxLciYR",
    "outputId": "cda6f750-7c49-4449-ab3d-8ab9f9a34dc5"
   },
   "outputs": [
    {
     "name": "stdout",
     "output_type": "stream",
     "text": [
      "7\n",
      "11\n",
      "4\n"
     ]
    }
   ],
   "source": [
    "# len() 함수로 문자열 길이 알아내기\n",
    "print(len(인사말)) # 한글 한 음절이 한 글자로 취급된다.\n",
    "print(len(날씨))   # 빈 칸도 한 글자로 취급된다.\n",
    "print(len(str(1234)))\n"
   ]
  },
  {
   "cell_type": "code",
   "execution_count": 26,
   "metadata": {
    "colab": {
     "base_uri": "https://localhost:8080/"
    },
    "executionInfo": {
     "elapsed": 551,
     "status": "ok",
     "timestamp": 1628595934595,
     "user": {
      "displayName": "박진수",
      "photoUrl": "https://lh3.googleusercontent.com/a-/AOh14Givt_n9gun5TCzjvq5ASwWr2b4FAUXE7mJI_JAt1g=s64",
      "userId": "04216559503906939593"
     },
     "user_tz": -540
    },
    "id": "n5T2wxz94QN4",
    "outputId": "2837c789-a889-41f1-9cf0-71ab6f3b748d"
   },
   "outputs": [
    {
     "name": "stdout",
     "output_type": "stream",
     "text": [
      "7\n"
     ]
    }
   ],
   "source": [
    "print(len(\"우리는 A반!\"))"
   ]
  },
  {
   "cell_type": "markdown",
   "metadata": {
    "id": "DKkietSnd0qJ"
   },
   "source": [
    "### 4.2.3 포맷팅(formatting)\n",
    "포맷팅이란 문자열에 서식을 부여하는 일을 말합니다. 다양한 포맷팅 방법이 있지만 여기서는 기초적인 것만 다룹니다.\n",
    "\n",
    "##### 정수%d, 실수%f, 문자열%s   --> 사용법 : '문자열 출력서식' %출력대상"
   ]
  },
  {
   "cell_type": "code",
   "execution_count": 9,
   "metadata": {
    "colab": {
     "base_uri": "https://localhost:8080/"
    },
    "executionInfo": {
     "elapsed": 384,
     "status": "ok",
     "timestamp": 1628596477313,
     "user": {
      "displayName": "박진수",
      "photoUrl": "https://lh3.googleusercontent.com/a-/AOh14Givt_n9gun5TCzjvq5ASwWr2b4FAUXE7mJI_JAt1g=s64",
      "userId": "04216559503906939593"
     },
     "user_tz": -540
    },
    "id": "mHB7iPGm5zpp",
    "outputId": "4512d2b9-cce7-4e83-97f9-abdc325c0fc7"
   },
   "outputs": [
    {
     "name": "stdout",
     "output_type": "stream",
     "text": [
      "정답은 10개입니다.\n",
      "정답은 20개입니다.\n",
      "정답은         20,         20,         20개입니다.\n",
      "정답은 20.0000개입니다.\n",
      "정답은 짝수개입니다.\n"
     ]
    }
   ],
   "source": [
    "print(\"정답은 10개입니다.\")\n",
    "\n",
    "x = 20\n",
    "y = '짝수'\n",
    "print(\"정답은 %d개입니다.\"%x)\n",
    "print(\"정답은 %10d, %10d, %10d개입니다.\" %(x,x,x))\n",
    "print(\"정답은 %.4f개입니다.\" %x) #.x 소수점이하 x자리수 만큼 출력\n",
    "print(\"정답은 %s개입니다.\" %y)"
   ]
  },
  {
   "cell_type": "code",
   "execution_count": 174,
   "metadata": {
    "colab": {
     "base_uri": "https://localhost:8080/"
    },
    "executionInfo": {
     "elapsed": 19,
     "status": "ok",
     "timestamp": 1631889634682,
     "user": {
      "displayName": "박진수",
      "photoUrl": "https://lh3.googleusercontent.com/a-/AOh14Givt_n9gun5TCzjvq5ASwWr2b4FAUXE7mJI_JAt1g=s64",
      "userId": "04216559503906939593"
     },
     "user_tz": -540
    },
    "id": "e7nKxXf8fbik",
    "outputId": "c806f79b-2a82-47b5-abac-03bbec119f70"
   },
   "outputs": [
    {
     "name": "stdout",
     "output_type": "stream",
     "text": [
      "정답은 10개입니다.\n",
      "정답은         10개입니다.\n",
      "정답은         20개입니다.\n",
      "정답은 열         개입니다.\n",
      "정답은          열개입니다.\n"
     ]
    }
   ],
   "source": [
    " # 숫자를 직접 대입\n",
    "print(\"정답은 %d개입니다.\" %10) \n",
    "\n",
    "# 숫자를 변수에 담아서 대입\n",
    "a = 10\n",
    "print(\"정답은 %10d개입니다.\" %a)   \n",
    "\n",
    "# 변숫값을 바꾸면 출력 내용도 바뀜\n",
    "a = 20\n",
    "print(\"정답은 %10d개입니다.\" %a)   \n",
    "\n",
    "# 변수에 문자열을 담으면 문자열 출력. 단 %s를 사용.\n",
    "a = \"열\"\n",
    "print(\"정답은 %-10s개입니다.\" %a)  # - 왼쪽정렬\n",
    "\n",
    "# 문자열을 직접 대입\n",
    "print(\"정답은 %10s개입니다.\" %\"열\") # + 오른쪽 정렬"
   ]
  },
  {
   "cell_type": "code",
   "execution_count": 173,
   "metadata": {
    "colab": {
     "base_uri": "https://localhost:8080/"
    },
    "executionInfo": {
     "elapsed": 306,
     "status": "ok",
     "timestamp": 1631889647064,
     "user": {
      "displayName": "박진수",
      "photoUrl": "https://lh3.googleusercontent.com/a-/AOh14Givt_n9gun5TCzjvq5ASwWr2b4FAUXE7mJI_JAt1g=s64",
      "userId": "04216559503906939593"
     },
     "user_tz": -540
    },
    "id": "lrVvVJ276vaQ",
    "outputId": "0bf999af-3a1f-4ba1-92d8-69e1e550cbb0"
   },
   "outputs": [
    {
     "name": "stdout",
     "output_type": "stream",
     "text": [
      "날씨가 참 좋습니다.   안녕하세요?    ₩₩₩\n"
     ]
    }
   ],
   "source": [
    "인삿말 = \"안녕하세요?\"\n",
    "print(\"날씨가 참 좋습니다.   %-10s₩₩₩\" %인삿말)"
   ]
  },
  {
   "cell_type": "code",
   "execution_count": 30,
   "metadata": {
    "colab": {
     "base_uri": "https://localhost:8080/"
    },
    "executionInfo": {
     "elapsed": 5,
     "status": "ok",
     "timestamp": 1631889648231,
     "user": {
      "displayName": "박진수",
      "photoUrl": "https://lh3.googleusercontent.com/a-/AOh14Givt_n9gun5TCzjvq5ASwWr2b4FAUXE7mJI_JAt1g=s64",
      "userId": "04216559503906939593"
     },
     "user_tz": -540
    },
    "id": "NJWDnBLbgk7K",
    "outputId": "f651a74c-3b49-4763-d248-9a6fe2b60218"
   },
   "outputs": [
    {
     "name": "stdout",
     "output_type": "stream",
     "text": [
      "정답은 10개입니다.\n"
     ]
    }
   ],
   "source": [
    "# 값을 두 개 대입하기\n",
    "숫자 = 10\n",
    "문자 = '개'\n",
    "문자열 = \"입니다.\"\n",
    "print(\"정답은 %d%c%s\" % (숫자, 문자, 문자열))"
   ]
  },
  {
   "cell_type": "code",
   "execution_count": 31,
   "metadata": {
    "colab": {
     "base_uri": "https://localhost:8080/"
    },
    "executionInfo": {
     "elapsed": 6,
     "status": "ok",
     "timestamp": 1631889649867,
     "user": {
      "displayName": "박진수",
      "photoUrl": "https://lh3.googleusercontent.com/a-/AOh14Givt_n9gun5TCzjvq5ASwWr2b4FAUXE7mJI_JAt1g=s64",
      "userId": "04216559503906939593"
     },
     "user_tz": -540
    },
    "id": "a-fThMpi7hgN",
    "outputId": "86d24926-932b-47e1-a739-2d2e7ad55995"
   },
   "outputs": [
    {
     "name": "stdout",
     "output_type": "stream",
     "text": [
      "그동안 반가웠어! 안녕! 잘 가라! \n"
     ]
    }
   ],
   "source": [
    "문자열1 = \"안녕!\"\n",
    "문자열2 = \"잘 가라!\"\n",
    "print(\"그동안 반가웠어! %s %s \" %(문자열1, 문자열2))"
   ]
  },
  {
   "cell_type": "code",
   "execution_count": 32,
   "metadata": {
    "colab": {
     "base_uri": "https://localhost:8080/"
    },
    "executionInfo": {
     "elapsed": 320,
     "status": "ok",
     "timestamp": 1631889658615,
     "user": {
      "displayName": "박진수",
      "photoUrl": "https://lh3.googleusercontent.com/a-/AOh14Givt_n9gun5TCzjvq5ASwWr2b4FAUXE7mJI_JAt1g=s64",
      "userId": "04216559503906939593"
     },
     "user_tz": -540
    },
    "id": "x4Hegmu18OT4",
    "outputId": "0a966d84-bcb6-4315-ab10-7caa78ceba12"
   },
   "outputs": [
    {
     "name": "stdout",
     "output_type": "stream",
     "text": [
      "1010.12 + 2020.12 = 3030.25\n"
     ]
    }
   ],
   "source": [
    "숫자1 = 1010.1234\n",
    "숫자2 = 2020.1234\n",
    "print(\"%.2f + %.2f = %.2f\" %(숫자1, 숫자2, 숫자1+숫자2))\n",
    "# 10.0 + 20.0 = 30"
   ]
  },
  {
   "cell_type": "code",
   "execution_count": 33,
   "metadata": {
    "colab": {
     "base_uri": "https://localhost:8080/"
    },
    "executionInfo": {
     "elapsed": 316,
     "status": "ok",
     "timestamp": 1631889661460,
     "user": {
      "displayName": "박진수",
      "photoUrl": "https://lh3.googleusercontent.com/a-/AOh14Givt_n9gun5TCzjvq5ASwWr2b4FAUXE7mJI_JAt1g=s64",
      "userId": "04216559503906939593"
     },
     "user_tz": -540
    },
    "id": "KRihQyUNhOUM",
    "outputId": "f4ea7445-7b7e-47fd-8f37-0a3420542a29"
   },
   "outputs": [
    {
     "name": "stdout",
     "output_type": "stream",
     "text": [
      "파이 값은 3.14입니다.\n",
      "파이 값은 3.14입니다.\n",
      "정답은 10개입니다.\n"
     ]
    }
   ],
   "source": [
    "# %s는 어떤 값이든 문자열 형태로 출력한다.\n",
    "print(\"파이 값은 %s입니다.\" % 3.14)\n",
    "print(\"파이 값은 %s입니다.\" % \"3.14\")\n",
    "print(\"정답은 %s%c%s\" % (숫자, 문자, 문자열))"
   ]
  },
  {
   "cell_type": "code",
   "execution_count": 34,
   "metadata": {
    "colab": {
     "base_uri": "https://localhost:8080/"
    },
    "executionInfo": {
     "elapsed": 337,
     "status": "ok",
     "timestamp": 1631889664589,
     "user": {
      "displayName": "박진수",
      "photoUrl": "https://lh3.googleusercontent.com/a-/AOh14Givt_n9gun5TCzjvq5ASwWr2b4FAUXE7mJI_JAt1g=s64",
      "userId": "04216559503906939593"
     },
     "user_tz": -540
    },
    "id": "9jfZgc9z-6I6",
    "outputId": "1e4d744a-043b-4181-cd48-ef8426e122bf"
   },
   "outputs": [
    {
     "name": "stdout",
     "output_type": "stream",
     "text": [
      "A 집합과 B 집합의 합집합은 무엇인가?\n"
     ]
    }
   ],
   "source": [
    "집합1_이름 = 'A'\n",
    "집합2_이름 = 'B'\n",
    "print(\"%c 집합과 %c 집합의 합집합은 무엇인가?\" %(집합1_이름, 집합2_이름))\n"
   ]
  },
  {
   "cell_type": "code",
   "execution_count": 35,
   "metadata": {
    "colab": {
     "base_uri": "https://localhost:8080/"
    },
    "executionInfo": {
     "elapsed": 273,
     "status": "ok",
     "timestamp": 1631889669714,
     "user": {
      "displayName": "박진수",
      "photoUrl": "https://lh3.googleusercontent.com/a-/AOh14Givt_n9gun5TCzjvq5ASwWr2b4FAUXE7mJI_JAt1g=s64",
      "userId": "04216559503906939593"
     },
     "user_tz": -540
    },
    "id": "-O6FqzrMh_jh",
    "outputId": "a003bf0d-88e1-4c97-953f-bbf3a1200865"
   },
   "outputs": [
    {
     "name": "stdout",
     "output_type": "stream",
     "text": [
      " 8진수    17,       10진법 변환  8진수    15\n",
      "16진수    a1,       10진법 변환 16진수   161\n",
      " 8진수    17,       16진법 변환  8진수     f\n"
     ]
    }
   ],
   "source": [
    "# 8진수, 16진수 서식 지정 \n",
    "print(\" 8진수 %5o,       10진법 변환  8진수 %5d\" % (0o17, 0o17))\n",
    "print(\"16진수 %5x,       10진법 변환 16진수 %5d\" % (0xA1, 0xA1))\n",
    "print(\" 8진수 %5o,       16진법 변환  8진수 %5x\" % (0o17, 0o17))"
   ]
  },
  {
   "cell_type": "code",
   "execution_count": 36,
   "metadata": {
    "colab": {
     "base_uri": "https://localhost:8080/"
    },
    "executionInfo": {
     "elapsed": 282,
     "status": "ok",
     "timestamp": 1631889682068,
     "user": {
      "displayName": "박진수",
      "photoUrl": "https://lh3.googleusercontent.com/a-/AOh14Givt_n9gun5TCzjvq5ASwWr2b4FAUXE7mJI_JAt1g=s64",
      "userId": "04216559503906939593"
     },
     "user_tz": -540
    },
    "id": "_ghRxDuEkMgf",
    "outputId": "7f85fff4-3baf-4dc0-e22e-d01e51d01d71"
   },
   "outputs": [
    {
     "name": "stdout",
     "output_type": "stream",
     "text": [
      "파이 값은 3.141590입니다.\n",
      "자연대수 값은 2.718282입니다.\n",
      "자연대수 값은 2.72입니다.\n",
      "자연대수 값은 2.7182818284904524119838243입니다.\n"
     ]
    }
   ],
   "source": [
    "# 부동 소수점 수 서식 지정\n",
    "print(\"파이 값은 %f입니다.\" % 3.14159)\n",
    "print(\"자연대수 값은 %f입니다.\" % 2.7182818284904523536028)\n",
    "print(\"자연대수 값은 %.2f입니다.\" % 2.7182818284904523536028)\n",
    "\n",
    "# 파이썬 내부 수치 처리 한계 확인하기\n",
    "# 소수점 이하 16번째 자리부터 오차가 발생하며 근삿값으로 출력한다.\n",
    "# 이는 반올림 오차가 있는 부동수수점을 사용하기 때문이다.\n",
    "print(\"자연대수 값은 %.25f입니다.\" % 2.7182818284904523536028) # 오차에 주목\n",
    "\n",
    "# [참고] 파이썬의 오차 해결 방법\n",
    "# 1. decimal 패키지의 Decimal 함수를 사용해 고정소수점 수로 표현해 처리한다.\n",
    "# 2. 그래도 순환소수 문제가 발생할 수 있으므로 분수는 fraction 패키지의 Fraction 함수를 사용해 처리한다."
   ]
  },
  {
   "cell_type": "code",
   "execution_count": 179,
   "metadata": {
    "colab": {
     "base_uri": "https://localhost:8080/"
    },
    "executionInfo": {
     "elapsed": 294,
     "status": "ok",
     "timestamp": 1631889734520,
     "user": {
      "displayName": "박진수",
      "photoUrl": "https://lh3.googleusercontent.com/a-/AOh14Givt_n9gun5TCzjvq5ASwWr2b4FAUXE7mJI_JAt1g=s64",
      "userId": "04216559503906939593"
     },
     "user_tz": -540
    },
    "id": "A29tk7f_pGET",
    "outputId": "69dd8a74-f6f1-4221-be90-18a841baa2ff"
   },
   "outputs": [
    {
     "name": "stdout",
     "output_type": "stream",
     "text": [
      "A반의 총 인원은 27명입니까, 아니면 25명입니까?\n",
      "자연대수 값이    2.718281828490452입니까?\n"
     ]
    }
   ],
   "source": [
    "# 파이썬 3.6 버전 이상에서 쓸 수 있는 f 형식\n",
    "반이름 = 'A반'\n",
    "인원수 = 25\n",
    "print(f'{반이름}의 총 인원은 {인원수 + 2}명입니까, 아니면 {인원수}명입니까?')\n",
    "\n",
    "자연대수 = 2.7182818284904523536028\n",
    "\n",
    "# 총 자릿수 = 25, 소수점 이하 자릿수 = 15\n",
    "print(f'자연대수 값이 {자연대수: 20.15f}입니까?') "
   ]
  },
  {
   "cell_type": "markdown",
   "metadata": {
    "id": "CSDo0nV-dI56"
   },
   "source": [
    "#### 4.2.4 인덱싱(indexing)\n",
    "인덱싱이란 문자열의 특정 부분을 가리키는 일을 말합니다. "
   ]
  },
  {
   "cell_type": "code",
   "execution_count": 38,
   "metadata": {
    "executionInfo": {
     "elapsed": 280,
     "status": "ok",
     "timestamp": 1631889736318,
     "user": {
      "displayName": "박진수",
      "photoUrl": "https://lh3.googleusercontent.com/a-/AOh14Givt_n9gun5TCzjvq5ASwWr2b4FAUXE7mJI_JAt1g=s64",
      "userId": "04216559503906939593"
     },
     "user_tz": -540
    },
    "id": "bU1BHXuoJgaz"
   },
   "outputs": [],
   "source": [
    "# 특정 위치에 있는 문자열 알기 \n",
    "새_문자열 = \"인덱싱이란 문자열의 특정 부분을 가리키는 일을 말합니다.\""
   ]
  },
  {
   "cell_type": "code",
   "execution_count": 39,
   "metadata": {
    "colab": {
     "base_uri": "https://localhost:8080/",
     "height": 35
    },
    "executionInfo": {
     "elapsed": 290,
     "status": "ok",
     "timestamp": 1631889739140,
     "user": {
      "displayName": "박진수",
      "photoUrl": "https://lh3.googleusercontent.com/a-/AOh14Givt_n9gun5TCzjvq5ASwWr2b4FAUXE7mJI_JAt1g=s64",
      "userId": "04216559503906939593"
     },
     "user_tz": -540
    },
    "id": "EpY3hQ0lKKSE",
    "outputId": "4c4d114a-de40-4ca1-ccea-cdf282530e3d"
   },
   "outputs": [
    {
     "data": {
      "text/plain": [
       "'싱'"
      ]
     },
     "execution_count": 39,
     "metadata": {},
     "output_type": "execute_result"
    }
   ],
   "source": [
    "새_문자열[2]  # 파이썬에서는 0번부터 숫자를 세므로 2는 0, 1, 2의 꼴로 세 번째를 의미한다."
   ]
  },
  {
   "cell_type": "code",
   "execution_count": 40,
   "metadata": {
    "colab": {
     "base_uri": "https://localhost:8080/",
     "height": 35
    },
    "executionInfo": {
     "elapsed": 289,
     "status": "ok",
     "timestamp": 1631889744237,
     "user": {
      "displayName": "박진수",
      "photoUrl": "https://lh3.googleusercontent.com/a-/AOh14Givt_n9gun5TCzjvq5ASwWr2b4FAUXE7mJI_JAt1g=s64",
      "userId": "04216559503906939593"
     },
     "user_tz": -540
    },
    "id": "smgcaKcrKP11",
    "outputId": "9202cfb3-0eb2-4c41-baa5-4e8414ca19fe"
   },
   "outputs": [
    {
     "data": {
      "text/plain": [
       "'인'"
      ]
     },
     "execution_count": 40,
     "metadata": {},
     "output_type": "execute_result"
    }
   ],
   "source": [
    "새_문자열[0]  # 그렇다면 0번 문자열은 첫 번째 문자열일 것이다."
   ]
  },
  {
   "cell_type": "code",
   "execution_count": 41,
   "metadata": {
    "colab": {
     "base_uri": "https://localhost:8080/",
     "height": 35
    },
    "executionInfo": {
     "elapsed": 8,
     "status": "ok",
     "timestamp": 1631889745397,
     "user": {
      "displayName": "박진수",
      "photoUrl": "https://lh3.googleusercontent.com/a-/AOh14Givt_n9gun5TCzjvq5ASwWr2b4FAUXE7mJI_JAt1g=s64",
      "userId": "04216559503906939593"
     },
     "user_tz": -540
    },
    "id": "Iq1YN17ZtlJR",
    "outputId": "eea2f549-e371-48c6-e35d-bbfb0e0130e6"
   },
   "outputs": [
    {
     "data": {
      "text/plain": [
       "'다'"
      ]
     },
     "execution_count": 41,
     "metadata": {},
     "output_type": "execute_result"
    }
   ],
   "source": [
    "새_문자열[29]"
   ]
  },
  {
   "cell_type": "code",
   "execution_count": 42,
   "metadata": {
    "colab": {
     "base_uri": "https://localhost:8080/",
     "height": 35
    },
    "executionInfo": {
     "elapsed": 13,
     "status": "ok",
     "timestamp": 1631889746700,
     "user": {
      "displayName": "박진수",
      "photoUrl": "https://lh3.googleusercontent.com/a-/AOh14Givt_n9gun5TCzjvq5ASwWr2b4FAUXE7mJI_JAt1g=s64",
      "userId": "04216559503906939593"
     },
     "user_tz": -540
    },
    "id": "GSxr2BgbKX40",
    "outputId": "90a06e9a-9030-4b25-fb1e-5c43d3318b05"
   },
   "outputs": [
    {
     "data": {
      "text/plain": [
       "'.'"
      ]
     },
     "execution_count": 42,
     "metadata": {},
     "output_type": "execute_result"
    }
   ],
   "source": [
    "새_문자열[-1]  # 거꾸로 세어 올 때는 -1이 뒤에서 첫 번째 문자열에 해당한다."
   ]
  },
  {
   "cell_type": "code",
   "execution_count": 43,
   "metadata": {
    "colab": {
     "base_uri": "https://localhost:8080/",
     "height": 35
    },
    "executionInfo": {
     "elapsed": 7,
     "status": "ok",
     "timestamp": 1631889747795,
     "user": {
      "displayName": "박진수",
      "photoUrl": "https://lh3.googleusercontent.com/a-/AOh14Givt_n9gun5TCzjvq5ASwWr2b4FAUXE7mJI_JAt1g=s64",
      "userId": "04216559503906939593"
     },
     "user_tz": -540
    },
    "id": "i3rMRImKKmmh",
    "outputId": "193a8768-f6dc-42f8-d510-7d8a7235358d"
   },
   "outputs": [
    {
     "data": {
      "text/plain": [
       "'니'"
      ]
     },
     "execution_count": 43,
     "metadata": {},
     "output_type": "execute_result"
    }
   ],
   "source": [
    "새_문자열[-3] # 따라서 뒤에서 세 번째 문자열을 -3으로 지정해야 한다."
   ]
  },
  {
   "cell_type": "markdown",
   "metadata": {
    "id": "aCIFBSeqdquK"
   },
   "source": [
    "#### 4.2.5 슬라이싱(slicing)\n",
    "슬라이싱이란 문자열의 일부를 복제해 내는 일을 말합니다. 원래 있던 문자열은 그대로 있습니다.\n",
    "[strat : end-1 : stop]"
   ]
  },
  {
   "cell_type": "code",
   "execution_count": 192,
   "metadata": {},
   "outputs": [
    {
     "name": "stdout",
     "output_type": "stream",
     "text": [
      "123456789\n",
      "123456789\n",
      "123456789\n",
      "123456789\n",
      "13579\n",
      "987654321\n",
      "9\n",
      "12345678\n"
     ]
    }
   ],
   "source": [
    "ab = '123456789'\n",
    "print(ab[:])    # 전체출력\n",
    "print(ab)       # 전체출력\n",
    "print(ab[0:])   # 전체출력\n",
    "print(ab[::])   # 전체출력\n",
    "print(ab[::2])  # 한칸씩 뛰면서 출력\n",
    "print(ab[::-1]) # 역순출력\n",
    "print(ab[-1::]) # 마지막칸 출력\n",
    "print(ab[ :-1]) # end-1 에 -1 이므로, 마지막에서 바로 앞 한칸까지 출력\n"
   ]
  },
  {
   "cell_type": "code",
   "execution_count": 44,
   "metadata": {
    "colab": {
     "base_uri": "https://localhost:8080/",
     "height": 35
    },
    "executionInfo": {
     "elapsed": 280,
     "status": "ok",
     "timestamp": 1631889750062,
     "user": {
      "displayName": "박진수",
      "photoUrl": "https://lh3.googleusercontent.com/a-/AOh14Givt_n9gun5TCzjvq5ASwWr2b4FAUXE7mJI_JAt1g=s64",
      "userId": "04216559503906939593"
     },
     "user_tz": -540
    },
    "id": "DCKF4QKDeGkL",
    "outputId": "7565eacc-347e-4d2d-9658-221fe35bc321"
   },
   "outputs": [
    {
     "data": {
      "text/plain": [
       "'인덱싱이란'"
      ]
     },
     "execution_count": 44,
     "metadata": {},
     "output_type": "execute_result"
    }
   ],
   "source": [
    "새_문자열[0:5]  # 첫 단어를 따오고 싶다면 그 순서를 지정한다. \n",
    "                # 여기서 0을 '시작 번호', 5를 '끝 번호'라고 부른다. \n",
    "                # 5라고 지정한 이유는 끝 번호에 해당하는 문자를 \n",
    "                # 포함하지 않기로 약속되어 있기 때문이다."
   ]
  },
  {
   "cell_type": "code",
   "execution_count": 45,
   "metadata": {
    "colab": {
     "base_uri": "https://localhost:8080/",
     "height": 35
    },
    "executionInfo": {
     "elapsed": 281,
     "status": "ok",
     "timestamp": 1631889751855,
     "user": {
      "displayName": "박진수",
      "photoUrl": "https://lh3.googleusercontent.com/a-/AOh14Givt_n9gun5TCzjvq5ASwWr2b4FAUXE7mJI_JAt1g=s64",
      "userId": "04216559503906939593"
     },
     "user_tz": -540
    },
    "id": "-1ca7KMSLp7v",
    "outputId": "c995a73f-2fd5-4d0d-d1fc-958a210e7a50"
   },
   "outputs": [
    {
     "data": {
      "text/plain": [
       "'인덱싱이란 '"
      ]
     },
     "execution_count": 45,
     "metadata": {},
     "output_type": "execute_result"
    }
   ],
   "source": [
    "새_문자열[0:6] # 빈 칸까지 따올 수 있다."
   ]
  },
  {
   "cell_type": "code",
   "execution_count": 46,
   "metadata": {
    "colab": {
     "base_uri": "https://localhost:8080/",
     "height": 35
    },
    "executionInfo": {
     "elapsed": 283,
     "status": "ok",
     "timestamp": 1631889753440,
     "user": {
      "displayName": "박진수",
      "photoUrl": "https://lh3.googleusercontent.com/a-/AOh14Givt_n9gun5TCzjvq5ASwWr2b4FAUXE7mJI_JAt1g=s64",
      "userId": "04216559503906939593"
     },
     "user_tz": -540
    },
    "id": "lwbauGxmLwyn",
    "outputId": "73157135-d4ac-4eec-caea-657baadd4c9b"
   },
   "outputs": [
    {
     "data": {
      "text/plain": [
       "'인덱싱이란 '"
      ]
     },
     "execution_count": 46,
     "metadata": {},
     "output_type": "execute_result"
    }
   ],
   "source": [
    "새_문자열[:6] # 처음부터 문자열을 따올 때는 시작 번호를 생략한다."
   ]
  },
  {
   "cell_type": "code",
   "execution_count": 47,
   "metadata": {
    "colab": {
     "base_uri": "https://localhost:8080/",
     "height": 35
    },
    "executionInfo": {
     "elapsed": 13,
     "status": "ok",
     "timestamp": 1631889753740,
     "user": {
      "displayName": "박진수",
      "photoUrl": "https://lh3.googleusercontent.com/a-/AOh14Givt_n9gun5TCzjvq5ASwWr2b4FAUXE7mJI_JAt1g=s64",
      "userId": "04216559503906939593"
     },
     "user_tz": -540
    },
    "id": "CZNBlMuAL40a",
    "outputId": "b4700fb0-dc9f-40f3-f160-5e95a2a3755e"
   },
   "outputs": [
    {
     "data": {
      "text/plain": [
       "'문자열의 특정 부분을 가리키는 일을 말합니다.'"
      ]
     },
     "execution_count": 47,
     "metadata": {},
     "output_type": "execute_result"
    }
   ],
   "source": [
    "새_문자열[6:] # 마지막까지 문자열을 따올 때는 끝 번호를 생략한다."
   ]
  },
  {
   "cell_type": "code",
   "execution_count": 181,
   "metadata": {
    "colab": {
     "base_uri": "https://localhost:8080/",
     "height": 35
    },
    "executionInfo": {
     "elapsed": 7,
     "status": "ok",
     "timestamp": 1631889754682,
     "user": {
      "displayName": "박진수",
      "photoUrl": "https://lh3.googleusercontent.com/a-/AOh14Givt_n9gun5TCzjvq5ASwWr2b4FAUXE7mJI_JAt1g=s64",
      "userId": "04216559503906939593"
     },
     "user_tz": -540
    },
    "id": "39HX8-oNMDQg",
    "outputId": "700baa93-b8a8-47b3-ee82-f0ade7d6c869"
   },
   "outputs": [
    {
     "data": {
      "text/plain": [
       "'인덱싱이란 문자열의 특정 부분을 가리키는 일을 말합니다.'"
      ]
     },
     "execution_count": 181,
     "metadata": {},
     "output_type": "execute_result"
    }
   ],
   "source": [
    "새_문자열[:] # 전부 따올 때는 시작 번호와 끝 번호를 모두 생략한다."
   ]
  },
  {
   "cell_type": "code",
   "execution_count": 49,
   "metadata": {
    "colab": {
     "base_uri": "https://localhost:8080/",
     "height": 35
    },
    "executionInfo": {
     "elapsed": 5,
     "status": "ok",
     "timestamp": 1631889757804,
     "user": {
      "displayName": "박진수",
      "photoUrl": "https://lh3.googleusercontent.com/a-/AOh14Givt_n9gun5TCzjvq5ASwWr2b4FAUXE7mJI_JAt1g=s64",
      "userId": "04216559503906939593"
     },
     "user_tz": -540
    },
    "id": "xgma-YXZMI-l",
    "outputId": "26384eaa-4290-4590-9d46-feee178cdd01"
   },
   "outputs": [
    {
     "data": {
      "text/plain": [
       "'문자열의 특정 부분을 가리키는 일을'"
      ]
     },
     "execution_count": 49,
     "metadata": {},
     "output_type": "execute_result"
    }
   ],
   "source": [
    "새_문자열[6:-6] # 시작 번호나 끝 번호 앞에 음수 표시를 할 수 있다."
   ]
  },
  {
   "cell_type": "code",
   "execution_count": 183,
   "metadata": {
    "colab": {
     "base_uri": "https://localhost:8080/",
     "height": 35
    },
    "executionInfo": {
     "elapsed": 288,
     "status": "ok",
     "timestamp": 1631889763705,
     "user": {
      "displayName": "박진수",
      "photoUrl": "https://lh3.googleusercontent.com/a-/AOh14Givt_n9gun5TCzjvq5ASwWr2b4FAUXE7mJI_JAt1g=s64",
      "userId": "04216559503906939593"
     },
     "user_tz": -540
    },
    "id": "yGBXvRdIw4F3",
    "outputId": "d49925bd-091c-44e5-bb9a-37e4f6a117bc"
   },
   "outputs": [
    {
     "data": {
      "text/plain": [
       "'인덱싱이란 문자열의 특정 부분을 가리키는 일을 말합니다.'"
      ]
     },
     "execution_count": 183,
     "metadata": {},
     "output_type": "execute_result"
    }
   ],
   "source": [
    "새_문자열"
   ]
  },
  {
   "cell_type": "code",
   "execution_count": 51,
   "metadata": {
    "colab": {
     "base_uri": "https://localhost:8080/",
     "height": 35
    },
    "executionInfo": {
     "elapsed": 7,
     "status": "ok",
     "timestamp": 1631889764952,
     "user": {
      "displayName": "박진수",
      "photoUrl": "https://lh3.googleusercontent.com/a-/AOh14Givt_n9gun5TCzjvq5ASwWr2b4FAUXE7mJI_JAt1g=s64",
      "userId": "04216559503906939593"
     },
     "user_tz": -540
    },
    "id": "FaFzlN8Fwseo",
    "outputId": "803c3b77-bd37-4c51-c5f3-42166240c4c5"
   },
   "outputs": [
    {
     "data": {
      "text/plain": [
       "' 말합니'"
      ]
     },
     "execution_count": 51,
     "metadata": {},
     "output_type": "execute_result"
    }
   ],
   "source": [
    "새_문자열[-6: -2]"
   ]
  },
  {
   "cell_type": "code",
   "execution_count": 52,
   "metadata": {
    "colab": {
     "base_uri": "https://localhost:8080/",
     "height": 35
    },
    "executionInfo": {
     "elapsed": 5,
     "status": "ok",
     "timestamp": 1631889766109,
     "user": {
      "displayName": "박진수",
      "photoUrl": "https://lh3.googleusercontent.com/a-/AOh14Givt_n9gun5TCzjvq5ASwWr2b4FAUXE7mJI_JAt1g=s64",
      "userId": "04216559503906939593"
     },
     "user_tz": -540
    },
    "id": "f3W8qxtvxVvZ",
    "outputId": "d0de6009-96f0-46ee-ffb2-e47241c679ec"
   },
   "outputs": [
    {
     "data": {
      "text/plain": [
       "'싱이란 '"
      ]
     },
     "execution_count": 52,
     "metadata": {},
     "output_type": "execute_result"
    }
   ],
   "source": [
    "새_문자열[2: 6]"
   ]
  },
  {
   "cell_type": "code",
   "execution_count": 53,
   "metadata": {
    "colab": {
     "base_uri": "https://localhost:8080/",
     "height": 35
    },
    "executionInfo": {
     "elapsed": 12,
     "status": "ok",
     "timestamp": 1631889767525,
     "user": {
      "displayName": "박진수",
      "photoUrl": "https://lh3.googleusercontent.com/a-/AOh14Givt_n9gun5TCzjvq5ASwWr2b4FAUXE7mJI_JAt1g=s64",
      "userId": "04216559503906939593"
     },
     "user_tz": -540
    },
    "id": "fjVv_Kke088w",
    "outputId": "8b9e68a1-7c4a-4318-c1f3-a1199c30aa6e"
   },
   "outputs": [
    {
     "data": {
      "text/plain": [
       "'니다'"
      ]
     },
     "execution_count": 53,
     "metadata": {},
     "output_type": "execute_result"
    }
   ],
   "source": [
    "새_문자열[-3: -1]"
   ]
  },
  {
   "cell_type": "code",
   "execution_count": 54,
   "metadata": {
    "colab": {
     "base_uri": "https://localhost:8080/",
     "height": 35
    },
    "executionInfo": {
     "elapsed": 4,
     "status": "ok",
     "timestamp": 1631889768721,
     "user": {
      "displayName": "박진수",
      "photoUrl": "https://lh3.googleusercontent.com/a-/AOh14Givt_n9gun5TCzjvq5ASwWr2b4FAUXE7mJI_JAt1g=s64",
      "userId": "04216559503906939593"
     },
     "user_tz": -540
    },
    "id": "Z5Zsnf-8MYRS",
    "outputId": "149a8c9c-2f2c-46c4-df9b-0f3d5cc21632"
   },
   "outputs": [
    {
     "data": {
      "text/plain": [
       "'인덱싱이란 문자열의 특정 부분을 가리키는 일을 말합니다.'"
      ]
     },
     "execution_count": 54,
     "metadata": {},
     "output_type": "execute_result"
    }
   ],
   "source": [
    "새_문자열 # 이쯤에서 다시 '새_문자열'에 저장된 문자열을 보자.\n",
    "          # 코랩에서는 print() 함수를 쓰지 않아도 알아서 출력된다."
   ]
  },
  {
   "cell_type": "code",
   "execution_count": 55,
   "metadata": {
    "colab": {
     "base_uri": "https://localhost:8080/"
    },
    "executionInfo": {
     "elapsed": 281,
     "status": "ok",
     "timestamp": 1631889770248,
     "user": {
      "displayName": "박진수",
      "photoUrl": "https://lh3.googleusercontent.com/a-/AOh14Givt_n9gun5TCzjvq5ASwWr2b4FAUXE7mJI_JAt1g=s64",
      "userId": "04216559503906939593"
     },
     "user_tz": -540
    },
    "id": "30QKom6EMmy0",
    "outputId": "ce0f95a3-3662-48b6-cb47-bf26a7665832"
   },
   "outputs": [
    {
     "name": "stdout",
     "output_type": "stream",
     "text": [
      "인덱싱이란 ...\n",
      "문자열의 특정 부분을 가리키는 일을 말합니다.\n"
     ]
    }
   ],
   "source": [
    "# 슬라이싱 기능을 응용하면 문자열을 다양하게 바꿀 수 있다.\n",
    "앞_문자열 = 새_문자열[:6] + \"...\"\n",
    "뒤_문자열 = 새_문자열[6:]\n",
    "print(앞_문자열)\n",
    "print(뒤_문자열)"
   ]
  },
  {
   "cell_type": "code",
   "execution_count": 56,
   "metadata": {
    "colab": {
     "base_uri": "https://localhost:8080/"
    },
    "executionInfo": {
     "elapsed": 6,
     "status": "ok",
     "timestamp": 1631889771447,
     "user": {
      "displayName": "박진수",
      "photoUrl": "https://lh3.googleusercontent.com/a-/AOh14Givt_n9gun5TCzjvq5ASwWr2b4FAUXE7mJI_JAt1g=s64",
      "userId": "04216559503906939593"
     },
     "user_tz": -540
    },
    "id": "GOsEHloS1zx-",
    "outputId": "f8ecf0ad-2bdd-4075-88af-d3cde94176a6"
   },
   "outputs": [
    {
     "name": "stdout",
     "output_type": "stream",
     "text": [
      "인덱싱이란 문자열의 특정 부분을 가리키는 일을 말합니다.\n"
     ]
    }
   ],
   "source": [
    "print(새_문자열)"
   ]
  },
  {
   "cell_type": "code",
   "execution_count": 57,
   "metadata": {
    "colab": {
     "base_uri": "https://localhost:8080/"
    },
    "executionInfo": {
     "elapsed": 300,
     "status": "ok",
     "timestamp": 1631889772213,
     "user": {
      "displayName": "박진수",
      "photoUrl": "https://lh3.googleusercontent.com/a-/AOh14Givt_n9gun5TCzjvq5ASwWr2b4FAUXE7mJI_JAt1g=s64",
      "userId": "04216559503906939593"
     },
     "user_tz": -540
    },
    "id": "VBqQrChL1nrl",
    "outputId": "a3f4c2c5-0cdb-444c-a70e-90a57b2aa5a4"
   },
   "outputs": [
    {
     "name": "stdout",
     "output_type": "stream",
     "text": [
      "문자열의 특정 부분 ...\n"
     ]
    }
   ],
   "source": [
    "print(새_문자열[6:16]+\" ...\")"
   ]
  },
  {
   "cell_type": "markdown",
   "metadata": {
    "id": "NxMb9cnWeLeW"
   },
   "source": [
    "#### 4.2.6 문자열 (내장) 함수 \n",
    "문자열 함수란 문자열 자체에서 제공하는 함수를 말합니다. 문자열.함수명() 꼴로 사용합니다. 이것으로 여러 가지 일을 할 수 있습니다. 이 중에 몇 가지는 자연어 처리를 비롯한 머신러닝/딥러닝에 자주 쓰이는 게 있으니 잘 익혀 둡시다."
   ]
  },
  {
   "cell_type": "code",
   "execution_count": 194,
   "metadata": {},
   "outputs": [],
   "source": [
    "#print(dir(str))\n",
    "# 개수 새기 -> count\n",
    "# 위치 알아내기 -> find"
   ]
  },
  {
   "cell_type": "code",
   "execution_count": 58,
   "metadata": {
    "colab": {
     "base_uri": "https://localhost:8080/"
    },
    "executionInfo": {
     "elapsed": 273,
     "status": "ok",
     "timestamp": 1631889789075,
     "user": {
      "displayName": "박진수",
      "photoUrl": "https://lh3.googleusercontent.com/a-/AOh14Givt_n9gun5TCzjvq5ASwWr2b4FAUXE7mJI_JAt1g=s64",
      "userId": "04216559503906939593"
     },
     "user_tz": -540
    },
    "id": "JkN_fnR6L4PG",
    "outputId": "28368118-580f-45cb-96ef-b4b363570e1d"
   },
   "outputs": [
    {
     "name": "stdout",
     "output_type": "stream",
     "text": [
      "2\n",
      "3\n"
     ]
    }
   ],
   "source": [
    "# 문자열에 담긴 특정 문자 개수 세기\n",
    "print(새_문자열.count('을'))\n",
    "print(앞_문자열.count('.'))"
   ]
  },
  {
   "cell_type": "code",
   "execution_count": 59,
   "metadata": {
    "colab": {
     "base_uri": "https://localhost:8080/"
    },
    "executionInfo": {
     "elapsed": 283,
     "status": "ok",
     "timestamp": 1631889794030,
     "user": {
      "displayName": "박진수",
      "photoUrl": "https://lh3.googleusercontent.com/a-/AOh14Givt_n9gun5TCzjvq5ASwWr2b4FAUXE7mJI_JAt1g=s64",
      "userId": "04216559503906939593"
     },
     "user_tz": -540
    },
    "id": "n1_QaanKNsvY",
    "outputId": "5651751a-efd1-439f-d6d4-5160b7711612"
   },
   "outputs": [
    {
     "name": "stdout",
     "output_type": "stream",
     "text": [
      "16\n",
      "-1\n"
     ]
    }
   ],
   "source": [
    "# 특정 문자의 위치를 알아내기\n",
    "print(새_문자열.find('을')) # 을이 처음으로 나온 위치를 알려준다.\n",
    "print(새_문자열.find('따')) # 찾는 문자열이 없으면 -1을 출력한다."
   ]
  },
  {
   "cell_type": "code",
   "execution_count": 60,
   "metadata": {
    "colab": {
     "base_uri": "https://localhost:8080/"
    },
    "executionInfo": {
     "elapsed": 281,
     "status": "ok",
     "timestamp": 1631889807728,
     "user": {
      "displayName": "박진수",
      "photoUrl": "https://lh3.googleusercontent.com/a-/AOh14Givt_n9gun5TCzjvq5ASwWr2b4FAUXE7mJI_JAt1g=s64",
      "userId": "04216559503906939593"
     },
     "user_tz": -540
    },
    "id": "B-5fLO2fOSrB",
    "outputId": "337c1f9f-160a-413c-8f0a-25cae4ead700"
   },
   "outputs": [
    {
     "name": "stdout",
     "output_type": "stream",
     "text": [
      "p y t h o n .\n",
      "p,y,t,h,o,n\n"
     ]
    }
   ],
   "source": [
    "# 특정 문자를 문자열을 이루는 문자들 사이에 끼우기\n",
    "print(\" \".join(\"python.\"))\n",
    "\n",
    "print(\",\".join(\"python\")) # \n",
    "##############"
   ]
  },
  {
   "cell_type": "code",
   "execution_count": 61,
   "metadata": {
    "colab": {
     "base_uri": "https://localhost:8080/"
    },
    "executionInfo": {
     "elapsed": 5,
     "status": "ok",
     "timestamp": 1631889809297,
     "user": {
      "displayName": "박진수",
      "photoUrl": "https://lh3.googleusercontent.com/a-/AOh14Givt_n9gun5TCzjvq5ASwWr2b4FAUXE7mJI_JAt1g=s64",
      "userId": "04216559503906939593"
     },
     "user_tz": -540
    },
    "id": "EDGqiq-lO403",
    "outputId": "9a4c115b-1587-46d2-9846-7bc6025ffbd0"
   },
   "outputs": [
    {
     "name": "stdout",
     "output_type": "stream",
     "text": [
      "WE ARE THE WORLD!\n",
      "we are the world!\n"
     ]
    }
   ],
   "source": [
    "# 소문자를 대문자로, 대문자를 소문자로 바꾸기\n",
    "print(\"We are the World!\".upper())\n",
    "print(\"We are the World!\".lower())"
   ]
  },
  {
   "cell_type": "code",
   "execution_count": 62,
   "metadata": {
    "colab": {
     "base_uri": "https://localhost:8080/"
    },
    "executionInfo": {
     "elapsed": 15,
     "status": "ok",
     "timestamp": 1631889811466,
     "user": {
      "displayName": "박진수",
      "photoUrl": "https://lh3.googleusercontent.com/a-/AOh14Givt_n9gun5TCzjvq5ASwWr2b4FAUXE7mJI_JAt1g=s64",
      "userId": "04216559503906939593"
     },
     "user_tz": -540
    },
    "id": "stMtslg_6xCa",
    "outputId": "d7a43a4a-f9fc-433d-9b09-7af2ab589834"
   },
   "outputs": [
    {
     "name": "stdout",
     "output_type": "stream",
     "text": [
      "교통 안전 공단 A반에서 수업을 듣던 B라는 사람이 A반에서 ...를 했다고 합니다.\n"
     ]
    }
   ],
   "source": [
    "print(\"교통 안전 공단 a반에서 수업을 듣던 B라는 사람이 A반에서 ...를 했다고 합니다.\".upper())"
   ]
  },
  {
   "cell_type": "code",
   "execution_count": 63,
   "metadata": {
    "colab": {
     "base_uri": "https://localhost:8080/",
     "height": 35
    },
    "executionInfo": {
     "elapsed": 294,
     "status": "ok",
     "timestamp": 1631889814713,
     "user": {
      "displayName": "박진수",
      "photoUrl": "https://lh3.googleusercontent.com/a-/AOh14Givt_n9gun5TCzjvq5ASwWr2b4FAUXE7mJI_JAt1g=s64",
      "userId": "04216559503906939593"
     },
     "user_tz": -540
    },
    "id": "gOmsKtUkPMvX",
    "outputId": "627ebba4-60eb-4069-b0ab-f66334c61b03"
   },
   "outputs": [
    {
     "data": {
      "text/plain": [
       "'제1일차 현황보고    '"
      ]
     },
     "execution_count": 63,
     "metadata": {},
     "output_type": "execute_result"
    }
   ],
   "source": [
    "# 왼쪽 빈 칸 지우기\n",
    "\"    제1일차 현황보고    \".lstrip()"
   ]
  },
  {
   "cell_type": "code",
   "execution_count": 64,
   "metadata": {
    "colab": {
     "base_uri": "https://localhost:8080/",
     "height": 35
    },
    "executionInfo": {
     "elapsed": 292,
     "status": "ok",
     "timestamp": 1631889820017,
     "user": {
      "displayName": "박진수",
      "photoUrl": "https://lh3.googleusercontent.com/a-/AOh14Givt_n9gun5TCzjvq5ASwWr2b4FAUXE7mJI_JAt1g=s64",
      "userId": "04216559503906939593"
     },
     "user_tz": -540
    },
    "id": "A5LntmtzPmR2",
    "outputId": "fb7d6ffc-792d-4fe7-cf7a-41536811317f"
   },
   "outputs": [
    {
     "data": {
      "text/plain": [
       "'    제1일차 현황보고'"
      ]
     },
     "execution_count": 64,
     "metadata": {},
     "output_type": "execute_result"
    }
   ],
   "source": [
    "# 오른쪽 빈 칸 지우기\n",
    "\"    제1일차 현황보고    \".rstrip()"
   ]
  },
  {
   "cell_type": "code",
   "execution_count": 65,
   "metadata": {
    "colab": {
     "base_uri": "https://localhost:8080/",
     "height": 35
    },
    "executionInfo": {
     "elapsed": 299,
     "status": "ok",
     "timestamp": 1631889830876,
     "user": {
      "displayName": "박진수",
      "photoUrl": "https://lh3.googleusercontent.com/a-/AOh14Givt_n9gun5TCzjvq5ASwWr2b4FAUXE7mJI_JAt1g=s64",
      "userId": "04216559503906939593"
     },
     "user_tz": -540
    },
    "id": "XoHWuarLPvfc",
    "outputId": "9d262fc2-2179-41c5-caa6-e69a25780300"
   },
   "outputs": [
    {
     "data": {
      "text/plain": [
       "'제1일차 현황보고'"
      ]
     },
     "execution_count": 65,
     "metadata": {},
     "output_type": "execute_result"
    }
   ],
   "source": [
    "# 양쪽 빈 칸 지우기\n",
    "\"    제1일차 현황보고    \".strip()"
   ]
  },
  {
   "cell_type": "code",
   "execution_count": 66,
   "metadata": {
    "colab": {
     "base_uri": "https://localhost:8080/"
    },
    "executionInfo": {
     "elapsed": 283,
     "status": "ok",
     "timestamp": 1631889832497,
     "user": {
      "displayName": "박진수",
      "photoUrl": "https://lh3.googleusercontent.com/a-/AOh14Givt_n9gun5TCzjvq5ASwWr2b4FAUXE7mJI_JAt1g=s64",
      "userId": "04216559503906939593"
     },
     "user_tz": -540
    },
    "id": "4HABiFoFQD6C",
    "outputId": "8f4a6924-3f61-4ee1-85d6-1bb071c3d32c"
   },
   "outputs": [
    {
     "name": "stdout",
     "output_type": "stream",
     "text": [
      "인덱싱이란 문자열의 특정 부분을 가리키는 일을 말합니다.\n"
     ]
    }
   ],
   "source": [
    "# 이쯤에서 다시 '새_문자열' 내용을 출력해 보자.\n",
    "print(새_문자열)"
   ]
  },
  {
   "cell_type": "code",
   "execution_count": 67,
   "metadata": {
    "colab": {
     "base_uri": "https://localhost:8080/"
    },
    "executionInfo": {
     "elapsed": 278,
     "status": "ok",
     "timestamp": 1631889834183,
     "user": {
      "displayName": "박진수",
      "photoUrl": "https://lh3.googleusercontent.com/a-/AOh14Givt_n9gun5TCzjvq5ASwWr2b4FAUXE7mJI_JAt1g=s64",
      "userId": "04216559503906939593"
     },
     "user_tz": -540
    },
    "id": "3gv3TnNNQRCH",
    "outputId": "6417c6e7-74b1-45d4-9830-d7cc0fb96d85"
   },
   "outputs": [
    {
     "name": "stdout",
     "output_type": "stream",
     "text": [
      "['인덱싱이란', '문자열의', '특정', '부분을', '가리키는', '일을', '말합니다.']\n",
      "['파이썬,학습', ',복습을 합니다.']\n"
     ]
    }
   ],
   "source": [
    "# 문자열 나누기\n",
    "print(새_문자열.split())  # 문자열을 리스트(list)라는 데이터 형식으로 바꾼다. \n",
    "print(\"파이썬,학습과,복습을 합니다.\".split('과')) # 지정한 구분자를 기준으로 문자열을 나눈다."
   ]
  },
  {
   "cell_type": "markdown",
   "metadata": {
    "id": "TSRRq-vsdD2L"
   },
   "source": [
    "### 4.3 리스트(list)\n",
    "리스트(list)는 '목록'이라는 뜻입니다. 가게에서 물품 목록을 나열해 두듯이 데이터를 나열해 두는 형식입니다. 이런 식으로 어떤 데이터를 담아 두는 형식을 **컨테이너**(container, 그릇, 용기)'라고 부르는데, 리스트는 컨테이너의 일종입니다."
   ]
  },
  {
   "cell_type": "markdown",
   "metadata": {
    "id": "wwqNiO4pYLps"
   },
   "source": [
    "#### 4.3.1 리스트 형성"
   ]
  },
  {
   "cell_type": "code",
   "execution_count": 68,
   "metadata": {
    "colab": {
     "base_uri": "https://localhost:8080/"
    },
    "executionInfo": {
     "elapsed": 256,
     "status": "ok",
     "timestamp": 1628682000907,
     "user": {
      "displayName": "박진수",
      "photoUrl": "https://lh3.googleusercontent.com/a-/AOh14Givt_n9gun5TCzjvq5ASwWr2b4FAUXE7mJI_JAt1g=s64",
      "userId": "04216559503906939593"
     },
     "user_tz": -540
    },
    "id": "8PAJ2MrdQQd6",
    "outputId": "8653841c-cf86-46cc-cb34-27727239c2a6"
   },
   "outputs": [
    {
     "name": "stdout",
     "output_type": "stream",
     "text": [
      "['하나', '둘', '셋', '넷', '다섯']\n",
      "['첫째', '둘째', '셋째', '넷째', '다섯째']\n",
      "[1, 2, 3, 4, 5]\n"
     ]
    }
   ],
   "source": [
    "# 리스트를 만드는 방법\n",
    "기수 = ['하나', '둘', '셋', '넷', '다섯'] \n",
    "서수 = ['첫째', '둘째', '셋째', '넷째', '다섯째']\n",
    "수치 = [1, 2, 3, 4, 5]\n",
    "print(기수)\n",
    "print(서수)\n",
    "print(수치)"
   ]
  },
  {
   "cell_type": "code",
   "execution_count": 69,
   "metadata": {
    "colab": {
     "base_uri": "https://localhost:8080/"
    },
    "executionInfo": {
     "elapsed": 278,
     "status": "ok",
     "timestamp": 1628682063349,
     "user": {
      "displayName": "박진수",
      "photoUrl": "https://lh3.googleusercontent.com/a-/AOh14Givt_n9gun5TCzjvq5ASwWr2b4FAUXE7mJI_JAt1g=s64",
      "userId": "04216559503906939593"
     },
     "user_tz": -540
    },
    "id": "u2w_1p4hO4B6",
    "outputId": "4ebd9938-4912-4b64-dcf8-64a06aee67c5"
   },
   "outputs": [
    {
     "name": "stdout",
     "output_type": "stream",
     "text": [
      "[[1, '첫째', '하나'], [2, '둘째', '둘'], 3, '셋째', '셋']\n"
     ]
    }
   ],
   "source": [
    "# 리스트 안에 리스트를 두려면 리스트의 각 원소를 리스트로 만든다.\n",
    "# 리스트 안에 리스트가 있으면 '중첩 리스트'라고 부른다. \n",
    "수_표현 = [[1, '첫째', '하나'], [2, '둘째', '둘'], 3, '셋째', '셋']\n",
    "print(수_표현)\n"
   ]
  },
  {
   "cell_type": "markdown",
   "metadata": {
    "id": "-U4l9wmbYQrY"
   },
   "source": [
    "#### 4.3.2 리스트의 인덱싱과 슬라이싱"
   ]
  },
  {
   "cell_type": "code",
   "execution_count": 70,
   "metadata": {
    "colab": {
     "base_uri": "https://localhost:8080/"
    },
    "executionInfo": {
     "elapsed": 255,
     "status": "ok",
     "timestamp": 1628435184157,
     "user": {
      "displayName": "박진수",
      "photoUrl": "https://lh3.googleusercontent.com/a-/AOh14Givt_n9gun5TCzjvq5ASwWr2b4FAUXE7mJI_JAt1g=s64",
      "userId": "04216559503906939593"
     },
     "user_tz": -540
    },
    "id": "XSmrsMCAWe78",
    "outputId": "8f982d08-096a-49d4-efe7-bd8a1e855726"
   },
   "outputs": [
    {
     "name": "stdout",
     "output_type": "stream",
     "text": [
      "[1, '첫째', '하나']\n",
      "첫째\n",
      "3\n"
     ]
    }
   ],
   "source": [
    "# 리스트에서도 인덱싱을 할 수 있고 원리는 문자열의 것과 같다.\n",
    "print(수_표현[0]) # 리스트의 첫 번째 원소가 리스트이므로 부분 리스트가 출력된다.\n",
    "print(수_표현[0][1]) # 첫 번째 부분 리스트의 두 번째 원소가 출력된다.\n",
    "print(수_표현[2]) # 리스트의 세 번째 원소는 리스트가 아니므로 값이 그대로 출력된다."
   ]
  },
  {
   "cell_type": "code",
   "execution_count": 71,
   "metadata": {
    "colab": {
     "base_uri": "https://localhost:8080/"
    },
    "executionInfo": {
     "elapsed": 269,
     "status": "ok",
     "timestamp": 1628682206596,
     "user": {
      "displayName": "박진수",
      "photoUrl": "https://lh3.googleusercontent.com/a-/AOh14Givt_n9gun5TCzjvq5ASwWr2b4FAUXE7mJI_JAt1g=s64",
      "userId": "04216559503906939593"
     },
     "user_tz": -540
    },
    "id": "m4Hx1Gg9BYgN",
    "outputId": "b4fb84b9-2493-4a79-9323-0528558a3ad0"
   },
   "outputs": [
    {
     "name": "stdout",
     "output_type": "stream",
     "text": [
      "둘\n"
     ]
    }
   ],
   "source": [
    "print(수_표현[1][2])"
   ]
  },
  {
   "cell_type": "code",
   "execution_count": 72,
   "metadata": {
    "colab": {
     "base_uri": "https://localhost:8080/"
    },
    "executionInfo": {
     "elapsed": 287,
     "status": "ok",
     "timestamp": 1628682260631,
     "user": {
      "displayName": "박진수",
      "photoUrl": "https://lh3.googleusercontent.com/a-/AOh14Givt_n9gun5TCzjvq5ASwWr2b4FAUXE7mJI_JAt1g=s64",
      "userId": "04216559503906939593"
     },
     "user_tz": -540
    },
    "id": "aUlL23jTBlqi",
    "outputId": "d53aa082-cb83-4541-9e10-bd5df3ae1f76"
   },
   "outputs": [
    {
     "name": "stdout",
     "output_type": "stream",
     "text": [
      "[2, '둘째', '둘']\n"
     ]
    }
   ],
   "source": [
    "print(수_표현[1])"
   ]
  },
  {
   "cell_type": "code",
   "execution_count": 73,
   "metadata": {
    "colab": {
     "base_uri": "https://localhost:8080/"
    },
    "executionInfo": {
     "elapsed": 282,
     "status": "ok",
     "timestamp": 1628682305495,
     "user": {
      "displayName": "박진수",
      "photoUrl": "https://lh3.googleusercontent.com/a-/AOh14Givt_n9gun5TCzjvq5ASwWr2b4FAUXE7mJI_JAt1g=s64",
      "userId": "04216559503906939593"
     },
     "user_tz": -540
    },
    "id": "dhxQFgvzXPWR",
    "outputId": "e68db1d2-f24d-40c4-8b7b-0c6b1df1a003"
   },
   "outputs": [
    {
     "name": "stdout",
     "output_type": "stream",
     "text": [
      "[3, '셋째', '셋']\n",
      "[[2, '둘째', '둘'], 3, '셋째']\n"
     ]
    }
   ],
   "source": [
    "# 리스트에서도 슬라이싱을 할 수 있고 원리는 문자열의 것과 같다.\n",
    "print(수_표현[2:]) # 리스트의 세 번째 원소부터 출력한다.\n",
    "print(수_표현[1:4]) # 리스트의 두 번째 원소부터 네 번째 원소까지 출력한다."
   ]
  },
  {
   "cell_type": "markdown",
   "metadata": {
    "id": "kxrGg_O0YVRT"
   },
   "source": [
    "#### 4.3.3 리스트 원소의 수정과 삭제"
   ]
  },
  {
   "cell_type": "code",
   "execution_count": 74,
   "metadata": {
    "colab": {
     "base_uri": "https://localhost:8080/"
    },
    "executionInfo": {
     "elapsed": 251,
     "status": "ok",
     "timestamp": 1628682422392,
     "user": {
      "displayName": "박진수",
      "photoUrl": "https://lh3.googleusercontent.com/a-/AOh14Givt_n9gun5TCzjvq5ASwWr2b4FAUXE7mJI_JAt1g=s64",
      "userId": "04216559503906939593"
     },
     "user_tz": -540
    },
    "id": "D7EO3PLTCWEr",
    "outputId": "047aaa34-4b61-4d07-b3d2-b048ca7dec71"
   },
   "outputs": [
    {
     "name": "stdout",
     "output_type": "stream",
     "text": [
      "[[1, '첫째', '하나'], [2, '둘째', '둘'], 3, '셋째', '셋']\n"
     ]
    }
   ],
   "source": [
    "print(수_표현)"
   ]
  },
  {
   "cell_type": "code",
   "execution_count": 75,
   "metadata": {
    "id": "21K-FN9HY7nl"
   },
   "outputs": [],
   "source": [
    "# 리스트 안의 특정 원소를 바꾸거나 지우기\n",
    "수_표현[0] = [2, '둘째', '둘'] # 첫 번째 원소를 또 다른 리스트로 바꾼다.\n",
    "수_표현[1] = [3, '셋째', '셋'] # 두 번째 원소를 또 다른 리스트로 바꾼다.\n",
    "수_표현[2] = [4, '넷째', '넷'] # 네 번째 원소를 또 다른 리스트로 바꾼다. \n"
   ]
  },
  {
   "cell_type": "code",
   "execution_count": 76,
   "metadata": {
    "colab": {
     "base_uri": "https://localhost:8080/"
    },
    "executionInfo": {
     "elapsed": 280,
     "status": "ok",
     "timestamp": 1628682524419,
     "user": {
      "displayName": "박진수",
      "photoUrl": "https://lh3.googleusercontent.com/a-/AOh14Givt_n9gun5TCzjvq5ASwWr2b4FAUXE7mJI_JAt1g=s64",
      "userId": "04216559503906939593"
     },
     "user_tz": -540
    },
    "id": "X-SomNxACuKj",
    "outputId": "ff41b5fa-e060-4f60-c3e4-c3673a3b9464"
   },
   "outputs": [
    {
     "name": "stdout",
     "output_type": "stream",
     "text": [
      "[[2, '둘째', '둘'], [3, '셋째', '셋'], [4, '넷째', '넷'], '셋째', '셋']\n"
     ]
    }
   ],
   "source": [
    "print(수_표현)"
   ]
  },
  {
   "cell_type": "code",
   "execution_count": 77,
   "metadata": {
    "colab": {
     "base_uri": "https://localhost:8080/"
    },
    "executionInfo": {
     "elapsed": 265,
     "status": "ok",
     "timestamp": 1628682655249,
     "user": {
      "displayName": "박진수",
      "photoUrl": "https://lh3.googleusercontent.com/a-/AOh14Givt_n9gun5TCzjvq5ASwWr2b4FAUXE7mJI_JAt1g=s64",
      "userId": "04216559503906939593"
     },
     "user_tz": -540
    },
    "id": "MxQP2H9gCncP",
    "outputId": "4d0b8356-9f4f-4c1c-eaf3-fa91a38fdf46"
   },
   "outputs": [
    {
     "name": "stdout",
     "output_type": "stream",
     "text": [
      "[[2, '둘째', '둘'], [3, '셋째', '셋'], [4, '넷째', '넷']]\n"
     ]
    }
   ],
   "source": [
    "del 수_표현[3: ]  # 네 번째 원소 이후로는 지운다.\n",
    "                  # del 함수는 파이썬이 기본적으로 제공하는것이다.\n",
    "                  # del 뒤에 '지울 대상'을 지정하는 꼴이다. \n",
    "                  # 지울 대상은 파이썬의 데이터 형식으로 된 객체여야 한다.\n",
    "print(수_표현)"
   ]
  },
  {
   "cell_type": "markdown",
   "metadata": {
    "id": "d8tOGRj8Yhts"
   },
   "source": [
    "#### 2.3.4 리스트 연산\n"
   ]
  },
  {
   "cell_type": "code",
   "execution_count": 78,
   "metadata": {
    "colab": {
     "base_uri": "https://localhost:8080/"
    },
    "executionInfo": {
     "elapsed": 260,
     "status": "ok",
     "timestamp": 1628682685942,
     "user": {
      "displayName": "박진수",
      "photoUrl": "https://lh3.googleusercontent.com/a-/AOh14Givt_n9gun5TCzjvq5ASwWr2b4FAUXE7mJI_JAt1g=s64",
      "userId": "04216559503906939593"
     },
     "user_tz": -540
    },
    "id": "rofrioWlbPNV",
    "outputId": "6f8be3d3-ca93-4aac-91f5-75654d157635"
   },
   "outputs": [
    {
     "name": "stdout",
     "output_type": "stream",
     "text": [
      "[1, '첫째', '하나', [2, '둘째', '둘'], [3, '셋째', '셋'], [4, '넷째', '넷']]\n"
     ]
    }
   ],
   "source": [
    "# 리스트끼리 더하기\n",
    "새_수_표현 = [1, '첫째', '하나'] + 수_표현\n",
    "print(새_수_표현)"
   ]
  },
  {
   "cell_type": "code",
   "execution_count": 79,
   "metadata": {
    "colab": {
     "base_uri": "https://localhost:8080/"
    },
    "executionInfo": {
     "elapsed": 272,
     "status": "ok",
     "timestamp": 1628682732491,
     "user": {
      "displayName": "박진수",
      "photoUrl": "https://lh3.googleusercontent.com/a-/AOh14Givt_n9gun5TCzjvq5ASwWr2b4FAUXE7mJI_JAt1g=s64",
      "userId": "04216559503906939593"
     },
     "user_tz": -540
    },
    "id": "nn8dApWzbxWZ",
    "outputId": "ea8ebe5b-0e23-41b1-fbff-5f130a101b26"
   },
   "outputs": [
    {
     "name": "stdout",
     "output_type": "stream",
     "text": [
      "[[1, '첫째', '하나'], [2, '둘째', '둘'], [3, '셋째', '셋'], [4, '넷째', '넷']]\n"
     ]
    }
   ],
   "source": [
    "# 중첩 리스트 형태로 원소를 추가하기\n",
    "새_수_표현 = [[1, '첫째', '하나']] + 수_표현 # 추가할 원소를 중첩 리스트 형태로 표현한다.\n",
    "print(새_수_표현)"
   ]
  },
  {
   "cell_type": "code",
   "execution_count": 80,
   "metadata": {
    "colab": {
     "base_uri": "https://localhost:8080/"
    },
    "executionInfo": {
     "elapsed": 284,
     "status": "ok",
     "timestamp": 1628683003892,
     "user": {
      "displayName": "박진수",
      "photoUrl": "https://lh3.googleusercontent.com/a-/AOh14Givt_n9gun5TCzjvq5ASwWr2b4FAUXE7mJI_JAt1g=s64",
      "userId": "04216559503906939593"
     },
     "user_tz": -540
    },
    "id": "CxQvQadWDlWb",
    "outputId": "cc44ed1f-943e-46dd-9820-7ce06bf6f967"
   },
   "outputs": [
    {
     "name": "stdout",
     "output_type": "stream",
     "text": [
      "[['교통안전공단', 'A반'], '입니다']\n"
     ]
    }
   ],
   "source": [
    "# [[교통안전공단, A반], 입니다]\n",
    "우리반 = [[\"교통안전공단\", \"A반\"], \"입니다\"]\n",
    "print(우리반)"
   ]
  },
  {
   "cell_type": "code",
   "execution_count": 81,
   "metadata": {
    "colab": {
     "base_uri": "https://localhost:8080/"
    },
    "executionInfo": {
     "elapsed": 294,
     "status": "ok",
     "timestamp": 1628683090854,
     "user": {
      "displayName": "박진수",
      "photoUrl": "https://lh3.googleusercontent.com/a-/AOh14Givt_n9gun5TCzjvq5ASwWr2b4FAUXE7mJI_JAt1g=s64",
      "userId": "04216559503906939593"
     },
     "user_tz": -540
    },
    "id": "Q8EDvwMzEnnG",
    "outputId": "91c7c3cd-bb73-46b4-d578-a7b38fd09d8d"
   },
   "outputs": [
    {
     "name": "stdout",
     "output_type": "stream",
     "text": [
      "[[123, 456], [789, 101112]]\n"
     ]
    }
   ],
   "source": [
    "# [[123, 456], [789, 101112]]]\n",
    "숫자 = [[123, 456], [789, 101112]]\n",
    "print(숫자)\n",
    "\n"
   ]
  },
  {
   "cell_type": "code",
   "execution_count": 82,
   "metadata": {
    "colab": {
     "base_uri": "https://localhost:8080/"
    },
    "executionInfo": {
     "elapsed": 271,
     "status": "ok",
     "timestamp": 1628683145884,
     "user": {
      "displayName": "박진수",
      "photoUrl": "https://lh3.googleusercontent.com/a-/AOh14Givt_n9gun5TCzjvq5ASwWr2b4FAUXE7mJI_JAt1g=s64",
      "userId": "04216559503906939593"
     },
     "user_tz": -540
    },
    "id": "Nf1BzLi0cE9o",
    "outputId": "2486cc19-37a7-48fc-ea07-63565a2e029f"
   },
   "outputs": [
    {
     "name": "stdout",
     "output_type": "stream",
     "text": [
      "3\n",
      "4\n"
     ]
    }
   ],
   "source": [
    "# 리스트의 길이 구하기\n",
    "print(len(수_표현))\n",
    "print(len(새_수_표현))"
   ]
  },
  {
   "cell_type": "code",
   "execution_count": 83,
   "metadata": {
    "colab": {
     "base_uri": "https://localhost:8080/"
    },
    "executionInfo": {
     "elapsed": 332,
     "status": "ok",
     "timestamp": 1628683173880,
     "user": {
      "displayName": "박진수",
      "photoUrl": "https://lh3.googleusercontent.com/a-/AOh14Givt_n9gun5TCzjvq5ASwWr2b4FAUXE7mJI_JAt1g=s64",
      "userId": "04216559503906939593"
     },
     "user_tz": -540
    },
    "id": "PdSI4B--FNsg",
    "outputId": "8a5dbeb4-eb9a-43e4-836b-c363e2504c34"
   },
   "outputs": [
    {
     "name": "stdout",
     "output_type": "stream",
     "text": [
      "[[1, '첫째', '하나'], [2, '둘째', '둘'], [3, '셋째', '셋'], [4, '넷째', '넷']]\n"
     ]
    }
   ],
   "source": [
    "print(새_수_표현)"
   ]
  },
  {
   "cell_type": "code",
   "execution_count": 84,
   "metadata": {
    "colab": {
     "base_uri": "https://localhost:8080/"
    },
    "executionInfo": {
     "elapsed": 274,
     "status": "ok",
     "timestamp": 1628683288682,
     "user": {
      "displayName": "박진수",
      "photoUrl": "https://lh3.googleusercontent.com/a-/AOh14Givt_n9gun5TCzjvq5ASwWr2b4FAUXE7mJI_JAt1g=s64",
      "userId": "04216559503906939593"
     },
     "user_tz": -540
    },
    "id": "gfppkljUcTJs",
    "outputId": "b99519cb-0166-46c1-9bcc-ccbd46f20bfe"
   },
   "outputs": [
    {
     "name": "stdout",
     "output_type": "stream",
     "text": [
      "[1, '첫째', '하나', 1, '첫째', '하나', 1, '첫째', '하나']\n"
     ]
    }
   ],
   "source": [
    "# 리스트를 반복하기\n",
    "반복_수_표현 = 새_수_표현[0] * 3\n",
    "print(반복_수_표현)"
   ]
  },
  {
   "cell_type": "code",
   "execution_count": 85,
   "metadata": {
    "colab": {
     "base_uri": "https://localhost:8080/"
    },
    "executionInfo": {
     "elapsed": 8,
     "status": "ok",
     "timestamp": 1628435197245,
     "user": {
      "displayName": "박진수",
      "photoUrl": "https://lh3.googleusercontent.com/a-/AOh14Givt_n9gun5TCzjvq5ASwWr2b4FAUXE7mJI_JAt1g=s64",
      "userId": "04216559503906939593"
     },
     "user_tz": -540
    },
    "id": "a_3-f4-2cjCr",
    "outputId": "cfbab118-3b23-436a-9897-2ea34b6604e3"
   },
   "outputs": [
    {
     "name": "stdout",
     "output_type": "stream",
     "text": [
      "[[1, '첫째', '하나'], [1, '첫째', '하나'], [1, '첫째', '하나']]\n"
     ]
    }
   ],
   "source": [
    "# 리스트를 중첩된 꼴로 반복되게 하기\n",
    "중첩_수_표현 = [새_수_표현[0]] * 3  # 반복 대상이 되는 원소를 중첩 리스트 형태로 표현한다.\n",
    "print(중첩_수_표현)"
   ]
  },
  {
   "cell_type": "markdown",
   "metadata": {
    "id": "QFXaDbgQc_v3"
   },
   "source": [
    "#### 4.3.5 리스트 (내장) 함수\n"
   ]
  },
  {
   "cell_type": "code",
   "execution_count": 86,
   "metadata": {
    "colab": {
     "base_uri": "https://localhost:8080/"
    },
    "executionInfo": {
     "elapsed": 308,
     "status": "ok",
     "timestamp": 1628683566444,
     "user": {
      "displayName": "박진수",
      "photoUrl": "https://lh3.googleusercontent.com/a-/AOh14Givt_n9gun5TCzjvq5ASwWr2b4FAUXE7mJI_JAt1g=s64",
      "userId": "04216559503906939593"
     },
     "user_tz": -540
    },
    "id": "vF1X3AU9e_i4",
    "outputId": "dc486d44-a2f0-4ade-9dd7-00e03b4bebd1"
   },
   "outputs": [
    {
     "name": "stdout",
     "output_type": "stream",
     "text": [
      "[[1, '첫째', '하나'], [2, '둘째', '둘'], [3, '셋째', '셋'], [4, '넷째', '넷']]\n",
      "[[4, '넷째', '넷'], [3, '셋째', '셋'], [2, '둘째', '둘'], [1, '첫째', '하나']]\n",
      "[[1, '첫째', '하나'], [2, '둘째', '둘'], [3, '셋째', '셋'], [4, '넷째', '넷']]\n"
     ]
    }
   ],
   "source": [
    "# 리스트 정렬\n",
    "print(새_수_표현)\n",
    "새_수_표현.sort(reverse=True) # reverse를 키워드 파라미터(키워드 인자)라고 부른다.\n",
    "print(새_수_표현)\n",
    "새_수_표현.sort() # reverse를 키워드 파라미터(키워드 인자)라고 부른다.\n",
    "print(새_수_표현)"
   ]
  },
  {
   "cell_type": "code",
   "execution_count": 87,
   "metadata": {
    "colab": {
     "base_uri": "https://localhost:8080/"
    },
    "executionInfo": {
     "elapsed": 301,
     "status": "ok",
     "timestamp": 1628683637068,
     "user": {
      "displayName": "박진수",
      "photoUrl": "https://lh3.googleusercontent.com/a-/AOh14Givt_n9gun5TCzjvq5ASwWr2b4FAUXE7mJI_JAt1g=s64",
      "userId": "04216559503906939593"
     },
     "user_tz": -540
    },
    "id": "r8FRC4XJhcc6",
    "outputId": "81483495-8364-456a-b3a7-36be61c90099"
   },
   "outputs": [
    {
     "name": "stdout",
     "output_type": "stream",
     "text": [
      "[[1, '첫째', '하나'], [2, '둘째', '둘'], [3, '셋째', '셋'], [4, '넷째', '넷']]\n"
     ]
    }
   ],
   "source": [
    "새_수_표현.sort() # 파라미터를 지정하지 않으면 기본 값이 False이기 때문에 순서대로 정렬된다.\n",
    "print(새_수_표현)"
   ]
  },
  {
   "cell_type": "code",
   "execution_count": 88,
   "metadata": {
    "colab": {
     "base_uri": "https://localhost:8080/"
    },
    "executionInfo": {
     "elapsed": 292,
     "status": "ok",
     "timestamp": 1628683663811,
     "user": {
      "displayName": "박진수",
      "photoUrl": "https://lh3.googleusercontent.com/a-/AOh14Givt_n9gun5TCzjvq5ASwWr2b4FAUXE7mJI_JAt1g=s64",
      "userId": "04216559503906939593"
     },
     "user_tz": -540
    },
    "id": "Cs6MEWiYhPGv",
    "outputId": "06e5a52e-e168-4b41-a704-7d60b9e2da88"
   },
   "outputs": [
    {
     "name": "stdout",
     "output_type": "stream",
     "text": [
      "[[4, '넷째', '넷'], [3, '셋째', '셋'], [2, '둘째', '둘'], [1, '첫째', '하나']]\n"
     ]
    }
   ],
   "source": [
    "# 리스트 역정렬\n",
    "# .sort(reverse=True)와 같은 역할을 하는 함수는 다음과 같다.\n",
    "새_수_표현.reverse()\n",
    "print(새_수_표현)\n"
   ]
  },
  {
   "cell_type": "code",
   "execution_count": 89,
   "metadata": {
    "colab": {
     "base_uri": "https://localhost:8080/"
    },
    "executionInfo": {
     "elapsed": 294,
     "status": "ok",
     "timestamp": 1628683899835,
     "user": {
      "displayName": "박진수",
      "photoUrl": "https://lh3.googleusercontent.com/a-/AOh14Givt_n9gun5TCzjvq5ASwWr2b4FAUXE7mJI_JAt1g=s64",
      "userId": "04216559503906939593"
     },
     "user_tz": -540
    },
    "id": "qBykZhg_HPt0",
    "outputId": "8bb367af-4d35-4354-e0e9-7ad3febcaa08"
   },
   "outputs": [
    {
     "name": "stdout",
     "output_type": "stream",
     "text": [
      "['우리', '는', 'A반', '입니다', '.', '아니오.', '사실은', 'B반이라고', '합니다.']\n"
     ]
    }
   ],
   "source": [
    "문자_정렬 = [\"우리\", \"는\", \"A반\", \"입니다\", \".\", \"아니오.\", \"사실은\", \"B반이라고\", \"합니다.\"]\n",
    "print(문자_정렬)"
   ]
  },
  {
   "cell_type": "code",
   "execution_count": 90,
   "metadata": {
    "colab": {
     "base_uri": "https://localhost:8080/"
    },
    "executionInfo": {
     "elapsed": 260,
     "status": "ok",
     "timestamp": 1628683909070,
     "user": {
      "displayName": "박진수",
      "photoUrl": "https://lh3.googleusercontent.com/a-/AOh14Givt_n9gun5TCzjvq5ASwWr2b4FAUXE7mJI_JAt1g=s64",
      "userId": "04216559503906939593"
     },
     "user_tz": -540
    },
    "id": "xmfSnrccHfnK",
    "outputId": "96dd8d2b-a193-4de1-eb83-cbe3e849f97d"
   },
   "outputs": [
    {
     "name": "stdout",
     "output_type": "stream",
     "text": [
      "['.', 'A반', 'B반이라고', '는', '사실은', '아니오.', '우리', '입니다', '합니다.']\n"
     ]
    }
   ],
   "source": [
    "문자_정렬.sort()\n",
    "print(문자_정렬)"
   ]
  },
  {
   "cell_type": "code",
   "execution_count": 91,
   "metadata": {
    "colab": {
     "base_uri": "https://localhost:8080/"
    },
    "executionInfo": {
     "elapsed": 297,
     "status": "ok",
     "timestamp": 1628683993627,
     "user": {
      "displayName": "박진수",
      "photoUrl": "https://lh3.googleusercontent.com/a-/AOh14Givt_n9gun5TCzjvq5ASwWr2b4FAUXE7mJI_JAt1g=s64",
      "userId": "04216559503906939593"
     },
     "user_tz": -540
    },
    "id": "7NtZgv-CIKOy",
    "outputId": "8c602dd0-a066-41e6-a149-e56fe03d3368"
   },
   "outputs": [
    {
     "name": "stdout",
     "output_type": "stream",
     "text": [
      "['합니다.', '입니다', '우리', '아니오.', '사실은', '는', 'B반이라고', 'A반', '.']\n"
     ]
    }
   ],
   "source": [
    "문자_정렬.reverse()\n",
    "print(문자_정렬)"
   ]
  },
  {
   "cell_type": "code",
   "execution_count": 92,
   "metadata": {
    "colab": {
     "base_uri": "https://localhost:8080/"
    },
    "executionInfo": {
     "elapsed": 304,
     "status": "ok",
     "timestamp": 1628684037562,
     "user": {
      "displayName": "박진수",
      "photoUrl": "https://lh3.googleusercontent.com/a-/AOh14Givt_n9gun5TCzjvq5ASwWr2b4FAUXE7mJI_JAt1g=s64",
      "userId": "04216559503906939593"
     },
     "user_tz": -540
    },
    "id": "btBpBmhYhyF-",
    "outputId": "d5932c95-ff51-4059-f0da-3f54c4470ff7"
   },
   "outputs": [
    {
     "name": "stdout",
     "output_type": "stream",
     "text": [
      "[[4, '넷째', '넷'], [3, '셋째', '셋'], [2, '둘째', '둘'], [1, '첫째', '하나']]\n",
      "[[4, '넷째', '넷'], [3, '셋째', '셋'], [2, '둘째', '둘'], [1, '첫째', '하나'], [5, '다섯째', '다섯']]\n"
     ]
    }
   ],
   "source": [
    "# 리스트 원소 추가\n",
    "print(새_수_표현)\n",
    "새_수_표현.append([5, '다섯째', '다섯'])\n",
    "print(새_수_표현)"
   ]
  },
  {
   "cell_type": "code",
   "execution_count": 93,
   "metadata": {
    "colab": {
     "base_uri": "https://localhost:8080/"
    },
    "executionInfo": {
     "elapsed": 4,
     "status": "ok",
     "timestamp": 1628684100863,
     "user": {
      "displayName": "박진수",
      "photoUrl": "https://lh3.googleusercontent.com/a-/AOh14Givt_n9gun5TCzjvq5ASwWr2b4FAUXE7mJI_JAt1g=s64",
      "userId": "04216559503906939593"
     },
     "user_tz": -540
    },
    "id": "RttN_sYkirg4",
    "outputId": "c8fc68d2-8fdd-4a15-d70d-9ce1be615c34"
   },
   "outputs": [
    {
     "name": "stdout",
     "output_type": "stream",
     "text": [
      "[[6, '여섯째', '육'], [4, '넷째', '넷'], [3, '셋째', '셋'], [2, '둘째', '둘'], [1, '첫째', '하나'], [5, '다섯째', '다섯']]\n"
     ]
    }
   ],
   "source": [
    "# 리스트 원소 삽입\n",
    "# 자리를 지정해서 원소를 추가할 수 있다. \n",
    "새_수_표현.insert(0, [6, '여섯째', '육'])\n",
    "print(새_수_표현)"
   ]
  },
  {
   "cell_type": "code",
   "execution_count": 94,
   "metadata": {
    "colab": {
     "base_uri": "https://localhost:8080/"
    },
    "executionInfo": {
     "elapsed": 289,
     "status": "ok",
     "timestamp": 1628684161876,
     "user": {
      "displayName": "박진수",
      "photoUrl": "https://lh3.googleusercontent.com/a-/AOh14Givt_n9gun5TCzjvq5ASwWr2b4FAUXE7mJI_JAt1g=s64",
      "userId": "04216559503906939593"
     },
     "user_tz": -540
    },
    "id": "eEeguBGTI0wz",
    "outputId": "f5f927cb-009f-4cbd-9210-11206812d032"
   },
   "outputs": [
    {
     "name": "stdout",
     "output_type": "stream",
     "text": [
      "[[6, '여섯째', '육'], [4, '넷째', '넷'], [7, '일곱째', '칠'], [3, '셋째', '셋'], [2, '둘째', '둘'], [1, '첫째', '하나'], [5, '다섯째', '다섯']]\n"
     ]
    }
   ],
   "source": [
    "새_수_표현.insert(2, [7, '일곱째', '칠'])\n",
    "print(새_수_표현)"
   ]
  },
  {
   "cell_type": "code",
   "execution_count": 95,
   "metadata": {
    "colab": {
     "base_uri": "https://localhost:8080/"
    },
    "executionInfo": {
     "elapsed": 277,
     "status": "ok",
     "timestamp": 1628684182198,
     "user": {
      "displayName": "박진수",
      "photoUrl": "https://lh3.googleusercontent.com/a-/AOh14Givt_n9gun5TCzjvq5ASwWr2b4FAUXE7mJI_JAt1g=s64",
      "userId": "04216559503906939593"
     },
     "user_tz": -540
    },
    "id": "TxPZw28jiJEO",
    "outputId": "289c10e7-8e36-4580-d408-974ceddc1b1c"
   },
   "outputs": [
    {
     "name": "stdout",
     "output_type": "stream",
     "text": [
      "[[1, '첫째', '하나'], [2, '둘째', '둘'], [3, '셋째', '셋'], [4, '넷째', '넷'], [5, '다섯째', '다섯'], [6, '여섯째', '육'], [7, '일곱째', '칠']]\n"
     ]
    }
   ],
   "source": [
    "# 다시 정렬해 보자.\n",
    "새_수_표현.sort()\n",
    "print(새_수_표현)"
   ]
  },
  {
   "cell_type": "markdown",
   "metadata": {
    "id": "xh3PedjhdEIa"
   },
   "source": [
    "### 4.4 튜플(tuple)\n",
    "수학 용어로는 **짝**에 해당합니다. 튜플은 한 번 값을 정해 두면 다시 수정할 수 없다는 점에서 **이뮤터블**(immutable, 변경 불가) 형식에 해당합니다. 나머지 특징은 리스트와 거의 같습니다. "
   ]
  },
  {
   "cell_type": "code",
   "execution_count": 96,
   "metadata": {
    "id": "4uGTAbatsL7u"
   },
   "outputs": [],
   "source": [
    "# 튜플 만들기 \n",
    "tpl1 = ('튜', '플', '을', '만들기')  # 단순 튜플\n",
    "tpl2 = ('튜', '플', '들', '을', ('만', '들', '기'))  # 중첩 튜플\n",
    "tpl3 = (1, 2, 3)  # 원소들이 수치인 튜플 \n",
    "tpl4 = 4, 5, 6, 7    # 괄호 없이 튜플 생성하기"
   ]
  },
  {
   "cell_type": "code",
   "execution_count": 97,
   "metadata": {
    "colab": {
     "base_uri": "https://localhost:8080/"
    },
    "executionInfo": {
     "elapsed": 3,
     "status": "ok",
     "timestamp": 1628435241742,
     "user": {
      "displayName": "박진수",
      "photoUrl": "https://lh3.googleusercontent.com/a-/AOh14Givt_n9gun5TCzjvq5ASwWr2b4FAUXE7mJI_JAt1g=s64",
      "userId": "04216559503906939593"
     },
     "user_tz": -540
    },
    "id": "sdtW-zRJtb1K",
    "outputId": "4a770db0-aa7a-426e-9980-3ad6ca6c96b5"
   },
   "outputs": [
    {
     "name": "stdout",
     "output_type": "stream",
     "text": [
      "(1, 2, 3, 4, 5, 6, 7)\n"
     ]
    }
   ],
   "source": [
    "# 튜플끼리 더하기\n",
    "print(tpl3 + tpl4)"
   ]
  },
  {
   "cell_type": "code",
   "execution_count": 98,
   "metadata": {
    "colab": {
     "base_uri": "https://localhost:8080/"
    },
    "executionInfo": {
     "elapsed": 11,
     "status": "ok",
     "timestamp": 1628435242740,
     "user": {
      "displayName": "박진수",
      "photoUrl": "https://lh3.googleusercontent.com/a-/AOh14Givt_n9gun5TCzjvq5ASwWr2b4FAUXE7mJI_JAt1g=s64",
      "userId": "04216559503906939593"
     },
     "user_tz": -540
    },
    "id": "A6285rYRtqr1",
    "outputId": "be342a30-881a-40b3-96fc-bb1e2715c9f8"
   },
   "outputs": [
    {
     "name": "stdout",
     "output_type": "stream",
     "text": [
      "(1, 2, 3, 1, 2, 3)\n"
     ]
    }
   ],
   "source": [
    "# 튜플 곱하기\n",
    "print(tpl3 * 2)"
   ]
  },
  {
   "cell_type": "code",
   "execution_count": null,
   "metadata": {
    "id": "BAZ-NMVJKYvE"
   },
   "outputs": [],
   "source": []
  },
  {
   "cell_type": "code",
   "execution_count": 99,
   "metadata": {
    "colab": {
     "base_uri": "https://localhost:8080/"
    },
    "executionInfo": {
     "elapsed": 3,
     "status": "ok",
     "timestamp": 1628435243753,
     "user": {
      "displayName": "박진수",
      "photoUrl": "https://lh3.googleusercontent.com/a-/AOh14Givt_n9gun5TCzjvq5ASwWr2b4FAUXE7mJI_JAt1g=s64",
      "userId": "04216559503906939593"
     },
     "user_tz": -540
    },
    "id": "Bhn9qj07twuq",
    "outputId": "13289e92-af22-4717-d8c4-15088046ea39"
   },
   "outputs": [
    {
     "name": "stdout",
     "output_type": "stream",
     "text": [
      "4\n",
      "5\n",
      "3\n",
      "4\n"
     ]
    }
   ],
   "source": [
    "# 튜플 길이 알아내기\n",
    "print(len(tpl1))\n",
    "print(len(tpl2))\n",
    "print(len(tpl3))\n",
    "print(len(tpl4))"
   ]
  },
  {
   "cell_type": "markdown",
   "metadata": {
    "id": "Z02dj2GMdEPZ"
   },
   "source": [
    "### 4.5 셋(set)\n",
    "이 데이터 형식은 수학에 나오는 집합(set) 연산을 처리하기 쉽게 하기 위한 것입니다. 인공지능과 관련해서는 데이터 집합(즉, 데이터셋)을 대상으로 여러 가지 연산을 할 때 쓰입니다(주로 고급 기술 수준에서 사용)."
   ]
  },
  {
   "cell_type": "markdown",
   "metadata": {
    "id": "FK1cNdXdn4gP"
   },
   "source": [
    "#### 4.5.1 셋 형식의 특징\n",
    "> 수학에 나오는 집합의 특징과 동일\n",
    "* 중복을 허용하지 않음\n",
    "* 순서를 고려하지 않음\n",
    "  * 순서를 꼭 고려해 처리해야 한다면 리스트나 튜플 자료형으로 변환 필요\n"
   ]
  },
  {
   "cell_type": "markdown",
   "metadata": {
    "id": "-1AGmTOzoWlw"
   },
   "source": [
    "#### 4.5.2. 셋 형식 데이터 만들기"
   ]
  },
  {
   "cell_type": "code",
   "execution_count": 199,
   "metadata": {
    "colab": {
     "base_uri": "https://localhost:8080/"
    },
    "executionInfo": {
     "elapsed": 252,
     "status": "ok",
     "timestamp": 1628435253236,
     "user": {
      "displayName": "박진수",
      "photoUrl": "https://lh3.googleusercontent.com/a-/AOh14Givt_n9gun5TCzjvq5ASwWr2b4FAUXE7mJI_JAt1g=s64",
      "userId": "04216559503906939593"
     },
     "user_tz": -540
    },
    "id": "4qRsWGHDoa-g",
    "outputId": "eaff7fc1-a9d4-47a5-efc6-7f80a385a429"
   },
   "outputs": [
    {
     "name": "stdout",
     "output_type": "stream",
     "text": [
      "{1, 2, 3, 4, 5}\n",
      "{2, 3, 5, 7, 9}\n"
     ]
    }
   ],
   "source": [
    "# 리스트를 셋으로 만들기\n",
    "A_집합 = set([1, 2, 3, 4, 5, 5]) #중복허용 x (5하나 없어짐)\n",
    "B_집합 = set([2, 3, 5, 7, 9])\n",
    "print(A_집합)\n",
    "print(B_집합)"
   ]
  },
  {
   "cell_type": "code",
   "execution_count": 101,
   "metadata": {
    "colab": {
     "base_uri": "https://localhost:8080/"
    },
    "executionInfo": {
     "elapsed": 2,
     "status": "ok",
     "timestamp": 1628435254329,
     "user": {
      "displayName": "박진수",
      "photoUrl": "https://lh3.googleusercontent.com/a-/AOh14Givt_n9gun5TCzjvq5ASwWr2b4FAUXE7mJI_JAt1g=s64",
      "userId": "04216559503906939593"
     },
     "user_tz": -540
    },
    "id": "YeRyflbmou88",
    "outputId": "9b2f0153-e380-4240-d406-abb2cfd4d010"
   },
   "outputs": [
    {
     "name": "stdout",
     "output_type": "stream",
     "text": [
      "{'반', ',', '아', '다', '상', ' ', '세', '!', '갑'}\n"
     ]
    }
   ],
   "source": [
    "# 문자열을 셋으로 만들기  \n",
    "문자_집합 = set(\"반갑다, 세상아!\") # 순서가 사라져 버린다. 순서고려 x\n",
    "print(문자_집합)  "
   ]
  },
  {
   "cell_type": "markdown",
   "metadata": {
    "id": "l0cAbGkqpYOu"
   },
   "source": [
    "#### 4.5.3 셋 연산 "
   ]
  },
  {
   "cell_type": "code",
   "execution_count": 102,
   "metadata": {
    "colab": {
     "base_uri": "https://localhost:8080/"
    },
    "executionInfo": {
     "elapsed": 271,
     "status": "ok",
     "timestamp": 1628435257071,
     "user": {
      "displayName": "박진수",
      "photoUrl": "https://lh3.googleusercontent.com/a-/AOh14Givt_n9gun5TCzjvq5ASwWr2b4FAUXE7mJI_JAt1g=s64",
      "userId": "04216559503906939593"
     },
     "user_tz": -540
    },
    "id": "pEGj3bzRpcQk",
    "outputId": "e9c0f3b6-c55e-44ce-8a0e-81726f4dca89"
   },
   "outputs": [
    {
     "name": "stdout",
     "output_type": "stream",
     "text": [
      "{1, 2, 3, 4, 5, 7, 9}\n",
      "{2, 3, 5}\n",
      "{1, 4}\n"
     ]
    }
   ],
   "source": [
    "# 연산자를 사용해서 하는 집합 연산\n",
    "print(A_집합 | B_집합 ) # 합집합\n",
    "print(A_집합 & B_집합 ) # 교집합\n",
    "print(A_집합 - B_집합 ) # 차집합"
   ]
  },
  {
   "cell_type": "code",
   "execution_count": 103,
   "metadata": {
    "colab": {
     "base_uri": "https://localhost:8080/"
    },
    "executionInfo": {
     "elapsed": 11,
     "status": "ok",
     "timestamp": 1628435258086,
     "user": {
      "displayName": "박진수",
      "photoUrl": "https://lh3.googleusercontent.com/a-/AOh14Givt_n9gun5TCzjvq5ASwWr2b4FAUXE7mJI_JAt1g=s64",
      "userId": "04216559503906939593"
     },
     "user_tz": -540
    },
    "id": "tET-_BXYp1Er",
    "outputId": "23e05c74-6b11-4d3b-c7b7-c9e268a3cffe"
   },
   "outputs": [
    {
     "name": "stdout",
     "output_type": "stream",
     "text": [
      "{1, 2, 3, 4, 5, 7, 9}\n",
      "{2, 3, 5}\n",
      "{1, 4}\n"
     ]
    }
   ],
   "source": [
    "# set 객체의 메소드를 사용해서 하는 집합 연산\n",
    "print(A_집합.union(B_집합))       # 합집합\n",
    "print(A_집합.intersection(B_집합))# 교집합\n",
    "print(A_집합.difference(B_집합))  # 차집합"
   ]
  },
  {
   "cell_type": "markdown",
   "metadata": {
    "id": "F5T3YqkAqf4l"
   },
   "source": [
    "#### 4.5.4 원소 가감\n"
   ]
  },
  {
   "cell_type": "code",
   "execution_count": 104,
   "metadata": {
    "colab": {
     "base_uri": "https://localhost:8080/"
    },
    "executionInfo": {
     "elapsed": 308,
     "status": "ok",
     "timestamp": 1628435259968,
     "user": {
      "displayName": "박진수",
      "photoUrl": "https://lh3.googleusercontent.com/a-/AOh14Givt_n9gun5TCzjvq5ASwWr2b4FAUXE7mJI_JAt1g=s64",
      "userId": "04216559503906939593"
     },
     "user_tz": -540
    },
    "id": "YsxvgBxNqzq8",
    "outputId": "bd22098c-3c10-416e-c3f4-d3e08e070981"
   },
   "outputs": [
    {
     "name": "stdout",
     "output_type": "stream",
     "text": [
      "{1, 2, 3, 4, 5, 6}\n"
     ]
    }
   ],
   "source": [
    "# 원소 한 개 추가 \n",
    "A_집합.add(6) \n",
    "print(A_집합)"
   ]
  },
  {
   "cell_type": "code",
   "execution_count": 105,
   "metadata": {
    "colab": {
     "base_uri": "https://localhost:8080/"
    },
    "executionInfo": {
     "elapsed": 10,
     "status": "ok",
     "timestamp": 1628435260896,
     "user": {
      "displayName": "박진수",
      "photoUrl": "https://lh3.googleusercontent.com/a-/AOh14Givt_n9gun5TCzjvq5ASwWr2b4FAUXE7mJI_JAt1g=s64",
      "userId": "04216559503906939593"
     },
     "user_tz": -540
    },
    "id": "_rKAyB-Nq4AS",
    "outputId": "f08d521b-04f1-4460-8de1-8b31018a8432"
   },
   "outputs": [
    {
     "name": "stdout",
     "output_type": "stream",
     "text": [
      "{1, 2, 3, 4, 5, 6, 7, 8, 9, 10}\n"
     ]
    }
   ],
   "source": [
    "# 원소를 여러 개 추가\n",
    "A_집합.update([7, 8, 9, 10])\n",
    "print(A_집합)"
   ]
  },
  {
   "cell_type": "code",
   "execution_count": 106,
   "metadata": {
    "colab": {
     "base_uri": "https://localhost:8080/"
    },
    "executionInfo": {
     "elapsed": 9,
     "status": "ok",
     "timestamp": 1628435261822,
     "user": {
      "displayName": "박진수",
      "photoUrl": "https://lh3.googleusercontent.com/a-/AOh14Givt_n9gun5TCzjvq5ASwWr2b4FAUXE7mJI_JAt1g=s64",
      "userId": "04216559503906939593"
     },
     "user_tz": -540
    },
    "id": "ipBs7MJFrDHP",
    "outputId": "9d3ea178-95f6-44bd-aac0-a0c56e9eab21"
   },
   "outputs": [
    {
     "name": "stdout",
     "output_type": "stream",
     "text": [
      "{1, 2, 3, 4, 5, 6, 7, 8, 9}\n"
     ]
    }
   ],
   "source": [
    "# 원소 제거\n",
    "A_집합.remove(10)\n",
    "print(A_집합)"
   ]
  },
  {
   "cell_type": "markdown",
   "metadata": {
    "id": "uK9SasD0dELu"
   },
   "source": [
    "### 4.6 딕셔너리(dictionary)\n",
    "딕셔너리란 **국어 사전**에 수록된 모양으로 된 데이터 형식을 말합니다. 즉, **낱말**과 **뜻풀이** 형태로 된 형식을 말하는데, 딕셔너리에서는 이를 각각 **키(key)**와 **값(value)**이라고 부릅니다."
   ]
  },
  {
   "cell_type": "markdown",
   "metadata": {
    "id": "eXCFedVmBFmW"
   },
   "source": [
    "#### 4.6.1 딕셔너리 만들기"
   ]
  },
  {
   "cell_type": "code",
   "execution_count": 107,
   "metadata": {
    "colab": {
     "base_uri": "https://localhost:8080/"
    },
    "executionInfo": {
     "elapsed": 264,
     "status": "ok",
     "timestamp": 1628761355196,
     "user": {
      "displayName": "박진수",
      "photoUrl": "https://lh3.googleusercontent.com/a-/AOh14Givt_n9gun5TCzjvq5ASwWr2b4FAUXE7mJI_JAt1g=s64",
      "userId": "04216559503906939593"
     },
     "user_tz": -540
    },
    "id": "uG6HnF1J9Yb_",
    "outputId": "45bb667d-92d6-4ec6-9052-e633c1a2ff1c"
   },
   "outputs": [
    {
     "name": "stdout",
     "output_type": "stream",
     "text": [
      "{'김갑돌': '010-1234-5678', '이을돌': '010-2345-6789'}\n"
     ]
    }
   ],
   "source": [
    "# 딕셔너리 만들기\n",
    "# 여기서 '성명'과 '전화번호'가 키이고 나머지가 값이다.\n",
    "전화부 = {'김갑돌': '010-1234-5678',\n",
    "          '이을돌': '010-2345-6789'}\n",
    "print(전화부)"
   ]
  },
  {
   "cell_type": "code",
   "execution_count": 108,
   "metadata": {
    "colab": {
     "base_uri": "https://localhost:8080/"
    },
    "executionInfo": {
     "elapsed": 243,
     "status": "ok",
     "timestamp": 1628761534364,
     "user": {
      "displayName": "박진수",
      "photoUrl": "https://lh3.googleusercontent.com/a-/AOh14Givt_n9gun5TCzjvq5ASwWr2b4FAUXE7mJI_JAt1g=s64",
      "userId": "04216559503906939593"
     },
     "user_tz": -540
    },
    "id": "AOsqGjjk99pI",
    "outputId": "0e6ac8f6-4769-468d-a730-22b5d593697d"
   },
   "outputs": [
    {
     "name": "stdout",
     "output_type": "stream",
     "text": [
      "{'김갑돌': [80, 50, 50], '이을돌': [30, 20, 10]}\n"
     ]
    }
   ],
   "source": [
    "#  또 다른 딕셔너리 만들기\n",
    "# 딕셔너리의 값으로는 리스트를 지정해도 된다.\n",
    "성적부 = {'김갑돌': [80, 50, 50],\n",
    "          '이을돌': [30, 20, 10]} \n",
    "print(성적부)"
   ]
  },
  {
   "cell_type": "markdown",
   "metadata": {
    "id": "-J8x5QL7BJPm"
   },
   "source": [
    "#### 4.6.2 딕셔너리의 기본 기능 "
   ]
  },
  {
   "cell_type": "code",
   "execution_count": 109,
   "metadata": {
    "colab": {
     "base_uri": "https://localhost:8080/"
    },
    "executionInfo": {
     "elapsed": 249,
     "status": "ok",
     "timestamp": 1628435267864,
     "user": {
      "displayName": "박진수",
      "photoUrl": "https://lh3.googleusercontent.com/a-/AOh14Givt_n9gun5TCzjvq5ASwWr2b4FAUXE7mJI_JAt1g=s64",
      "userId": "04216559503906939593"
     },
     "user_tz": -540
    },
    "id": "vC9QbTEX-s8D",
    "outputId": "92f1a929-e221-4aa6-91f3-9ab5bd3dd51c"
   },
   "outputs": [
    {
     "name": "stdout",
     "output_type": "stream",
     "text": [
      "{'김갑돌': [80, 50, 50], '이을돌': [30, 20, 10], '박병돌': [80, 90, 90]}\n"
     ]
    }
   ],
   "source": [
    "# 딕셔너리에 원소 추가하기\n",
    "# 원소를 '키: 값'이라는 1개 쌍으로 이뤄진 원소를 추가한다.\n",
    "성적부['박병돌'] = [80, 90, 90]\n",
    "print(성적부)"
   ]
  },
  {
   "cell_type": "code",
   "execution_count": 110,
   "metadata": {
    "id": "_ocrUJmZwWpw"
   },
   "outputs": [],
   "source": [
    "성적부['강정돌'] = [50, 60, 70]"
   ]
  },
  {
   "cell_type": "code",
   "execution_count": 111,
   "metadata": {
    "colab": {
     "base_uri": "https://localhost:8080/"
    },
    "executionInfo": {
     "elapsed": 5,
     "status": "ok",
     "timestamp": 1628761811505,
     "user": {
      "displayName": "박진수",
      "photoUrl": "https://lh3.googleusercontent.com/a-/AOh14Givt_n9gun5TCzjvq5ASwWr2b4FAUXE7mJI_JAt1g=s64",
      "userId": "04216559503906939593"
     },
     "user_tz": -540
    },
    "id": "Ajqj0Ilv_Tez",
    "outputId": "a8111958-18b3-4a0c-dc6d-8965176ba6b9"
   },
   "outputs": [
    {
     "name": "stdout",
     "output_type": "stream",
     "text": [
      "[30, 20, 10]\n"
     ]
    }
   ],
   "source": [
    "# 키로 값을 알아내기\n",
    "print(성적부['이을돌']) # 딕셔너리에서는 키로만 값을 알 수 있다."
   ]
  },
  {
   "cell_type": "code",
   "execution_count": 112,
   "metadata": {
    "colab": {
     "base_uri": "https://localhost:8080/"
    },
    "executionInfo": {
     "elapsed": 257,
     "status": "ok",
     "timestamp": 1628761824227,
     "user": {
      "displayName": "박진수",
      "photoUrl": "https://lh3.googleusercontent.com/a-/AOh14Givt_n9gun5TCzjvq5ASwWr2b4FAUXE7mJI_JAt1g=s64",
      "userId": "04216559503906939593"
     },
     "user_tz": -540
    },
    "id": "0-3-3hbUAdJS",
    "outputId": "7b558c1c-5ccc-43fe-f474-63744fd87fca"
   },
   "outputs": [
    {
     "name": "stdout",
     "output_type": "stream",
     "text": [
      "{'김갑돌': [80, 50, 50], '박병돌': [80, 90, 90], '강정돌': [50, 60, 70]}\n"
     ]
    }
   ],
   "source": [
    "# 딕셔너리 원소 삭제\n",
    "del 성적부['이을돌']\n",
    "print(성적부)"
   ]
  },
  {
   "cell_type": "markdown",
   "metadata": {
    "id": "giw3wuzrBTDL"
   },
   "source": [
    "#### 4.6.3 딕셔너리 (내장) 함수"
   ]
  },
  {
   "cell_type": "code",
   "execution_count": 113,
   "metadata": {
    "colab": {
     "base_uri": "https://localhost:8080/"
    },
    "executionInfo": {
     "elapsed": 230,
     "status": "ok",
     "timestamp": 1628762038498,
     "user": {
      "displayName": "박진수",
      "photoUrl": "https://lh3.googleusercontent.com/a-/AOh14Givt_n9gun5TCzjvq5ASwWr2b4FAUXE7mJI_JAt1g=s64",
      "userId": "04216559503906939593"
     },
     "user_tz": -540
    },
    "id": "OKYWaSVjBZSc",
    "outputId": "51144b13-64a9-4f6a-dbf6-f1f5d716edec"
   },
   "outputs": [
    {
     "name": "stdout",
     "output_type": "stream",
     "text": [
      "dict_keys(['김갑돌', '박병돌', '강정돌'])\n"
     ]
    }
   ],
   "source": [
    "# 키만 추출하기 \n",
    "키_목록 = 성적부.keys()  # 반환되는 객체는 dict_keys다. \n",
    "print(키_목록)  "
   ]
  },
  {
   "cell_type": "code",
   "execution_count": 114,
   "metadata": {
    "colab": {
     "base_uri": "https://localhost:8080/"
    },
    "executionInfo": {
     "elapsed": 252,
     "status": "ok",
     "timestamp": 1628762263661,
     "user": {
      "displayName": "박진수",
      "photoUrl": "https://lh3.googleusercontent.com/a-/AOh14Givt_n9gun5TCzjvq5ASwWr2b4FAUXE7mJI_JAt1g=s64",
      "userId": "04216559503906939593"
     },
     "user_tz": -540
    },
    "id": "brOcguLnBZUT",
    "outputId": "5269f078-35ee-40dc-8d60-0e60dba22a27"
   },
   "outputs": [
    {
     "name": "stdout",
     "output_type": "stream",
     "text": [
      "['김갑돌', '박병돌', '강정돌']\n"
     ]
    }
   ],
   "source": [
    "# 키를 리스트 형식으로 추출하기\n",
    "키_리스트 = list(성적부.keys())\n",
    "print(키_리스트)"
   ]
  },
  {
   "cell_type": "code",
   "execution_count": 115,
   "metadata": {
    "colab": {
     "base_uri": "https://localhost:8080/"
    },
    "executionInfo": {
     "elapsed": 232,
     "status": "ok",
     "timestamp": 1628762270236,
     "user": {
      "displayName": "박진수",
      "photoUrl": "https://lh3.googleusercontent.com/a-/AOh14Givt_n9gun5TCzjvq5ASwWr2b4FAUXE7mJI_JAt1g=s64",
      "userId": "04216559503906939593"
     },
     "user_tz": -540
    },
    "id": "x4qBgz6DCDfw",
    "outputId": "2f221773-b1bf-4e1d-f480-8d027d2f6fce"
   },
   "outputs": [
    {
     "name": "stdout",
     "output_type": "stream",
     "text": [
      "dict_values([[80, 50, 50], [80, 90, 90], [50, 60, 70]])\n"
     ]
    }
   ],
   "source": [
    "# 값만 추출하기\n",
    "값_목록 = 성적부.values()\n",
    "print(값_목록)"
   ]
  },
  {
   "cell_type": "code",
   "execution_count": 116,
   "metadata": {
    "colab": {
     "base_uri": "https://localhost:8080/"
    },
    "executionInfo": {
     "elapsed": 240,
     "status": "ok",
     "timestamp": 1628762354696,
     "user": {
      "displayName": "박진수",
      "photoUrl": "https://lh3.googleusercontent.com/a-/AOh14Givt_n9gun5TCzjvq5ASwWr2b4FAUXE7mJI_JAt1g=s64",
      "userId": "04216559503906939593"
     },
     "user_tz": -540
    },
    "id": "2DUJvFUrCLyZ",
    "outputId": "b3e3e534-6aba-414a-903a-20ee47fc7448"
   },
   "outputs": [
    {
     "name": "stdout",
     "output_type": "stream",
     "text": [
      "[[80, 50, 50], [80, 90, 90], [50, 60, 70]]\n"
     ]
    }
   ],
   "source": [
    "# 값을 리스트 형식으로 추출하기\n",
    "값_리스트 = list(성적부.values())\n",
    "print(값_리스트)"
   ]
  },
  {
   "cell_type": "code",
   "execution_count": 117,
   "metadata": {
    "colab": {
     "base_uri": "https://localhost:8080/"
    },
    "executionInfo": {
     "elapsed": 367,
     "status": "ok",
     "timestamp": 1628762375957,
     "user": {
      "displayName": "박진수",
      "photoUrl": "https://lh3.googleusercontent.com/a-/AOh14Givt_n9gun5TCzjvq5ASwWr2b4FAUXE7mJI_JAt1g=s64",
      "userId": "04216559503906939593"
     },
     "user_tz": -540
    },
    "id": "lzD2us2LCZAk",
    "outputId": "e4791472-2523-4bd8-adc8-6691bc474266"
   },
   "outputs": [
    {
     "name": "stdout",
     "output_type": "stream",
     "text": [
      "dict_items([('김갑돌', [80, 50, 50]), ('박병돌', [80, 90, 90]), ('강정돌', [50, 60, 70])])\n"
     ]
    }
   ],
   "source": [
    "# 키-값 쌍을 추출하기\n",
    "키_값_목록 = 성적부.items()\n",
    "print(키_값_목록)"
   ]
  },
  {
   "cell_type": "code",
   "execution_count": 118,
   "metadata": {
    "colab": {
     "base_uri": "https://localhost:8080/"
    },
    "executionInfo": {
     "elapsed": 278,
     "status": "ok",
     "timestamp": 1628762377685,
     "user": {
      "displayName": "박진수",
      "photoUrl": "https://lh3.googleusercontent.com/a-/AOh14Givt_n9gun5TCzjvq5ASwWr2b4FAUXE7mJI_JAt1g=s64",
      "userId": "04216559503906939593"
     },
     "user_tz": -540
    },
    "id": "zSFWVcs0CpTy",
    "outputId": "e1252d2a-c562-4ea7-e5f7-fe3e83d45ea2"
   },
   "outputs": [
    {
     "name": "stdout",
     "output_type": "stream",
     "text": [
      "[('김갑돌', [80, 50, 50]), ('박병돌', [80, 90, 90]), ('강정돌', [50, 60, 70])]\n"
     ]
    }
   ],
   "source": [
    "# 키-값을 리스트 형식으로 추출하기 \n",
    "키_값_리스트 = list(성적부.items())\n",
    "print(키_값_리스트)"
   ]
  },
  {
   "cell_type": "code",
   "execution_count": 119,
   "metadata": {
    "colab": {
     "base_uri": "https://localhost:8080/"
    },
    "executionInfo": {
     "elapsed": 266,
     "status": "ok",
     "timestamp": 1628762394438,
     "user": {
      "displayName": "박진수",
      "photoUrl": "https://lh3.googleusercontent.com/a-/AOh14Givt_n9gun5TCzjvq5ASwWr2b4FAUXE7mJI_JAt1g=s64",
      "userId": "04216559503906939593"
     },
     "user_tz": -540
    },
    "id": "XWgAbLC8C_Rh",
    "outputId": "58c1113a-b7eb-443d-e2fb-af8426d9b913"
   },
   "outputs": [
    {
     "name": "stdout",
     "output_type": "stream",
     "text": [
      "['김갑돌', [80, 50, 50]]\n"
     ]
    }
   ],
   "source": [
    "# 참고: 특정 원소를 뽑아 리스트 형식으로 표현하기\n",
    "print(list(키_값_리스트[0]))"
   ]
  },
  {
   "cell_type": "code",
   "execution_count": 120,
   "metadata": {
    "colab": {
     "base_uri": "https://localhost:8080/"
    },
    "executionInfo": {
     "elapsed": 3,
     "status": "ok",
     "timestamp": 1628435280436,
     "user": {
      "displayName": "박진수",
      "photoUrl": "https://lh3.googleusercontent.com/a-/AOh14Givt_n9gun5TCzjvq5ASwWr2b4FAUXE7mJI_JAt1g=s64",
      "userId": "04216559503906939593"
     },
     "user_tz": -540
    },
    "id": "vuZvhAB1DYij",
    "outputId": "1e50f3f3-d2c7-488c-97d0-5766681a1b2d"
   },
   "outputs": [
    {
     "name": "stdout",
     "output_type": "stream",
     "text": [
      "True\n",
      "False\n"
     ]
    }
   ],
   "source": [
    "# 특정 키가 딕셔너리 안에 있는지를 확인하기\n",
    "print('김갑돌' in 성적부)\n",
    "print('이을돌' in 성적부)"
   ]
  },
  {
   "cell_type": "markdown",
   "metadata": {
    "id": "RrLnnXoGugWF"
   },
   "source": [
    "## 5. 데이터 형식에 맞게 변수를 형성하기"
   ]
  },
  {
   "cell_type": "markdown",
   "metadata": {
    "id": "BObnsb3HLFhz"
   },
   "source": [
    "### 5.1 튜플 형식에 맞게 변수를 사용하기"
   ]
  },
  {
   "cell_type": "code",
   "execution_count": 121,
   "metadata": {
    "colab": {
     "base_uri": "https://localhost:8080/"
    },
    "executionInfo": {
     "elapsed": 287,
     "status": "ok",
     "timestamp": 1631890515000,
     "user": {
      "displayName": "박진수",
      "photoUrl": "https://lh3.googleusercontent.com/a-/AOh14Givt_n9gun5TCzjvq5ASwWr2b4FAUXE7mJI_JAt1g=s64",
      "userId": "04216559503906939593"
     },
     "user_tz": -540
    },
    "id": "31qSbvLzJQEQ",
    "outputId": "60045ac3-a9a3-4361-dbb4-ff8d53ff41fc"
   },
   "outputs": [
    {
     "name": "stdout",
     "output_type": "stream",
     "text": [
      "튜플\n",
      "만들기\n"
     ]
    },
    {
     "data": {
      "text/plain": [
       "('튜플', '만들기')"
      ]
     },
     "execution_count": 121,
     "metadata": {},
     "output_type": "execute_result"
    }
   ],
   "source": [
    "# 튜플형 변수 만들기\n",
    "(t1, t2) = '튜플', '만들기'\n",
    "# 다음 두 식은 각기 위 식과 똑같은 역할을 한다.\n",
    "# t1, t2 = '튜플', '만들기'\n",
    "# t1, t2 = ('튜플', '만들기')\n",
    "print(t1)\n",
    "print(t2)\n",
    "(t1, t2)"
   ]
  },
  {
   "cell_type": "code",
   "execution_count": 122,
   "metadata": {
    "colab": {
     "base_uri": "https://localhost:8080/"
    },
    "executionInfo": {
     "elapsed": 328,
     "status": "ok",
     "timestamp": 1631890527349,
     "user": {
      "displayName": "박진수",
      "photoUrl": "https://lh3.googleusercontent.com/a-/AOh14Givt_n9gun5TCzjvq5ASwWr2b4FAUXE7mJI_JAt1g=s64",
      "userId": "04216559503906939593"
     },
     "user_tz": -540
    },
    "id": "gKxFSZ86KAS6",
    "outputId": "8216c508-c4d1-4b0f-883f-28ae613719da"
   },
   "outputs": [
    {
     "data": {
      "text/plain": [
       "('새로', '만들기')"
      ]
     },
     "execution_count": 122,
     "metadata": {},
     "output_type": "execute_result"
    }
   ],
   "source": [
    "# 변수 형식으로 만들면 튜플의 값을 바꿀 수  있다. \n",
    "t1 = \"새로\"\n",
    "(t1, t2)"
   ]
  },
  {
   "cell_type": "code",
   "execution_count": 123,
   "metadata": {
    "colab": {
     "base_uri": "https://localhost:8080/"
    },
    "executionInfo": {
     "elapsed": 296,
     "status": "ok",
     "timestamp": 1631890534830,
     "user": {
      "displayName": "박진수",
      "photoUrl": "https://lh3.googleusercontent.com/a-/AOh14Givt_n9gun5TCzjvq5ASwWr2b4FAUXE7mJI_JAt1g=s64",
      "userId": "04216559503906939593"
     },
     "user_tz": -540
    },
    "id": "n8WPxHFg1C3w",
    "outputId": "6dfbc24f-8481-4331-ebbf-1a0ebb29c496"
   },
   "outputs": [
    {
     "data": {
      "text/plain": [
       "('새로', '생성하기')"
      ]
     },
     "execution_count": 123,
     "metadata": {},
     "output_type": "execute_result"
    }
   ],
   "source": [
    "t2 = \"생성하기\"\n",
    "(t1, t2)"
   ]
  },
  {
   "cell_type": "code",
   "execution_count": 124,
   "metadata": {
    "colab": {
     "base_uri": "https://localhost:8080/"
    },
    "executionInfo": {
     "elapsed": 381,
     "status": "ok",
     "timestamp": 1631890538355,
     "user": {
      "displayName": "박진수",
      "photoUrl": "https://lh3.googleusercontent.com/a-/AOh14Givt_n9gun5TCzjvq5ASwWr2b4FAUXE7mJI_JAt1g=s64",
      "userId": "04216559503906939593"
     },
     "user_tz": -540
    },
    "id": "edV7SZZFKNKu",
    "outputId": "92df7c97-905f-4ec7-a902-012d6a91f3c0"
   },
   "outputs": [
    {
     "name": "stdout",
     "output_type": "stream",
     "text": [
      "('새로', '생성하기')\n",
      "('새로운', '튜플')\n"
     ]
    }
   ],
   "source": [
    "# 변수 형식으로 된 튜플 자체를 저장할 수 있다.\n",
    "새_튜플 = (t1, t2)\n",
    "신_튜플 = (\"새로운\", \"튜플\")\n",
    "print(새_튜플)\n",
    "print(신_튜플)"
   ]
  },
  {
   "cell_type": "markdown",
   "metadata": {
    "id": "YLlXGm9xLLXS"
   },
   "source": [
    "### 5.2 리스트 형식에 맞게 변수를 사용하기\n",
    "이 기능은 머신러닝/딥러닝 처리 시에 자주 쓰입니다. 꼭 외워 둡시다. 튜플 대신에 리스트 형식이라는 점만 다를 뿐 사용법은 앞에서 다룬 방법과 같습니다."
   ]
  },
  {
   "cell_type": "code",
   "execution_count": 125,
   "metadata": {
    "colab": {
     "base_uri": "https://localhost:8080/"
    },
    "executionInfo": {
     "elapsed": 287,
     "status": "ok",
     "timestamp": 1631890586112,
     "user": {
      "displayName": "박진수",
      "photoUrl": "https://lh3.googleusercontent.com/a-/AOh14Givt_n9gun5TCzjvq5ASwWr2b4FAUXE7mJI_JAt1g=s64",
      "userId": "04216559503906939593"
     },
     "user_tz": -540
    },
    "id": "iVZlYb4mLOji",
    "outputId": "15e75fe4-863f-4d47-f02c-3dd320687afe"
   },
   "outputs": [
    {
     "name": "stdout",
     "output_type": "stream",
     "text": [
      "255\n",
      "128\n",
      "129\n",
      "[255, 128, 129]\n"
     ]
    }
   ],
   "source": [
    "# 리스트의 각 원소를 한 번에 여러 변수에 담기\n",
    "l1, l2, l3 = [255, 128, 129]  \n",
    "\n",
    "print(l1)\n",
    "print(l2)\n",
    "print(l3)\n",
    "print([l1, l2, l3])"
   ]
  },
  {
   "cell_type": "code",
   "execution_count": 126,
   "metadata": {
    "colab": {
     "base_uri": "https://localhost:8080/"
    },
    "executionInfo": {
     "elapsed": 287,
     "status": "ok",
     "timestamp": 1631890605153,
     "user": {
      "displayName": "박진수",
      "photoUrl": "https://lh3.googleusercontent.com/a-/AOh14Givt_n9gun5TCzjvq5ASwWr2b4FAUXE7mJI_JAt1g=s64",
      "userId": "04216559503906939593"
     },
     "user_tz": -540
    },
    "id": "skToUo-ZL1xn",
    "outputId": "c6c54f2b-3eef-42dc-d431-306a23b840ce"
   },
   "outputs": [
    {
     "name": "stdout",
     "output_type": "stream",
     "text": [
      "128\n",
      "155\n",
      "12\n",
      "[12, 128, 155]\n"
     ]
    }
   ],
   "source": [
    "# 개별 원소를 변수들로 이뤄진 리스트에 담기\n",
    "[원소1, 원소2, 원소3] = 128, 155, 12\n",
    "\n",
    "print(원소1)\n",
    "print(원소2)\n",
    "print(원소3)\n",
    "새_리스트 = [원소3, 원소1, 원소2]\n",
    "print(새_리스트)"
   ]
  },
  {
   "cell_type": "markdown",
   "metadata": {
    "id": "xiyGws8yMrhp"
   },
   "source": [
    "### 5.3 그 밖의 변수 사용법"
   ]
  },
  {
   "cell_type": "code",
   "execution_count": 127,
   "metadata": {
    "colab": {
     "base_uri": "https://localhost:8080/"
    },
    "executionInfo": {
     "elapsed": 286,
     "status": "ok",
     "timestamp": 1631890613717,
     "user": {
      "displayName": "박진수",
      "photoUrl": "https://lh3.googleusercontent.com/a-/AOh14Givt_n9gun5TCzjvq5ASwWr2b4FAUXE7mJI_JAt1g=s64",
      "userId": "04216559503906939593"
     },
     "user_tz": -540
    },
    "id": "YQkXwQT2MyOg",
    "outputId": "9ea86cf8-a91a-4bb5-eb80-58d3ab933144"
   },
   "outputs": [
    {
     "name": "stdout",
     "output_type": "stream",
     "text": [
      "20 10\n"
     ]
    }
   ],
   "source": [
    "# 변수 값을 치환하기\n",
    "변수1 = 10\n",
    "변수2 = 20\n",
    "변수1, 변수2 = 변수2, 변수1\n",
    "print(변수1, 변수2)"
   ]
  },
  {
   "cell_type": "code",
   "execution_count": 128,
   "metadata": {
    "colab": {
     "base_uri": "https://localhost:8080/"
    },
    "executionInfo": {
     "elapsed": 279,
     "status": "ok",
     "timestamp": 1631890615961,
     "user": {
      "displayName": "박진수",
      "photoUrl": "https://lh3.googleusercontent.com/a-/AOh14Givt_n9gun5TCzjvq5ASwWr2b4FAUXE7mJI_JAt1g=s64",
      "userId": "04216559503906939593"
     },
     "user_tz": -540
    },
    "id": "bc4WhckX3dzq",
    "outputId": "d9d9382d-7d31-4c42-9f17-3799b7584075"
   },
   "outputs": [
    {
     "name": "stdout",
     "output_type": "stream",
     "text": [
      "30 20 10\n"
     ]
    }
   ],
   "source": [
    "a = 10\n",
    "b = 20\n",
    "c = 30\n",
    "\n",
    "# 어떤 코드?\n",
    "a, b, c = c, b, a\n",
    "\n",
    "print(a, b, c)"
   ]
  },
  {
   "cell_type": "code",
   "execution_count": 129,
   "metadata": {
    "colab": {
     "base_uri": "https://localhost:8080/"
    },
    "executionInfo": {
     "elapsed": 300,
     "status": "ok",
     "timestamp": 1631890620647,
     "user": {
      "displayName": "박진수",
      "photoUrl": "https://lh3.googleusercontent.com/a-/AOh14Givt_n9gun5TCzjvq5ASwWr2b4FAUXE7mJI_JAt1g=s64",
      "userId": "04216559503906939593"
     },
     "user_tz": -540
    },
    "id": "k_Vj-ECCNA1u",
    "outputId": "89d03ede-c906-4761-95f1-2245f6730b6e"
   },
   "outputs": [
    {
     "name": "stdout",
     "output_type": "stream",
     "text": [
      "신입사원 신입사원 신입사원 신입사원\n"
     ]
    }
   ],
   "source": [
    "# 여러 변수에 같은 값을 대입하기 \n",
    "갑 = 을 = 병 = 정 = '신입사원'\n",
    "print(갑, 을, 병, 정)"
   ]
  },
  {
   "cell_type": "code",
   "execution_count": 130,
   "metadata": {
    "colab": {
     "base_uri": "https://localhost:8080/"
    },
    "executionInfo": {
     "elapsed": 275,
     "status": "ok",
     "timestamp": 1631890660771,
     "user": {
      "displayName": "박진수",
      "photoUrl": "https://lh3.googleusercontent.com/a-/AOh14Givt_n9gun5TCzjvq5ASwWr2b4FAUXE7mJI_JAt1g=s64",
      "userId": "04216559503906939593"
     },
     "user_tz": -540
    },
    "id": "as9--FBn35FU",
    "outputId": "e7e44d87-3430-4d86-e2af-edf214aec3a1"
   },
   "outputs": [
    {
     "name": "stdout",
     "output_type": "stream",
     "text": [
      "40\n"
     ]
    }
   ],
   "source": [
    "a = b = c = d = 10\n",
    "\n",
    "print(a + b + c + d)"
   ]
  }
 ],
 "metadata": {
  "colab": {
   "authorship_tag": "ABX9TyNm2lH8hD2e+0dEOq2FAli4",
   "collapsed_sections": [
    "FgQvHLism46j",
    "kZ5J_6Jvmvzc",
    "CpUDl8U4dqqf",
    "hwFlMnlWfXrz"
   ],
   "name": "[6일차(8_10 화) 파이썬_ 데이터 처리.ipynb",
   "provenance": []
  },
  "kernelspec": {
   "display_name": "Python 3 (ipykernel)",
   "language": "python",
   "name": "python3"
  },
  "language_info": {
   "codemirror_mode": {
    "name": "ipython",
    "version": 3
   },
   "file_extension": ".py",
   "mimetype": "text/x-python",
   "name": "python",
   "nbconvert_exporter": "python",
   "pygments_lexer": "ipython3",
   "version": "3.9.2"
  }
 },
 "nbformat": 4,
 "nbformat_minor": 1
}
