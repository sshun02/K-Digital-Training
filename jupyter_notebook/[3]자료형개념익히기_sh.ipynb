{
 "cells": [
  {
   "cell_type": "markdown",
   "id": "6bb19832",
   "metadata": {},
   "source": [
    "## python 제어문 _ 파이썬의 문법으로 기본문을 만들어 제공\n",
    "#### 식별자 > 변수와 자료형 > 연산자 > 제어문 > 함수 > 클래스 > 상속 >\n",
    "#### 다형성 > 파일입출력 (여기까지 배운다.) > 예외처리 > 스레드 > 네트워크 순으로 학습한다.\n",
    "\n",
    "python 제어문 \n",
    "    \n",
    "  1) 조건문 : 만일에 ~하다면 이라는 조건에 대한 명령을 구한할 때 사용\n",
    "  \n",
    "  [단일형식]\n",
    "  \n",
    "    if 조건 :\n",
    "        True 실행문\n",
    "    else :\n",
    "        False 실행문\n",
    "        \n",
    "  [다중형식]\n",
    "  \n",
    "    if 조건 :\n",
    "        True 실행문\n",
    "    elif 조건2 :\n",
    "        Ture 실행문\n",
    "        .\n",
    "        .\n",
    "        .\n",
    "    elif 조건n :\n",
    "        True 실행문\n",
    "    else :\n",
    "        False 실행문\n",
    "+ res = int(input(\"input res = \")) # 정수를 입력받는 법"
   ]
  },
  {
   "cell_type": "code",
   "execution_count": 1,
   "id": "0286b088",
   "metadata": {},
   "outputs": [
    {
     "name": "stdout",
     "output_type": "stream",
     "text": [
      "a =100\n",
      "b =200\n",
      "hap =  300\n"
     ]
    }
   ],
   "source": [
    "# Q1) 두 숫자를 입력받아 합을 구해보자. _input\n",
    "\n",
    "a = int(input('a ='))\n",
    "b = int(input('b ='))\n",
    "hap = a + b\n",
    "print('hap = ',hap)"
   ]
  },
  {
   "cell_type": "code",
   "execution_count": 4,
   "id": "3149ab1c",
   "metadata": {},
   "outputs": [
    {
     "data": {
      "text/plain": [
       "'100200'"
      ]
     },
     "execution_count": 4,
     "metadata": {},
     "output_type": "execute_result"
    }
   ],
   "source": [
    "'100' + '200' #문자와 문자의 더하기는 연결연산자로 처리된다."
   ]
  },
  {
   "cell_type": "code",
   "execution_count": 12,
   "id": "d3c38ab0",
   "metadata": {},
   "outputs": [
    {
     "name": "stdout",
     "output_type": "stream",
     "text": [
      "a =-9\n",
      "b =-4\n",
      "두 수의 합이 100보다 작다.\n"
     ]
    }
   ],
   "source": [
    "# Q2) 두 수의 합이 100보다 크면 100보다 크다라고 출력하고 그렇지 않으면 작다라고 출력해라\n",
    "\n",
    "a = int(input('a ='))\n",
    "b = int(input('b ='))\n",
    "hap = a + b\n",
    "\n",
    "if hap > 100:\n",
    "    print(\"두 수의 합이 100보다 크다.\")\n",
    "elif hap < 100:\n",
    "    print(\"두 수의 합이 100보다 작다.\")\n",
    "elif hap == 100:\n",
    "    print(\"두 수의 합이 100이다.\")\n",
    "else:\n",
    "    print(\"올바른 수를 입력하세요.\")"
   ]
  },
  {
   "cell_type": "code",
   "execution_count": 23,
   "id": "ffdccf43",
   "metadata": {},
   "outputs": [
    {
     "name": "stdout",
     "output_type": "stream",
     "text": [
      "True\n",
      "True\n"
     ]
    }
   ],
   "source": [
    "# Q3) in 연산자를 이용하여 목록에 속한 데이터의 유무를 확인 해보자. in, notin\n",
    "print('2' in ['1','2','3',4,5])\n",
    "print(2 not in ['1','2','3',4,5])"
   ]
  },
  {
   "cell_type": "code",
   "execution_count": 24,
   "id": "2a8281bc",
   "metadata": {},
   "outputs": [
    {
     "name": "stdout",
     "output_type": "stream",
     "text": [
      "목록에 a가 있어\n"
     ]
    }
   ],
   "source": [
    "list_data = [1,2,3,4,'a']\n",
    "if 'a' in list_data:\n",
    "    print(\"목록에 a가 있어\")\n",
    "else:\n",
    "    print(\"목록에 a가 없어\")"
   ]
  },
  {
   "cell_type": "code",
   "execution_count": 57,
   "id": "2f0b649c",
   "metadata": {},
   "outputs": [
    {
     "name": "stdout",
     "output_type": "stream",
     "text": [
      "앞면\n"
     ]
    }
   ],
   "source": [
    "# Q4) 동전을 던져서 앞면 또는 뒷면이 나오는지를 확인하자.\n",
    "import random   #난수값 설정 모듈\n",
    "# print(dir(random))\n",
    "\n",
    "coin = ['앞면','뒷면']\n",
    "# print(random.choice(coin))\n",
    "#print(dir(random.SystemRandom))\n",
    "#print(help(random.SystemRandom.sample))\n",
    "print(random.choice(coin))"
   ]
  },
  {
   "cell_type": "code",
   "execution_count": 48,
   "id": "81bb9509",
   "metadata": {
    "scrolled": true
   },
   "outputs": [
    {
     "name": "stdout",
     "output_type": "stream",
     "text": [
      "input kor : 90\n",
      "input eng : 100\n",
      "input mat : 300\n",
      "A학점\n"
     ]
    }
   ],
   "source": [
    "# Q5) 세 과목을 입력받아 총점과 평균을 구하자, 평균이 90이상이면 A, 80이상이면 B,\n",
    "#     나머지는 F이다.\n",
    "# 변수선언 -> 값 대입 -> 연산 -> 출력 순으로 한다.\n",
    "\n",
    "kor = eng = mat = tot = avg = 0\n",
    "\n",
    "kor = int(input('input kor : '))\n",
    "eng = int(input('input eng : '))\n",
    "mat = int(input('input mat : '))\n",
    "\n",
    "tot = kor+eng+mat\n",
    "avg = tot / 3\n",
    "\n",
    "if avg >= 90:\n",
    "    print(\"A학점\")\n",
    "elif 90 > avg >=80 :\n",
    "    print(\"B학점\")\n",
    "else :\n",
    "    print(\"F학점\")"
   ]
  },
  {
   "cell_type": "code",
   "execution_count": 54,
   "id": "8a7d9765",
   "metadata": {},
   "outputs": [
    {
     "name": "stdout",
     "output_type": "stream",
     "text": [
      "1,1\t2,2\t3,3\t4,4\t5,5\t6,6\t7,7\t\n",
      "1_2_3_4_5_6_7_"
     ]
    }
   ],
   "source": [
    "# Q6) 임의 리스트 객체를 출력 해보자.\n",
    "\n",
    "# 'sep='는 벨류와 벨류 사이 'end='는 문장과 문장 사이\n",
    "my_list = [1,2,3,4,5,6,7]\n",
    "\n",
    "for res in  my_list:\n",
    "    print(res, res, sep=',' ,end='\\t')\n",
    "    \n",
    "print()\n",
    "my_list = (1,2,3,4,5,6,7)\n",
    "\n",
    "for res in  my_list:\n",
    "    print(res, end='_')"
   ]
  },
  {
   "cell_type": "code",
   "execution_count": 58,
   "id": "04452c6e",
   "metadata": {},
   "outputs": [
    {
     "name": "stdout",
     "output_type": "stream",
     "text": [
      "0\t1\t2\t3\t4\t5\t6\t7\t8\t9\t\n",
      "1\t3\t5\t7\t9\t\n",
      "10\t9\t8\t7\t6\t5\t4\t3\t2\t1\t\n",
      "1\t3\t5\t7\t\n"
     ]
    }
   ],
   "source": [
    "# Q7) 임의의 range()를 출력 해보자. for 사용\n",
    "\n",
    "for i in range(10):\n",
    "    print(i, end='\\t')\n",
    "print()\n",
    "\n",
    "for i in range(1,10,2):\n",
    "    print(i, end='\\t')\n",
    "print()\n",
    "\n",
    "for i in range(10, 0, -1):\n",
    "    print(i, end='\\t')\n",
    "print()\n",
    "\n",
    "for i in range(1, 9, 2):\n",
    "    print(i, end='\\t')\n",
    "print()"
   ]
  },
  {
   "cell_type": "code",
   "execution_count": 60,
   "id": "c1661b66",
   "metadata": {},
   "outputs": [
    {
     "name": "stdout",
     "output_type": "stream",
     "text": [
      "숫자를 입력하세요 : 5\n",
      "*\n",
      "**\n",
      "***\n",
      "****\n",
      "*****\n"
     ]
    }
   ],
   "source": [
    "# Q8) 입력한 숫자만큼 *을 출력해보자\n",
    "\n",
    "n = int(input(\"숫자를 입력하세요 : \"))\n",
    "\n",
    "for i in range(1, n+1):\n",
    "    print('*' * i)"
   ]
  },
  {
   "cell_type": "code",
   "execution_count": 61,
   "id": "7059400e",
   "metadata": {},
   "outputs": [
    {
     "name": "stdout",
     "output_type": "stream",
     "text": [
      "1 번째는  4\n",
      "2 번째는  2\n",
      "3 번째는  3\n",
      "4 번째는  2\n",
      "5 번째는  6\n",
      "6 번째는  4\n",
      "7 번째는  6\n",
      "8 번째는  4\n",
      "9 번째는  2\n",
      "10 번째는  2\n"
     ]
    }
   ],
   "source": [
    "# Q9) 주사위를 10번 던져서 출력되는 눈을 확인하시오.\n",
    "\n",
    "import random\n",
    "dice = [1,2,3,4,5,6]\n",
    "\n",
    "for i in range(1, 11):\n",
    "    print( i,'번째는 ', random.choice(dice))\n",
    "    "
   ]
  },
  {
   "cell_type": "code",
   "execution_count": 63,
   "id": "721d89fa",
   "metadata": {},
   "outputs": [
    {
     "name": "stdout",
     "output_type": "stream",
     "text": [
      "1 번째는  뒷면\n",
      "2 번째는  뒷면\n",
      "3 번째는  앞면\n",
      "4 번째는  뒷면\n",
      "5 번째는  앞면\n",
      "6 번째는  앞면\n",
      "7 번째는  앞면\n",
      "8 번째는  뒷면\n",
      "9 번째는  앞면\n",
      "10 번째는  뒷면\n"
     ]
    }
   ],
   "source": [
    "# Q10) 동전을 10번 던져서 출력되는 면을 확인하시오.\n",
    "\n",
    "import random\n",
    "coin = ['앞면', '뒷면']\n",
    "\n",
    "for i in range(1, 11):\n",
    "    print( i,'번째는 ', random.choice(coin))\n",
    "    "
   ]
  },
  {
   "cell_type": "code",
   "execution_count": 67,
   "id": "250b5afa",
   "metadata": {},
   "outputs": [
    {
     "name": "stdout",
     "output_type": "stream",
     "text": [
      "1 번째는  뒷면\n",
      "2 번째는  앞면\n",
      "3 번째는  뒷면\n",
      "4 번째는  앞면\n",
      "5 번째는  뒷면\n",
      "6 번째는  뒷면\n",
      "7 번째는  앞면\n",
      "8 번째는  앞면\n",
      "9 번째는  뒷면\n",
      "10 번째는  뒷면\n",
      "앞면은 총 5번 나왔습니다.\n"
     ]
    }
   ],
   "source": [
    "# Q11) 동전을 10번 던져서 출력되는 면을 확인하고 앞면이 나오는 횟수를 확인하시오.\n",
    "\n",
    "import random\n",
    "cnt = 0\n",
    "coin = ['앞면', '뒷면']\n",
    "\n",
    "for i in range(1, 11):\n",
    "    print( i,'번째는 ', random.choice(coin))\n",
    "    if random.choice(coin) == '앞면':\n",
    "        cnt += 1\n",
    "print(\"앞면은 총 %d번 나왔습니다.\" %cnt)"
   ]
  },
  {
   "cell_type": "code",
   "execution_count": 75,
   "id": "0c496358",
   "metadata": {},
   "outputs": [
    {
     "name": "stdout",
     "output_type": "stream",
     "text": [
      "16\n"
     ]
    }
   ],
   "source": [
    "# Q12) 주사위를 100번 던져서 눈이 3 이 나온 횟수를 출력하라\n",
    "\n",
    "import random\n",
    "dice = [1,2,3,4,5,6]\n",
    "cnt = 0\n",
    "\n",
    "for i in range(1, 101):\n",
    "    result = random.choice(dice)\n",
    "    if result == 3:\n",
    "        cnt += 1\n",
    "print(cnt)\n",
    "    "
   ]
  },
  {
   "cell_type": "code",
   "execution_count": 91,
   "id": "05c90de5",
   "metadata": {},
   "outputs": [
    {
     "name": "stdout",
     "output_type": "stream",
     "text": [
      "0.22\n"
     ]
    }
   ],
   "source": [
    "# Q13) 주사위를 100번 던져서 눈이 3 이 나온 확률을 출력하라\n",
    "\n",
    "import random\n",
    "dice = [1,2,3,4,5,6]\n",
    "cnt = 0\n",
    "\n",
    "for i in range(1, 101):\n",
    "    result = random.choice(dice)\n",
    "    if result == 3:\n",
    "        cnt += 1\n",
    "print(cnt/100)\n",
    "cnt = 0\n",
    "    "
   ]
  },
  {
   "cell_type": "code",
   "execution_count": 95,
   "id": "be62c724",
   "metadata": {},
   "outputs": [
    {
     "name": "stdout",
     "output_type": "stream",
     "text": [
      "2 * 1 = 2\n",
      "2 * 2 = 4\n",
      "2 * 3 = 6\n",
      "2 * 4 = 8\n",
      "2 * 5 = 10\n",
      "2 * 6 = 12\n",
      "2 * 7 = 14\n",
      "2 * 8 = 16\n",
      "2 * 9 = 18\n",
      "**********\n",
      "3 * 1 = 3\n",
      "3 * 2 = 6\n",
      "3 * 3 = 9\n",
      "3 * 4 = 12\n",
      "3 * 5 = 15\n",
      "3 * 6 = 18\n",
      "3 * 7 = 21\n",
      "3 * 8 = 24\n",
      "3 * 9 = 27\n",
      "**********\n",
      "4 * 1 = 4\n",
      "4 * 2 = 8\n",
      "4 * 3 = 12\n",
      "4 * 4 = 16\n",
      "4 * 5 = 20\n",
      "4 * 6 = 24\n",
      "4 * 7 = 28\n",
      "4 * 8 = 32\n",
      "4 * 9 = 36\n",
      "**********\n",
      "5 * 1 = 5\n",
      "5 * 2 = 10\n",
      "5 * 3 = 15\n",
      "5 * 4 = 20\n",
      "5 * 5 = 25\n",
      "5 * 6 = 30\n",
      "5 * 7 = 35\n",
      "5 * 8 = 40\n",
      "5 * 9 = 45\n",
      "**********\n",
      "6 * 1 = 6\n",
      "6 * 2 = 12\n",
      "6 * 3 = 18\n",
      "6 * 4 = 24\n",
      "6 * 5 = 30\n",
      "6 * 6 = 36\n",
      "6 * 7 = 42\n",
      "6 * 8 = 48\n",
      "6 * 9 = 54\n",
      "**********\n",
      "7 * 1 = 7\n",
      "7 * 2 = 14\n",
      "7 * 3 = 21\n",
      "7 * 4 = 28\n",
      "7 * 5 = 35\n",
      "7 * 6 = 42\n",
      "7 * 7 = 49\n",
      "7 * 8 = 56\n",
      "7 * 9 = 63\n",
      "**********\n",
      "8 * 1 = 8\n",
      "8 * 2 = 16\n",
      "8 * 3 = 24\n",
      "8 * 4 = 32\n",
      "8 * 5 = 40\n",
      "8 * 6 = 48\n",
      "8 * 7 = 56\n",
      "8 * 8 = 64\n",
      "8 * 9 = 72\n",
      "**********\n",
      "9 * 1 = 9\n",
      "9 * 2 = 18\n",
      "9 * 3 = 27\n",
      "9 * 4 = 36\n",
      "9 * 5 = 45\n",
      "9 * 6 = 54\n",
      "9 * 7 = 63\n",
      "9 * 8 = 72\n",
      "9 * 9 = 81\n",
      "**********\n"
     ]
    }
   ],
   "source": [
    "# Q14) 중첩 for문을 이용해서 구구단을 출력해보자.\n",
    "\n",
    "for i in range(2, 10):\n",
    "    for k in range(1, 10):\n",
    "        print(\"%d * %d = %d\" %(i, k, k*i))\n",
    "    print('*'*10)"
   ]
  },
  {
   "cell_type": "code",
   "execution_count": 102,
   "id": "3340c6dd",
   "metadata": {},
   "outputs": [
    {
     "name": "stdout",
     "output_type": "stream",
     "text": [
      "4\n"
     ]
    }
   ],
   "source": [
    "# Q15) 주사위를 10번 던졌을 때 짝수가 나오는 횟수를 구하여라.\n",
    "\n",
    "import random\n",
    "\n",
    "dice = [1,2,3,4,5,6]\n",
    "\n",
    "cnt = 0\n",
    "\n",
    "for i in range(1,11):\n",
    "    result = random.choice(dice)\n",
    "    if result % 2 == 0:\n",
    "        cnt += 1\n",
    "print(cnt)"
   ]
  },
  {
   "cell_type": "code",
   "execution_count": 106,
   "id": "c093a84e",
   "metadata": {},
   "outputs": [
    {
     "name": "stdout",
     "output_type": "stream",
     "text": [
      "7\n",
      "3\n",
      "8\n",
      "7\n",
      "3\n"
     ]
    }
   ],
   "source": [
    "# Q16) 주사위를 10번 던졌을 때 짝수가 나오는 횟수를 구하여라.\n",
    "#      단, 이 작업을 5번 반복하자.\n",
    "\n",
    "import random\n",
    "\n",
    "dice = [1,2,3,4,5,6]\n",
    "\n",
    "\n",
    "for k in range(5):\n",
    "    cnt = 0\n",
    "    for i in range(1,11):\n",
    "        result = random.choice(dice)\n",
    "        if result % 2 == 0:\n",
    "            cnt += 1\n",
    "    print(cnt)\n"
   ]
  },
  {
   "cell_type": "code",
   "execution_count": 109,
   "id": "3e090bbb",
   "metadata": {},
   "outputs": [
    {
     "name": "stdout",
     "output_type": "stream",
     "text": [
      "0.54\n",
      "0.56\n",
      "0.54\n",
      "0.48\n",
      "0.49\n"
     ]
    }
   ],
   "source": [
    "# Q16) 동전을 100번 던져서 앞면이 나올 확률을 구하여라.\n",
    "#      단, 이 작업을 5번 반복하자.\n",
    "\n",
    "import random\n",
    "\n",
    "coin = ['앞면','뒷면']\n",
    "\n",
    "for k in range(5):\n",
    "    cnt = 0\n",
    "    for i in range(1,101):\n",
    "        result = random.choice(coin)\n",
    "        if result == '앞면':\n",
    "            cnt += 1\n",
    "    print(cnt/100)\n",
    "\n"
   ]
  },
  {
   "cell_type": "code",
   "execution_count": 116,
   "id": "5f489d48",
   "metadata": {},
   "outputs": [
    {
     "name": "stdout",
     "output_type": "stream",
     "text": [
      "74\n"
     ]
    }
   ],
   "source": [
    "# Q18) 두 개의 동전을 300번 던져서 동시에 앞면이 나오는 횟수를 구하시오.\n",
    "\n",
    "import random\n",
    "\n",
    "coin1 = ['앞면','뒷면']\n",
    "coin2 = ['앞면','뒷면']\n",
    "cnt = 0\n",
    "for i in range(1, 301):\n",
    "    result1 = random.choice(coin1)\n",
    "    result2 = random.choice(coin2)\n",
    "    if result1 == '앞면' and result2 == '앞면':\n",
    "        cnt += 1\n",
    "print(cnt)"
   ]
  },
  {
   "cell_type": "code",
   "execution_count": 122,
   "id": "6e451af0",
   "metadata": {},
   "outputs": [
    {
     "name": "stdout",
     "output_type": "stream",
     "text": [
      "Requirement already satisfied: pandas in /Library/Frameworks/Python.framework/Versions/3.9/lib/python3.9/site-packages (1.5.2)\r\n",
      "Requirement already satisfied: numpy>=1.20.3 in /Library/Frameworks/Python.framework/Versions/3.9/lib/python3.9/site-packages (from pandas) (1.24.0)\r\n",
      "Requirement already satisfied: python-dateutil>=2.8.1 in /Library/Frameworks/Python.framework/Versions/3.9/lib/python3.9/site-packages (from pandas) (2.8.2)\r\n",
      "Requirement already satisfied: pytz>=2020.1 in /Library/Frameworks/Python.framework/Versions/3.9/lib/python3.9/site-packages (from pandas) (2022.7)\r\n",
      "Requirement already satisfied: six>=1.5 in /Library/Frameworks/Python.framework/Versions/3.9/lib/python3.9/site-packages (from python-dateutil>=2.8.1->pandas) (1.16.0)\r\n"
     ]
    }
   ],
   "source": [
    "#!pip install numpy\n",
    "#!pip install pandas"
   ]
  },
  {
   "cell_type": "code",
   "execution_count": 127,
   "id": "05bd0882",
   "metadata": {},
   "outputs": [
    {
     "name": "stdout",
     "output_type": "stream",
     "text": [
      "1\n"
     ]
    }
   ],
   "source": [
    "import numpy as np # numpy 라는 모듈을 np라는 별칭으로 불러온다.\n"
   ]
  },
  {
   "cell_type": "code",
   "execution_count": 99,
   "id": "afcce759",
   "metadata": {},
   "outputs": [
    {
     "name": "stdout",
     "output_type": "stream",
     "text": [
      "119.971\n",
      "75.41415900000001\n",
      "8.684132599171894\n"
     ]
    }
   ],
   "source": [
    "# Q19) 한 개의 주사위를 360번 던져서 3의 배수의 눈이 나오는 횟수를 1000번 반복하고 \n",
    "#그 1000번을 list변수 x에 저장한 다음, x의 평균, 분산, 표준편차를 구해보자.\n",
    "#np.mean(), np.var(), np.std()를 활용해 보자.\n",
    "\n",
    "import numpy as np\n",
    "import random\n",
    "\n",
    "x = []\n",
    "dice = [1,2,3,4,5,6]\n",
    "\n",
    "for k in range(0, 1000):\n",
    "    cnt = 0\n",
    "    for i in range(1, 361):\n",
    "        result = random.choice(dice)\n",
    "        if (result % 3) == 0:\n",
    "            cnt += 1\n",
    "    x.append(cnt)\n",
    "\n",
    "print(np.mean(x))\n",
    "print(np.var(x))\n",
    "print(np.std(x))"
   ]
  },
  {
   "cell_type": "code",
   "execution_count": null,
   "id": "ae31441c",
   "metadata": {},
   "outputs": [],
   "source": []
  }
 ],
 "metadata": {
  "kernelspec": {
   "display_name": "Python 3 (ipykernel)",
   "language": "python",
   "name": "python3"
  },
  "language_info": {
   "codemirror_mode": {
    "name": "ipython",
    "version": 3
   },
   "file_extension": ".py",
   "mimetype": "text/x-python",
   "name": "python",
   "nbconvert_exporter": "python",
   "pygments_lexer": "ipython3",
   "version": "3.9.2"
  }
 },
 "nbformat": 4,
 "nbformat_minor": 5
}
