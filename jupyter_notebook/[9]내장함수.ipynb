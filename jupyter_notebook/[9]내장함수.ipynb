{
 "cells": [
  {
   "cell_type": "code",
   "execution_count": 1,
   "id": "813499b8",
   "metadata": {},
   "outputs": [
    {
     "name": "stdout",
     "output_type": "stream",
     "text": [
      "------------- abs() ----------\n",
      "10\n"
     ]
    }
   ],
   "source": [
    "print('------------- abs() ----------')\n",
    "# abx(x) : x의 절대값 반환\n",
    "print(abs(-10))"
   ]
  },
  {
   "cell_type": "code",
   "execution_count": 2,
   "id": "650fcc21",
   "metadata": {},
   "outputs": [
    {
     "name": "stdout",
     "output_type": "stream",
     "text": [
      "True\n",
      "False\n"
     ]
    }
   ],
   "source": [
    "print(all([1,2,3]))# True\n",
    "print(all([0,1,2,3])) # False"
   ]
  },
  {
   "cell_type": "code",
   "execution_count": 3,
   "id": "6d143418",
   "metadata": {},
   "outputs": [
    {
     "name": "stdout",
     "output_type": "stream",
     "text": [
      "False\n",
      "True\n",
      "False\n",
      "False\n"
     ]
    }
   ],
   "source": [
    "print(any([0,0,0])) # False\n",
    "print(any([0,1,2,3])) # True\n",
    "print(any([0,\"\",[]])) # False, 빈문자열, 빈리스트는  Flase\n",
    "print(any([None,None])) # False"
   ]
  },
  {
   "cell_type": "code",
   "execution_count": 4,
   "id": "c53c7d69",
   "metadata": {},
   "outputs": [
    {
     "name": "stdout",
     "output_type": "stream",
     "text": [
      "a\n",
      "A\n",
      "\r\n"
     ]
    }
   ],
   "source": [
    "print(chr(97)) #a\n",
    "print(chr(65)) #A\n",
    "print(chr(13)) #ente"
   ]
  },
  {
   "cell_type": "code",
   "execution_count": 5,
   "id": "8f7bad20",
   "metadata": {},
   "outputs": [
    {
     "name": "stdout",
     "output_type": "stream",
     "text": [
      "97\n",
      "48\n",
      "10\n",
      "32\n",
      "13\n"
     ]
    }
   ],
   "source": [
    "print(ord('a')) #97\n",
    "print(ord('0')) #48\n",
    "print(ord('\\n')) #10(엔터가 아닌 new line)\n",
    "print(ord(' ')) # 32\n",
    "print(ord('\\r')) # 13 : enter"
   ]
  },
  {
   "cell_type": "code",
   "execution_count": 6,
   "id": "95d9e61b",
   "metadata": {},
   "outputs": [
    {
     "name": "stdout",
     "output_type": "stream",
     "text": [
      "(2, 1)\n"
     ]
    }
   ],
   "source": [
    "print(divmod(7,3)) #(2, 1)"
   ]
  },
  {
   "cell_type": "code",
   "execution_count": 7,
   "id": "263e7aec",
   "metadata": {},
   "outputs": [
    {
     "name": "stdout",
     "output_type": "stream",
     "text": [
      "<enumerate object at 0x000002801D792440>\n",
      "(0, 'kim')\n",
      "(1, 'lee')\n",
      "(2, 'park')\n"
     ]
    }
   ],
   "source": [
    "print(enumerate(['kim','lee','park'])) #<enumerate object at 0x0000028FE5DFF380>\n",
    "# 반복 요소로 사용\n",
    "for name in enumerate(['kim','lee','park']) :\n",
    "    print(name)"
   ]
  },
  {
   "cell_type": "code",
   "execution_count": 8,
   "id": "3c01355f",
   "metadata": {},
   "outputs": [
    {
     "name": "stdout",
     "output_type": "stream",
     "text": [
      "0 kim\n",
      "1 lee\n",
      "2 park\n",
      "1 kim\n",
      "2 lee\n",
      "3 park\n"
     ]
    }
   ],
   "source": [
    "for i, name in enumerate(['kim','lee','park']) :\n",
    "    print(i, name)\n",
    "\n",
    "for i, name in enumerate(['kim','lee','park'],start=1) :\n",
    "    print(i, name)"
   ]
  },
  {
   "cell_type": "code",
   "execution_count": 9,
   "id": "0c626126",
   "metadata": {},
   "outputs": [
    {
     "name": "stdout",
     "output_type": "stream",
     "text": [
      "<filter object at 0x000002801D7901C0>\n",
      "[5, 10]\n"
     ]
    }
   ],
   "source": [
    "def positive(x) :\n",
    "    return x > 0 # True/False로 반환 양수만 반환\n",
    "\n",
    "print(filter(positive,[0,-1,5,-7,10]))\n",
    "print(list(filter(positive,[0,-1,5,-7,10])))"
   ]
  },
  {
   "cell_type": "code",
   "execution_count": 10,
   "id": "fd2caf7d",
   "metadata": {},
   "outputs": [
    {
     "name": "stdout",
     "output_type": "stream",
     "text": [
      "[2, 4, 6, 8]\n"
     ]
    }
   ],
   "source": [
    "def even_n(x) : # 짝수만 반환\n",
    "    if x% 2 == 0 :\n",
    "        return x\n",
    "print(list(filter(even_n,[0,1,2,3,4,5,6,7,8])))"
   ]
  },
  {
   "cell_type": "code",
   "execution_count": 11,
   "id": "1218a9d2",
   "metadata": {},
   "outputs": [
    {
     "name": "stdout",
     "output_type": "stream",
     "text": [
      "\n",
      "------------hex()------------\n",
      "0x7\n",
      "<class 'str'>\n",
      "0xa\n",
      "0x4d2\n"
     ]
    }
   ],
   "source": [
    "print('\\n------------hex()------------')\n",
    "x = 0x569F # 16진수값 저장\n",
    "# 정수를 0x 접두사가 붙는 소문자 16진수 문자열로 변환\n",
    "# hex(7)\n",
    "print(hex(7)) #0x7\n",
    "print(type(hex(7))) #<class 'str'>\n",
    "print(hex(10)) #0xa\n",
    "print(hex(1234)) #0x4d2"
   ]
  },
  {
   "cell_type": "code",
   "execution_count": 12,
   "id": "26a21ba2",
   "metadata": {},
   "outputs": [
    {
     "name": "stdout",
     "output_type": "stream",
     "text": [
      "<map object at 0x000002801D79FD00>\n",
      "[2, 3, 4, 5, 6]\n"
     ]
    }
   ],
   "source": [
    "def increase(x) : # x값을 전달받아 1 증가후 반환 하는 함수\n",
    "    return x + 1\n",
    "\n",
    "print(map(increase,[1,2,3,4,5])) #<map object at 0x000001FB43013DF0>\n",
    "print(list(map(increase,[1,2,3,4,5])))"
   ]
  },
  {
   "cell_type": "code",
   "execution_count": 13,
   "id": "d6dcaab3",
   "metadata": {},
   "outputs": [
    {
     "name": "stdout",
     "output_type": "stream",
     "text": [
      "\n",
      "--- pow() ---\n",
      "1000\n",
      "\n",
      "--- round() ---\n",
      "3.142\n",
      "\n",
      "---- sum() ----\n",
      "15\n",
      "24\n"
     ]
    }
   ],
   "source": [
    "print(\"\\n--- pow() ---\")\n",
    "# 제곱한 결과값을 반환\n",
    "print(pow(10,3))\n",
    "\n",
    "print(\"\\n--- round() ---\")\n",
    "#  실수를 반올림하여 반환\n",
    "# round(number, ndigits) ndigits:표현할 소수 이하 자리수\n",
    "print(round(3.141592,3))\n",
    "\n",
    "print(\"\\n---- sum() ----\")\n",
    "# sum(iterable)\n",
    "print(sum([1,2,3,4,5]))\n",
    "print(sum((3,5,7,9)))"
   ]
  },
  {
   "cell_type": "code",
   "execution_count": 14,
   "id": "d7ea387f",
   "metadata": {},
   "outputs": [
    {
     "name": "stdout",
     "output_type": "stream",
     "text": [
      "\n",
      "---- zip ----\n",
      "<zip object at 0x000002801D7CBA40>\n",
      "[(1, 4), (2, 5), (3, 6)]\n"
     ]
    }
   ],
   "source": [
    "print(\"\\n---- zip ----\")\n",
    "# zip(*iterable) : 각 iterable에서 동일한 인덱스의 요소를 추출하여 묶어서 튜플형태로 반환\n",
    "# zip 객체로 반환하고 내부에 iterable 자료형으로 구성되어 있으므로 형변환해서 사용\n",
    "print(zip([1,2,3],[4,5,6]))\n",
    "print(list(zip([1,2,3],[4,5,6])))\n"
   ]
  },
  {
   "cell_type": "code",
   "execution_count": 15,
   "id": "fb359287",
   "metadata": {},
   "outputs": [
    {
     "name": "stdout",
     "output_type": "stream",
     "text": [
      "(('apple', 300), ('pear', 250), ('peach', 400))\n",
      "{'apple': 300, 'pear': 250, 'peach': 400}\n"
     ]
    }
   ],
   "source": [
    "# zip() 함수를 사용해서 튜플로부터 딕셔너리 생성\n",
    "keys = ('apple','pear','peach')\n",
    "vals = (300,250,400)\n",
    "print(tuple(zip(keys,vals)))\n",
    "result = dict(zip(keys,vals))\n",
    "print(result) #{'apple': 300, 'pear': 250, 'peach': 400}"
   ]
  }
 ],
 "metadata": {
  "kernelspec": {
   "display_name": "Python 3 (ipykernel)",
   "language": "python",
   "name": "python3"
  },
  "language_info": {
   "codemirror_mode": {
    "name": "ipython",
    "version": 3
   },
   "file_extension": ".py",
   "mimetype": "text/x-python",
   "name": "python",
   "nbconvert_exporter": "python",
   "pygments_lexer": "ipython3",
   "version": "3.9.13"
  }
 },
 "nbformat": 4,
 "nbformat_minor": 5
}
