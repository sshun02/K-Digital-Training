{
 "cells": [
  {
   "cell_type": "markdown",
   "id": "7029cc8b",
   "metadata": {},
   "source": [
    "### 변수명을  식별하는 생성 규칙\n",
    "\n",
    "#### 1.  변수명은 다음 문자로 섞어서 사용할 수 있다. \n",
    "- 소문자(a~z)\n",
    "- 대문자(A~Z)\n",
    "- 숫자(0~9)\n",
    "- 언더스코어(_) \n",
    "\n",
    "#### 2. 반드시 문자로 시작되어야 한다. \n",
    "#### 3. 예약어를 제외하고  선언한다. "
   ]
  },
  {
   "cell_type": "code",
   "execution_count": 1,
   "id": "2c89d11a",
   "metadata": {},
   "outputs": [
    {
     "data": {
      "text/plain": [
       "['c:\\\\ds_work\\\\source_code\\\\my_python',\n",
       " 'C:\\\\ProgramData\\\\Anaconda3\\\\python39.zip',\n",
       " 'C:\\\\ProgramData\\\\Anaconda3\\\\DLLs',\n",
       " 'C:\\\\ProgramData\\\\Anaconda3\\\\lib',\n",
       " 'C:\\\\ProgramData\\\\Anaconda3',\n",
       " '',\n",
       " 'C:\\\\ProgramData\\\\Anaconda3\\\\lib\\\\site-packages',\n",
       " 'C:\\\\ProgramData\\\\Anaconda3\\\\lib\\\\site-packages\\\\win32',\n",
       " 'C:\\\\ProgramData\\\\Anaconda3\\\\lib\\\\site-packages\\\\win32\\\\lib',\n",
       " 'C:\\\\ProgramData\\\\Anaconda3\\\\lib\\\\site-packages\\\\Pythonwin',\n",
       " 'C:\\\\ProgramData\\\\Anaconda3\\\\lib\\\\site-packages\\\\IPython\\\\extensions',\n",
       " 'C:\\\\Users\\\\student\\\\.ipython']"
      ]
     },
     "execution_count": 1,
     "metadata": {},
     "output_type": "execute_result"
    }
   ],
   "source": [
    "#q1) 파이썬의 예약어를 확인 해보자. \n",
    "import sys  #현재 파이썬의 라이브러리를 참조하는 기본 값을 확인하는 모듈\n",
    "sys.path  # 참조 모듈 경로 "
   ]
  },
  {
   "cell_type": "code",
   "execution_count": 2,
   "id": "0dd636f6",
   "metadata": {},
   "outputs": [
    {
     "data": {
      "text/plain": [
       "<module 'keyword' from 'C:\\\\ProgramData\\\\Anaconda3\\\\lib\\\\keyword.py'>"
      ]
     },
     "execution_count": 2,
     "metadata": {},
     "output_type": "execute_result"
    }
   ],
   "source": [
    "#키워드를 관리하는 모듈을 참조 \n",
    "import keyword\n",
    "keyword  # 모듈 파일의 경로 확인 "
   ]
  },
  {
   "cell_type": "code",
   "execution_count": 3,
   "id": "a029e5ce",
   "metadata": {},
   "outputs": [
    {
     "data": {
      "text/plain": [
       "['__all__',\n",
       " '__builtins__',\n",
       " '__cached__',\n",
       " '__doc__',\n",
       " '__file__',\n",
       " '__loader__',\n",
       " '__name__',\n",
       " '__package__',\n",
       " '__spec__',\n",
       " 'iskeyword',\n",
       " 'issoftkeyword',\n",
       " 'kwlist',\n",
       " 'softkwlist']"
      ]
     },
     "execution_count": 3,
     "metadata": {},
     "output_type": "execute_result"
    }
   ],
   "source": [
    "dir(keyword)# 모듈의 내용을 확인 "
   ]
  },
  {
   "cell_type": "code",
   "execution_count": 4,
   "id": "28189064",
   "metadata": {},
   "outputs": [
    {
     "data": {
      "text/plain": [
       "['False',\n",
       " 'None',\n",
       " 'True',\n",
       " '__peg_parser__',\n",
       " 'and',\n",
       " 'as',\n",
       " 'assert',\n",
       " 'async',\n",
       " 'await',\n",
       " 'break',\n",
       " 'class',\n",
       " 'continue',\n",
       " 'def',\n",
       " 'del',\n",
       " 'elif',\n",
       " 'else',\n",
       " 'except',\n",
       " 'finally',\n",
       " 'for',\n",
       " 'from',\n",
       " 'global',\n",
       " 'if',\n",
       " 'import',\n",
       " 'in',\n",
       " 'is',\n",
       " 'lambda',\n",
       " 'nonlocal',\n",
       " 'not',\n",
       " 'or',\n",
       " 'pass',\n",
       " 'raise',\n",
       " 'return',\n",
       " 'try',\n",
       " 'while',\n",
       " 'with',\n",
       " 'yield']"
      ]
     },
     "execution_count": 4,
     "metadata": {},
     "output_type": "execute_result"
    }
   ],
   "source": [
    "keyword.kwlist #모듈에서 관리하는 객체를 참조 "
   ]
  },
  {
   "cell_type": "markdown",
   "id": "427a56c0",
   "metadata": {},
   "source": [
    "### 파이썬에서 사용되는 자료형 5가지\n",
    "숫자, 문자, 리스트, 튜퓰, 사전 자료형 "
   ]
  },
  {
   "cell_type": "code",
   "execution_count": 5,
   "id": "b93d7cf2",
   "metadata": {},
   "outputs": [
    {
     "data": {
      "text/plain": [
       "list"
      ]
     },
     "execution_count": 5,
     "metadata": {},
     "output_type": "execute_result"
    }
   ],
   "source": [
    "#q2) 리스트 자료형을 확인 해보자.  [] 안에 임의의 객체를 순서있게 나열하는 자료형\n",
    "my_list =[]  # 빈객체\n",
    "type(my_list)"
   ]
  },
  {
   "cell_type": "code",
   "execution_count": 6,
   "id": "c44be7f1",
   "metadata": {},
   "outputs": [
    {
     "data": {
      "text/plain": [
       "0"
      ]
     },
     "execution_count": 6,
     "metadata": {},
     "output_type": "execute_result"
    }
   ],
   "source": [
    "#q2-1) 리스트 자료형을 확인 해보자.  [] 안에 임의의 객체를 순서있게 나열하는 자료형\n",
    "#파이썬은 나열된 데이터의 색인 즉 인덱스를  0부터 시작한다.  \n",
    "my_list =[]  # 빈객체\n",
    "type(my_list)\n",
    "#my_list[0] = 100  ->  길이가 즉 인덱스 없는 빈객체 이기 때문에 오류가 발생된다. \n",
    "len(my_list) # 리스트 객체의 길이를 리턴 해보자.  "
   ]
  },
  {
   "cell_type": "code",
   "execution_count": 7,
   "id": "3f7f5467",
   "metadata": {},
   "outputs": [
    {
     "name": "stdout",
     "output_type": "stream",
     "text": [
      "[100, 2, 3, 4, 5]\n",
      "[100, 2, 3, 3000, 5]\n"
     ]
    }
   ],
   "source": [
    "#q2-2) 리스트 자료형을 확인 해보자.  [] 안에 임의의 객체를 순서있게 나열하는 자료형\n",
    "#값 수정  \n",
    "my_list =[1,2,3,4,5]  # 값이 있는 객체\n",
    "type(my_list)\n",
    "my_list[0]=100\n",
    "len(my_list)\n",
    "print(my_list)\n",
    "#[3]번지에 있는 4를 3000으로 변경해 보자. \n",
    "my_list[3]=3000\n",
    "print(my_list)"
   ]
  },
  {
   "cell_type": "code",
   "execution_count": 8,
   "id": "59cdf571",
   "metadata": {},
   "outputs": [
    {
     "name": "stdout",
     "output_type": "stream",
     "text": [
      "[1, 2, 3, 4, [41, 42, 43], 5, 6]\n",
      "1\n",
      "2\n",
      "3\n",
      "4\n",
      "[41, 42, 43]\n",
      "41\n",
      "42\n",
      "43\n"
     ]
    }
   ],
   "source": [
    "#q2-3) 리스트 자료형을 확인 해보자.  [] 안에 임의의 객체를 순서있게 나열하는 자료형\n",
    "my_list =[1,2,3,4,[41,42,43],5,6]  # 중첩 객체\n",
    "type(my_list)\n",
    "print(my_list)\n",
    "print(my_list[0])\n",
    "print(my_list[1])\n",
    "print(my_list[2])\n",
    "print(my_list[3])\n",
    "print(my_list[4])\n",
    "print(my_list[4][0])\n",
    "print(my_list[4][1])\n",
    "print(my_list[4][2])"
   ]
  },
  {
   "cell_type": "code",
   "execution_count": 9,
   "id": "218666b2",
   "metadata": {},
   "outputs": [
    {
     "name": "stdout",
     "output_type": "stream",
     "text": [
      "<class 'tuple'>\n",
      "(1, 2, 3, 4, (41, 42, 43), 5, 6)\n",
      "1\n",
      "2\n",
      "3\n",
      "4\n",
      "(41, 42, 43)\n",
      "41\n",
      "42\n",
      "43\n"
     ]
    }
   ],
   "source": [
    "#q3)튜플 자료형을 확인 해보자.  ( )안에 임의의 객체를 순서있게 나열하는 자료형 \n",
    "# 리스트와는 다르게 값을(요소) 수정할 수 없다. \n",
    "my_list =(1,2,3,4,(41,42,43),5,6)  # 중첩 객체\n",
    "print(type(my_list))\n",
    "print(my_list)\n",
    "print(my_list[0])\n",
    "print(my_list[1])\n",
    "print(my_list[2])\n",
    "print(my_list[3])\n",
    "print(my_list[4])\n",
    "print(my_list[4][0])\n",
    "print(my_list[4][1])\n",
    "print(my_list[4][2])"
   ]
  },
  {
   "cell_type": "code",
   "execution_count": 10,
   "id": "9d351526",
   "metadata": {},
   "outputs": [
    {
     "name": "stdout",
     "output_type": "stream",
     "text": [
      "<class 'dict'>\n",
      "{'a': 'apple', 'i': '나는', 'am': '입니다', 'python': '파이썬'}\n"
     ]
    }
   ],
   "source": [
    "#q4)사전형 자료형을 살펴 보자  {키:값}으로 선언된 요소로 순서 없는 자료형\n",
    "my_dict={'a':'apple','i':'나는', 'am': '입니다' ,'python':'파이썬' }\n",
    "print(type(my_dict))\n",
    "print(my_dict)"
   ]
  },
  {
   "cell_type": "code",
   "execution_count": 11,
   "id": "ad0f962c",
   "metadata": {},
   "outputs": [
    {
     "name": "stdout",
     "output_type": "stream",
     "text": [
      "['__class__', '__class_getitem__', '__contains__', '__delattr__', '__delitem__', '__dir__', '__doc__', '__eq__', '__format__', '__ge__', '__getattribute__', '__getitem__', '__gt__', '__hash__', '__init__', '__init_subclass__', '__ior__', '__iter__', '__le__', '__len__', '__lt__', '__ne__', '__new__', '__or__', '__reduce__', '__reduce_ex__', '__repr__', '__reversed__', '__ror__', '__setattr__', '__setitem__', '__sizeof__', '__str__', '__subclasshook__', 'clear', 'copy', 'fromkeys', 'get', 'items', 'keys', 'pop', 'popitem', 'setdefault', 'update', 'values']\n"
     ]
    }
   ],
   "source": [
    "#q4-1)dict클래스의 멤버를 확인 해보자.  \n",
    "print(dir(my_dict))"
   ]
  },
  {
   "cell_type": "code",
   "execution_count": 12,
   "id": "04a729a4",
   "metadata": {},
   "outputs": [
    {
     "name": "stdout",
     "output_type": "stream",
     "text": [
      "Help on built-in function values:\n",
      "\n",
      "values(...) method of builtins.dict instance\n",
      "    D.values() -> an object providing a view on D's values\n",
      "\n",
      "values = dict_values(['apple', '나는', '입니다', '파이썬'])\n",
      "keys = dict_keys(['a', 'i', 'am', 'python'])\n"
     ]
    }
   ],
   "source": [
    "help(my_dict.values)\n",
    "#q4-2) my_dict가 가진 요소의 값들만 출력 해보자. \n",
    "print(\"values =\",my_dict.values())\n",
    "print(\"keys =\",my_dict.keys())"
   ]
  },
  {
   "cell_type": "code",
   "execution_count": 13,
   "id": "c8ec6483",
   "metadata": {},
   "outputs": [
    {
     "name": "stdout",
     "output_type": "stream",
     "text": [
      "1 2 3 4 5 6 7 (1, 2, 3) [1, 2, 3] {1: 2}\n"
     ]
    }
   ],
   "source": [
    "print(1,2,3,4,5,6,'7',(1,2,3), [1,2,3],{1:2} )"
   ]
  },
  {
   "cell_type": "code",
   "execution_count": null,
   "id": "e6e7ebef",
   "metadata": {},
   "outputs": [],
   "source": []
  }
 ],
 "metadata": {
  "kernelspec": {
   "display_name": "Python 3 (ipykernel)",
   "language": "python",
   "name": "python3"
  },
  "language_info": {
   "codemirror_mode": {
    "name": "ipython",
    "version": 3
   },
   "file_extension": ".py",
   "mimetype": "text/x-python",
   "name": "python",
   "nbconvert_exporter": "python",
   "pygments_lexer": "ipython3",
   "version": "3.9.13"
  }
 },
 "nbformat": 4,
 "nbformat_minor": 5
}
