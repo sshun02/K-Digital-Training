{
 "cells": [
  {
   "cell_type": "markdown",
   "id": "43f05d24",
   "metadata": {},
   "source": [
    " <<식별자 -> 변수와 자료형(5) ->  연산자  ->   제어문[조건, 반복, 선택문, 흐름제어문]  -> 함수  -> 클래스(메소드원형, 속성)  -> 상속  -> 다형성  -> 파일입출력\n",
    " -> 예외처리  -> 스레드  ->  네트워크   +  모듈처리 \n",
    " \n",
    " python  제어문  _ 파이선의 문법으로 기본문을 만들어 제공  \n",
    "  1)조건문 : 만일에 ~하다면 이라는 조건에 대한 명령을 구현할 때 사용한다. \n",
    "    [단일 형식]\n",
    "       if  조건:\n",
    "          True  실행문\n",
    "       else :\n",
    "          False 실행문    \n",
    "\n",
    "    [다중 형식]\n",
    "       if  조건:\n",
    "          True  실행문\n",
    "       elif 조건2:\n",
    "           True  실행문\n",
    "       elif 조건3:\n",
    "           True  실행문\n",
    "       else :\n",
    "          False 실행문 \n",
    "          \n",
    "  2)반복문  \n",
    "    for  변수 in 범위:\n",
    "        반복적으로 실행할 코드 "
   ]
  },
  {
   "cell_type": "code",
   "execution_count": 1,
   "id": "2996677c",
   "metadata": {},
   "outputs": [
    {
     "name": "stdout",
     "output_type": "stream",
     "text": [
      "a =1\n",
      "b =1\n",
      "hap= 2\n"
     ]
    }
   ],
   "source": [
    "#q1) 두 숫자를 입력받아 합을 구해보자.  _input\n",
    "\n",
    "a= int(input('a ='))\n",
    "b= int(input('b ='))\n",
    "hap  = a+b\n",
    "print('hap=' , hap)"
   ]
  },
  {
   "cell_type": "code",
   "execution_count": 2,
   "id": "8351c0fc",
   "metadata": {},
   "outputs": [
    {
     "name": "stdout",
     "output_type": "stream",
     "text": [
      "a =1\n",
      "b =1\n",
      "hap= 2\n",
      "100보다 작다\n"
     ]
    }
   ],
   "source": [
    "#q2) 두 숫자를 입력받아 합을 구해보자.  _input\n",
    "# 두수의 합이 100보다 크면 100보다 크다라고 출력하고 그렇지 않으면 작다라고 출력 하자.  \n",
    "\n",
    "a= int(input('a ='))\n",
    "b= int(input('b ='))\n",
    "hap  = a+b\n",
    "print('hap=' , hap)\n",
    "if hap  > 100  :  #  조건의 결과가 반드시 True, False로 리턴되어야 한다. >  <   >=  <=   ==  != \n",
    "    print('100보다 크다')\n",
    "else:\n",
    "    print('100보다 작다')"
   ]
  },
  {
   "cell_type": "code",
   "execution_count": 3,
   "id": "87ece07d",
   "metadata": {},
   "outputs": [
    {
     "name": "stdout",
     "output_type": "stream",
     "text": [
      "False\n",
      "True\n"
     ]
    }
   ],
   "source": [
    "#q3) in 연산자를 이용하여 목록에 속한 데이터의 유무를 확인 해보자.  in, not in \n",
    "print('a' not in  [1,2,3,4,'a'])\n",
    "print('a' in  [1,2,3,4,'a'])"
   ]
  },
  {
   "cell_type": "code",
   "execution_count": 4,
   "id": "c9805c91",
   "metadata": {},
   "outputs": [
    {
     "name": "stdout",
     "output_type": "stream",
     "text": [
      "목록에 있어\n"
     ]
    }
   ],
   "source": [
    "list_data =   [1,2,3,4,'a']\n",
    "if 'a' in list_data:\n",
    "    print('목록에 있어')\n",
    "else:\n",
    "    print('목록에 없어')"
   ]
  },
  {
   "cell_type": "code",
   "execution_count": 5,
   "id": "289dcf5c",
   "metadata": {},
   "outputs": [
    {
     "name": "stdout",
     "output_type": "stream",
     "text": [
      "목록에 있어\n"
     ]
    }
   ],
   "source": [
    "list_data =   [1,2,3,4,'a']\n",
    "if 'a' in list_data:     print('목록에 있어') \n",
    "else:        print('목록에 없어')"
   ]
  },
  {
   "cell_type": "code",
   "execution_count": 6,
   "id": "17ea745e",
   "metadata": {},
   "outputs": [
    {
     "name": "stdout",
     "output_type": "stream",
     "text": [
      "['BPF', 'LOG4', 'NV_MAGICCONST', 'RECIP_BPF', 'Random', 'SG_MAGICCONST', 'SystemRandom', 'TWOPI', '_Sequence', '_Set', '__all__', '__builtins__', '__cached__', '__doc__', '__file__', '__loader__', '__name__', '__package__', '__spec__', '_accumulate', '_acos', '_bisect', '_ceil', '_cos', '_e', '_exp', '_floor', '_inst', '_log', '_os', '_pi', '_random', '_repeat', '_sha512', '_sin', '_sqrt', '_test', '_test_generator', '_urandom', '_warn', 'betavariate', 'choice', 'choices', 'expovariate', 'gammavariate', 'gauss', 'getrandbits', 'getstate', 'lognormvariate', 'normalvariate', 'paretovariate', 'randbytes', 'randint', 'random', 'randrange', 'sample', 'seed', 'setstate', 'shuffle', 'triangular', 'uniform', 'vonmisesvariate', 'weibullvariate']\n",
      "앞면\n",
      "['VERSION', '__class__', '__delattr__', '__dict__', '__dir__', '__doc__', '__eq__', '__format__', '__ge__', '__getattribute__', '__getstate__', '__gt__', '__hash__', '__init__', '__init_subclass__', '__le__', '__lt__', '__module__', '__ne__', '__new__', '__reduce__', '__reduce_ex__', '__repr__', '__setattr__', '__setstate__', '__sizeof__', '__str__', '__subclasshook__', '__weakref__', '_notimplemented', '_randbelow', '_randbelow_with_getrandbits', '_randbelow_without_getrandbits', 'betavariate', 'choice', 'choices', 'expovariate', 'gammavariate', 'gauss', 'getrandbits', 'getstate', 'lognormvariate', 'normalvariate', 'paretovariate', 'randbytes', 'randint', 'random', 'randrange', 'sample', 'seed', 'setstate', 'shuffle', 'triangular', 'uniform', 'vonmisesvariate', 'weibullvariate']\n",
      "Help on function random in module random:\n",
      "\n",
      "random(self)\n",
      "    Get the next random number in the range [0.0, 1.0).\n",
      "\n",
      "None\n"
     ]
    }
   ],
   "source": [
    "#q4) 동전을 던져서 앞면 또는 뒷면이 나오는지를 확인 하자.  choice\n",
    "import random  # 난수값 설정 모듈\n",
    "print(dir(random))\n",
    "\n",
    "coin =['앞면','뒷면']\n",
    "print(random.choice(coin))\n",
    "print(dir(random.SystemRandom))\n",
    "print(help(random.SystemRandom.random))"
   ]
  },
  {
   "cell_type": "code",
   "execution_count": 7,
   "id": "5c21c191",
   "metadata": {},
   "outputs": [
    {
     "name": "stdout",
     "output_type": "stream",
     "text": [
      "input kor:1\n",
      "input eng:1\n",
      "input mat1\n",
      "kor = 1\n",
      "mat = 1\n",
      "eng = 1\n",
      "tot = 3\n",
      "avg = 1.0\n",
      "grade = F\n"
     ]
    }
   ],
   "source": [
    "#q5)  세과목을 입력받아 총점과 평균을 구하자  , 평균에 따라 90 이상 'A', 80 이상이면 'B'  나머지 'F'\n",
    "#변수선언  -> 값대입  -> 연산  -> 출력  \n",
    "#변수선언\n",
    "kor= eng =mat =tot=avg =0  # 초기화  \n",
    "\n",
    "#값대입\n",
    "kor  = int(input('input kor:'))\n",
    "eng  = int(input('input eng:'))\n",
    "mat  = int(input('input mat'))\n",
    "#연산\n",
    "tot = kor+ eng+ mat\n",
    "avg = tot / 3 \n",
    "\n",
    "#출력 \n",
    "grade  = '' \n",
    "if  avg >= 90 :\n",
    "         grade='A'\n",
    "elif avg >= 80:\n",
    "         grade='B'\n",
    "else:\n",
    "          grade='F'\n",
    "\n",
    "print(\"kor =\",kor)\n",
    "print(\"mat =\",mat)\n",
    "print(\"eng =\",eng)\n",
    "print(\"tot =\",tot)\n",
    "print(\"avg =\",avg)\n",
    "print(\"grade =\",grade)"
   ]
  },
  {
   "cell_type": "code",
   "execution_count": 8,
   "id": "83a7ea53",
   "metadata": {},
   "outputs": [
    {
     "name": "stdout",
     "output_type": "stream",
     "text": [
      "1\t2\t3\t4\t5\t6\t7\t\n",
      "1 : 1\t2 : 2\t3 : 3\t4 : 4\t5 : 5\t6 : 6\t7 : 7\t"
     ]
    }
   ],
   "source": [
    "#q6) 임의 리스트객체를 출력 해보자. \n",
    "my_list = [1,2,3,4,5,6,7]\n",
    "for  res  in  my_list:\n",
    "     print(res,sep=' ',end='\\t')\n",
    "\n",
    "print()\n",
    "\n",
    "my_list = (1,2,3,4,5,6,7)\n",
    "for  res  in  my_list:\n",
    "        print(res, res,  sep=' : ',end='\\t')"
   ]
  },
  {
   "cell_type": "code",
   "execution_count": 9,
   "id": "aece8f79",
   "metadata": {},
   "outputs": [
    {
     "name": "stdout",
     "output_type": "stream",
     "text": [
      "1\\2\\3\\4\\5\t"
     ]
    }
   ],
   "source": [
    " print(1,2,3,4,5,sep='\\\\' ,end='\\t')"
   ]
  },
  {
   "cell_type": "code",
   "execution_count": 10,
   "id": "f67f5785",
   "metadata": {},
   "outputs": [
    {
     "name": "stdout",
     "output_type": "stream",
     "text": [
      "Help on built-in function print in module builtins:\n",
      "\n",
      "print(...)\n",
      "    print(value, ..., sep=' ', end='\\n', file=sys.stdout, flush=False)\n",
      "    \n",
      "    Prints the values to a stream, or to sys.stdout by default.\n",
      "    Optional keyword arguments:\n",
      "    file:  a file-like object (stream); defaults to the current sys.stdout.\n",
      "    sep:   string inserted between values, default a space.\n",
      "    end:   string appended after the last value, default a newline.\n",
      "    flush: whether to forcibly flush the stream.\n",
      "\n"
     ]
    }
   ],
   "source": [
    "help(print)"
   ]
  },
  {
   "cell_type": "code",
   "execution_count": 11,
   "id": "5760d174",
   "metadata": {},
   "outputs": [
    {
     "name": "stdout",
     "output_type": "stream",
     "text": [
      "range(0, 10)\n",
      "0\t1\t2\t3\t4\t5\t6\t7\t8\t9\t\n",
      "1\t3\t5\t7\t9\t\n",
      "10\t9\t8\t7\t6\t5\t4\t3\t2\t1\t\n",
      "1\t3\t5\t7\t"
     ]
    }
   ],
   "source": [
    "#q7) 임의 range()를 출력 해보자. for 사용\n",
    "#help(range)\n",
    "print(range(10))  # 0~ 9\n",
    "\n",
    "for r  in range(10):# 0~ 9\n",
    "    print(r, end ='\\t')\n",
    "\n",
    "print()\n",
    "\n",
    "for r  in range(1,10,2):\n",
    "    print(r, end ='\\t')\n",
    "print()\n",
    "\n",
    "for r  in range(10, 0, -1):\n",
    "    print(r, end ='\\t')\n",
    "print()\n",
    "\n",
    "for r  in range(1,9,2):\n",
    "    print(r, end ='\\t')"
   ]
  },
  {
   "cell_type": "code",
   "execution_count": 12,
   "id": "86214224",
   "metadata": {},
   "outputs": [
    {
     "name": "stdout",
     "output_type": "stream",
     "text": [
      "input su =6\n",
      "*\n",
      "**\n",
      "***\n",
      "****\n",
      "*****\n",
      "******\n"
     ]
    }
   ],
   "source": [
    "#q8)입력한 숫자만큼  *을 출력 해보자. 문자열, 리스트, 튜플  * 반복회수  \n",
    "a = int(input('input su ='))\n",
    "for i in range(1,a+1):\n",
    "    print('*' * i) #문자열 * 반복횟수 "
   ]
  },
  {
   "cell_type": "code",
   "execution_count": 13,
   "id": "7154b1c0",
   "metadata": {},
   "outputs": [
    {
     "name": "stdout",
     "output_type": "stream",
     "text": [
      "1 번째는  1\n",
      "2 번째는  4\n",
      "3 번째는  1\n",
      "4 번째는  3\n",
      "5 번째는  2\n",
      "6 번째는  6\n",
      "7 번째는  6\n",
      "8 번째는  6\n",
      "9 번째는  5\n",
      "10 번째는  1\n"
     ]
    }
   ],
   "source": [
    "#q9)주사위를  10번을 던져서 출력되는 눈을 확인하시오 random.choice를 사용해보자. \n",
    "import random\n",
    "dice = [ 1, 2, 3, 4, 5, 6 ]\n",
    "\n",
    "for  i  in  range(1, 11): # 1이상 11미만 \n",
    "    print ( i, '번째는 ', random.choice(dice) )"
   ]
  },
  {
   "cell_type": "code",
   "execution_count": 15,
   "id": "07edd235",
   "metadata": {},
   "outputs": [
    {
     "name": "stdout",
     "output_type": "stream",
     "text": [
      "1 번째는  앞면\n",
      "2 번째는  뒷면\n",
      "3 번째는  앞면\n",
      "4 번째는  뒷면\n",
      "5 번째는  뒷면\n",
      "6 번째는  뒷면\n",
      "7 번째는  앞면\n",
      "8 번째는  뒷면\n",
      "9 번째는  뒷면\n",
      "10 번째는  앞면\n"
     ]
    }
   ],
   "source": [
    "#q10) 동전을 10번을 던져서 출력되는 면을 확인 하세요 \n",
    "import random\n",
    "coin = [ '앞면','뒷면' ]\n",
    "\n",
    "for  i  in  range(1, 11): # 1이상 11미만 \n",
    "    print ( i, '번째는 ', random.choice(coin) )"
   ]
  },
  {
   "cell_type": "code",
   "execution_count": 19,
   "id": "3e0f0f01",
   "metadata": {},
   "outputs": [
    {
     "name": "stdout",
     "output_type": "stream",
     "text": [
      "앞면이 나오는 횟수  = 5\n"
     ]
    }
   ],
   "source": [
    "#q11) 동전을 10번을 던져서 출력되는 면을 확인 하세요 , 앞면이 나오는 횟수를 출력 해보자.  \n",
    "import random\n",
    "coin = [ '앞면','뒷면' ]\n",
    "cnt  = 0  #회수를 출력 하는 변수 선언  \n",
    "for  i  in  range(1, 11): # 1이상 11미만 \n",
    "     result  = random.choice(coin) # 동전을 던진 결과를 result로 리턴 \n",
    "     if result  ==  '앞면'   :\n",
    "         cnt  = cnt + 1 \n",
    "            \n",
    "print('앞면이 나오는 횟수  =' , cnt )\n",
    "        "
   ]
  },
  {
   "cell_type": "code",
   "execution_count": 20,
   "id": "98a20a9a",
   "metadata": {},
   "outputs": [
    {
     "name": "stdout",
     "output_type": "stream",
     "text": [
      "22\n"
     ]
    }
   ],
   "source": [
    "#q12)주사위를 100 번 던져서 눈이 3이 나올 횟수를 출력 해보자.  \n",
    "import  random\n",
    "dice =[ 1, 2, 3, 4, 5, 6 ]\n",
    "cnt = 0 \n",
    "for  i  in  range(1, 101):\n",
    "    result = random.choice(dice)\n",
    "    if  result == 3:\n",
    "        cnt = cnt + 1 \n",
    "\n",
    "print(cnt)"
   ]
  },
  {
   "cell_type": "code",
   "execution_count": 21,
   "id": "3fea69a9",
   "metadata": {},
   "outputs": [
    {
     "name": "stdout",
     "output_type": "stream",
     "text": [
      "0.12\n"
     ]
    }
   ],
   "source": [
    "#q13)주사위를 100 번 던져서 눈이 5이 나올 확률을 구해보자. \n",
    "import  random\n",
    "dice =[ 1, 2, 3, 4, 5, 6 ]\n",
    "cnt = 0 \n",
    "for  i  in  range(1, 101):\n",
    "    result = random.choice(dice)\n",
    "    if  result == 5:\n",
    "        cnt = cnt + 1 \n",
    "\n",
    "print(cnt/100)"
   ]
  },
  {
   "cell_type": "code",
   "execution_count": 24,
   "id": "310374d3",
   "metadata": {},
   "outputs": [
    {
     "name": "stdout",
     "output_type": "stream",
     "text": [
      "2 * 1 = 2\n",
      "2 * 2 = 4\n",
      "2 * 3 = 6\n",
      "2 * 4 = 8\n",
      "2 * 5 = 10\n",
      "2 * 6 = 12\n",
      "2 * 7 = 14\n",
      "2 * 8 = 16\n",
      "2 * 9 = 18\n",
      "\n",
      "3 * 1 = 3\n",
      "3 * 2 = 6\n",
      "3 * 3 = 9\n",
      "3 * 4 = 12\n",
      "3 * 5 = 15\n",
      "3 * 6 = 18\n",
      "3 * 7 = 21\n",
      "3 * 8 = 24\n",
      "3 * 9 = 27\n",
      "\n",
      "4 * 1 = 4\n",
      "4 * 2 = 8\n",
      "4 * 3 = 12\n",
      "4 * 4 = 16\n",
      "4 * 5 = 20\n",
      "4 * 6 = 24\n",
      "4 * 7 = 28\n",
      "4 * 8 = 32\n",
      "4 * 9 = 36\n",
      "\n",
      "5 * 1 = 5\n",
      "5 * 2 = 10\n",
      "5 * 3 = 15\n",
      "5 * 4 = 20\n",
      "5 * 5 = 25\n",
      "5 * 6 = 30\n",
      "5 * 7 = 35\n",
      "5 * 8 = 40\n",
      "5 * 9 = 45\n",
      "\n",
      "6 * 1 = 6\n",
      "6 * 2 = 12\n",
      "6 * 3 = 18\n",
      "6 * 4 = 24\n",
      "6 * 5 = 30\n",
      "6 * 6 = 36\n",
      "6 * 7 = 42\n",
      "6 * 8 = 48\n",
      "6 * 9 = 54\n",
      "\n",
      "7 * 1 = 7\n",
      "7 * 2 = 14\n",
      "7 * 3 = 21\n",
      "7 * 4 = 28\n",
      "7 * 5 = 35\n",
      "7 * 6 = 42\n",
      "7 * 7 = 49\n",
      "7 * 8 = 56\n",
      "7 * 9 = 63\n",
      "\n",
      "8 * 1 = 8\n",
      "8 * 2 = 16\n",
      "8 * 3 = 24\n",
      "8 * 4 = 32\n",
      "8 * 5 = 40\n",
      "8 * 6 = 48\n",
      "8 * 7 = 56\n",
      "8 * 8 = 64\n",
      "8 * 9 = 72\n",
      "\n",
      "9 * 1 = 9\n",
      "9 * 2 = 18\n",
      "9 * 3 = 27\n",
      "9 * 4 = 36\n",
      "9 * 5 = 45\n",
      "9 * 6 = 54\n",
      "9 * 7 = 63\n",
      "9 * 8 = 72\n",
      "9 * 9 = 81\n",
      "\n"
     ]
    }
   ],
   "source": [
    "#q14) 중첩for를 이용해서 구구단을 출력해보자.  \n",
    "for  i  in  range(2, 10):  # 2,3,4,5,6,7,8,9\n",
    "    for  j  in range(1,10) :# 1~ 9\n",
    "        print( i, '*' ,j ,'=',  (i*j) )  #출력\n",
    "    print()   "
   ]
  },
  {
   "cell_type": "code",
   "execution_count": 25,
   "id": "20cff97b",
   "metadata": {},
   "outputs": [
    {
     "name": "stdout",
     "output_type": "stream",
     "text": [
      "4\n"
     ]
    }
   ],
   "source": [
    "#q15)  주사위를 10번 던졌을 때 짝수가 나오는 회수를 구하자  su  %  2 == 0  \n",
    "import random \n",
    "dice  =[1,2,3,4,5,6]\n",
    "cnt = 0\n",
    "for i in range(1,11):\n",
    "    result  = random.choice(dice)\n",
    "    if result  % 2 ==  0 :  #주사위 눈이 짝수라면 \n",
    "        cnt  = cnt + 1 \n",
    "print(cnt)"
   ]
  },
  {
   "cell_type": "code",
   "execution_count": 26,
   "id": "02401a87",
   "metadata": {},
   "outputs": [
    {
     "name": "stdout",
     "output_type": "stream",
     "text": [
      "6\n",
      "7\n",
      "5\n",
      "3\n",
      "5\n"
     ]
    }
   ],
   "source": [
    "#q16)  주사위를 10번 던졌을 때 짝수가 나오는 회수를 구하자  su  %  2 == 0  \n",
    "   # 단, 이작업을 5번 반복하자.  \n",
    "import random \n",
    "\n",
    "dice  =[1,2,3,4,5,6]\n",
    "for  j in range(1,6):\n",
    "    cnt = 0\n",
    "    for i in range(1,11):\n",
    "        result  = random.choice(dice)\n",
    "        if result  % 2 ==  0 :  #주사위 눈이 짝수라면 \n",
    "            cnt  = cnt + 1 \n",
    "    print(cnt)\n"
   ]
  },
  {
   "cell_type": "code",
   "execution_count": 27,
   "id": "46424514",
   "metadata": {},
   "outputs": [
    {
     "name": "stdout",
     "output_type": "stream",
     "text": [
      "0.56\n",
      "0.56\n",
      "0.46\n",
      "0.48\n",
      "0.47\n"
     ]
    }
   ],
   "source": [
    "#q17)동전을 100번 던져서 앞면이 나올 확률을 구하는 작업을 5번 반복해 보자.  \n",
    "import  random\n",
    "\n",
    "coin =['앞면', '뒷면']\n",
    "for j in range(1,6):\n",
    "    cnt = 0 \n",
    "    for   i   in  range(1,101):\n",
    "        result = random.choice(coin)\n",
    "        if  result =='앞면':\n",
    "            cnt = cnt + 1\n",
    "    print ( cnt / 100 )"
   ]
  },
  {
   "cell_type": "code",
   "execution_count": 28,
   "id": "b75a7745",
   "metadata": {},
   "outputs": [
    {
     "name": "stdout",
     "output_type": "stream",
     "text": [
      "84\n"
     ]
    }
   ],
   "source": [
    "#q18)두개의 동전을 300번 던져서 동시에 둘 다 앞면이 나오는 횟수를 출력하세요  and \n",
    "import  random\n",
    "\n",
    "coin1 =['앞면', '뒷면']\n",
    "coin2 =['앞면', '뒷면']\n",
    "cnt = 0 \n",
    "for   i   in  range(1,301):\n",
    "     result1 = random.choice(coin1)\n",
    "     result2 = random.choice(coin2)\n",
    "     if  result1 =='앞면' and result2=='앞면':\n",
    "            cnt = cnt + 1            \n",
    "print(cnt)"
   ]
  },
  {
   "cell_type": "code",
   "execution_count": 33,
   "id": "0c059ed7",
   "metadata": {},
   "outputs": [],
   "source": [
    "#!pip install numpy\n",
    "#!pip install pandas"
   ]
  },
  {
   "cell_type": "code",
   "execution_count": 39,
   "id": "24e562f4",
   "metadata": {},
   "outputs": [
    {
     "name": "stdout",
     "output_type": "stream",
     "text": [
      "15\n",
      "1\n",
      "33333\n"
     ]
    }
   ],
   "source": [
    "import numpy as np # numpy라는 모듈을 np라는 별칭으로 사용하겠다. ->윈도우 함수  \n",
    "print(np.sum([1,2,3,4,5]))\n",
    "print(np.min([1,22,3,4,5]))\n",
    "print(np.max([1,2,33333,4,5]))"
   ]
  },
  {
   "cell_type": "code",
   "execution_count": 41,
   "id": "7fd6c1ad",
   "metadata": {},
   "outputs": [
    {
     "name": "stdout",
     "output_type": "stream",
     "text": [
      "119.899\n",
      "78.94879900000002\n",
      "8.885313669195929\n"
     ]
    }
   ],
   "source": [
    "#q19)한개의 주사위를 360번 던져서 3의 배수의 눈이 나오는 회수를 1000번 반복하고 \n",
    "# 그 1000번을 list변수 x에 저장한 다음 x의 평균, 분산,표준편차를 구해보자.\n",
    "#np.mean(), np.var(),  np.std()를 활용해 보자.  \n",
    "\n",
    "import  random\n",
    "import  numpy  as  np\n",
    "\n",
    "dice = [ 1, 2, 3, 4, 5, 6 ]   # 주사위 생성\n",
    "x = []       #  비어있는 리스트 생성 \n",
    "\n",
    "for  j  in  range(1, 1001):  #  1000번 반복수행하는 for loop 문 작성 \n",
    "    cnt =  0                   # cnt 에 0 을 대입 \n",
    "    for  i  in  range(1, 361):  # 360번 반복수행하는 for loop 문 작성 \n",
    "        result = random.choice(dice)  # 주사위에서 눈을 하나 출력해서 result 에 리턴\n",
    "        if  result % 3 == 0:  # 그 주사위의 눈을 3으로 나눈 나머지값이 0 이면 \n",
    "            cnt = cnt + 1     # cnt 를 1씩 증가시킨다.             \n",
    "    x.append(cnt)             #  주사위를 360번 던져서 3의 배수가 나온 횟수가 x 리스트에  추가\n",
    "                                  \n",
    "print(np.mean(x))  \n",
    "print(np.var(x))   \n",
    "print(np.std(x))   "
   ]
  },
  {
   "cell_type": "code",
   "execution_count": null,
   "id": "154e0a05",
   "metadata": {},
   "outputs": [],
   "source": []
  },
  {
   "cell_type": "code",
   "execution_count": null,
   "id": "f1943c2f",
   "metadata": {},
   "outputs": [],
   "source": []
  },
  {
   "cell_type": "code",
   "execution_count": null,
   "id": "f6bc9561",
   "metadata": {},
   "outputs": [],
   "source": []
  },
  {
   "cell_type": "code",
   "execution_count": null,
   "id": "535d5e26",
   "metadata": {},
   "outputs": [],
   "source": []
  },
  {
   "cell_type": "code",
   "execution_count": null,
   "id": "73e8c170",
   "metadata": {},
   "outputs": [],
   "source": []
  }
 ],
 "metadata": {
  "kernelspec": {
   "display_name": "Python 3 (ipykernel)",
   "language": "python",
   "name": "python3"
  },
  "language_info": {
   "codemirror_mode": {
    "name": "ipython",
    "version": 3
   },
   "file_extension": ".py",
   "mimetype": "text/x-python",
   "name": "python",
   "nbconvert_exporter": "python",
   "pygments_lexer": "ipython3",
   "version": "3.9.13"
  }
 },
 "nbformat": 4,
 "nbformat_minor": 5
}
