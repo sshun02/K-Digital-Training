{
 "cells": [
  {
   "cell_type": "markdown",
   "id": "a5abe963",
   "metadata": {},
   "source": [
    "### 1. re 모듈"
   ]
  },
  {
   "cell_type": "raw",
   "id": "c6c6b6cf",
   "metadata": {},
   "source": [
    "Q1) 문자열의 단어수를  리턴받아 보자. str.split() / 정규표현식\n",
    "\n",
    "str.split()  :문자열의 공백으로 구분하고 결과를 목록으로 리턴 "
   ]
  },
  {
   "cell_type": "code",
   "execution_count": 2,
   "id": "db89c967",
   "metadata": {},
   "outputs": [
    {
     "name": "stdout",
     "output_type": "stream",
     "text": [
      "['format_spec', 'defaults', 'to', 'the', 'empty', 'string.']\n",
      "6\n"
     ]
    }
   ],
   "source": [
    "str='format_spec defaults to the empty string.'\n",
    "\n",
    "res  = str.split()\n",
    "word_count = len(res) \n",
    "print(res)\n",
    "print(word_count)"
   ]
  },
  {
   "cell_type": "raw",
   "id": "536e2f12",
   "metadata": {},
   "source": [
    "Q2) 문자열의 단어수를  리턴받아 보자. 정규표현식\n",
    "import re  -> 정규식 패턴을 컴파일 할 수 있는 모듈 \n",
    "'findall', 'finditer', 'fullmatch', 'functools', 'match',  search' ,'split'\n",
    "findall(pattern, string, flags=0)"
   ]
  },
  {
   "cell_type": "code",
   "execution_count": 8,
   "id": "8f590935",
   "metadata": {},
   "outputs": [
    {
     "name": "stdout",
     "output_type": "stream",
     "text": [
      "['Return', 'a', 'list', 'of', 'all', 'non', 'overlapping', 'matches', 'in', 'the', 'string']\n",
      "11\n"
     ]
    }
   ],
   "source": [
    "import re\n",
    "#print(help(re.findall))\n",
    "#regexr.com  or https://regex101.com/  ?, ^ , +  , * \n",
    "# \\w  ->알파벳, 숫자, _ 중 하나를 의미한다.  \n",
    "# \\w+  ->알파벳, 숫자, _  문자가  하나이상 반복되는 것 \n",
    "str  = 'Return a list of all non-overlapping matches in the string.'\n",
    "res=re.findall( r'\\w+'   ,str )\n",
    "word_count = len(res) \n",
    "print(res)\n",
    "print(word_count)"
   ]
  },
  {
   "cell_type": "raw",
   "id": "b7046b98",
   "metadata": {},
   "source": [
    "Q3)str에서 공백의 개수를 출력 해보자. "
   ]
  },
  {
   "cell_type": "code",
   "execution_count": 9,
   "id": "10c2adab",
   "metadata": {},
   "outputs": [
    {
     "name": "stdout",
     "output_type": "stream",
     "text": [
      "[' ', ' ', ' ', ' ', ' ', ' ', ' ', ' ', ' ']\n",
      "9\n"
     ]
    }
   ],
   "source": [
    "str  = 'Return a list of all non-overlapping matches in the string.'\n",
    "res=re.findall( r'\\s+'   ,str )\n",
    "word_count = len(res) \n",
    "print(res)\n",
    "print(word_count)"
   ]
  },
  {
   "cell_type": "raw",
   "id": "11164cbd",
   "metadata": {},
   "source": [
    "Q4)리스트 객체에서 슬라이싱을 이용해서 삭제 해보자.  "
   ]
  },
  {
   "cell_type": "code",
   "execution_count": 12,
   "id": "dfd0f3dd",
   "metadata": {},
   "outputs": [
    {
     "name": "stdout",
     "output_type": "stream",
     "text": [
      "['kim', 'kim', 'lee', 'park', 'kim', 'lee', 'park']\n"
     ]
    }
   ],
   "source": [
    "m= ['kim','lee','park']*3\n",
    "del  m[1:3]\n",
    "print(m)"
   ]
  },
  {
   "cell_type": "markdown",
   "id": "aa6a3dbc",
   "metadata": {},
   "source": [
    "### 2. pathlib 모듈 "
   ]
  },
  {
   "cell_type": "raw",
   "id": "eb82788d",
   "metadata": {},
   "source": [
    "1) 실행중인 Python 파일 경로확인  \n",
    "2) 작업 디렉토리 경로 확인  \n",
    "3) 작업 디렉토리 변경 \n",
    "------------------------------\n",
    "파일을 만드는 방법\n",
    "1)pathlib.Path.touch() 방법\n",
    "2)open() 방법 \n",
    "3)os.system()\n"
   ]
  },
  {
   "cell_type": "code",
   "execution_count": 20,
   "id": "1382ffaa",
   "metadata": {},
   "outputs": [
    {
     "data": {
      "text/plain": [
       "WindowsPath('.')"
      ]
     },
     "execution_count": 20,
     "metadata": {},
     "output_type": "execute_result"
    }
   ],
   "source": [
    "from pathlib import Path  # pathlib에서  Path만  참조하겠다.  \n",
    "path  = Path()\n",
    "path"
   ]
  },
  {
   "cell_type": "code",
   "execution_count": 21,
   "id": "9d82946f",
   "metadata": {},
   "outputs": [
    {
     "name": "stdout",
     "output_type": "stream",
     "text": [
      " c:\\ds_work\\source_code\n"
     ]
    }
   ],
   "source": [
    "print(f\"{Path.cwd()}\")  #작업 경로 확인 "
   ]
  },
  {
   "cell_type": "code",
   "execution_count": 25,
   "id": "2165c915",
   "metadata": {},
   "outputs": [
    {
     "name": "stdout",
     "output_type": "stream",
     "text": [
      "['DirEntry', 'F_OK', 'GenericAlias', 'Mapping', 'MutableMapping', 'O_APPEND', 'O_BINARY', 'O_CREAT', 'O_EXCL', 'O_NOINHERIT', 'O_RANDOM', 'O_RDONLY', 'O_RDWR', 'O_SEQUENTIAL', 'O_SHORT_LIVED', 'O_TEMPORARY', 'O_TEXT', 'O_TRUNC', 'O_WRONLY', 'P_DETACH', 'P_NOWAIT', 'P_NOWAITO', 'P_OVERLAY', 'P_WAIT', 'PathLike', 'R_OK', 'SEEK_CUR', 'SEEK_END', 'SEEK_SET', 'TMP_MAX', 'W_OK', 'X_OK', '_AddedDllDirectory', '_Environ', '__all__', '__builtins__', '__cached__', '__doc__', '__file__', '__loader__', '__name__', '__package__', '__spec__', '_check_methods', '_execvpe', '_exists', '_exit', '_fspath', '_get_exports_list', '_walk', '_wrap_close', 'abc', 'abort', 'access', 'add_dll_directory', 'altsep', 'chdir', 'chmod', 'close', 'closerange', 'cpu_count', 'curdir', 'defpath', 'device_encoding', 'devnull', 'dup', 'dup2', 'environ', 'error', 'execl', 'execle', 'execlp', 'execlpe', 'execv', 'execve', 'execvp', 'execvpe', 'extsep', 'fdopen', 'fsdecode', 'fsencode', 'fspath', 'fstat', 'fsync', 'ftruncate', 'get_exec_path', 'get_handle_inheritable', 'get_inheritable', 'get_terminal_size', 'getcwd', 'getcwdb', 'getenv', 'getlogin', 'getpid', 'getppid', 'isatty', 'kill', 'linesep', 'link', 'listdir', 'lseek', 'lstat', 'makedirs', 'mkdir', 'name', 'open', 'pardir', 'path', 'pathsep', 'pipe', 'popen', 'putenv', 'read', 'readlink', 'remove', 'removedirs', 'rename', 'renames', 'replace', 'rmdir', 'scandir', 'sep', 'set_handle_inheritable', 'set_inheritable', 'spawnl', 'spawnle', 'spawnv', 'spawnve', 'st', 'startfile', 'stat', 'stat_result', 'statvfs_result', 'strerror', 'supports_bytes_environ', 'supports_dir_fd', 'supports_effective_ids', 'supports_fd', 'supports_follow_symlinks', 'symlink', 'sys', 'system', 'terminal_size', 'times', 'times_result', 'truncate', 'umask', 'uname_result', 'unlink', 'unsetenv', 'urandom', 'utime', 'waitpid', 'waitstatus_to_exitcode', 'walk', 'write']\n",
      "c:\\Test\n"
     ]
    }
   ],
   "source": [
    "from os import chdir  # 탐색기에서 사용되는 명령어를 가진 모듈\n",
    "print(dir(os))\n",
    "path = Path('c:\\Test' )\n",
    "chdir (path)\n",
    "print(f\"{Path.cwd()}\")"
   ]
  },
  {
   "cell_type": "code",
   "execution_count": 36,
   "id": "37bf9385",
   "metadata": {},
   "outputs": [
    {
     "name": "stdout",
     "output_type": "stream",
     "text": [
      "1\n"
     ]
    },
    {
     "data": {
      "text/plain": [
       "0"
      ]
     },
     "execution_count": 36,
     "metadata": {},
     "output_type": "execute_result"
    }
   ],
   "source": [
    "#파일을  만들자  \n",
    "from pathlib import Path \n",
    "import os\n",
    "\n",
    "Path('a.txt').touch()\n",
    "\n",
    "with open('b.txt' ,'w') :\n",
    "    pass\n",
    "\n",
    "r =os.system(' abc  >> e.txt ') \n",
    "print(r)\n",
    "\n",
    "os.system('notepad.exe') \n",
    "os.system('mspaint.exe') # 파이썬 빅데이터 파이프라인을 구현할 때  몽고 또는 하둡스토리지에 전송 구문 "
   ]
  },
  {
   "cell_type": "markdown",
   "id": "e2112b8f",
   "metadata": {},
   "source": [
    "### 3. OS모듈\n",
    "- 시스템 환경에  관한 함수  \n",
    "- 디렉토리 , 파일 \n",
    "os.walk() \n",
    "os.system() \n",
    "os.listdir()\n",
    "os.path() \n",
    "os.environ() \n",
    "os.mkdir()\n",
    "os.rename() \n",
    "os.remove() \n",
    "\n"
   ]
  },
  {
   "cell_type": "code",
   "execution_count": 41,
   "id": "e55d2556",
   "metadata": {},
   "outputs": [
    {
     "name": "stdout",
     "output_type": "stream",
     "text": [
      "on Windows\n",
      "nt\n"
     ]
    }
   ],
   "source": [
    "import os\n",
    "if os.name == 'nt':\n",
    "    print('on Windows')\n",
    "elif os.name == 'posix':\n",
    "    print('on Mac or Linux')\n",
    "print(os.name)"
   ]
  },
  {
   "cell_type": "code",
   "execution_count": 39,
   "id": "9263f369",
   "metadata": {},
   "outputs": [
    {
     "name": "stdout",
     "output_type": "stream",
     "text": [
      "on Windows\n"
     ]
    },
    {
     "data": {
      "text/plain": [
       "'Windows'"
      ]
     },
     "execution_count": 39,
     "metadata": {},
     "output_type": "execute_result"
    }
   ],
   "source": [
    "import platform\n",
    "pf = platform.system()\n",
    "if pf == 'Windows':\n",
    "    print('on Windows')\n",
    "elif pf == 'Darwin':\n",
    "    print('on Mac')\n",
    "elif pt == 'Linux':\n",
    "    print('on Linux')\n",
    "platform.system()"
   ]
  },
  {
   "cell_type": "raw",
   "id": "14a3397f",
   "metadata": {},
   "source": [
    "Q1) makedirs', 'mkdir'를 이용해서 디렉토리를 생성해보자.  "
   ]
  },
  {
   "cell_type": "code",
   "execution_count": 51,
   "id": "9a94cbfe",
   "metadata": {},
   "outputs": [],
   "source": [
    "import os\n",
    "path ='.\\\\dir\\\\sub'\n",
    "os.mkdir(path) "
   ]
  },
  {
   "cell_type": "code",
   "execution_count": 52,
   "id": "c1a47f17",
   "metadata": {},
   "outputs": [],
   "source": [
    "path_list = ['.\\\\dir\\\\sub1','.\\\\dir\\\\sub2','.\\\\dir\\\\sub3' ]\n",
    "for path in path_list:\n",
    "    os.mkdir(path)"
   ]
  },
  {
   "cell_type": "code",
   "execution_count": 57,
   "id": "27b09ece",
   "metadata": {},
   "outputs": [],
   "source": [
    "path ='.\\\\dir\\\\sub_dir1\\\\sub_dir2'\n",
    "os.makedirs(path, exist_ok=True)"
   ]
  },
  {
   "cell_type": "code",
   "execution_count": 60,
   "id": "08cafa6a",
   "metadata": {},
   "outputs": [
    {
     "name": "stdout",
     "output_type": "stream",
     "text": [
      "Help on function walk in module os:\n",
      "\n",
      "walk(top, topdown=True, onerror=None, followlinks=False)\n",
      "    Directory tree generator.\n",
      "    \n",
      "    For each directory in the directory tree rooted at top (including top\n",
      "    itself, but excluding '.' and '..'), yields a 3-tuple\n",
      "    \n",
      "        dirpath, dirnames, filenames\n",
      "    \n",
      "    dirpath is a string, the path to the directory.  dirnames is a list of\n",
      "    the names of the subdirectories in dirpath (excluding '.' and '..').\n",
      "    filenames is a list of the names of the non-directory files in dirpath.\n",
      "    Note that the names in the lists are just names, with no path components.\n",
      "    To get a full path (which begins with top) to a file or directory in\n",
      "    dirpath, do os.path.join(dirpath, name).\n",
      "    \n",
      "    If optional arg 'topdown' is true or not specified, the triple for a\n",
      "    directory is generated before the triples for any of its subdirectories\n",
      "    (directories are generated top down).  If topdown is false, the triple\n",
      "    for a directory is generated after the triples for all of its\n",
      "    subdirectories (directories are generated bottom up).\n",
      "    \n",
      "    When topdown is true, the caller can modify the dirnames list in-place\n",
      "    (e.g., via del or slice assignment), and walk will only recurse into the\n",
      "    subdirectories whose names remain in dirnames; this can be used to prune the\n",
      "    search, or to impose a specific order of visiting.  Modifying dirnames when\n",
      "    topdown is false has no effect on the behavior of os.walk(), since the\n",
      "    directories in dirnames have already been generated by the time dirnames\n",
      "    itself is generated. No matter the value of topdown, the list of\n",
      "    subdirectories is retrieved before the tuples for the directory and its\n",
      "    subdirectories are generated.\n",
      "    \n",
      "    By default errors from the os.scandir() call are ignored.  If\n",
      "    optional arg 'onerror' is specified, it should be a function; it\n",
      "    will be called with one argument, an OSError instance.  It can\n",
      "    report the error to continue with the walk, or raise the exception\n",
      "    to abort the walk.  Note that the filename is available as the\n",
      "    filename attribute of the exception object.\n",
      "    \n",
      "    By default, os.walk does not follow symbolic links to subdirectories on\n",
      "    systems that support them.  In order to get this functionality, set the\n",
      "    optional argument 'followlinks' to true.\n",
      "    \n",
      "    Caution:  if you pass a relative pathname for top, don't change the\n",
      "    current working directory between resumptions of walk.  walk never\n",
      "    changes the current directory, and assumes that the client doesn't\n",
      "    either.\n",
      "    \n",
      "    Example:\n",
      "    \n",
      "    import os\n",
      "    from os.path import join, getsize\n",
      "    for root, dirs, files in os.walk('python/Lib/email'):\n",
      "        print(root, \"consumes\", end=\"\")\n",
      "        print(sum(getsize(join(root, name)) for name in files), end=\"\")\n",
      "        print(\"bytes in\", len(files), \"non-directory files\")\n",
      "        if 'CVS' in dirs:\n",
      "            dirs.remove('CVS')  # don't visit CVS directories\n",
      "\n",
      "None\n"
     ]
    }
   ],
   "source": [
    "print(help(os.walk))"
   ]
  },
  {
   "cell_type": "code",
   "execution_count": 59,
   "id": "a389329a",
   "metadata": {},
   "outputs": [
    {
     "data": {
      "text/plain": [
       "['a.txt', 'b.txt', 'c.txt', 'd.txt', 'dir', 'e.txt']"
      ]
     },
     "execution_count": 59,
     "metadata": {},
     "output_type": "execute_result"
    }
   ],
   "source": [
    "os.listdir('.')"
   ]
  },
  {
   "cell_type": "code",
   "execution_count": 65,
   "id": "7fbe2cd1",
   "metadata": {},
   "outputs": [
    {
     "name": "stdout",
     "output_type": "stream",
     "text": [
      "c:\\Test\\a.txt\n",
      "c:\\Test\\b.txt\n",
      "c:\\Test\\c.txt\n",
      "c:\\Test\\d.txt\n",
      "c:\\Test\\e.txt\n",
      "dir\tsub\tsub1\tsub2\tsub3\tsub_dir1\tsub_dir2\t"
     ]
    }
   ],
   "source": [
    "for root, dirs, files in os.walk('c:\\Test'):\n",
    "    for  f in files:\n",
    "        print( os.path.join(root,f))\n",
    "    for d in dirs:\n",
    "        print(d,end='\\t')"
   ]
  },
  {
   "cell_type": "code",
   "execution_count": 68,
   "id": "66539426",
   "metadata": {},
   "outputs": [
    {
     "name": "stdout",
     "output_type": "stream",
     "text": [
      ".\\dir\\sub\n",
      "[]\n",
      "[]\n",
      ".\\dir\\sub1\n",
      "[]\n",
      "[]\n",
      ".\\dir\\sub2\n",
      "[]\n",
      "[]\n",
      ".\\dir\\sub3\n",
      "[]\n",
      "[]\n",
      ".\\dir\\sub_dir1\\sub_dir2\n",
      "[]\n",
      "[]\n",
      ".\\dir\\sub_dir1\n",
      "['sub_dir2']\n",
      "[]\n",
      ".\\dir\n",
      "['sub', 'sub1', 'sub2', 'sub3', 'sub_dir1']\n",
      "[]\n",
      ".\n",
      "['dir']\n",
      "['a.txt', 'b.txt', 'c.txt', 'd.txt', 'e.txt']\n"
     ]
    }
   ],
   "source": [
    "for root, dirs, files in os.walk('.' , topdown =False):\n",
    "    print(root)\n",
    "    print(dirs)\n",
    "    print(files)"
   ]
  },
  {
   "cell_type": "code",
   "execution_count": null,
   "id": "5c4b0edb",
   "metadata": {},
   "outputs": [],
   "source": []
  },
  {
   "cell_type": "code",
   "execution_count": 74,
   "id": "5d6cc5b2",
   "metadata": {},
   "outputs": [
    {
     "name": "stdout",
     "output_type": "stream",
     "text": [
      "c:\\Test\\dir\\e.txt\n"
     ]
    }
   ],
   "source": [
    "for root, dirs, files in os.walk('c:\\Test'):\n",
    "    for  f in files:\n",
    "        if  'e.txt' in f:\n",
    "             print(os.path.join(root,f)) "
   ]
  },
  {
   "cell_type": "code",
   "execution_count": 78,
   "id": "cdb4d213",
   "metadata": {},
   "outputs": [
    {
     "name": "stdout",
     "output_type": "stream",
     "text": [
      "c:\\Python\\Python310\\Lib\\abc.py\n",
      "c:\\Python\\Python310\\Lib\\_collections_abc.py\n",
      "c:\\Python\\Python310\\Lib\\_py_abc.py\n",
      "c:\\Python\\Python310\\Lib\\collections\\abc.py\n",
      "c:\\Python\\Python310\\Lib\\importlib\\abc.py\n",
      "c:\\Python\\Python310\\Lib\\importlib\\_abc.py\n",
      "c:\\Python\\Python310\\Lib\\site-packages\\numpy\\core\\tests\\test_abc.py\n",
      "c:\\Python\\Python310\\Lib\\site-packages\\pip\\_vendor\\resolvelib\\compat\\collections_abc.py\n",
      "c:\\Python\\Python310\\Lib\\site-packages\\pip\\_vendor\\rich\\abc.py\n",
      "c:\\Python\\Python310\\Lib\\site-packages\\pkg_resources\\_vendor\\importlib_resources\\abc.py\n",
      "c:\\Python\\Python310\\Lib\\site-packages\\setuptools\\_vendor\\importlib_resources\\abc.py\n",
      "c:\\Python\\Python310\\Lib\\test\\test_abc.py\n",
      "c:\\Python\\Python310\\Lib\\test\\test_importlib\\abc.py\n",
      "c:\\Python\\Python310\\Lib\\test\\test_importlib\\test_abc.py\n"
     ]
    }
   ],
   "source": [
    "for root, dirs, files in os.walk('c:\\\\Python'):\n",
    "    for  f in files:\n",
    "        if  'abc.py' in f:\n",
    "             print(os.path.join(root,f)) "
   ]
  },
  {
   "cell_type": "code",
   "execution_count": 79,
   "id": "6a097cf8",
   "metadata": {},
   "outputs": [
    {
     "name": "stdout",
     "output_type": "stream",
     "text": [
      "['__all__', '__builtins__', '__cached__', '__doc__', '__file__', '__loader__', '__name__', '__package__', '__spec__', '_abspath_fallback', '_get_bothseps', '_getfinalpathname', '_getfinalpathname_nonstrict', '_getfullpathname', '_getvolumepathname', '_nt_readlink', '_readlink_deep', 'abspath', 'altsep', 'basename', 'commonpath', 'commonprefix', 'curdir', 'defpath', 'devnull', 'dirname', 'exists', 'expanduser', 'expandvars', 'extsep', 'genericpath', 'getatime', 'getctime', 'getmtime', 'getsize', 'isabs', 'isdir', 'isfile', 'islink', 'ismount', 'join', 'lexists', 'normcase', 'normpath', 'os', 'pardir', 'pathsep', 'realpath', 'relpath', 'samefile', 'sameopenfile', 'samestat', 'sep', 'split', 'splitdrive', 'splitext', 'stat', 'supports_unicode_filenames', 'sys']\n"
     ]
    }
   ],
   "source": [
    "print(dir(os.path))"
   ]
  },
  {
   "cell_type": "code",
   "execution_count": 80,
   "id": "d8a2984d",
   "metadata": {},
   "outputs": [
    {
     "name": "stdout",
     "output_type": "stream",
     "text": [
      "True\n"
     ]
    }
   ],
   "source": [
    "print(os.path.exists('c:\\Test'))"
   ]
  },
  {
   "cell_type": "code",
   "execution_count": 85,
   "id": "1e961cdc",
   "metadata": {},
   "outputs": [
    {
     "name": "stdout",
     "output_type": "stream",
     "text": [
      "이미생성했어\n"
     ]
    }
   ],
   "source": [
    "if  not os.path.exists('c:\\Test'):\n",
    "    os.mkdir('c:\\Test')\n",
    "else:\n",
    "    print('이미생성했어')"
   ]
  },
  {
   "cell_type": "code",
   "execution_count": null,
   "id": "377876e2",
   "metadata": {},
   "outputs": [],
   "source": []
  },
  {
   "cell_type": "code",
   "execution_count": null,
   "id": "a47235af",
   "metadata": {},
   "outputs": [],
   "source": []
  }
 ],
 "metadata": {
  "kernelspec": {
   "display_name": "Python 3 (ipykernel)",
   "language": "python",
   "name": "python3"
  },
  "language_info": {
   "codemirror_mode": {
    "name": "ipython",
    "version": 3
   },
   "file_extension": ".py",
   "mimetype": "text/x-python",
   "name": "python",
   "nbconvert_exporter": "python",
   "pygments_lexer": "ipython3",
   "version": "3.9.13"
  }
 },
 "nbformat": 4,
 "nbformat_minor": 5
}
