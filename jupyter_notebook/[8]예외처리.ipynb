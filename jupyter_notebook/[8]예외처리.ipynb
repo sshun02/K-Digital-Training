{
 "cells": [
  {
   "cell_type": "markdown",
   "id": "ea77666d",
   "metadata": {},
   "source": [
    ">>> 10 / 0    \n",
    "Traceback (most recent call last):  -> PVM에서 파이선 실행시 프로그램 중단 될 경우 객체를 생성시킨다.  \n",
    "  File \"<stdin>\", line 1, in <module>\n",
    "ZeroDivisionError: division by zero  \n",
    "                           -> ZeroDivisionError를 생성시켜서 프로그램 중단시점으로 메시지와 함께 출력시킨다."
   ]
  },
  {
   "cell_type": "code",
   "execution_count": 7,
   "id": "896a2904",
   "metadata": {},
   "outputs": [
    {
     "name": "stdout",
     "output_type": "stream",
     "text": [
      " 0으로 나누려고 했잖아\n",
      "22222222222\n"
     ]
    }
   ],
   "source": [
    "#case 01 : 10/0으로 나누게 되면 예외 객체가 생성된다.  -> except로 가서 처리 한다.  \n",
    "try: \n",
    "     r =  10 / 0  \n",
    "     print('111111111111')\n",
    "except ZeroDivisionError  as    ZDE :  #ZDE =  ZeroDivisionError()\n",
    "    print(' 0으로 나누려고 했잖아')    \n",
    "else:\n",
    "    print('else')\n",
    "    \n",
    "print('22222222222')"
   ]
  },
  {
   "cell_type": "code",
   "execution_count": 8,
   "id": "60d81949",
   "metadata": {},
   "outputs": [
    {
     "name": "stdout",
     "output_type": "stream",
     "text": [
      "<<명령수행  만줄>>\n",
      "else\n",
      "22222222222\n"
     ]
    }
   ],
   "source": [
    "#case 02 : 10/3으로 나누게 되면 예외 객체가 생성되지 않는다.  ->명령수행  -> else로 가서 처리 한다.  \n",
    "try: \n",
    "     r =  10 / 3  \n",
    "     print('<<명령수행  만줄>>')\n",
    "except ZeroDivisionError  as    ZDE :  #ZDE =  ZeroDivisionError()\n",
    "    print(' 0으로 나누려고 했잖아')    \n",
    "else:\n",
    "    print('else')\n",
    "    \n",
    "    \n",
    "print('22222222222')"
   ]
  },
  {
   "cell_type": "code",
   "execution_count": 9,
   "id": "2672dede",
   "metadata": {},
   "outputs": [
    {
     "name": "stdout",
     "output_type": "stream",
     "text": [
      "<<명령수행  만줄>>\n",
      "else\n",
      "반드시 처리할 명령\n",
      "22222222222\n"
     ]
    }
   ],
   "source": [
    "#case 03 : 10/3으로 나누게 되면 예외 객체가 생성되지 않는다.  ->명령수행  -> else로 가서 처리 한다.  \n",
    "# -> 반드시 처리할 명령은 마지막 구문에  finally로 가서 처리하고 try~ except~ finally가 종료된다. \n",
    "try: \n",
    "     r =  10 / 3  #  ----> 1) 오류 발생하지 않음\n",
    "     print('<<명령수행  만줄>>')#--->2)명령수행 \n",
    "except ZeroDivisionError  as    ZDE :  #ZDE =  ZeroDivisionError()\n",
    "    print(' 0으로 나누려고 했잖아')    \n",
    "else: #-->   3) 명령수행 \n",
    "    print('else')\n",
    "finally:#--->4)마지막으로 반드시 수행한다.  \n",
    "    print(\"반드시 처리할 명령\")\n",
    "    \n",
    "    \n",
    "print('22222222222')"
   ]
  },
  {
   "cell_type": "code",
   "execution_count": 13,
   "id": "383c749c",
   "metadata": {},
   "outputs": [
    {
     "name": "stdout",
     "output_type": "stream",
     "text": [
      " 0으로 나누려고 했잖아\n",
      "반드시 처리할 명령\n",
      "22222222222\n"
     ]
    }
   ],
   "source": [
    "#case 04 : 10/0으로 나누게 되면 예외 객체가 생성된다.  -> except로 가서 처리 한다.  \n",
    "# -> 반드시 처리할 명령은 마지막 구문에  finally로 가서 처리하고 try~ except~ finally가 종료된다. \n",
    "#->  try  -> except ->finally  \n",
    "try: \n",
    "     r =  10 / 0  #  ----> 1) \n",
    "     print('<<명령수행  만줄>>')  # X \n",
    "except ZeroDivisionError  as    ZDE :  #ZDE =  ZeroDivisionError()  -->2) \n",
    "    #ZDE.with_traceback()\n",
    "    print(' 0으로 나누려고 했잖아')    \n",
    "else: #-->  X \n",
    "    print('else')\n",
    "finally:#--->3)마지막으로 반드시 수행한다.  \n",
    "    print(\"반드시 처리할 명령\")\n",
    "    \n",
    "    \n",
    "print('22222222222')"
   ]
  },
  {
   "cell_type": "code",
   "execution_count": 14,
   "id": "b95f617b",
   "metadata": {},
   "outputs": [],
   "source": [
    "#print(help(ZeroDivisionError))"
   ]
  },
  {
   "cell_type": "code",
   "execution_count": 22,
   "id": "73bb6313",
   "metadata": {},
   "outputs": [
    {
     "name": "stdout",
     "output_type": "stream",
     "text": [
      "IndexError  : list index out of range <class 'IndexError'>\n",
      "백업,파일클로즈, 데이타베이스 클로즈\n"
     ]
    }
   ],
   "source": [
    "L =[1,2,3]\n",
    "try:   \n",
    "        num  = L[4]\n",
    "except  IndexError  as IE:\n",
    "        print('IndexError  :',IE, type(IE))\n",
    "        #IE.with_traceback()\n",
    "else:\n",
    "        print('오류없어')\n",
    "finally:\n",
    "        print('백업,파일클로즈, 데이타베이스 클로즈')\n",
    "  "
   ]
  },
  {
   "cell_type": "code",
   "execution_count": 23,
   "id": "9013b50a",
   "metadata": {},
   "outputs": [
    {
     "name": "stderr",
     "output_type": "stream",
     "text": [
      "Traceback (most recent call last):\n",
      "  File \"C:\\Users\\student\\AppData\\Local\\Temp\\ipykernel_9104\\3695053488.py\", line 11, in <module>\n",
      "    f1(1.0,0.0)\n",
      "  File \"C:\\Users\\student\\AppData\\Local\\Temp\\ipykernel_9104\\3695053488.py\", line 4, in f1\n",
      "    return f2(a)+f2(b)\n",
      "  File \"C:\\Users\\student\\AppData\\Local\\Temp\\ipykernel_9104\\3695053488.py\", line 7, in f2\n",
      "    return 1.0/x\n",
      "ZeroDivisionError: float division by zero\n"
     ]
    }
   ],
   "source": [
    "import traceback  # 순차적인 예외를 확인 하고 싶을 사용하는 모듈\n",
    "\n",
    "def f1(a,b):\n",
    "    return f2(a)+f2(b)\n",
    "\n",
    "def f2(x):\n",
    "    return 1.0/x\n",
    "\n",
    "if __name__ == '__main__':\n",
    "    try:\n",
    "        f1(1.0,0.0)\n",
    "    except (ZeroDivisionError , IOError):\n",
    "        traceback.print_exc() #-> 발생된 예외를 순차적으로 찾아서 출력 해준다. "
   ]
  },
  {
   "cell_type": "code",
   "execution_count": 26,
   "id": "45c7ded4",
   "metadata": {},
   "outputs": [
    {
     "name": "stdout",
     "output_type": "stream",
     "text": [
      "1 (<class 'ZeroDivisionError'>, ZeroDivisionError('division by zero'), <traceback object at 0x0000022403BADE80>)\n",
      "2 <class 'ZeroDivisionError'>\n",
      "3 ('division by zero',)\n",
      "4 division by zero\n"
     ]
    }
   ],
   "source": [
    "import sys\n",
    "if __name__ == '__main__':\n",
    "    try:\n",
    "        10/0\n",
    "    except  ZeroDivisionError as z  :\n",
    "        print(\"1\",sys.exc_info())  #로드된 실행 프로그램이 중단됬을 경우 , 시스템의 발생되는 클래스 확인 \n",
    "        print(\"2\", format(type(z)))\n",
    "        print(\"3\",format(z.args))\n",
    "        print(\"4\", format(z))"
   ]
  },
  {
   "cell_type": "raw",
   "id": "6f237c16",
   "metadata": {},
   "source": [
    "예외 처리 방법\n",
    " try ... except ...finally문 사용 \n",
    "try :\n",
    "     예외발생가능한 문장 1\n",
    "except 예외유형 :\n",
    "    예외처리 문장 2\n",
    "else :\n",
    "    예외 없을때 수행 문장 3\n",
    "finally:\n",
    "   예외 유무와 상관없이 실행되는 문장 4 _ [파일 클로즈, 데이터베이스 클로즈, 백업용]\n",
    "\n",
    "\n",
    " else ~ finally 생략가능\n",
    " 1번문장을 실행 - 오류발생(예외처리 되어 있는 오류면)\n",
    " 2번문장 수행 - 4번문장을 수행\n",
    " 1번문장을 실행 - 오류없으면 3번문장 수행 - 4번문장을 수행\n"
   ]
  },
  {
   "cell_type": "markdown",
   "id": "b0ea9e54",
   "metadata": {},
   "source": [
    "### 파일 읽어오기를 수행할 때 파일이 없으면 그냥 pass 하고 파일이 있으면 읽고 출력"
   ]
  },
  {
   "cell_type": "code",
   "execution_count": 2,
   "id": "34f98b31",
   "metadata": {},
   "outputs": [
    {
     "name": "stdout",
     "output_type": "stream",
     "text": [
      "종료\n"
     ]
    }
   ],
   "source": [
    "try :\n",
    "    f=open(\"exception.txt\", 'r') #파일이 존재 하지 않으면 예외발생  \n",
    "except FileNotFoundError: #발생된 예외처리  \n",
    "    pass\n",
    "else :#예외발생이 되지 않을 경우                     \n",
    "    data = f.read()\n",
    "    print(data)\n",
    "    f.close()\n",
    "\n",
    "print(\"종료\")"
   ]
  },
  {
   "cell_type": "code",
   "execution_count": 29,
   "id": "2e5e735a",
   "metadata": {},
   "outputs": [
    {
     "name": "stdout",
     "output_type": "stream",
     "text": [
      "2 exception.txt\n",
      "[Errno 2] No such file or directory: 'exception.txt' \t [Errno 2] No such file or directory: 'exception.txt'\n",
      "종료\n"
     ]
    }
   ],
   "source": [
    "import sys\n",
    "try :\n",
    "    f=open(\"exception.txt\", 'r') #파일이 존재 하지 않으면 예외발생  \n",
    "except FileNotFoundError  as   FMF: #발생된 예외처리  \n",
    "    print(FMF.errno,FMF.filename)\n",
    "    print(FMF ,'\\t',FMF.__str__())\n",
    "    tb = sys.exc_info()[2]  #traceback \n",
    "    FMF.with_traceback(tb)\n",
    "else :#예외발생이 되지 않을 경우                     \n",
    "    data = f.read()\n",
    "    print(data)\n",
    "    f.close()\n",
    "\n",
    "print(\"종료\")"
   ]
  },
  {
   "cell_type": "code",
   "execution_count": 25,
   "id": "8f359686",
   "metadata": {},
   "outputs": [
    {
     "name": "stdout",
     "output_type": "stream",
     "text": [
      "['__cause__', '__class__', '__context__', '__delattr__', '__dict__', '__dir__', '__doc__', '__eq__', '__format__', '__ge__', '__getattribute__', '__gt__', '__hash__', '__init__', '__init_subclass__', '__le__', '__lt__', '__ne__', '__new__', '__reduce__', '__reduce_ex__', '__repr__', '__setattr__', '__setstate__', '__sizeof__', '__str__', '__subclasshook__', '__suppress_context__', '__traceback__', 'args', 'characters_written', 'errno', 'filename', 'filename2', 'strerror', 'winerror', 'with_traceback']\n",
      "Help on member descriptor builtins.OSError.filename:\n",
      "\n",
      "filename\n",
      "    exception filename\n",
      "\n",
      "None\n",
      "Help on method_descriptor:\n",
      "\n",
      "with_traceback(...)\n",
      "    Exception.with_traceback(tb) --\n",
      "    set self.__traceback__ to tb and return self.\n",
      "\n",
      "None\n"
     ]
    }
   ],
   "source": [
    "print(dir(FileNotFoundError))\n",
    "print(help(FileNotFoundError.filename))\n",
    "print(help(FileNotFoundError.with_traceback))"
   ]
  },
  {
   "cell_type": "code",
   "execution_count": null,
   "id": "98861d0d",
   "metadata": {},
   "outputs": [],
   "source": []
  },
  {
   "cell_type": "code",
   "execution_count": 25,
   "id": "2ac39d0e",
   "metadata": {},
   "outputs": [
    {
     "name": "stdout",
     "output_type": "stream",
     "text": [
      "('My Error !!!',)\n"
     ]
    }
   ],
   "source": [
    "import sys\n",
    "class MyException(Exception): #사용자 예외처리 \n",
    "    def __init__(self,value):\n",
    "        self.value = value\n",
    "\n",
    "    def __str__(self):\n",
    "        return self.value +\"abcde\"\n",
    "\n",
    "    \n",
    "def raise_exception(err_mgs):\n",
    "    raise MyException(err_mgs)  #프로그램 중단  ,  raise = 예외처리 프로그램을 명시 실행 \n",
    "\n",
    "\n",
    "if __name__ == '__main__':\n",
    "    try:\n",
    "        raise_exception(\"My Error !!!\")\n",
    "        # raise MyException(\"My Error!!\")\n",
    "    except  MyException  as e:    #   t1= Test()\n",
    "        print(e.args)\n",
    "        e.with_traceback(sys.exc_info()[2])"
   ]
  },
  {
   "cell_type": "code",
   "execution_count": 34,
   "id": "d4b93be3",
   "metadata": {},
   "outputs": [
    {
     "name": "stdout",
     "output_type": "stream",
     "text": [
      "Zero division\n",
      "처리가 종료되었습니다\n"
     ]
    }
   ],
   "source": [
    "x = 1 \n",
    "y = 0  \n",
    "try :   \n",
    "    try:\n",
    "        f = open ( 'exception.txt' )\n",
    "    except FileNotFoundError:\n",
    "        pass    \n",
    "    z = x / y\n",
    "except ZeroDivisionError : \n",
    "    print ( \"Zero division\" )\n",
    "except FileNotFoundError : \n",
    "    print ( \"File not found\" )\n",
    "finally :\n",
    "    print ( '처리가 종료되었습니다' )"
   ]
  },
  {
   "cell_type": "code",
   "execution_count": 37,
   "id": "ec2c2355",
   "metadata": {},
   "outputs": [
    {
     "name": "stdout",
     "output_type": "stream",
     "text": [
      "~~~~~~~~\n",
      "처리가 종료되었습니다\n"
     ]
    }
   ],
   "source": [
    "x = 1 \n",
    "y = 0  \n",
    "try :   \n",
    "    try:\n",
    "        f = open ( 'exception.txt' )  #1)\n",
    "    except FileNotFoundError:\n",
    "        pass     #2)\n",
    "    \n",
    "    try:        \n",
    "        z = x / y  #3) \n",
    "    except  ZeroDivisionError:\n",
    "        pass#4) \n",
    "    print('~~~~~~~~')#5) \n",
    "    \n",
    "    \n",
    "except Exception : \n",
    "    print ( \"exception\" )\n",
    "finally :\n",
    "    print ( '처리가 종료되었습니다' )#6) "
   ]
  },
  {
   "cell_type": "code",
   "execution_count": null,
   "id": "432ad6a2",
   "metadata": {},
   "outputs": [],
   "source": []
  }
 ],
 "metadata": {
  "kernelspec": {
   "display_name": "Python 3 (ipykernel)",
   "language": "python",
   "name": "python3"
  },
  "language_info": {
   "codemirror_mode": {
    "name": "ipython",
    "version": 3
   },
   "file_extension": ".py",
   "mimetype": "text/x-python",
   "name": "python",
   "nbconvert_exporter": "python",
   "pygments_lexer": "ipython3",
   "version": "3.9.13"
  }
 },
 "nbformat": 4,
 "nbformat_minor": 5
}
