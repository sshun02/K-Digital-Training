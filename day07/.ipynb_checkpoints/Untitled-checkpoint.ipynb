{
 "cells": [
  {
   "cell_type": "code",
   "execution_count": 2,
   "id": "516fd6ef",
   "metadata": {},
   "outputs": [
    {
     "name": "stdout",
     "output_type": "stream",
     "text": [
      "명령수행 만족\n",
      "else\n",
      "반드시 처리 할 명령\n",
      "끝\n"
     ]
    }
   ],
   "source": [
    "#case 03) 10/3 으로 나누게 되면 예외 객체가 생성되지 않는다. -> 명령수행 -> else로 가서 처리한다.\n",
    "# -> 반드시 처리할 명령은 마지막 구문에 finally로 가서 처리하고 try~ except~ finally가 종료된다ㅣ.\n",
    "\n",
    "try:\n",
    "    r = 10 / 3\n",
    "    print('명령수행 만족')\n",
    "except ZeroDivisionError as ZDE :\n",
    "    print(\"0으로 나누려고 했잖아\")\n",
    "else:\n",
    "    print('else')\n",
    "finally:\n",
    "    print(\"반드시 처리 할 명령\")\n",
    "\n",
    "print(\"끝\")"
   ]
  },
  {
   "cell_type": "code",
   "execution_count": 3,
   "id": "5f3e95a4",
   "metadata": {},
   "outputs": [
    {
     "name": "stdout",
     "output_type": "stream",
     "text": [
      "0으로 나누려고 했잖아\n",
      "반드시 처리 할 명령\n",
      "끝\n"
     ]
    }
   ],
   "source": [
    "#case 03) 10/3 d으로 나누게 되면 예외 객체가 생성된다. -> except로 가서 처리한다.\n",
    "# -> 반드시 처리할 명령은 마지막 구문에 finally로 가서 처리하고 try~ except~ finally가 종료된다ㅣ.\n",
    "# 오류 나면 try -> except -> finally\n",
    "try:\n",
    "    r = 10 / 0\n",
    "    print('명령수행 만족')\n",
    "except ZeroDivisionError as ZDE :\n",
    "    print(\"0으로 나누려고 했잖아\")\n",
    "else:\n",
    "    print('else')\n",
    "finally:\n",
    "    print(\"반드시 처리 할 명령\")\n",
    "\n",
    "print(\"끝\")"
   ]
  },
  {
   "cell_type": "code",
   "execution_count": null,
   "id": "2f78cf61",
   "metadata": {},
   "outputs": [],
   "source": [
    "L = [1,2,3]\n",
    "try:\n",
    "        num = L[4]"
   ]
  },
  {
   "cell_type": "code",
   "execution_count": 10,
   "id": "4aeed907",
   "metadata": {},
   "outputs": [
    {
     "name": "stdout",
     "output_type": "stream",
     "text": [
      "완료\n"
     ]
    }
   ],
   "source": [
    "import traceback # 순차적인 예외를 확인하고 싶을 경우 사용하는 모듈\n",
    "\n",
    "def f1(a,b):\n",
    "    return f2(a) + f2(b)\n",
    "\n",
    "def f2(x):\n",
    "    return 1.0/x\n",
    "\n",
    "if __name__ == '__main__':\n",
    "    try:\n",
    "        f1(1.0,0.0)\n",
    "    except (ZeroDivisionError, IOError):\n",
    "        traceback.print_exc #-> 발생된 예외를 순차적으로 찾아서 출력해준다.\n",
    "    else:\n",
    "        print(\"완료\")"
   ]
  }
 ],
 "metadata": {
  "kernelspec": {
   "display_name": "Python 3 (ipykernel)",
   "language": "python",
   "name": "python3"
  },
  "language_info": {
   "codemirror_mode": {
    "name": "ipython",
    "version": 3
   },
   "file_extension": ".py",
   "mimetype": "text/x-python",
   "name": "python",
   "nbconvert_exporter": "python",
   "pygments_lexer": "ipython3",
   "version": "3.9.2"
  }
 },
 "nbformat": 4,
 "nbformat_minor": 5
}
