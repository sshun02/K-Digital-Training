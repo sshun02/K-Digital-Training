{
 "cells": [
  {
   "cell_type": "code",
   "execution_count": 2,
   "id": "2e38671c",
   "metadata": {},
   "outputs": [
    {
     "name": "stdout",
     "output_type": "stream",
     "text": [
      "명령수행 만족\n",
      "else\n",
      "반드시 처리 할 명령\n",
      "끝\n"
     ]
    }
   ],
   "source": [
    "#case 03) 10/3 으로 나누게 되면 예외 객체가 생성되지 않는다. -> 명령수행 -> else로 가서 처리한다.\n",
    "# -> 반드시 처리할 명령은 마지막 구문에 finally로 가서 처리하고 try~ except~ finally가 종료된다ㅣ.\n",
    "\n",
    "try:\n",
    "    r = 10 / 3\n",
    "    print('명령수행 만족')\n",
    "except ZeroDivisionError as ZDE :\n",
    "    print(\"0으로 나누려고 했잖아\")\n",
    "else:\n",
    "    print('else')\n",
    "finally:\n",
    "    print(\"반드시 처리 할 명령\")\n",
    "\n",
    "print(\"끝\")"
   ]
  },
  {
   "cell_type": "code",
   "execution_count": 3,
   "id": "dc402870",
   "metadata": {},
   "outputs": [
    {
     "name": "stdout",
     "output_type": "stream",
     "text": [
      "0으로 나누려고 했잖아\n",
      "반드시 처리 할 명령\n",
      "끝\n"
     ]
    }
   ],
   "source": [
    "#case 03) 10/3 d으로 나누게 되면 예외 객체가 생성된다. -> except로 가서 처리한다.\n",
    "# -> 반드시 처리할 명령은 마지막 구문에 finally로 가서 처리하고 try~ except~ finally가 종료된다ㅣ.\n",
    "# 오류 나면 try -> except -> finally\n",
    "try:\n",
    "    r = 10 / 0\n",
    "    print('명령수행 만족')\n",
    "except ZeroDivisionError as ZDE :\n",
    "    print(\"0으로 나누려고 했잖아\")\n",
    "else:\n",
    "    print('else')\n",
    "finally:\n",
    "    print(\"반드시 처리 할 명령\")\n",
    "\n",
    "print(\"끝\")"
   ]
  },
  {
   "cell_type": "code",
   "execution_count": null,
   "id": "928e4bdc",
   "metadata": {},
   "outputs": [],
   "source": [
    "L = [1,2,3]\n",
    "try:\n",
    "        num = L[4]"
   ]
  },
  {
   "cell_type": "code",
   "execution_count": 23,
   "id": "6181e905",
   "metadata": {},
   "outputs": [
    {
     "name": "stderr",
     "output_type": "stream",
     "text": [
      "Traceback (most recent call last):\n",
      "  File \"/var/folders/8w/n7c94rx9259cqqy815cxfms00000gn/T/ipykernel_36563/117554406.py\", line 11, in <module>\n",
      "    f1(1.0,0.0)\n",
      "  File \"/var/folders/8w/n7c94rx9259cqqy815cxfms00000gn/T/ipykernel_36563/117554406.py\", line 4, in f1\n",
      "    return f2(a) + f2(b)\n",
      "  File \"/var/folders/8w/n7c94rx9259cqqy815cxfms00000gn/T/ipykernel_36563/117554406.py\", line 7, in f2\n",
      "    return 1.0/x\n",
      "ZeroDivisionError: float division by zero\n"
     ]
    }
   ],
   "source": [
    "import traceback # 순차적인 예외를 확인하고 싶을 경우 사용하는 모듈\n",
    "\n",
    "def f1(a,b):\n",
    "    return f2(a) + f2(b)\n",
    "\n",
    "def f2(x):\n",
    "    return 1.0/x\n",
    "\n",
    "if __name__ == '__main__':\n",
    "    try:\n",
    "        f1(1.0,0.0)\n",
    "    except (ZeroDivisionError, IOError):\n",
    "        traceback.print_exc() #-> 발생된 예외를 순차적으로 찾아서 출력해준다."
   ]
  },
  {
   "cell_type": "code",
   "execution_count": 30,
   "id": "248f5624",
   "metadata": {},
   "outputs": [
    {
     "name": "stdout",
     "output_type": "stream",
     "text": [
      "1 (<class 'ZeroDivisionError'>, ZeroDivisionError('division by zero'), <traceback object at 0x7fb8e1bf43c0>)\n",
      "2 <class 'ZeroDivisionError'>\n",
      "3 ('division by zero',)\n",
      "4 division by zero\n"
     ]
    }
   ],
   "source": [
    "import sys\n",
    "if __name__ == '__main__':\n",
    "    try:\n",
    "        10/0\n",
    "    except ZeroDivisionError as z:\n",
    "        print(\"1\", sys.exc_info())\n",
    "        print(\"2\", format(type(z)))\n",
    "        print(\"3\", format(z.args))\n",
    "        print(\"4\", format(z))"
   ]
  },
  {
   "cell_type": "raw",
   "id": "5fb67faf",
   "metadata": {},
   "source": [
    "\n",
    "예외 처리 방법\n",
    "try ... except ...finally문 사용\n",
    "\n",
    "try:\n",
    "    예외발생 가능한 문장1\n",
    "except 예외유형:\n",
    "    예외처리 문장 2\n",
    "else:\n",
    "    예외 없을때 수행 문장 3\n",
    "finally:\n",
    "    예외 유무와 상관 없이 실행되는 문장 4_ [파일 클로즈, 데이터베이스 클로즈, 백업용]\n",
    "\n",
    "else ~ finally 생략 가능\n",
    "1번 문장을 실행 - 오류발생(예외처리 되어 있는 오류면)\n",
    "2번 문장을 수행 -> 4번 문장을 수행\n",
    "1번 문장을 수행 - 오류가 없으면\n",
    "3번 문장을 수행 -> 4번 문장을 수행"
   ]
  },
  {
   "cell_type": "code",
   "execution_count": 7,
   "id": "a4c69cbc",
   "metadata": {},
   "outputs": [
    {
     "name": "stdout",
     "output_type": "stream",
     "text": [
      "종료\n"
     ]
    }
   ],
   "source": [
    "try:\n",
    "    #f = open(\"[7]클래스와 다형성.ipynb\", \"r\")\n",
    "    f = open(\"exception\", \"r\")          #파일이 존재하지 않으면 예외발생\n",
    "\n",
    "except FileNotFoundError:               #발생된 예외처리\n",
    "    pass\n",
    "else:                                   #예외발생이 되지 않을 경우\n",
    "    data = f.read()\n",
    "    print(data)\n",
    "    f.close()\n",
    "    \n",
    "print(\"종료\")"
   ]
  },
  {
   "cell_type": "code",
   "execution_count": 27,
   "id": "d7513ae6",
   "metadata": {},
   "outputs": [
    {
     "name": "stdout",
     "output_type": "stream",
     "text": [
      "['__cause__', '__class__', '__context__', '__delattr__', '__dict__', '__dir__', '__doc__', '__eq__', '__format__', '__ge__', '__getattribute__', '__gt__', '__hash__', '__init__', '__init_subclass__', '__le__', '__lt__', '__ne__', '__new__', '__reduce__', '__reduce_ex__', '__repr__', '__setattr__', '__setstate__', '__sizeof__', '__str__', '__subclasshook__', '__suppress_context__', '__traceback__', 'args', 'characters_written', 'errno', 'filename', 'filename2', 'strerror', 'with_traceback']\n",
      "Help on member descriptor builtins.OSError.filename:\n",
      "\n",
      "filename\n",
      "    exception filename\n",
      "\n",
      "None\n",
      "Help on method_descriptor:\n",
      "\n",
      "with_traceback(...)\n",
      "    Exception.with_traceback(tb) --\n",
      "    set self.__traceback__ to tb and return self.\n",
      "\n",
      "None\n"
     ]
    }
   ],
   "source": [
    "print(dir(FileNotFoundError))\n",
    "print(help(FileNotFoundError.filename))\n",
    "print(help(FileNotFoundError.with_traceback))"
   ]
  },
  {
   "cell_type": "code",
   "execution_count": 46,
   "id": "3882f70a",
   "metadata": {},
   "outputs": [
    {
     "name": "stdout",
     "output_type": "stream",
     "text": [
      "[Errno 2] No such file or directory: 'exception.txt'\n",
      "2\n",
      "종료\n"
     ]
    },
    {
     "name": "stderr",
     "output_type": "stream",
     "text": [
      "Traceback (most recent call last):\n",
      "  File \"/var/folders/8w/n7c94rx9259cqqy815cxfms00000gn/T/ipykernel_44482/2718328412.py\", line 6, in <module>\n",
      "    f = open(\"exception.txt\", \"r\")      # 파일이 존재하지 않으면 예외발생\n",
      "  File \"/Library/Frameworks/Python.framework/Versions/3.9/lib/python3.9/site-packages/IPython/core/interactiveshell.py\", line 282, in _modified_open\n",
      "    return io_open(file, *args, **kwargs)\n",
      "FileNotFoundError: [Errno 2] No such file or directory: 'exception.txt'\n"
     ]
    }
   ],
   "source": [
    "import sys\n",
    "import traceback\n",
    "\n",
    "try:\n",
    "    #f = open(\"[7]클래스와 다형성.ipynb\", \"r\")\n",
    "    f = open(\"exception.txt\", \"r\")      # 파일이 존재하지 않으면 예외발생\n",
    "\n",
    "except FileNotFoundError as FMF:        # 발생된 예외처리\n",
    "    print(FMF)                          # 에러에 대한 설명\n",
    "    print(FMF.errno)                    # 에러번호 확인\n",
    "    tb = sys.exc_info()[2]\n",
    "    traceback.print_exc()\n",
    "    \n",
    "    pass\n",
    "else:                                   # 예외발생이 되지 않을 경우\n",
    "    data = f.read()\n",
    "    print(data)\n",
    "    f.close()\n",
    "    \n",
    "print(\"종료\")"
   ]
  },
  {
   "cell_type": "code",
   "execution_count": 37,
   "id": "a78a2519",
   "metadata": {},
   "outputs": [
    {
     "name": "stdout",
     "output_type": "stream",
     "text": [
      "('My Error!!',)\n"
     ]
    }
   ],
   "source": [
    "import sys\n",
    "\n",
    "class MyException(Exception): # 사용자 예외처리\n",
    "    def __init__(self, value):\n",
    "        self.value = value\n",
    "    def __str__(self):\n",
    "        return self.value + \"abced\"\n",
    "    \n",
    "def raise_exception(err_mgs):\n",
    "    raise MyException(err_mgs) # 프로그램 중단, raise = 예외처리 프로그램을 명시 실행\n",
    "    \n",
    "if __name__ == '__main__':\n",
    "    try:\n",
    "        #raise_exception(\"My Error !!!\")\n",
    "        raise MyException (\"My Error!!\")\n",
    "    except MyException as e:         # t1 = test()\n",
    "        print(e.args)\n",
    "        e.with_traceback(sys.exc_info()[2])"
   ]
  },
  {
   "cell_type": "code",
   "execution_count": null,
   "id": "9733e6b2",
   "metadata": {},
   "outputs": [],
   "source": [
    "x = 1\n",
    "y = 0\n",
    "\n",
    "try :\n",
    "    z = x / y\n",
    "     f = open(\"exception.txt\", \"r\") \n",
    "except ZeroDivisionError :\n",
    "    print(\"Zero division\")\n",
    "except FileNotFoundError :\n",
    "    print(\"File not found\")\n",
    "finally:\n",
    "    print(\"처리가 종료되었습니다.\")\n",
    "  "
   ]
  },
  {
   "cell_type": "code",
   "execution_count": null,
   "id": "c1bfe131",
   "metadata": {},
   "outputs": [],
   "source": [
    "\n",
    "x = 1\n",
    "y = 0\n",
    "\n",
    "try :\n",
    "    try:\n",
    "        f = open(\"exception.txt\", \"r\") \n",
    "except ZeroDivisionError :\n",
    "    print(\"Zero division\")\n",
    "except FileNotFoundError :\n",
    "    print(\"File not found\")\n",
    "finally:\n",
    "    print(\"처리가 종료되었습니다.\")\n",
    "  "
   ]
  }
 ],
 "metadata": {
  "kernelspec": {
   "display_name": "Python 3 (ipykernel)",
   "language": "python",
   "name": "python3"
  },
  "language_info": {
   "codemirror_mode": {
    "name": "ipython",
    "version": 3
   },
   "file_extension": ".py",
   "mimetype": "text/x-python",
   "name": "python",
   "nbconvert_exporter": "python",
   "pygments_lexer": "ipython3",
   "version": "3.9.2"
  }
 },
 "nbformat": 4,
 "nbformat_minor": 5
}
