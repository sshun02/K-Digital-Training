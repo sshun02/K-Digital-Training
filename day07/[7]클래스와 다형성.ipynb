{
 "cells": [
  {
   "cell_type": "markdown",
   "id": "659c9854",
   "metadata": {},
   "source": [
    "#### 1. 클래스 선언 -> 객체 생성 -> 맴버 호출"
   ]
  },
  {
   "cell_type": "code",
   "execution_count": 106,
   "id": "ddc34d41",
   "metadata": {},
   "outputs": [
    {
     "name": "stdout",
     "output_type": "stream",
     "text": [
      "[1, 2, 3, 4, 5]\n",
      "[]\n",
      "<__main__.Test object at 0x7fced86dbf70> <__main__.Test object at 0x7fced86db5e0>\n",
      "[1, 2, 3, 4, 5]\n",
      "<__main__.Test object at 0x7fced86dbf70> <__main__.Test object at 0x7fced86dbf70>\n"
     ]
    }
   ],
   "source": [
    "#[Step 01:  클래스 선언 ]\n",
    "class Test: # object의  후손 클래스가 되어 선조의 메소드들을 참조하고 있다.    object <- Test\n",
    "    def empty(self):\n",
    "       self.data = []\n",
    "\n",
    "    def add(self, x):\n",
    "       self.data.append(x)\n",
    "\n",
    "if __name__ == '__main__':\n",
    "#[Step 02:  클래스 객체 생성  ]\n",
    "    my01 = Test()         #__init__()\n",
    "    my02 = Test()\n",
    "\n",
    "#[Step03 :  멤버 호출]\n",
    "    my01.empty()          # data객체가 초기화된다.\n",
    "    my02.empty()\n",
    "    for  i in range(1,6):\n",
    "        my01.add(i)       #data 객체에 1~5까지 추가된다.\n",
    "    print(my01.data)      # 출력\n",
    "    print(my02.data)      # 빈 객체 출력\n",
    "    print(my01, my02)     # 객체 주소 출력 (서로 다르다.)\n",
    "    my03= my01            # my01에 있는 주소를 my03에 대입\n",
    "    print(my03.data)      # my01에서 참조되는 곳을 참조하기 때문에 같은 데이터를 출력\n",
    "    print(my01, my03)     # 동일한 주소가 출력된다.\n"
   ]
  },
  {
   "cell_type": "markdown",
   "id": "8ce3429b",
   "metadata": {},
   "source": [
    "#### 2. 정적 변수 / static 변수->(클래스. 맴버변수)를 비교해보자\n",
    "\n",
    "- 맴버는 클래스.맴버\n",
    "- static 메소드로 선언 -> @staticmethod선언"
   ]
  },
  {
   "cell_type": "code",
   "execution_count": 105,
   "id": "cb99bd01",
   "metadata": {},
   "outputs": [
    {
     "name": "stdout",
     "output_type": "stream",
     "text": [
      "Dominica seoul 02-0000-000\n",
      "1111111111111 seoul 02-0000-000\n",
      "1111111111111 seoul 02-0000-000\n"
     ]
    }
   ],
   "source": [
    "#이름 , 주소 , 전화 번호를 관리하는 Address 라는 클래스를 선언해서 변수로 값을 저장해 보자\n",
    "# 정적 변수  static 변수 ->  클래스.멤버변수\n",
    "class Address:\n",
    "    name=\"Dominica\"\n",
    "    addr = \"seoul\"\n",
    "    tel =\"02-0000-000\"\n",
    "    def prn(self):  # 멤버 메소드\n",
    "        print(Address.name, Address.addr, Address.tel) # 클래스.맴버변수 >> static형식 호출!\n",
    "        #print(self.name, self.addr, self.tel)\n",
    "if __name__ == '__main__':\n",
    "    print(Address.name, Address.addr, Address.tel)\n",
    "    Address.name =\"1111111111111\"\n",
    "    print(Address.name, Address.addr, Address.tel)\n",
    "\n",
    "    a1 = Address() #Dominica로 출력되어야 하나 111111이 되는 이유는 static형식으로 사용하여 11111111를 대입했기 때문이다.\n",
    "    a1.prn()"
   ]
  },
  {
   "cell_type": "markdown",
   "id": "d95703db",
   "metadata": {},
   "source": [
    "#### 3. object클래스에서 상속받은 속성 값을 사용해보자.\n",
    "\n",
    "- class type(object) = `__class__`"
   ]
  },
  {
   "cell_type": "code",
   "execution_count": 114,
   "id": "ef1bc7af",
   "metadata": {},
   "outputs": [
    {
     "name": "stdout",
     "output_type": "stream",
     "text": [
      "나 소거된다. 현재 클래스에서 호출되거나 참조한 다른클래스를 멤버로 가질때  소거한다.  \n",
      "a111 850\n",
      "b111 750\n",
      "c111 650\n",
      "0 0\n",
      "Emp <class 'type'> <class '__main__.Emp'> <class '__main__.Emp'>\n",
      "<class 'type'> <class '__main__.Emp'> <class '__main__.Emp'>\n"
     ]
    }
   ],
   "source": [
    "#__class__ : 인스턴스가 자신을 생성한 클래스 객체를 참조하기 위하여 파이선에서 제공하는 키워드로 클래스영역(heap)에\n",
    "# 모든 인스턴스 객체에  있는 데이터를 참조하거나 수정할 때 사용한다.\n",
    "'''\n",
    "사원 번호    7월 영업실적\n",
    "a111          850\n",
    "b111          750\n",
    "c111          650\n",
    "Emp 라는 클래스를 만들어서  변수를 2개 선언한 후  a1,b1,c1의 이름으로 객체를 생성한 다음 값을 전달 후 출력 해 보자.\n",
    "'''\n",
    "\n",
    "class Emp:\n",
    "    empno =0\n",
    "    result=0\n",
    "if __name__ == '__main__':\n",
    "    a1=Emp()\n",
    "    a1.empno ='a111'\n",
    "    a1.result =850\n",
    "    print(a1.empno, a1.result)\n",
    "\n",
    "    b1=Emp()\n",
    "    b1.empno ='b111'\n",
    "    b1.result = 750\n",
    "    print(b1.empno , b1.result)\n",
    "\n",
    "    c1=Emp()\n",
    "    c1.empno='c111'\n",
    "    c1.result= 650\n",
    "    print(c1.empno, c1.result)\n",
    "    print(Emp.empno, Emp.result)   #static 형식\n",
    "\n",
    "    print(Emp.__name__, type(a1.__class__) , b1.__class__ , c1.__class__)\n",
    "    print(type(Emp), type(a1), a1.__class__)  ## type(a1) == a1.__class__"
   ]
  },
  {
   "cell_type": "markdown",
   "id": "5140963e",
   "metadata": {},
   "source": [
    "#### 4. python의 접근제한자와 캡슐화 확인"
   ]
  },
  {
   "cell_type": "code",
   "execution_count": 103,
   "id": "2e0d62fc",
   "metadata": {},
   "outputs": [
    {
     "name": "stdout",
     "output_type": "stream",
     "text": [
      "a 100\n"
     ]
    }
   ],
   "source": [
    "# 캡슐화 : 은닉된 멤버 변수에 오픈된 메소드로 값을 전달(setXX)  및  변경하는 구조(getXX return)\n",
    "# getter & setter\n",
    "class Test:\n",
    "    __b=100 #객체 생성후 호출할 수 없고, Test의 멤버만 접근 가능하다.\n",
    "    def __m(self): #한문자를 리턴하는 private 메소드\n",
    "        return 'a'\n",
    "    def k(self):\n",
    "        print(self.__m(), self.__b)\n",
    "\n",
    "\n",
    "if __name__ == '__main__':\n",
    "    my = Test()\n",
    "    my.k()\n",
    "    #print(my.__b)오류 ,,!!Test.__b X"
   ]
  },
  {
   "cell_type": "markdown",
   "id": "c90b7ec5",
   "metadata": {},
   "source": [
    "#### 5. 클래스 캡슐화 확인"
   ]
  },
  {
   "cell_type": "code",
   "execution_count": 102,
   "id": "7a3e288e",
   "metadata": {},
   "outputs": [
    {
     "name": "stdout",
     "output_type": "stream",
     "text": [
      "100\n",
      "200\n"
     ]
    }
   ],
   "source": [
    "# 정수형 변수 a,b 를 관리하는 클래스를 만들어 보자. 단 캡슐화로 구현 해보자.\n",
    "# 은닉된 멤버 변수에게  setxx으로 값 전달 및 변경하고   getxx return 메소드로 리턴하는 구조  4:00시\n",
    "class Test:\n",
    "    __a=0  #주소 히든 private 초기값은 생성자에서 대입\n",
    "    __b=0\n",
    "    #name =\"abc\"   def setName():~~\n",
    "    def setA(self, a):\n",
    "        self.__a =a  # 객체 생성후 값을 a 로 전달받아  멤버__a 에게 값전달 및 변경\n",
    "    def getA(self):\n",
    "       return self.__a\n",
    "\n",
    "    def setB(self,b):\n",
    "        self.__b=b\n",
    "    def getB(self):\n",
    "        return self.__b\n",
    "\n",
    "if __name__ == '__main__':\n",
    "    t1 = Test()\n",
    "    t1.setA(100)     # 맴버가 private 이기 때문에 직접근 즉 호출이 불가능하다.\n",
    "    print(t1.getA())\n",
    "    t1.setB(200)\n",
    "    print(t1.getB())"
   ]
  },
  {
   "cell_type": "code",
   "execution_count": 120,
   "id": "aebcebd5",
   "metadata": {},
   "outputs": [
    {
     "name": "stdout",
     "output_type": "stream",
     "text": [
      "__ init__ 200\n",
      "나 소거된다. 현재 클래스에서 호출되거나 참조한 다른클래스를 멤버로 가질때  소거한다.  \n",
      "200\n",
      "10000 200\n"
     ]
    }
   ],
   "source": [
    "#생성자와 소멸자를 살펴보자.\n",
    "# 생성자를 명시하지 않으면 자동으로 내부호출되어 생성되고 명시하게 되면 명시된 생성자가 호출된다.\n",
    "# 생성자는 단한번 객체를 생성할 때 자동 호출되며 해당클래스의 모든 멤버를 동적 할당 메모리로 로드하게 된다.\n",
    "# 생성자의 목적은 멤버변수 초기화에 있다.\n",
    "\n",
    "#명시 소멸자 : 소멸시점에서 수행하는 조건구문을 기재할때, 파일처리, DB처리, 백업처리등\n",
    "\n",
    "# is ~ a : \n",
    "\n",
    "class MyDel:\n",
    "    def __init__(self, a=100):  #명시 생성자\n",
    "        self.a=a\n",
    "        print(\"__ init__\",self.a)\n",
    "\n",
    "    def __del__(self): #명시 소멸자 #소멸자 객체가 소멸되는 시점에서 호출 되면서 리소스 해제\n",
    "        print(\"나 소거된다. 현재 클래스에서 호출되거나 참조한 다른클래스를 멤버로 가질때  소거한다.  \")\n",
    "\n",
    "if __name__ == '__main__':\n",
    "    a1 = MyDel(200)  #MyDel이라는 클래스를 생성자를 호출하면서 객체 생성한다.\n",
    "    print(a1.a)\n",
    "    MyDel.a=10000   #\n",
    "    print(MyDel.a, a1.a)\n",
    "    "
   ]
  },
  {
   "cell_type": "markdown",
   "id": "00c512d1",
   "metadata": {},
   "source": [
    "#### 7. 간단한 구조의 상속을 구현해보자.\n",
    "- 이름과 나이를 관리하는 Person 클래스가 있다.\n",
    "- Student클래스가 Person을 상속받아 학년만 추가해서 "
   ]
  },
  {
   "cell_type": "code",
   "execution_count": 121,
   "id": "832540af",
   "metadata": {},
   "outputs": [
    {
     "name": "stdout",
     "output_type": "stream",
     "text": [
      "Ruri: (age :7),grade :5\n"
     ]
    }
   ],
   "source": [
    "class Person:\n",
    "    __b = 10 #강한 private 형식은 멤버만 호출이 가능하다 후손은 호출이 불가능하다.\n",
    "    def __init__(self, name, age,b): #5. 선조의 객체가 생성되면서 멤버변수에게 값전달\n",
    "        self.name = name\n",
    "        self.age = age\n",
    "        self.__b=b\n",
    "    def personInfo(self):  #멤버변수 출력용 메소드  + 연결연산자는 시퀀스의 같은 객체끼리 연결이 가능하다. str+str\n",
    "        return  self.name  +\": (age :\" +  str(self.age) +\")\"\n",
    "\n",
    "class Student(Person):        #2\n",
    "    def __init__(self,name, age,b, grade):   #3\n",
    "       # Person.__init__(self,name,age)      #4 선조의 생성자\n",
    "        super().__init__(name,age,b)\n",
    "        self.grade = grade    #6. 객체 생성 하면서 grade변수 값전달\n",
    "\n",
    "    def GetStudent(self):\n",
    "        #print(\"b= \" ,  self.__b)\n",
    "        return  self.personInfo() + \",grade :\"+ str(self.grade)\n",
    "\n",
    "if __name__ == '__main__':\n",
    "    x=Student(\"Ruri\",7,3,5)   #1.Student(\"Ruri\",7,3) 7.생성된 선조의 주소를 리턴 Person() <- Studen() \n",
    "    print(x.GetStudent())"
   ]
  },
  {
   "cell_type": "code",
   "execution_count": null,
   "id": "bfb92fe4",
   "metadata": {},
   "outputs": [],
   "source": []
  }
 ],
 "metadata": {
  "kernelspec": {
   "display_name": "Python 3 (ipykernel)",
   "language": "python",
   "name": "python3"
  },
  "language_info": {
   "codemirror_mode": {
    "name": "ipython",
    "version": 3
   },
   "file_extension": ".py",
   "mimetype": "text/x-python",
   "name": "python",
   "nbconvert_exporter": "python",
   "pygments_lexer": "ipython3",
   "version": "3.9.2"
  }
 },
 "nbformat": 4,
 "nbformat_minor": 5
}
